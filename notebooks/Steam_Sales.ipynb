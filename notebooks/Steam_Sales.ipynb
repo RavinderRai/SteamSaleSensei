{
 "cells": [
  {
   "cell_type": "markdown",
   "metadata": {},
   "source": [
    "# Steam Sale Sensei\n",
    "\n",
    "Predicting when a game will first go on sale. Dataset starts from a kaggle dataset to first get a list of games, and then pricing history data comes from https://docs.isthereanydeal.com"
   ]
  },
  {
   "cell_type": "markdown",
   "metadata": {},
   "source": [
    "## Data Collection"
   ]
  },
  {
   "cell_type": "code",
   "execution_count": 39,
   "metadata": {},
   "outputs": [],
   "source": [
    "import os\n",
    "import pandas as pd\n",
    "import matplotlib.pyplot as plt\n",
    "import requests\n",
    "from dotenv import load_dotenv\n",
    "from datetime import datetime"
   ]
  },
  {
   "cell_type": "code",
   "execution_count": 2,
   "metadata": {},
   "outputs": [
    {
     "data": {
      "text/html": [
       "<div>\n",
       "<style scoped>\n",
       "    .dataframe tbody tr th:only-of-type {\n",
       "        vertical-align: middle;\n",
       "    }\n",
       "\n",
       "    .dataframe tbody tr th {\n",
       "        vertical-align: top;\n",
       "    }\n",
       "\n",
       "    .dataframe thead th {\n",
       "        text-align: right;\n",
       "    }\n",
       "</style>\n",
       "<table border=\"1\" class=\"dataframe\">\n",
       "  <thead>\n",
       "    <tr style=\"text-align: right;\">\n",
       "      <th></th>\n",
       "      <th>AppID</th>\n",
       "      <th>Name</th>\n",
       "      <th>Release date</th>\n",
       "      <th>Estimated owners</th>\n",
       "      <th>Peak CCU</th>\n",
       "      <th>Required age</th>\n",
       "      <th>Price</th>\n",
       "      <th>DLC count</th>\n",
       "      <th>About the game</th>\n",
       "      <th>Supported languages</th>\n",
       "      <th>...</th>\n",
       "      <th>Average playtime two weeks</th>\n",
       "      <th>Median playtime forever</th>\n",
       "      <th>Median playtime two weeks</th>\n",
       "      <th>Developers</th>\n",
       "      <th>Publishers</th>\n",
       "      <th>Categories</th>\n",
       "      <th>Genres</th>\n",
       "      <th>Tags</th>\n",
       "      <th>Screenshots</th>\n",
       "      <th>Movies</th>\n",
       "    </tr>\n",
       "  </thead>\n",
       "  <tbody>\n",
       "    <tr>\n",
       "      <th>0</th>\n",
       "      <td>20200</td>\n",
       "      <td>Galactic Bowling</td>\n",
       "      <td>Oct 21, 2008</td>\n",
       "      <td>0 - 20000</td>\n",
       "      <td>0</td>\n",
       "      <td>0</td>\n",
       "      <td>19.99</td>\n",
       "      <td>0</td>\n",
       "      <td>Galactic Bowling is an exaggerated and stylize...</td>\n",
       "      <td>['English']</td>\n",
       "      <td>...</td>\n",
       "      <td>0</td>\n",
       "      <td>0</td>\n",
       "      <td>0</td>\n",
       "      <td>Perpetual FX Creative</td>\n",
       "      <td>Perpetual FX Creative</td>\n",
       "      <td>Single-player,Multi-player,Steam Achievements,...</td>\n",
       "      <td>Casual,Indie,Sports</td>\n",
       "      <td>Indie,Casual,Sports,Bowling</td>\n",
       "      <td>https://cdn.akamai.steamstatic.com/steam/apps/...</td>\n",
       "      <td>http://cdn.akamai.steamstatic.com/steam/apps/2...</td>\n",
       "    </tr>\n",
       "    <tr>\n",
       "      <th>1</th>\n",
       "      <td>655370</td>\n",
       "      <td>Train Bandit</td>\n",
       "      <td>Oct 12, 2017</td>\n",
       "      <td>0 - 20000</td>\n",
       "      <td>0</td>\n",
       "      <td>0</td>\n",
       "      <td>0.99</td>\n",
       "      <td>0</td>\n",
       "      <td>THE LAW!! Looks to be a showdown atop a train....</td>\n",
       "      <td>['English', 'French', 'Italian', 'German', 'Sp...</td>\n",
       "      <td>...</td>\n",
       "      <td>0</td>\n",
       "      <td>0</td>\n",
       "      <td>0</td>\n",
       "      <td>Rusty Moyher</td>\n",
       "      <td>Wild Rooster</td>\n",
       "      <td>Single-player,Steam Achievements,Full controll...</td>\n",
       "      <td>Action,Indie</td>\n",
       "      <td>Indie,Action,Pixel Graphics,2D,Retro,Arcade,Sc...</td>\n",
       "      <td>https://cdn.akamai.steamstatic.com/steam/apps/...</td>\n",
       "      <td>http://cdn.akamai.steamstatic.com/steam/apps/2...</td>\n",
       "    </tr>\n",
       "    <tr>\n",
       "      <th>2</th>\n",
       "      <td>1732930</td>\n",
       "      <td>Jolt Project</td>\n",
       "      <td>Nov 17, 2021</td>\n",
       "      <td>0 - 20000</td>\n",
       "      <td>0</td>\n",
       "      <td>0</td>\n",
       "      <td>4.99</td>\n",
       "      <td>0</td>\n",
       "      <td>Jolt Project: The army now has a new robotics ...</td>\n",
       "      <td>['English', 'Portuguese - Brazil']</td>\n",
       "      <td>...</td>\n",
       "      <td>0</td>\n",
       "      <td>0</td>\n",
       "      <td>0</td>\n",
       "      <td>Campião Games</td>\n",
       "      <td>Campião Games</td>\n",
       "      <td>Single-player</td>\n",
       "      <td>Action,Adventure,Indie,Strategy</td>\n",
       "      <td>NaN</td>\n",
       "      <td>https://cdn.akamai.steamstatic.com/steam/apps/...</td>\n",
       "      <td>http://cdn.akamai.steamstatic.com/steam/apps/2...</td>\n",
       "    </tr>\n",
       "  </tbody>\n",
       "</table>\n",
       "<p>3 rows × 39 columns</p>\n",
       "</div>"
      ],
      "text/plain": [
       "     AppID              Name  Release date Estimated owners  Peak CCU  \\\n",
       "0    20200  Galactic Bowling  Oct 21, 2008        0 - 20000         0   \n",
       "1   655370      Train Bandit  Oct 12, 2017        0 - 20000         0   \n",
       "2  1732930      Jolt Project  Nov 17, 2021        0 - 20000         0   \n",
       "\n",
       "   Required age  Price  DLC count  \\\n",
       "0             0  19.99          0   \n",
       "1             0   0.99          0   \n",
       "2             0   4.99          0   \n",
       "\n",
       "                                      About the game  \\\n",
       "0  Galactic Bowling is an exaggerated and stylize...   \n",
       "1  THE LAW!! Looks to be a showdown atop a train....   \n",
       "2  Jolt Project: The army now has a new robotics ...   \n",
       "\n",
       "                                 Supported languages  ...  \\\n",
       "0                                        ['English']  ...   \n",
       "1  ['English', 'French', 'Italian', 'German', 'Sp...  ...   \n",
       "2                 ['English', 'Portuguese - Brazil']  ...   \n",
       "\n",
       "  Average playtime two weeks Median playtime forever  \\\n",
       "0                          0                       0   \n",
       "1                          0                       0   \n",
       "2                          0                       0   \n",
       "\n",
       "  Median playtime two weeks             Developers             Publishers  \\\n",
       "0                         0  Perpetual FX Creative  Perpetual FX Creative   \n",
       "1                         0           Rusty Moyher           Wild Rooster   \n",
       "2                         0          Campião Games          Campião Games   \n",
       "\n",
       "                                          Categories  \\\n",
       "0  Single-player,Multi-player,Steam Achievements,...   \n",
       "1  Single-player,Steam Achievements,Full controll...   \n",
       "2                                      Single-player   \n",
       "\n",
       "                            Genres  \\\n",
       "0              Casual,Indie,Sports   \n",
       "1                     Action,Indie   \n",
       "2  Action,Adventure,Indie,Strategy   \n",
       "\n",
       "                                                Tags  \\\n",
       "0                        Indie,Casual,Sports,Bowling   \n",
       "1  Indie,Action,Pixel Graphics,2D,Retro,Arcade,Sc...   \n",
       "2                                                NaN   \n",
       "\n",
       "                                         Screenshots  \\\n",
       "0  https://cdn.akamai.steamstatic.com/steam/apps/...   \n",
       "1  https://cdn.akamai.steamstatic.com/steam/apps/...   \n",
       "2  https://cdn.akamai.steamstatic.com/steam/apps/...   \n",
       "\n",
       "                                              Movies  \n",
       "0  http://cdn.akamai.steamstatic.com/steam/apps/2...  \n",
       "1  http://cdn.akamai.steamstatic.com/steam/apps/2...  \n",
       "2  http://cdn.akamai.steamstatic.com/steam/apps/2...  \n",
       "\n",
       "[3 rows x 39 columns]"
      ]
     },
     "execution_count": 2,
     "metadata": {},
     "output_type": "execute_result"
    }
   ],
   "source": [
    "games_df = pd.read_csv('../data/games.csv')\n",
    "games_df.head(3)"
   ]
  },
  {
   "cell_type": "markdown",
   "metadata": {},
   "source": [
    "Just looking at some specific games to cpoy and paste exact string to test the API."
   ]
  },
  {
   "cell_type": "code",
   "execution_count": 3,
   "metadata": {},
   "outputs": [
    {
     "name": "stdout",
     "output_type": "stream",
     "text": [
      "Batman™: Arkham Origins Blackgate - Deluxe Edition\n",
      "Batman: Arkham City\n",
      "LEGO® Batman™ 3: Beyond Gotham\n",
      "Batman: The Enemy Within - The Telltale Series\n",
      "Batman™: Arkham Origins\n",
      "Batman™: Arkham VR\n",
      "Batman™: Arkham Knight\n",
      "Batman: Arkham Asylum Game of the Year Edition\n",
      "Batman: Arkham Asylum Game of the Year Edition\n",
      "Batman: Arkham City - Game of the Year Edition\n",
      "Batman - The Telltale Series\n",
      "LEGO® Batman™: The Videogame\n",
      "LEGO® Batman™ 2: DC Super Heroes\n"
     ]
    }
   ],
   "source": [
    "for game in games_df['Name']:\n",
    "    if type(game) ==str and 'Batman' in game:\n",
    "        print(game)"
   ]
  },
  {
   "cell_type": "code",
   "execution_count": 4,
   "metadata": {},
   "outputs": [
    {
     "data": {
      "text/html": [
       "<div>\n",
       "<style scoped>\n",
       "    .dataframe tbody tr th:only-of-type {\n",
       "        vertical-align: middle;\n",
       "    }\n",
       "\n",
       "    .dataframe tbody tr th {\n",
       "        vertical-align: top;\n",
       "    }\n",
       "\n",
       "    .dataframe thead th {\n",
       "        text-align: right;\n",
       "    }\n",
       "</style>\n",
       "<table border=\"1\" class=\"dataframe\">\n",
       "  <thead>\n",
       "    <tr style=\"text-align: right;\">\n",
       "      <th></th>\n",
       "      <th>AppID</th>\n",
       "      <th>Name</th>\n",
       "      <th>Release date</th>\n",
       "      <th>Estimated owners</th>\n",
       "      <th>Peak CCU</th>\n",
       "      <th>Required age</th>\n",
       "      <th>Price</th>\n",
       "      <th>DLC count</th>\n",
       "      <th>About the game</th>\n",
       "      <th>Supported languages</th>\n",
       "      <th>...</th>\n",
       "      <th>Average playtime two weeks</th>\n",
       "      <th>Median playtime forever</th>\n",
       "      <th>Median playtime two weeks</th>\n",
       "      <th>Developers</th>\n",
       "      <th>Publishers</th>\n",
       "      <th>Categories</th>\n",
       "      <th>Genres</th>\n",
       "      <th>Tags</th>\n",
       "      <th>Screenshots</th>\n",
       "      <th>Movies</th>\n",
       "    </tr>\n",
       "  </thead>\n",
       "  <tbody>\n",
       "    <tr>\n",
       "      <th>35324</th>\n",
       "      <td>208650</td>\n",
       "      <td>Batman™: Arkham Knight</td>\n",
       "      <td>Jun 23, 2015</td>\n",
       "      <td>2000000 - 5000000</td>\n",
       "      <td>1996</td>\n",
       "      <td>17</td>\n",
       "      <td>19.99</td>\n",
       "      <td>24</td>\n",
       "      <td>Batman™: Arkham Knight brings the award-winnin...</td>\n",
       "      <td>['English', 'French', 'Italian', 'German', 'Sp...</td>\n",
       "      <td>...</td>\n",
       "      <td>289</td>\n",
       "      <td>870</td>\n",
       "      <td>455</td>\n",
       "      <td>Rocksteady Studios</td>\n",
       "      <td>Warner Bros. Interactive Entertainment</td>\n",
       "      <td>Single-player,Steam Achievements,Full controll...</td>\n",
       "      <td>Action,Adventure</td>\n",
       "      <td>Action,Open World,Superhero,Stealth,Adventure,...</td>\n",
       "      <td>https://cdn.akamai.steamstatic.com/steam/apps/...</td>\n",
       "      <td>http://cdn.akamai.steamstatic.com/steam/apps/2...</td>\n",
       "    </tr>\n",
       "  </tbody>\n",
       "</table>\n",
       "<p>1 rows × 39 columns</p>\n",
       "</div>"
      ],
      "text/plain": [
       "        AppID                    Name  Release date   Estimated owners  \\\n",
       "35324  208650  Batman™: Arkham Knight  Jun 23, 2015  2000000 - 5000000   \n",
       "\n",
       "       Peak CCU  Required age  Price  DLC count  \\\n",
       "35324      1996            17  19.99         24   \n",
       "\n",
       "                                          About the game  \\\n",
       "35324  Batman™: Arkham Knight brings the award-winnin...   \n",
       "\n",
       "                                     Supported languages  ...  \\\n",
       "35324  ['English', 'French', 'Italian', 'German', 'Sp...  ...   \n",
       "\n",
       "      Average playtime two weeks Median playtime forever  \\\n",
       "35324                        289                     870   \n",
       "\n",
       "      Median playtime two weeks          Developers  \\\n",
       "35324                       455  Rocksteady Studios   \n",
       "\n",
       "                                   Publishers  \\\n",
       "35324  Warner Bros. Interactive Entertainment   \n",
       "\n",
       "                                              Categories            Genres  \\\n",
       "35324  Single-player,Steam Achievements,Full controll...  Action,Adventure   \n",
       "\n",
       "                                                    Tags  \\\n",
       "35324  Action,Open World,Superhero,Stealth,Adventure,...   \n",
       "\n",
       "                                             Screenshots  \\\n",
       "35324  https://cdn.akamai.steamstatic.com/steam/apps/...   \n",
       "\n",
       "                                                  Movies  \n",
       "35324  http://cdn.akamai.steamstatic.com/steam/apps/2...  \n",
       "\n",
       "[1 rows x 39 columns]"
      ]
     },
     "execution_count": 4,
     "metadata": {},
     "output_type": "execute_result"
    }
   ],
   "source": [
    "games_df[games_df['Name'] == 'Batman™: Arkham Knight']"
   ]
  },
  {
   "cell_type": "markdown",
   "metadata": {},
   "source": [
    "### Exploring IsThereAnyDeal API\n",
    "\n",
    "The API won't give us everything we need with one simple request, so we can follow these steps:\n",
    "1. Use the title or AppID of a game to look it up and get the game_id\n",
    "2. Using the game_id we can get the game info, which has the release date\n",
    "3. Finally we also just need the pricing history to see when it first went on sale.\n",
    "\n",
    "Target variable will (likely) be the number of months it took before the game went on sale for the first time."
   ]
  },
  {
   "cell_type": "code",
   "execution_count": 89,
   "metadata": {},
   "outputs": [],
   "source": [
    "load_dotenv('../.env')\n",
    "api_key = os.getenv('API_KEY')"
   ]
  },
  {
   "cell_type": "code",
   "execution_count": 349,
   "metadata": {},
   "outputs": [],
   "source": [
    "# helper function to make requests and prevent repetitive code\n",
    "def request_game_data(endpoint, params):\n",
    "    response = requests.get(endpoint, params=params)\n",
    "\n",
    "    if response.status_code == 200:\n",
    "        data = response.json()\n",
    "        return data\n",
    "    else:\n",
    "        return f'Error: {response.status_code}'"
   ]
  },
  {
   "cell_type": "markdown",
   "metadata": {},
   "source": [
    "Getting game id"
   ]
  },
  {
   "cell_type": "code",
   "execution_count": 350,
   "metadata": {},
   "outputs": [
    {
     "name": "stdout",
     "output_type": "stream",
     "text": [
      "{'found': True, 'game': {'id': '018d937f-0e0c-70be-91d5-75e399e6b4e3', 'slug': 'batman-arkham-knight', 'title': 'Batman: Arkham Knight', 'type': 'game', 'mature': False}}\n"
     ]
    }
   ],
   "source": [
    "endpoint = 'https://api.isthereanydeal.com/games/lookup/v1'\n",
    "\n",
    "params = {\n",
    "    'key': api_key,\n",
    "    'appid': 208650\n",
    "    #'title': 'Batman™: Arkham Knight'\n",
    "}\n",
    "\n",
    "game_lookup = request_game_data(endpoint, params)\n",
    "print(game_lookup)\n"
   ]
  },
  {
   "cell_type": "markdown",
   "metadata": {},
   "source": [
    "Getting game info for release date"
   ]
  },
  {
   "cell_type": "code",
   "execution_count": 351,
   "metadata": {},
   "outputs": [
    {
     "name": "stdout",
     "output_type": "stream",
     "text": [
      "{'id': '018d937f-0e0c-70be-91d5-75e399e6b4e3', 'slug': 'batman-arkham-knight', 'title': 'Batman: Arkham Knight', 'type': 'game', 'mature': False, 'assets': {'boxart': 'https://dbxce1spal1df.cloudfront.net/018d937f-0e0c-70be-91d5-75e399e6b4e3/boxart.jpg', 'banner145': 'https://dbxce1spal1df.cloudfront.net/018d937f-0e0c-70be-91d5-75e399e6b4e3/banner145.jpg', 'banner300': 'https://dbxce1spal1df.cloudfront.net/018d937f-0e0c-70be-91d5-75e399e6b4e3/banner300.jpg', 'banner400': 'https://dbxce1spal1df.cloudfront.net/018d937f-0e0c-70be-91d5-75e399e6b4e3/banner400.jpg', 'banner600': 'https://dbxce1spal1df.cloudfront.net/018d937f-0e0c-70be-91d5-75e399e6b4e3/banner600.jpg'}, 'earlyAccess': False, 'achievements': True, 'tradingCards': True, 'appid': 208650, 'tags': ['Action', 'Open World', 'Superhero', 'Stealth', 'Third Person'], 'releaseDate': '2015-06-23', 'developers': [{'id': 423, 'name': 'Rocksteady Studios'}, {'id': 6704, 'name': 'Rocksteady'}], 'publishers': [{'id': 21, 'name': 'Warner Bros. Games Inc.'}, {'id': 97, 'name': 'Warner'}, {'id': 400, 'name': 'Warner Bros. Interactive Entertainment'}, {'id': 8930, 'name': 'Warner Bros'}, {'id': 5622, 'name': 'WB Games'}], 'reviews': [{'score': 91, 'source': 'Steam', 'count': 79711, 'url': 'https://store.steampowered.com/app/208650/'}, {'score': 70, 'source': 'Metascore', 'count': 6, 'url': 'https://metacritic.com/game/batman-arkham-knight/critic-reviews/?platform=pc'}, {'score': 81, 'source': 'Metacritic User Score', 'count': 4849, 'url': 'https://metacritic.com/game/batman-arkham-knight/user-reviews/?platform=pc'}, {'score': 86, 'source': 'OpenCritic', 'count': 118, 'url': 'https://opencritic.com/game/1383/batman-arkham-knight'}], 'stats': {'rank': 190, 'waitlisted': 4997, 'collected': 27774}, 'players': {'recent': 2313, 'day': 2476, 'week': 2476, 'peak': 6655}, 'urls': {'game': 'https://isthereanydeal.com/game/batman-arkham-knight/'}}\n",
      "2015-06-23\n"
     ]
    }
   ],
   "source": [
    "endpoint = \"https://api.isthereanydeal.com/games/info/v2\"\n",
    "\n",
    "params = {\n",
    "    'key': api_key,\n",
    "    'id': '018d937f-0e0c-70be-91d5-75e399e6b4e3'\n",
    "}\n",
    "\n",
    "game_info = request_game_data(endpoint, params)\n",
    "print(game_info)\n",
    "print(game_info['releaseDate'])"
   ]
  },
  {
   "cell_type": "markdown",
   "metadata": {},
   "source": [
    "Getting game price history"
   ]
  },
  {
   "cell_type": "code",
   "execution_count": 352,
   "metadata": {},
   "outputs": [
    {
     "name": "stdout",
     "output_type": "stream",
     "text": [
      "[{'timestamp': '2024-05-20T19:17:02+02:00', 'shop': {'id': 61, 'name': 'Steam'}, 'deal': {'price': {'amount': 3.99, 'amountInt': 399, 'currency': 'USD'}, 'regular': {'amount': 19.99, 'amountInt': 1999, 'currency': 'USD'}, 'cut': 80}}, {'timestamp': '2024-04-18T19:15:49+02:00', 'shop': {'id': 61, 'name': 'Steam'}, 'deal': {'price': {'amount': 19.99, 'amountInt': 1999, 'currency': 'USD'}, 'regular': {'amount': 19.99, 'amountInt': 1999, 'currency': 'USD'}, 'cut': 0}}, {'timestamp': '2024-04-11T19:18:03+02:00', 'shop': {'id': 61, 'name': 'Steam'}, 'deal': {'price': {'amount': 3.99, 'amountInt': 399, 'currency': 'USD'}, 'regular': {'amount': 19.99, 'amountInt': 1999, 'currency': 'USD'}, 'cut': 80}}, {'timestamp': '2024-03-21T18:18:55+01:00', 'shop': {'id': 61, 'name': 'Steam'}, 'deal': {'price': {'amount': 19.99, 'amountInt': 1999, 'currency': 'USD'}, 'regular': {'amount': 19.99, 'amountInt': 1999, 'currency': 'USD'}, 'cut': 0}}, {'timestamp': '2024-03-14T18:27:41+01:00', 'shop': {'id': 61, 'name': 'Steam'}, 'deal': {'price': {'amount': 3.99, 'amountInt': 399, 'currency': 'USD'}, 'regular': {'amount': 19.99, 'amountInt': 1999, 'currency': 'USD'}, 'cut': 80}}, {'timestamp': '2024-02-26T19:21:47+01:00', 'shop': {'id': 61, 'name': 'Steam'}, 'deal': {'price': {'amount': 19.99, 'amountInt': 1999, 'currency': 'USD'}, 'regular': {'amount': 19.99, 'amountInt': 1999, 'currency': 'USD'}, 'cut': 0}}, {'timestamp': '2024-02-19T19:15:40+01:00', 'shop': {'id': 61, 'name': 'Steam'}, 'deal': {'price': {'amount': 3.99, 'amountInt': 399, 'currency': 'USD'}, 'regular': {'amount': 19.99, 'amountInt': 1999, 'currency': 'USD'}, 'cut': 80}}, {'timestamp': '2024-02-11T01:48:57+01:00', 'shop': {'id': 61, 'name': 'Steam'}, 'deal': {'price': {'amount': 19.99, 'amountInt': 1999, 'currency': 'USD'}, 'regular': {'amount': 19.99, 'amountInt': 1999, 'currency': 'USD'}, 'cut': 0}}, {'timestamp': '2024-01-04T19:21:34+01:00', 'shop': {'id': 61, 'name': 'Steam'}, 'deal': {'price': {'amount': 19.99, 'amountInt': 1999, 'currency': 'USD'}, 'regular': {'amount': 19.99, 'amountInt': 1999, 'currency': 'USD'}, 'cut': 0}}, {'timestamp': '2023-12-21T19:41:35+01:00', 'shop': {'id': 61, 'name': 'Steam'}, 'deal': {'price': {'amount': 3.99, 'amountInt': 399, 'currency': 'USD'}, 'regular': {'amount': 19.99, 'amountInt': 1999, 'currency': 'USD'}, 'cut': 80}}, {'timestamp': '2023-11-28T20:00:41+01:00', 'shop': {'id': 61, 'name': 'Steam'}, 'deal': {'price': {'amount': 19.99, 'amountInt': 1999, 'currency': 'USD'}, 'regular': {'amount': 19.99, 'amountInt': 1999, 'currency': 'USD'}, 'cut': 0}}, {'timestamp': '2023-11-21T19:16:03+01:00', 'shop': {'id': 61, 'name': 'Steam'}, 'deal': {'price': {'amount': 3.99, 'amountInt': 399, 'currency': 'USD'}, 'regular': {'amount': 19.99, 'amountInt': 1999, 'currency': 'USD'}, 'cut': 80}}, {'timestamp': '2023-11-02T18:18:59+01:00', 'shop': {'id': 61, 'name': 'Steam'}, 'deal': {'price': {'amount': 19.99, 'amountInt': 1999, 'currency': 'USD'}, 'regular': {'amount': 19.99, 'amountInt': 1999, 'currency': 'USD'}, 'cut': 0}}, {'timestamp': '2023-10-19T19:12:21+02:00', 'shop': {'id': 61, 'name': 'Steam'}, 'deal': {'price': {'amount': 3.99, 'amountInt': 399, 'currency': 'USD'}, 'regular': {'amount': 19.99, 'amountInt': 1999, 'currency': 'USD'}, 'cut': 80}}, {'timestamp': '2023-07-31T19:46:07+02:00', 'shop': {'id': 61, 'name': 'Steam'}, 'deal': {'price': {'amount': 19.99, 'amountInt': 1999, 'currency': 'USD'}, 'regular': {'amount': 19.99, 'amountInt': 1999, 'currency': 'USD'}, 'cut': 0}}, {'timestamp': '2023-07-24T19:21:35+02:00', 'shop': {'id': 61, 'name': 'Steam'}, 'deal': {'price': {'amount': 3.99, 'amountInt': 399, 'currency': 'USD'}, 'regular': {'amount': 19.99, 'amountInt': 1999, 'currency': 'USD'}, 'cut': 80}}, {'timestamp': '2023-07-13T19:51:50+02:00', 'shop': {'id': 61, 'name': 'Steam'}, 'deal': {'price': {'amount': 19.99, 'amountInt': 1999, 'currency': 'USD'}, 'regular': {'amount': 19.99, 'amountInt': 1999, 'currency': 'USD'}, 'cut': 0}}, {'timestamp': '2023-06-30T00:33:31+02:00', 'shop': {'id': 61, 'name': 'Steam'}, 'deal': {'price': {'amount': 3.99, 'amountInt': 399, 'currency': 'USD'}, 'regular': {'amount': 19.99, 'amountInt': 1999, 'currency': 'USD'}, 'cut': 80}}, {'timestamp': '2023-06-19T19:30:23+02:00', 'shop': {'id': 61, 'name': 'Steam'}, 'deal': {'price': {'amount': 19.99, 'amountInt': 1999, 'currency': 'USD'}, 'regular': {'amount': 19.99, 'amountInt': 1999, 'currency': 'USD'}, 'cut': 0}}, {'timestamp': '2023-06-15T19:20:03+02:00', 'shop': {'id': 61, 'name': 'Steam'}, 'deal': {'price': {'amount': 3.99, 'amountInt': 399, 'currency': 'USD'}, 'regular': {'amount': 19.99, 'amountInt': 1999, 'currency': 'USD'}, 'cut': 80}}, {'timestamp': '2023-03-23T19:18:44+01:00', 'shop': {'id': 61, 'name': 'Steam'}, 'deal': {'price': {'amount': 19.99, 'amountInt': 1999, 'currency': 'USD'}, 'regular': {'amount': 19.99, 'amountInt': 1999, 'currency': 'USD'}, 'cut': 0}}, {'timestamp': '2023-03-16T20:52:42+01:00', 'shop': {'id': 61, 'name': 'Steam'}, 'deal': {'price': {'amount': 3.99, 'amountInt': 399, 'currency': 'USD'}, 'regular': {'amount': 19.99, 'amountInt': 1999, 'currency': 'USD'}, 'cut': 80}}, {'timestamp': '2023-02-20T20:18:13+01:00', 'shop': {'id': 61, 'name': 'Steam'}, 'deal': {'price': {'amount': 19.99, 'amountInt': 1999, 'currency': 'USD'}, 'regular': {'amount': 19.99, 'amountInt': 1999, 'currency': 'USD'}, 'cut': 0}}, {'timestamp': '2023-02-16T19:19:04+01:00', 'shop': {'id': 61, 'name': 'Steam'}, 'deal': {'price': {'amount': 3.99, 'amountInt': 399, 'currency': 'USD'}, 'regular': {'amount': 19.99, 'amountInt': 1999, 'currency': 'USD'}, 'cut': 80}}, {'timestamp': '2023-01-05T22:18:17+01:00', 'shop': {'id': 61, 'name': 'Steam'}, 'deal': {'price': {'amount': 19.99, 'amountInt': 1999, 'currency': 'USD'}, 'regular': {'amount': 19.99, 'amountInt': 1999, 'currency': 'USD'}, 'cut': 0}}, {'timestamp': '2022-12-22T19:34:15+01:00', 'shop': {'id': 61, 'name': 'Steam'}, 'deal': {'price': {'amount': 3.99, 'amountInt': 399, 'currency': 'USD'}, 'regular': {'amount': 19.99, 'amountInt': 1999, 'currency': 'USD'}, 'cut': 80}}, {'timestamp': '2022-11-29T19:27:43+01:00', 'shop': {'id': 61, 'name': 'Steam'}, 'deal': {'price': {'amount': 19.99, 'amountInt': 1999, 'currency': 'USD'}, 'regular': {'amount': 19.99, 'amountInt': 1999, 'currency': 'USD'}, 'cut': 0}}, {'timestamp': '2022-11-22T23:19:37+01:00', 'shop': {'id': 61, 'name': 'Steam'}, 'deal': {'price': {'amount': 3.99, 'amountInt': 399, 'currency': 'USD'}, 'regular': {'amount': 19.99, 'amountInt': 1999, 'currency': 'USD'}, 'cut': 80}}, {'timestamp': '2022-08-15T19:24:19+02:00', 'shop': {'id': 61, 'name': 'Steam'}, 'deal': {'price': {'amount': 19.99, 'amountInt': 1999, 'currency': 'USD'}, 'regular': {'amount': 19.99, 'amountInt': 1999, 'currency': 'USD'}, 'cut': 0}}, {'timestamp': '2022-08-11T19:19:31+02:00', 'shop': {'id': 61, 'name': 'Steam'}, 'deal': {'price': {'amount': 3.99, 'amountInt': 399, 'currency': 'USD'}, 'regular': {'amount': 19.99, 'amountInt': 1999, 'currency': 'USD'}, 'cut': 80}}, {'timestamp': '2022-07-07T19:49:03+02:00', 'shop': {'id': 61, 'name': 'Steam'}, 'deal': {'price': {'amount': 19.99, 'amountInt': 1999, 'currency': 'USD'}, 'regular': {'amount': 19.99, 'amountInt': 1999, 'currency': 'USD'}, 'cut': 0}}, {'timestamp': '2022-06-23T20:10:40+02:00', 'shop': {'id': 61, 'name': 'Steam'}, 'deal': {'price': {'amount': 3.99, 'amountInt': 399, 'currency': 'USD'}, 'regular': {'amount': 19.99, 'amountInt': 1999, 'currency': 'USD'}, 'cut': 80}}, {'timestamp': '2022-03-03T19:36:07+01:00', 'shop': {'id': 61, 'name': 'Steam'}, 'deal': {'price': {'amount': 19.99, 'amountInt': 1999, 'currency': 'USD'}, 'regular': {'amount': 19.99, 'amountInt': 1999, 'currency': 'USD'}, 'cut': 0}}, {'timestamp': '2022-02-28T19:24:52+01:00', 'shop': {'id': 61, 'name': 'Steam'}, 'deal': {'price': {'amount': 3.99, 'amountInt': 399, 'currency': 'USD'}, 'regular': {'amount': 19.99, 'amountInt': 1999, 'currency': 'USD'}, 'cut': 80}}, {'timestamp': '2022-02-03T19:39:40+01:00', 'shop': {'id': 61, 'name': 'Steam'}, 'deal': {'price': {'amount': 19.99, 'amountInt': 1999, 'currency': 'USD'}, 'regular': {'amount': 19.99, 'amountInt': 1999, 'currency': 'USD'}, 'cut': 0}}, {'timestamp': '2022-01-27T19:10:07+01:00', 'shop': {'id': 61, 'name': 'Steam'}, 'deal': {'price': {'amount': 3.99, 'amountInt': 399, 'currency': 'USD'}, 'regular': {'amount': 19.99, 'amountInt': 1999, 'currency': 'USD'}, 'cut': 80}}, {'timestamp': '2022-01-05T19:24:54+01:00', 'shop': {'id': 61, 'name': 'Steam'}, 'deal': {'price': {'amount': 19.99, 'amountInt': 1999, 'currency': 'USD'}, 'regular': {'amount': 19.99, 'amountInt': 1999, 'currency': 'USD'}, 'cut': 0}}, {'timestamp': '2021-12-22T22:45:53+01:00', 'shop': {'id': 61, 'name': 'Steam'}, 'deal': {'price': {'amount': 3.99, 'amountInt': 399, 'currency': 'USD'}, 'regular': {'amount': 19.99, 'amountInt': 1999, 'currency': 'USD'}, 'cut': 80}}, {'timestamp': '2021-12-01T19:36:33+01:00', 'shop': {'id': 61, 'name': 'Steam'}, 'deal': {'price': {'amount': 19.99, 'amountInt': 1999, 'currency': 'USD'}, 'regular': {'amount': 19.99, 'amountInt': 1999, 'currency': 'USD'}, 'cut': 0}}, {'timestamp': '2021-11-24T22:08:06+01:00', 'shop': {'id': 61, 'name': 'Steam'}, 'deal': {'price': {'amount': 3.99, 'amountInt': 399, 'currency': 'USD'}, 'regular': {'amount': 19.99, 'amountInt': 1999, 'currency': 'USD'}, 'cut': 80}}, {'timestamp': '2021-10-18T19:24:13+02:00', 'shop': {'id': 61, 'name': 'Steam'}, 'deal': {'price': {'amount': 19.99, 'amountInt': 1999, 'currency': 'USD'}, 'regular': {'amount': 19.99, 'amountInt': 1999, 'currency': 'USD'}, 'cut': 0}}, {'timestamp': '2021-10-14T19:06:54+02:00', 'shop': {'id': 61, 'name': 'Steam'}, 'deal': {'price': {'amount': 3.99, 'amountInt': 399, 'currency': 'USD'}, 'regular': {'amount': 19.99, 'amountInt': 1999, 'currency': 'USD'}, 'cut': 80}}, {'timestamp': '2021-10-04T19:06:14+02:00', 'shop': {'id': 61, 'name': 'Steam'}, 'deal': {'price': {'amount': 19.99, 'amountInt': 1999, 'currency': 'USD'}, 'regular': {'amount': 19.99, 'amountInt': 1999, 'currency': 'USD'}, 'cut': 0}}, {'timestamp': '2021-09-30T19:09:13+02:00', 'shop': {'id': 61, 'name': 'Steam'}, 'deal': {'price': {'amount': 3.99, 'amountInt': 399, 'currency': 'USD'}, 'regular': {'amount': 19.99, 'amountInt': 1999, 'currency': 'USD'}, 'cut': 80}}, {'timestamp': '2021-07-08T19:51:54+02:00', 'shop': {'id': 61, 'name': 'Steam'}, 'deal': {'price': {'amount': 19.99, 'amountInt': 1999, 'currency': 'USD'}, 'regular': {'amount': 19.99, 'amountInt': 1999, 'currency': 'USD'}, 'cut': 0}}, {'timestamp': '2021-06-25T19:24:56+02:00', 'shop': {'id': 61, 'name': 'Steam'}, 'deal': {'price': {'amount': 4.99, 'amountInt': 499, 'currency': 'USD'}, 'regular': {'amount': 19.99, 'amountInt': 1999, 'currency': 'USD'}, 'cut': 75}}, {'timestamp': '2021-05-31T19:24:16+02:00', 'shop': {'id': 61, 'name': 'Steam'}, 'deal': {'price': {'amount': 19.99, 'amountInt': 1999, 'currency': 'USD'}, 'regular': {'amount': 19.99, 'amountInt': 1999, 'currency': 'USD'}, 'cut': 0}}, {'timestamp': '2021-05-27T19:22:10+02:00', 'shop': {'id': 61, 'name': 'Steam'}, 'deal': {'price': {'amount': 4.99, 'amountInt': 499, 'currency': 'USD'}, 'regular': {'amount': 19.99, 'amountInt': 1999, 'currency': 'USD'}, 'cut': 75}}, {'timestamp': '2021-03-29T19:36:16+02:00', 'shop': {'id': 61, 'name': 'Steam'}, 'deal': {'price': {'amount': 19.99, 'amountInt': 1999, 'currency': 'USD'}, 'regular': {'amount': 19.99, 'amountInt': 1999, 'currency': 'USD'}, 'cut': 0}}, {'timestamp': '2021-03-25T18:19:14+01:00', 'shop': {'id': 61, 'name': 'Steam'}, 'deal': {'price': {'amount': 4.99, 'amountInt': 499, 'currency': 'USD'}, 'regular': {'amount': 19.99, 'amountInt': 1999, 'currency': 'USD'}, 'cut': 75}}, {'timestamp': '2021-02-22T19:21:14+01:00', 'shop': {'id': 61, 'name': 'Steam'}, 'deal': {'price': {'amount': 19.99, 'amountInt': 1999, 'currency': 'USD'}, 'regular': {'amount': 19.99, 'amountInt': 1999, 'currency': 'USD'}, 'cut': 0}}, {'timestamp': '2021-02-18T19:21:16+01:00', 'shop': {'id': 61, 'name': 'Steam'}, 'deal': {'price': {'amount': 4.99, 'amountInt': 499, 'currency': 'USD'}, 'regular': {'amount': 19.99, 'amountInt': 1999, 'currency': 'USD'}, 'cut': 75}}, {'timestamp': '2021-02-15T19:25:32+01:00', 'shop': {'id': 61, 'name': 'Steam'}, 'deal': {'price': {'amount': 19.99, 'amountInt': 1999, 'currency': 'USD'}, 'regular': {'amount': 19.99, 'amountInt': 1999, 'currency': 'USD'}, 'cut': 0}}, {'timestamp': '2021-02-11T19:25:32+01:00', 'shop': {'id': 61, 'name': 'Steam'}, 'deal': {'price': {'amount': 4.99, 'amountInt': 499, 'currency': 'USD'}, 'regular': {'amount': 19.99, 'amountInt': 1999, 'currency': 'USD'}, 'cut': 75}}, {'timestamp': '2021-01-05T19:55:31+01:00', 'shop': {'id': 61, 'name': 'Steam'}, 'deal': {'price': {'amount': 19.99, 'amountInt': 1999, 'currency': 'USD'}, 'regular': {'amount': 19.99, 'amountInt': 1999, 'currency': 'USD'}, 'cut': 0}}, {'timestamp': '2020-12-22T20:01:16+01:00', 'shop': {'id': 61, 'name': 'Steam'}, 'deal': {'price': {'amount': 4.99, 'amountInt': 499, 'currency': 'USD'}, 'regular': {'amount': 19.99, 'amountInt': 1999, 'currency': 'USD'}, 'cut': 75}}, {'timestamp': '2020-12-01T19:21:59+01:00', 'shop': {'id': 61, 'name': 'Steam'}, 'deal': {'price': {'amount': 19.99, 'amountInt': 1999, 'currency': 'USD'}, 'regular': {'amount': 19.99, 'amountInt': 1999, 'currency': 'USD'}, 'cut': 0}}, {'timestamp': '2020-11-25T19:25:56+01:00', 'shop': {'id': 61, 'name': 'Steam'}, 'deal': {'price': {'amount': 4.99, 'amountInt': 499, 'currency': 'USD'}, 'regular': {'amount': 19.99, 'amountInt': 1999, 'currency': 'USD'}, 'cut': 75}}, {'timestamp': '2020-11-02T19:24:45+01:00', 'shop': {'id': 61, 'name': 'Steam'}, 'deal': {'price': {'amount': 19.99, 'amountInt': 1999, 'currency': 'USD'}, 'regular': {'amount': 19.99, 'amountInt': 1999, 'currency': 'USD'}, 'cut': 0}}, {'timestamp': '2020-10-29T18:07:43+01:00', 'shop': {'id': 61, 'name': 'Steam'}, 'deal': {'price': {'amount': 4.99, 'amountInt': 499, 'currency': 'USD'}, 'regular': {'amount': 19.99, 'amountInt': 1999, 'currency': 'USD'}, 'cut': 75}}, {'timestamp': '2020-09-28T19:22:10+02:00', 'shop': {'id': 61, 'name': 'Steam'}, 'deal': {'price': {'amount': 19.99, 'amountInt': 1999, 'currency': 'USD'}, 'regular': {'amount': 19.99, 'amountInt': 1999, 'currency': 'USD'}, 'cut': 0}}, {'timestamp': '2020-09-24T19:22:13+02:00', 'shop': {'id': 61, 'name': 'Steam'}, 'deal': {'price': {'amount': 4.99, 'amountInt': 499, 'currency': 'USD'}, 'regular': {'amount': 19.99, 'amountInt': 1999, 'currency': 'USD'}, 'cut': 75}}, {'timestamp': '2020-08-24T19:22:05+02:00', 'shop': {'id': 61, 'name': 'Steam'}, 'deal': {'price': {'amount': 19.99, 'amountInt': 1999, 'currency': 'USD'}, 'regular': {'amount': 19.99, 'amountInt': 1999, 'currency': 'USD'}, 'cut': 0}}, {'timestamp': '2020-08-20T19:22:20+02:00', 'shop': {'id': 61, 'name': 'Steam'}, 'deal': {'price': {'amount': 4.99, 'amountInt': 499, 'currency': 'USD'}, 'regular': {'amount': 19.99, 'amountInt': 1999, 'currency': 'USD'}, 'cut': 75}}, {'timestamp': '2020-07-09T19:23:07+02:00', 'shop': {'id': 61, 'name': 'Steam'}, 'deal': {'price': {'amount': 19.99, 'amountInt': 1999, 'currency': 'USD'}, 'regular': {'amount': 19.99, 'amountInt': 1999, 'currency': 'USD'}, 'cut': 0}}, {'timestamp': '2020-06-25T19:51:59+02:00', 'shop': {'id': 61, 'name': 'Steam'}, 'deal': {'price': {'amount': 4.99, 'amountInt': 499, 'currency': 'USD'}, 'regular': {'amount': 19.99, 'amountInt': 1999, 'currency': 'USD'}, 'cut': 75}}, {'timestamp': '2020-04-10T19:21:17+02:00', 'shop': {'id': 61, 'name': 'Steam'}, 'deal': {'price': {'amount': 19.99, 'amountInt': 1999, 'currency': 'USD'}, 'regular': {'amount': 19.99, 'amountInt': 1999, 'currency': 'USD'}, 'cut': 0}}, {'timestamp': '2020-04-07T19:21:18+02:00', 'shop': {'id': 61, 'name': 'Steam'}, 'deal': {'price': {'amount': 4.99, 'amountInt': 499, 'currency': 'USD'}, 'regular': {'amount': 19.99, 'amountInt': 1999, 'currency': 'USD'}, 'cut': 75}}, {'timestamp': '2020-01-27T19:24:35+01:00', 'shop': {'id': 61, 'name': 'Steam'}, 'deal': {'price': {'amount': 19.99, 'amountInt': 1999, 'currency': 'USD'}, 'regular': {'amount': 19.99, 'amountInt': 1999, 'currency': 'USD'}, 'cut': 0}}, {'timestamp': '2020-01-23T19:28:57+01:00', 'shop': {'id': 61, 'name': 'Steam'}, 'deal': {'price': {'amount': 4.99, 'amountInt': 499, 'currency': 'USD'}, 'regular': {'amount': 19.99, 'amountInt': 1999, 'currency': 'USD'}, 'cut': 75}}, {'timestamp': '2020-01-02T19:42:32+01:00', 'shop': {'id': 61, 'name': 'Steam'}, 'deal': {'price': {'amount': 19.99, 'amountInt': 1999, 'currency': 'USD'}, 'regular': {'amount': 19.99, 'amountInt': 1999, 'currency': 'USD'}, 'cut': 0}}, {'timestamp': '2019-12-19T19:13:06+01:00', 'shop': {'id': 61, 'name': 'Steam'}, 'deal': {'price': {'amount': 4.99, 'amountInt': 499, 'currency': 'USD'}, 'regular': {'amount': 19.99, 'amountInt': 1999, 'currency': 'USD'}, 'cut': 75}}, {'timestamp': '2019-12-03T19:31:03+01:00', 'shop': {'id': 61, 'name': 'Steam'}, 'deal': {'price': {'amount': 19.99, 'amountInt': 1999, 'currency': 'USD'}, 'regular': {'amount': 19.99, 'amountInt': 1999, 'currency': 'USD'}, 'cut': 0}}, {'timestamp': '2019-11-26T19:08:09+01:00', 'shop': {'id': 61, 'name': 'Steam'}, 'deal': {'price': {'amount': 4.99, 'amountInt': 499, 'currency': 'USD'}, 'regular': {'amount': 19.99, 'amountInt': 1999, 'currency': 'USD'}, 'cut': 75}}, {'timestamp': '2019-11-11T19:21:31+01:00', 'shop': {'id': 61, 'name': 'Steam'}, 'deal': {'price': {'amount': 19.99, 'amountInt': 1999, 'currency': 'USD'}, 'regular': {'amount': 19.99, 'amountInt': 1999, 'currency': 'USD'}, 'cut': 0}}, {'timestamp': '2019-11-07T19:21:13+01:00', 'shop': {'id': 61, 'name': 'Steam'}, 'deal': {'price': {'amount': 4.99, 'amountInt': 499, 'currency': 'USD'}, 'regular': {'amount': 19.99, 'amountInt': 1999, 'currency': 'USD'}, 'cut': 75}}, {'timestamp': '2019-11-01T18:21:19+01:00', 'shop': {'id': 61, 'name': 'Steam'}, 'deal': {'price': {'amount': 19.99, 'amountInt': 1999, 'currency': 'USD'}, 'regular': {'amount': 19.99, 'amountInt': 1999, 'currency': 'USD'}, 'cut': 0}}, {'timestamp': '2019-10-28T18:32:39+01:00', 'shop': {'id': 61, 'name': 'Steam'}, 'deal': {'price': {'amount': 4.99, 'amountInt': 499, 'currency': 'USD'}, 'regular': {'amount': 19.99, 'amountInt': 1999, 'currency': 'USD'}, 'cut': 75}}, {'timestamp': '2019-09-26T19:21:16+02:00', 'shop': {'id': 61, 'name': 'Steam'}, 'deal': {'price': {'amount': 19.99, 'amountInt': 1999, 'currency': 'USD'}, 'regular': {'amount': 19.99, 'amountInt': 1999, 'currency': 'USD'}, 'cut': 0}}, {'timestamp': '2019-09-19T19:21:18+02:00', 'shop': {'id': 61, 'name': 'Steam'}, 'deal': {'price': {'amount': 4.99, 'amountInt': 499, 'currency': 'USD'}, 'regular': {'amount': 19.99, 'amountInt': 1999, 'currency': 'USD'}, 'cut': 75}}, {'timestamp': '2019-07-09T22:14:27+02:00', 'shop': {'id': 61, 'name': 'Steam'}, 'deal': {'price': {'amount': 19.99, 'amountInt': 1999, 'currency': 'USD'}, 'regular': {'amount': 19.99, 'amountInt': 1999, 'currency': 'USD'}, 'cut': 0}}, {'timestamp': '2019-06-26T04:01:32+02:00', 'shop': {'id': 61, 'name': 'Steam'}, 'deal': {'price': {'amount': 4.99, 'amountInt': 499, 'currency': 'USD'}, 'regular': {'amount': 19.99, 'amountInt': 1999, 'currency': 'USD'}, 'cut': 75}}, {'timestamp': '2019-05-22T19:48:25+02:00', 'shop': {'id': 61, 'name': 'Steam'}, 'deal': {'price': {'amount': 19.99, 'amountInt': 1999, 'currency': 'USD'}, 'regular': {'amount': 19.99, 'amountInt': 1999, 'currency': 'USD'}, 'cut': 0}}, {'timestamp': '2019-05-20T21:23:39+02:00', 'shop': {'id': 61, 'name': 'Steam'}, 'deal': {'price': {'amount': 4.99, 'amountInt': 499, 'currency': 'USD'}, 'regular': {'amount': 19.99, 'amountInt': 1999, 'currency': 'USD'}, 'cut': 75}}, {'timestamp': '2019-03-22T21:06:45+01:00', 'shop': {'id': 61, 'name': 'Steam'}, 'deal': {'price': {'amount': 19.99, 'amountInt': 1999, 'currency': 'USD'}, 'regular': {'amount': 19.99, 'amountInt': 1999, 'currency': 'USD'}, 'cut': 0}}, {'timestamp': '2019-03-19T18:43:52+01:00', 'shop': {'id': 61, 'name': 'Steam'}, 'deal': {'price': {'amount': 4.99, 'amountInt': 499, 'currency': 'USD'}, 'regular': {'amount': 19.99, 'amountInt': 1999, 'currency': 'USD'}, 'cut': 75}}, {'timestamp': '2019-02-12T01:06:38+01:00', 'shop': {'id': 61, 'name': 'Steam'}, 'deal': {'price': {'amount': 19.99, 'amountInt': 1999, 'currency': 'USD'}, 'regular': {'amount': 19.99, 'amountInt': 1999, 'currency': 'USD'}, 'cut': 0}}, {'timestamp': '2019-02-04T21:08:36+01:00', 'shop': {'id': 61, 'name': 'Steam'}, 'deal': {'price': {'amount': 4.99, 'amountInt': 499, 'currency': 'USD'}, 'regular': {'amount': 19.99, 'amountInt': 1999, 'currency': 'USD'}, 'cut': 75}}, {'timestamp': '2019-01-03T23:20:38+01:00', 'shop': {'id': 61, 'name': 'Steam'}, 'deal': {'price': {'amount': 19.99, 'amountInt': 1999, 'currency': 'USD'}, 'regular': {'amount': 19.99, 'amountInt': 1999, 'currency': 'USD'}, 'cut': 0}}, {'timestamp': '2018-12-20T23:46:27+01:00', 'shop': {'id': 61, 'name': 'Steam'}, 'deal': {'price': {'amount': 4.99, 'amountInt': 499, 'currency': 'USD'}, 'regular': {'amount': 19.99, 'amountInt': 1999, 'currency': 'USD'}, 'cut': 75}}, {'timestamp': '2018-11-27T19:52:33+01:00', 'shop': {'id': 61, 'name': 'Steam'}, 'deal': {'price': {'amount': 19.99, 'amountInt': 1999, 'currency': 'USD'}, 'regular': {'amount': 19.99, 'amountInt': 1999, 'currency': 'USD'}, 'cut': 0}}, {'timestamp': '2018-11-21T20:40:53+01:00', 'shop': {'id': 61, 'name': 'Steam'}, 'deal': {'price': {'amount': 4.99, 'amountInt': 499, 'currency': 'USD'}, 'regular': {'amount': 19.99, 'amountInt': 1999, 'currency': 'USD'}, 'cut': 75}}, {'timestamp': '2018-11-01T18:59:26+01:00', 'shop': {'id': 61, 'name': 'Steam'}, 'deal': {'price': {'amount': 19.99, 'amountInt': 1999, 'currency': 'USD'}, 'regular': {'amount': 19.99, 'amountInt': 1999, 'currency': 'USD'}, 'cut': 0}}, {'timestamp': '2018-10-30T01:43:36+01:00', 'shop': {'id': 61, 'name': 'Steam'}, 'deal': {'price': {'amount': 4.99, 'amountInt': 499, 'currency': 'USD'}, 'regular': {'amount': 19.99, 'amountInt': 1999, 'currency': 'USD'}, 'cut': 75}}, {'timestamp': '2018-10-01T19:06:47+02:00', 'shop': {'id': 61, 'name': 'Steam'}, 'deal': {'price': {'amount': 19.99, 'amountInt': 1999, 'currency': 'USD'}, 'regular': {'amount': 19.99, 'amountInt': 1999, 'currency': 'USD'}, 'cut': 0}}, {'timestamp': '2018-09-27T19:19:35+02:00', 'shop': {'id': 61, 'name': 'Steam'}, 'deal': {'price': {'amount': 4.99, 'amountInt': 499, 'currency': 'USD'}, 'regular': {'amount': 19.99, 'amountInt': 1999, 'currency': 'USD'}, 'cut': 75}}, {'timestamp': '2018-08-17T21:28:47+02:00', 'shop': {'id': 61, 'name': 'Steam'}, 'deal': {'price': {'amount': 19.99, 'amountInt': 1999, 'currency': 'USD'}, 'regular': {'amount': 19.99, 'amountInt': 1999, 'currency': 'USD'}, 'cut': 0}}, {'timestamp': '2018-08-14T19:14:53+02:00', 'shop': {'id': 61, 'name': 'Steam'}, 'deal': {'price': {'amount': 6.79, 'amountInt': 679, 'currency': 'USD'}, 'regular': {'amount': 19.99, 'amountInt': 1999, 'currency': 'USD'}, 'cut': 66}}, {'timestamp': '2018-07-05T19:06:42+02:00', 'shop': {'id': 61, 'name': 'Steam'}, 'deal': {'price': {'amount': 19.99, 'amountInt': 1999, 'currency': 'USD'}, 'regular': {'amount': 19.99, 'amountInt': 1999, 'currency': 'USD'}, 'cut': 0}}, {'timestamp': '2018-06-21T20:13:50+02:00', 'shop': {'id': 61, 'name': 'Steam'}, 'deal': {'price': {'amount': 6.79, 'amountInt': 679, 'currency': 'USD'}, 'regular': {'amount': 19.99, 'amountInt': 1999, 'currency': 'USD'}, 'cut': 66}}, {'timestamp': '2018-05-14T20:21:59+02:00', 'shop': {'id': 61, 'name': 'Steam'}, 'deal': {'price': {'amount': 19.99, 'amountInt': 1999, 'currency': 'USD'}, 'regular': {'amount': 19.99, 'amountInt': 1999, 'currency': 'USD'}, 'cut': 0}}, {'timestamp': '2018-05-07T22:51:02+02:00', 'shop': {'id': 61, 'name': 'Steam'}, 'deal': {'price': {'amount': 6.79, 'amountInt': 679, 'currency': 'USD'}, 'regular': {'amount': 19.99, 'amountInt': 1999, 'currency': 'USD'}, 'cut': 66}}, {'timestamp': '2018-03-05T20:54:15+01:00', 'shop': {'id': 61, 'name': 'Steam'}, 'deal': {'price': {'amount': 19.99, 'amountInt': 1999, 'currency': 'USD'}, 'regular': {'amount': 19.99, 'amountInt': 1999, 'currency': 'USD'}, 'cut': 0}}, {'timestamp': '2018-03-01T20:22:34+01:00', 'shop': {'id': 61, 'name': 'Steam'}, 'deal': {'price': {'amount': 6.79, 'amountInt': 679, 'currency': 'USD'}, 'regular': {'amount': 19.99, 'amountInt': 1999, 'currency': 'USD'}, 'cut': 66}}, {'timestamp': '2018-02-19T22:49:07+01:00', 'shop': {'id': 61, 'name': 'Steam'}, 'deal': {'price': {'amount': 19.99, 'amountInt': 1999, 'currency': 'USD'}, 'regular': {'amount': 19.99, 'amountInt': 1999, 'currency': 'USD'}, 'cut': 0}}, {'timestamp': '2018-02-15T21:18:41+01:00', 'shop': {'id': 61, 'name': 'Steam'}, 'deal': {'price': {'amount': 6.79, 'amountInt': 679, 'currency': 'USD'}, 'regular': {'amount': 19.99, 'amountInt': 1999, 'currency': 'USD'}, 'cut': 66}}, {'timestamp': '2018-01-04T22:15:47+01:00', 'shop': {'id': 61, 'name': 'Steam'}, 'deal': {'price': {'amount': 19.99, 'amountInt': 1999, 'currency': 'USD'}, 'regular': {'amount': 19.99, 'amountInt': 1999, 'currency': 'USD'}, 'cut': 0}}, {'timestamp': '2017-12-21T21:45:30+01:00', 'shop': {'id': 61, 'name': 'Steam'}, 'deal': {'price': {'amount': 7.99, 'amountInt': 799, 'currency': 'USD'}, 'regular': {'amount': 19.99, 'amountInt': 1999, 'currency': 'USD'}, 'cut': 60}}, {'timestamp': '2017-11-28T23:45:24+01:00', 'shop': {'id': 61, 'name': 'Steam'}, 'deal': {'price': {'amount': 19.99, 'amountInt': 1999, 'currency': 'USD'}, 'regular': {'amount': 19.99, 'amountInt': 1999, 'currency': 'USD'}, 'cut': 0}}, {'timestamp': '2017-11-22T21:45:27+01:00', 'shop': {'id': 61, 'name': 'Steam'}, 'deal': {'price': {'amount': 6.79, 'amountInt': 679, 'currency': 'USD'}, 'regular': {'amount': 19.99, 'amountInt': 1999, 'currency': 'USD'}, 'cut': 66}}, {'timestamp': '2017-11-01T22:15:52+01:00', 'shop': {'id': 61, 'name': 'Steam'}, 'deal': {'price': {'amount': 19.99, 'amountInt': 1999, 'currency': 'USD'}, 'regular': {'amount': 19.99, 'amountInt': 1999, 'currency': 'USD'}, 'cut': 0}}, {'timestamp': '2017-10-26T21:15:37+02:00', 'shop': {'id': 61, 'name': 'Steam'}, 'deal': {'price': {'amount': 7.99, 'amountInt': 799, 'currency': 'USD'}, 'regular': {'amount': 19.99, 'amountInt': 1999, 'currency': 'USD'}, 'cut': 60}}, {'timestamp': '2017-10-03T01:15:48+02:00', 'shop': {'id': 61, 'name': 'Steam'}, 'deal': {'price': {'amount': 19.99, 'amountInt': 1999, 'currency': 'USD'}, 'regular': {'amount': 19.99, 'amountInt': 1999, 'currency': 'USD'}, 'cut': 0}}, {'timestamp': '2017-09-28T22:15:39+02:00', 'shop': {'id': 61, 'name': 'Steam'}, 'deal': {'price': {'amount': 7.99, 'amountInt': 799, 'currency': 'USD'}, 'regular': {'amount': 19.99, 'amountInt': 1999, 'currency': 'USD'}, 'cut': 60}}, {'timestamp': '2017-08-11T21:45:29+02:00', 'shop': {'id': 61, 'name': 'Steam'}, 'deal': {'price': {'amount': 19.99, 'amountInt': 1999, 'currency': 'USD'}, 'regular': {'amount': 19.99, 'amountInt': 1999, 'currency': 'USD'}, 'cut': 0}}, {'timestamp': '2017-08-08T22:45:26+02:00', 'shop': {'id': 61, 'name': 'Steam'}, 'deal': {'price': {'amount': 7.99, 'amountInt': 799, 'currency': 'USD'}, 'regular': {'amount': 19.99, 'amountInt': 1999, 'currency': 'USD'}, 'cut': 60}}, {'timestamp': '2017-07-05T20:45:35+02:00', 'shop': {'id': 61, 'name': 'Steam'}, 'deal': {'price': {'amount': 19.99, 'amountInt': 1999, 'currency': 'USD'}, 'regular': {'amount': 19.99, 'amountInt': 1999, 'currency': 'USD'}, 'cut': 0}}, {'timestamp': '2017-06-23T00:45:34+02:00', 'shop': {'id': 61, 'name': 'Steam'}, 'deal': {'price': {'amount': 7.99, 'amountInt': 799, 'currency': 'USD'}, 'regular': {'amount': 19.99, 'amountInt': 1999, 'currency': 'USD'}, 'cut': 60}}, {'timestamp': '2017-04-29T02:15:37+02:00', 'shop': {'id': 61, 'name': 'Steam'}, 'deal': {'price': {'amount': 19.99, 'amountInt': 1999, 'currency': 'USD'}, 'regular': {'amount': 19.99, 'amountInt': 1999, 'currency': 'USD'}, 'cut': 0}}, {'timestamp': '2017-04-25T19:45:29+02:00', 'shop': {'id': 61, 'name': 'Steam'}, 'deal': {'price': {'amount': 7.99, 'amountInt': 799, 'currency': 'USD'}, 'regular': {'amount': 19.99, 'amountInt': 1999, 'currency': 'USD'}, 'cut': 60}}, {'timestamp': '2017-01-02T21:15:58+01:00', 'shop': {'id': 61, 'name': 'Steam'}, 'deal': {'price': {'amount': 19.99, 'amountInt': 1999, 'currency': 'USD'}, 'regular': {'amount': 19.99, 'amountInt': 1999, 'currency': 'USD'}, 'cut': 0}}, {'timestamp': '2016-12-22T20:46:11+01:00', 'shop': {'id': 61, 'name': 'Steam'}, 'deal': {'price': {'amount': 6.79, 'amountInt': 679, 'currency': 'USD'}, 'regular': {'amount': 19.99, 'amountInt': 1999, 'currency': 'USD'}, 'cut': 66}}, {'timestamp': '2016-11-30T19:45:31+01:00', 'shop': {'id': 61, 'name': 'Steam'}, 'deal': {'price': {'amount': 19.99, 'amountInt': 1999, 'currency': 'USD'}, 'regular': {'amount': 19.99, 'amountInt': 1999, 'currency': 'USD'}, 'cut': 0}}, {'timestamp': '2016-11-29T22:15:39+01:00', 'shop': {'id': 61, 'name': 'Steam'}, 'deal': {'price': {'amount': 29.99, 'amountInt': 2999, 'currency': 'USD'}, 'regular': {'amount': 29.99, 'amountInt': 2999, 'currency': 'USD'}, 'cut': 0}}, {'timestamp': '2016-11-23T21:45:43+01:00', 'shop': {'id': 61, 'name': 'Steam'}, 'deal': {'price': {'amount': 14.99, 'amountInt': 1499, 'currency': 'USD'}, 'regular': {'amount': 29.99, 'amountInt': 2999, 'currency': 'USD'}, 'cut': 50}}, {'timestamp': '2016-11-01T21:45:31+01:00', 'shop': {'id': 61, 'name': 'Steam'}, 'deal': {'price': {'amount': 29.99, 'amountInt': 2999, 'currency': 'USD'}, 'regular': {'amount': 29.99, 'amountInt': 2999, 'currency': 'USD'}, 'cut': 0}}, {'timestamp': '2016-10-28T21:15:28+02:00', 'shop': {'id': 61, 'name': 'Steam'}, 'deal': {'price': {'amount': 10.19, 'amountInt': 1019, 'currency': 'USD'}, 'regular': {'amount': 29.99, 'amountInt': 2999, 'currency': 'USD'}, 'cut': 66}}, {'timestamp': '2016-09-19T22:45:30+02:00', 'shop': {'id': 61, 'name': 'Steam'}, 'deal': {'price': {'amount': 29.99, 'amountInt': 2999, 'currency': 'USD'}, 'regular': {'amount': 29.99, 'amountInt': 2999, 'currency': 'USD'}, 'cut': 0}}, {'timestamp': '2016-09-15T20:45:24+02:00', 'shop': {'id': 61, 'name': 'Steam'}, 'deal': {'price': {'amount': 10.19, 'amountInt': 1019, 'currency': 'USD'}, 'regular': {'amount': 29.99, 'amountInt': 2999, 'currency': 'USD'}, 'cut': 66}}, {'timestamp': '2016-08-08T20:45:23+02:00', 'shop': {'id': 61, 'name': 'Steam'}, 'deal': {'price': {'amount': 29.99, 'amountInt': 2999, 'currency': 'USD'}, 'regular': {'amount': 29.99, 'amountInt': 2999, 'currency': 'USD'}, 'cut': 0}}, {'timestamp': '2016-08-04T20:45:21+02:00', 'shop': {'id': 61, 'name': 'Steam'}, 'deal': {'price': {'amount': 14.99, 'amountInt': 1499, 'currency': 'USD'}, 'regular': {'amount': 29.99, 'amountInt': 2999, 'currency': 'USD'}, 'cut': 50}}, {'timestamp': '2016-07-04T18:25:26+02:00', 'shop': {'id': 61, 'name': 'Steam'}, 'deal': {'price': {'amount': 29.99, 'amountInt': 2999, 'currency': 'USD'}, 'regular': {'amount': 29.99, 'amountInt': 2999, 'currency': 'USD'}, 'cut': 0}}, {'timestamp': '2016-06-24T19:01:35+02:00', 'shop': {'id': 61, 'name': 'Steam'}, 'deal': {'price': {'amount': 14.99, 'amountInt': 1499, 'currency': 'USD'}, 'regular': {'amount': 29.99, 'amountInt': 2999, 'currency': 'USD'}, 'cut': 50}}, {'timestamp': '2016-06-23T20:35:18+02:00', 'shop': {'id': 61, 'name': 'Steam'}, 'deal': {'price': {'amount': 17.99, 'amountInt': 1799, 'currency': 'USD'}, 'regular': {'amount': 29.99, 'amountInt': 2999, 'currency': 'USD'}, 'cut': 40}}, {'timestamp': '2016-04-07T22:10:26+02:00', 'shop': {'id': 61, 'name': 'Steam'}, 'deal': {'price': {'amount': 29.99, 'amountInt': 2999, 'currency': 'USD'}, 'regular': {'amount': 29.99, 'amountInt': 2999, 'currency': 'USD'}, 'cut': 0}}, {'timestamp': '2016-03-24T18:23:36+01:00', 'shop': {'id': 61, 'name': 'Steam'}, 'deal': {'price': {'amount': 39.99, 'amountInt': 3999, 'currency': 'USD'}, 'regular': {'amount': 39.99, 'amountInt': 3999, 'currency': 'USD'}, 'cut': 0}}, {'timestamp': '2016-03-22T18:14:01+01:00', 'shop': {'id': 61, 'name': 'Steam'}, 'deal': {'price': {'amount': 23.99, 'amountInt': 2399, 'currency': 'USD'}, 'regular': {'amount': 39.99, 'amountInt': 3999, 'currency': 'USD'}, 'cut': 40}}, {'timestamp': '2016-02-12T19:44:34+01:00', 'shop': {'id': 61, 'name': 'Steam'}, 'deal': {'price': {'amount': 39.99, 'amountInt': 3999, 'currency': 'USD'}, 'regular': {'amount': 39.99, 'amountInt': 3999, 'currency': 'USD'}, 'cut': 0}}, {'timestamp': '2016-02-03T19:23:45+01:00', 'shop': {'id': 61, 'name': 'Steam'}, 'deal': {'price': {'amount': 23.99, 'amountInt': 2399, 'currency': 'USD'}, 'regular': {'amount': 39.99, 'amountInt': 3999, 'currency': 'USD'}, 'cut': 40}}, {'timestamp': '2015-10-28T19:00:14+01:00', 'shop': {'id': 61, 'name': 'Steam'}, 'deal': {'price': {'amount': 49.99, 'amountInt': 4999, 'currency': 'USD'}, 'regular': {'amount': 49.99, 'amountInt': 4999, 'currency': 'USD'}, 'cut': 0}}, {'timestamp': '2014-10-28T06:19:20+01:00', 'shop': {'id': 37, 'name': 'Humble Store'}, 'deal': {'price': {'amount': 59.99, 'amountInt': 5999, 'currency': 'USD'}, 'regular': {'amount': 59.99, 'amountInt': 5999, 'currency': 'USD'}, 'cut': 0}}, {'timestamp': '2015-03-09T18:21:10+01:00', 'shop': {'id': 61, 'name': 'Steam'}, 'deal': {'price': {'amount': 59.99, 'amountInt': 5999, 'currency': 'USD'}, 'regular': {'amount': 59.99, 'amountInt': 5999, 'currency': 'USD'}, 'cut': 0}}, {'timestamp': '2015-05-07T16:21:36+02:00', 'shop': {'id': 50, 'name': 'Nuuvem'}, 'deal': {'price': {'amount': 32.91, 'amountInt': 3291, 'currency': 'USD'}, 'regular': {'amount': 32.91, 'amountInt': 3291, 'currency': 'USD'}, 'cut': 0}}, {'timestamp': '2015-06-02T20:21:25+02:00', 'shop': {'id': 27, 'name': 'GamesPlanet DE'}, 'deal': {'price': {'amount': 33.52, 'amountInt': 3352, 'currency': 'USD'}, 'regular': {'amount': 55.88, 'amountInt': 5588, 'currency': 'USD'}, 'cut': 40}}, {'timestamp': '2015-06-02T20:23:37+02:00', 'shop': {'id': 28, 'name': 'GamesPlanet FR'}, 'deal': {'price': {'amount': 33.52, 'amountInt': 3352, 'currency': 'USD'}, 'regular': {'amount': 55.88, 'amountInt': 5588, 'currency': 'USD'}, 'cut': 40}}, {'timestamp': '2015-06-18T10:42:29+02:00', 'shop': {'id': 26, 'name': 'GamesPlanet UK'}, 'deal': {'price': {'amount': 34.96, 'amountInt': 3496, 'currency': 'USD'}, 'regular': {'amount': 55.63, 'amountInt': 5563, 'currency': 'USD'}, 'cut': 37}}, {'timestamp': '2014-04-29T06:30:10+02:00', 'shop': {'id': 62, 'name': 'Ubisoft Store'}, 'deal': {'price': {'amount': 59.99, 'amountInt': 5999, 'currency': 'USD'}, 'regular': {'amount': 59.99, 'amountInt': 5999, 'currency': 'USD'}, 'cut': 0}}, {'timestamp': '2014-10-07T06:03:37+02:00', 'shop': {'id': 49, 'name': 'Newegg'}, 'deal': {'price': {'amount': 59.99, 'amountInt': 5999, 'currency': 'USD'}, 'regular': {'amount': 59.99, 'amountInt': 5999, 'currency': 'USD'}, 'cut': 0}}, {'timestamp': '2015-05-13T06:05:12+02:00', 'shop': {'id': 36, 'name': 'GreenManGaming'}, 'deal': {'price': {'amount': 59.99, 'amountInt': 5999, 'currency': 'USD'}, 'regular': {'amount': 59.99, 'amountInt': 5999, 'currency': 'USD'}, 'cut': 0}}, {'timestamp': '2015-05-15T11:05:26+02:00', 'shop': {'id': 34, 'name': 'GetGames'}, 'deal': {'price': {'amount': 47.99, 'amountInt': 4799, 'currency': 'USD'}, 'regular': {'amount': 59.99, 'amountInt': 5999, 'currency': 'USD'}, 'cut': 20}}, {'timestamp': '2015-04-21T00:08:22+02:00', 'shop': {'id': 31, 'name': 'Gamesrocket'}, 'deal': {'price': {'amount': 64.49, 'amountInt': 6449, 'currency': 'USD'}, 'regular': {'amount': 71.5, 'amountInt': 7150, 'currency': 'USD'}, 'cut': 10}}, {'timestamp': '2015-04-21T00:08:34+02:00', 'shop': {'id': 24, 'name': 'GamersGate'}, 'deal': {'price': {'amount': 53.99, 'amountInt': 5399, 'currency': 'USD'}, 'regular': {'amount': 59.99, 'amountInt': 5999, 'currency': 'USD'}, 'cut': 10}}, {'timestamp': '2015-06-17T20:45:12+02:00', 'shop': {'id': 18, 'name': 'FunStock Digital'}, 'deal': {'price': {'amount': 47.51, 'amountInt': 4751, 'currency': 'USD'}, 'regular': {'amount': 55.43, 'amountInt': 5543, 'currency': 'USD'}, 'cut': 14}}, {'timestamp': '2015-05-12T03:31:03+02:00', 'shop': {'id': 13, 'name': 'DLGamer'}, 'deal': {'price': {'amount': 50.99, 'amountInt': 5099, 'currency': 'USD'}, 'regular': {'amount': 59.99, 'amountInt': 5999, 'currency': 'USD'}, 'cut': 15}}, {'timestamp': '2014-12-29T21:03:36+01:00', 'shop': {'id': 11, 'name': 'Direct2Drive'}, 'deal': {'price': {'amount': 59.99, 'amountInt': 5999, 'currency': 'USD'}, 'regular': {'amount': 59.99, 'amountInt': 5999, 'currency': 'USD'}, 'cut': 0}}, {'timestamp': '2014-04-29T06:35:02+02:00', 'shop': {'id': 3, 'name': 'Amazon'}, 'deal': {'price': {'amount': 59.96, 'amountInt': 5996, 'currency': 'USD'}, 'regular': {'amount': 59.99, 'amountInt': 5999, 'currency': 'USD'}, 'cut': 0}}]\n"
     ]
    }
   ],
   "source": [
    "endpoint_prices = 'https://api.isthereanydeal.com/games/history/v2'\n",
    "\n",
    "since_datetime = datetime.strptime('2015-06-23 00:0:00', '%Y-%m-%d %H:%M:%S') # random release date\n",
    "# since_datetime = datetime.strptime(f\"{game_info['releaseDate']} 00:0:00\", \"%Y-%m-%d %H:%M:%S\") # using release date from previous cell\n",
    "since_datetime_str = since_datetime.isoformat() + '-05:00'\n",
    "\n",
    "\n",
    "params = {\n",
    "    'key': api_key,\n",
    "    'country': 'US',\n",
    "    'id': \"018d937f-0e0c-70be-91d5-75e399e6b4e3\",\n",
    "    'shops': [61],\n",
    "    'since': since_datetime_str\n",
    "}\n",
    "\n",
    "print(request_game_data(endpoint_prices, params))"
   ]
  },
  {
   "cell_type": "markdown",
   "metadata": {},
   "source": [
    "### Getting Pricing History Data"
   ]
  },
  {
   "cell_type": "markdown",
   "metadata": {},
   "source": [
    "The games_df data from Kaggle has too much data to make requests for iteratively. Thus, let's look at value counts to consider how to select a subset."
   ]
  },
  {
   "cell_type": "code",
   "execution_count": 353,
   "metadata": {},
   "outputs": [],
   "source": [
    "# convert release date into proper format\n",
    "def parse_date(date_string):\n",
    "    # Define the possible date formats\n",
    "    date_formats = [\"%b %d, %Y\", \"%b %Y\", \"%Y\"]\n",
    "    \n",
    "    for date_format in date_formats:\n",
    "        try:\n",
    "            return datetime.strptime(date_string, date_format).strftime(\"%Y-%m-%d\")\n",
    "        except ValueError:\n",
    "            continue\n",
    "    # If no format matches, return None or any default value\n",
    "    return None\n",
    "\n",
    "# Apply the function to the 'Release date' column\n",
    "games_df['ReleaseDate'] = games_df['Release date'].apply(parse_date)"
   ]
  },
  {
   "cell_type": "code",
   "execution_count": 354,
   "metadata": {},
   "outputs": [],
   "source": [
    "games_df['ParsedReleaseDate'] = pd.to_datetime(games_df['ReleaseDate'], format=\"%Y-%m-%d\")"
   ]
  },
  {
   "cell_type": "code",
   "execution_count": 355,
   "metadata": {},
   "outputs": [
    {
     "data": {
      "image/png": "[encoded data removed]",
      "text/plain": [
       "<Figure size 1000x600 with 1 Axes>"
      ]
     },
     "metadata": {},
     "output_type": "display_data"
    }
   ],
   "source": [
    "games_df['year'] = games_df['ParsedReleaseDate'].dt.year\n",
    "year_counts = games_df['year'].value_counts().sort_index()\n",
    "\n",
    "plt.figure(figsize=(10, 6))\n",
    "year_counts.plot(kind='bar', color='skyblue')\n",
    "plt.title('Number of Games Released Per Year')\n",
    "plt.xlabel('Year')\n",
    "plt.ylabel('Number of Games')\n",
    "plt.xticks(rotation=45)\n",
    "plt.grid(axis='y', linestyle='--', alpha=0.7)\n",
    "plt.tight_layout()\n",
    "plt.show()"
   ]
  },
  {
   "cell_type": "markdown",
   "metadata": {},
   "source": [
    "We need data that will cover enough time to have games that will have gone on sale, and we still want a good amount. It's possible pandemic could have affect how long the first sale occured, and we don't want to make too many requests whilst still getting data from about 10000 games. Thus, let's use years 2016 and 2017 for now."
   ]
  },
  {
   "cell_type": "code",
   "execution_count": 15,
   "metadata": {},
   "outputs": [
    {
     "data": {
      "text/plain": [
       "(10750, 42)"
      ]
     },
     "execution_count": 15,
     "metadata": {},
     "output_type": "execute_result"
    }
   ],
   "source": [
    "games_selected_years_df = games_df[games_df['year'] >= 2016]\n",
    "games_selected_years_df = games_selected_years_df[games_selected_years_df['year'] < 2018]\n",
    "games_selected_years_df = games_selected_years_df.reset_index(drop=True)\n",
    "games_selected_years_df.shape"
   ]
  },
  {
   "cell_type": "code",
   "execution_count": 360,
   "metadata": {},
   "outputs": [
    {
     "data": {
      "text/plain": [
       "(4327, 42)"
      ]
     },
     "execution_count": 360,
     "metadata": {},
     "output_type": "execute_result"
    }
   ],
   "source": [
    "# coming back here to add 2014/2015 data too since there were a lot of nulls and model isn't performing well\n",
    "games_2014_2015_df = games_df[games_df['year'] >= 2014]\n",
    "games_2014_2015_df = games_2014_2015_df[games_2014_2015_df['year'] < 2016]\n",
    "games_2014_2015_df = games_2014_2015_df.reset_index(drop=True)\n",
    "games_2014_2015_df.shape"
   ]
  },
  {
   "cell_type": "code",
   "execution_count": 361,
   "metadata": {},
   "outputs": [],
   "source": [
    "# saving this for ease of access later\n",
    "#games_selected_years_df.to_csv('../data/games_2016_2017.csv')\n",
    "games_2014_2015_df.to_csv('../data/games_2014_2015.csv')"
   ]
  },
  {
   "cell_type": "markdown",
   "metadata": {},
   "source": [
    "We should also filter out games that don't support English."
   ]
  },
  {
   "cell_type": "code",
   "execution_count": 362,
   "metadata": {},
   "outputs": [],
   "source": [
    "import numpy as np\n",
    "import ast"
   ]
  },
  {
   "cell_type": "code",
   "execution_count": 363,
   "metadata": {},
   "outputs": [],
   "source": [
    "def remove_non_english_games(supported_languages_lst):\n",
    "    #supported_languages_lst = ast.literal_eval(supported_languages_lst)\n",
    "    if 'English' not in supported_languages_lst:\n",
    "        return np.nan\n",
    "    else:\n",
    "        return supported_languages_lst"
   ]
  },
  {
   "cell_type": "code",
   "execution_count": 121,
   "metadata": {},
   "outputs": [
    {
     "data": {
      "text/plain": [
       "(10613, 42)"
      ]
     },
     "execution_count": 121,
     "metadata": {},
     "output_type": "execute_result"
    }
   ],
   "source": [
    "games_selected_years_df['Supported languages'] = games_selected_years_df['Supported languages'].apply(remove_non_english_games)\n",
    "\n",
    "games_selected_years_df = games_selected_years_df.dropna(subset=['Supported languages'])\n",
    "games_selected_years_df.shape"
   ]
  },
  {
   "cell_type": "code",
   "execution_count": 364,
   "metadata": {},
   "outputs": [
    {
     "data": {
      "text/plain": [
       "(4304, 42)"
      ]
     },
     "execution_count": 364,
     "metadata": {},
     "output_type": "execute_result"
    }
   ],
   "source": [
    "games_2014_2015_df['Supported languages'] = games_2014_2015_df['Supported languages'].apply(remove_non_english_games)\n",
    "\n",
    "games_2014_2015_df = games_2014_2015_df.dropna(subset=['Supported languages'])\n",
    "games_2014_2015_df.shape"
   ]
  },
  {
   "cell_type": "markdown",
   "metadata": {},
   "source": [
    "The documentation doesn't specify a rate limit, so we can try to find it - in fact, it doesn't seem to have one."
   ]
  },
  {
   "cell_type": "code",
   "execution_count": 12,
   "metadata": {},
   "outputs": [
    {
     "name": "stdout",
     "output_type": "stream",
     "text": [
      "Response Headers:\n",
      "Date: Sun, 19 May 2024 12:59:59 GMT\n",
      "Content-Type: application/json\n",
      "Transfer-Encoding: chunked\n",
      "Connection: keep-alive\n",
      "set-cookie: PHPSESSID=o2ihjn7q3tpm2i7f8nab2pgufa; path=/\n",
      "expires: Thu, 19 Nov 1981 08:52:00 GMT\n",
      "Cache-Control: no-store, no-cache, must-revalidate\n",
      "pragma: no-cache\n",
      "x-frame-options: DENY\n",
      "access-control-allow-origin: *\n",
      "CF-Cache-Status: DYNAMIC\n",
      "Report-To: {\"endpoints\":[{\"url\":\"https:\\/\\/a.nel.cloudflare.com\\/report\\/v4?s=PaxE%2BRGPjB0kYJ5%2FS9MzzRFoaTM%2FOAfDvI%2F6Kk2zOYHZSBUM7F%2FY6lHnj6M8sD%2B4ZiAt32Ds%2FKvobIkjzB9DU5krz%2Bys02ycsDQ12MWpw49fXc9H1iV4ouesqWJVHbzXTocPHTHvehQ%3D\"}],\"group\":\"cf-nel\",\"max_age\":604800}\n",
      "NEL: {\"success_fraction\":0,\"report_to\":\"cf-nel\",\"max_age\":604800}\n",
      "Server: cloudflare\n",
      "CF-RAY: 8864446e6f16726b-EWR\n",
      "Content-Encoding: br\n",
      "alt-svc: h3=\":443\"; ma=86400\n",
      "\n",
      "Rate Limit Info:\n"
     ]
    }
   ],
   "source": [
    "# testing to see if requests has the rate limit\n",
    "endpoint_prices = 'https://api.isthereanydeal.com/games/history/v2'\n",
    "\n",
    "since_datetime = datetime.strptime('2015-06-23 00:0:00', '%Y-%m-%d %H:%M:%S') # random release date\n",
    "since_datetime_str = since_datetime.isoformat() + '-05:00'\n",
    "\n",
    "params = {\n",
    "    'key': api_key,\n",
    "    'country': 'US',\n",
    "    'id': \"018d937f-0e0c-70be-91d5-75e399e6b4e3\",\n",
    "    'shops': [61],\n",
    "    'since': since_datetime_str\n",
    "}\n",
    "\n",
    "response = requests.get(endpoint, params=params)\n",
    "if response.status_code == 200:\n",
    "    # Print the response headers\n",
    "    print(\"Response Headers:\")\n",
    "    for header, value in response.headers.items():\n",
    "        print(f\"{header}: {value}\")\n",
    "    \n",
    "    rate_limit = response.headers.get('X-RateLimit-Limit')\n",
    "    rate_remaining = response.headers.get('X-RateLimit-Remaining')\n",
    "    rate_reset = response.headers.get('X-RateLimit-Reset')\n",
    "\n",
    "    print(\"\\nRate Limit Info:\")\n",
    "    if rate_limit:\n",
    "        print(f\"X-RateLimit-Limit: {rate_limit}\")\n",
    "    if rate_remaining:\n",
    "        print(f\"X-RateLimit-Remaining: {rate_remaining}\")\n",
    "    if rate_reset:\n",
    "        print(f\"X-RateLimit-Reset: {rate_reset}\")"
   ]
  },
  {
   "cell_type": "markdown",
   "metadata": {},
   "source": [
    "No rate limit, will have to guess then."
   ]
  },
  {
   "cell_type": "markdown",
   "metadata": {},
   "source": [
    "We don't need to request the release date since we have that here from the Kaggle dataset, but note if we add future data then we will need to."
   ]
  },
  {
   "cell_type": "code",
   "execution_count": 365,
   "metadata": {},
   "outputs": [],
   "source": [
    "def get_game_id(appid, api_key, endpoint = 'https://api.isthereanydeal.com/games/lookup/v1'):\n",
    "    params = {\n",
    "        'key': api_key,\n",
    "        'appid': appid\n",
    "    }\n",
    "\n",
    "    game_lookup = request_game_data(endpoint, params)\n",
    "    \n",
    "    return game_lookup['game']['id']\n",
    "\n",
    "#with the kaggle data, we already have release dates, so this is unnecessary for now\n",
    "def get_game_info(game_id, api_key, endpoint = 'https://api.isthereanydeal.com/games/info/v2'):\n",
    "    params = {\n",
    "        'key': api_key,\n",
    "        'id': game_id\n",
    "    }\n",
    "\n",
    "    game_info = request_game_data(endpoint, params)\n",
    "    \n",
    "    return game_info['releaseDate']\n",
    "\n",
    "def get_price_history(game_id, release_date, endpoint='https://api.isthereanydeal.com/games/history/v2'):\n",
    "    since_datetime = datetime.strptime(f\"{release_date} 00:0:00\", \"%Y-%m-%d %H:%M:%S\")\n",
    "    since_datetime_str = since_datetime.isoformat() + '-05:00'\n",
    "\n",
    "\n",
    "    params = {\n",
    "        'key': api_key,\n",
    "        'country': 'US',\n",
    "        'id': game_id,\n",
    "        'shops': [61], # 61 is Steam\n",
    "        'since': since_datetime_str\n",
    "    }\n",
    "\n",
    "    price_history = request_game_data(endpoint, params)\n",
    "\n",
    "    return price_history"
   ]
  },
  {
   "cell_type": "markdown",
   "metadata": {},
   "source": [
    "Iterating through games_df to get pricing history data."
   ]
  },
  {
   "cell_type": "code",
   "execution_count": null,
   "metadata": {},
   "outputs": [],
   "source": [
    "# If we want to limit requests, but in an old post they said there is not limit:\n",
    "import time\n",
    "\n",
    "# don't know what rate limit is so adding a typical one here of 60 requests per minute\n",
    "max_requests_per_minute = 60\n",
    "\n",
    "# each function call makes a request\n",
    "requests_per_iteration = 2\n",
    "\n",
    "# Calculate the required wait time between iterations\n",
    "wait_time_per_iteration = 60 / (max_requests_per_minute / requests_per_iteration)"
   ]
  },
  {
   "cell_type": "code",
   "execution_count": 138,
   "metadata": {},
   "outputs": [
    {
     "name": "stdout",
     "output_type": "stream",
     "text": [
      "An error occurred for row 1840: string indices must be integers\n",
      "An error occurred for row 4995: string indices must be integers\n",
      "An error occurred for row 4996: string indices must be integers\n",
      "An error occurred for row 4997: string indices must be integers\n",
      "An error occurred for row 4999: string indices must be integers\n",
      "An error occurred for row 5000: string indices must be integers\n",
      "An error occurred for row 5003: string indices must be integers\n",
      "An error occurred for row 5004: string indices must be integers\n",
      "An error occurred for row 5007: string indices must be integers\n",
      "An error occurred for row 5012: string indices must be integers\n",
      "An error occurred for row 10305: 'game'\n"
     ]
    }
   ],
   "source": [
    "game_id_lst = []\n",
    "price_history_lst = []\n",
    "\n",
    "for i, row in games_selected_years_df.iterrows():\n",
    "    try:\n",
    "        game_id = get_game_id(row['AppID'], api_key)\n",
    "        games_price_history = get_price_history(game_id, row['ReleaseDate'])\n",
    "\n",
    "        game_id_lst.append(game_id)\n",
    "        price_history_lst.append(games_price_history)\n",
    "    except Exception as e:\n",
    "        print(f\"An error occurred for row {i}: {e}\")\n",
    "        continue\n",
    "\n",
    "    \n",
    "    # time.sleep(wait_time_per_iteration) # uncomment if want to limit requests"
   ]
  },
  {
   "cell_type": "code",
   "execution_count": 139,
   "metadata": {},
   "outputs": [],
   "source": [
    "game_id_series = pd.Series(game_id_lst)\n",
    "price_history_series = pd.Series(price_history_lst)\n",
    "\n",
    "api_data = pd.concat([game_id_series, price_history_series], axis = 1)\n",
    "api_data = api_data.rename(columns={0:'game_ids', 1:'price_history'})"
   ]
  },
  {
   "cell_type": "code",
   "execution_count": 141,
   "metadata": {},
   "outputs": [],
   "source": [
    "api_data.to_csv('../data/price_history.csv')"
   ]
  },
  {
   "cell_type": "markdown",
   "metadata": {},
   "source": [
    "Redoing the above for games in 2014 and 2015 since the model isn't doing well and more data could be useful."
   ]
  },
  {
   "cell_type": "code",
   "execution_count": 367,
   "metadata": {},
   "outputs": [
    {
     "name": "stderr",
     "output_type": "stream",
     "text": [
      "Processing rows:  58%|█████▊    | 2494/4304 [1:14:52<45:43,  1.52s/it]  "
     ]
    },
    {
     "name": "stdout",
     "output_type": "stream",
     "text": [
      "An error occurred for row 2503: 'game'\n"
     ]
    },
    {
     "name": "stderr",
     "output_type": "stream",
     "text": [
      "Processing rows: 100%|██████████| 4304/4304 [2:08:59<00:00,  1.80s/it]  \n"
     ]
    }
   ],
   "source": [
    "# forgot to save appids here last time so adding it now\n",
    "\n",
    "game_id_lst = []\n",
    "appids = []\n",
    "price_history_lst = []\n",
    "\n",
    "for i, row in tqdm(games_2014_2015_df.iterrows(), total=games_2014_2015_df.shape[0], desc=\"Processing rows\"):\n",
    "    try:\n",
    "        games_appid = row['AppID']\n",
    "\n",
    "        game_id = get_game_id(games_appid, api_key)\n",
    "        games_price_history = get_price_history(game_id, row['ReleaseDate'])\n",
    "\n",
    "        appids.append(games_appid)\n",
    "        game_id_lst.append(game_id)\n",
    "        price_history_lst.append(games_price_history)\n",
    "    except Exception as e:\n",
    "        print(f\"An error occurred for row {i}: {e}\")\n",
    "        continue"
   ]
  },
  {
   "cell_type": "code",
   "execution_count": 389,
   "metadata": {},
   "outputs": [],
   "source": [
    "game_id_series_2014_2015 = pd.Series(game_id_lst)\n",
    "appids_2014_2015 = pd.Series(appids)\n",
    "price_history_series_2014_2015 = pd.Series(price_history_lst)\n",
    "\n",
    "api_data_2014_2015 = pd.concat([appids_2014_2015, game_id_series_2014_2015, price_history_series_2014_2015], axis = 1)\n",
    "api_data_2014_2015.columns = ['appid', 'game_ids', 'price_history']\n",
    "\n",
    "api_data_2014_2015.to_csv('../data/price_history_2014_2015.csv', index=False)"
   ]
  },
  {
   "cell_type": "code",
   "execution_count": 384,
   "metadata": {},
   "outputs": [
    {
     "name": "stdout",
     "output_type": "stream",
     "text": [
      "(4303, 3)\n"
     ]
    },
    {
     "data": {
      "text/html": [
       "<div>\n",
       "<style scoped>\n",
       "    .dataframe tbody tr th:only-of-type {\n",
       "        vertical-align: middle;\n",
       "    }\n",
       "\n",
       "    .dataframe tbody tr th {\n",
       "        vertical-align: top;\n",
       "    }\n",
       "\n",
       "    .dataframe thead th {\n",
       "        text-align: right;\n",
       "    }\n",
       "</style>\n",
       "<table border=\"1\" class=\"dataframe\">\n",
       "  <thead>\n",
       "    <tr style=\"text-align: right;\">\n",
       "      <th></th>\n",
       "      <th>appid</th>\n",
       "      <th>game_ids</th>\n",
       "      <th>price_history</th>\n",
       "    </tr>\n",
       "  </thead>\n",
       "  <tbody>\n",
       "    <tr>\n",
       "      <th>0</th>\n",
       "      <td>320150</td>\n",
       "      <td>018d937f-1991-707d-9471-9514d5fe9ba7</td>\n",
       "      <td>[{'timestamp': '2024-02-11T02:18:44+01:00', 's...</td>\n",
       "    </tr>\n",
       "    <tr>\n",
       "      <th>1</th>\n",
       "      <td>346560</td>\n",
       "      <td>018d937f-33d7-726f-bf1d-b8a4482faf81</td>\n",
       "      <td>[{'timestamp': '2024-05-20T19:16:12+02:00', 's...</td>\n",
       "    </tr>\n",
       "    <tr>\n",
       "      <th>2</th>\n",
       "      <td>262150</td>\n",
       "      <td>018d937e-f545-7261-8deb-4868dcf6151e</td>\n",
       "      <td>[{'timestamp': '2024-05-13T19:21:27+02:00', 's...</td>\n",
       "    </tr>\n",
       "  </tbody>\n",
       "</table>\n",
       "</div>"
      ],
      "text/plain": [
       "    appid                              game_ids  \\\n",
       "0  320150  018d937f-1991-707d-9471-9514d5fe9ba7   \n",
       "1  346560  018d937f-33d7-726f-bf1d-b8a4482faf81   \n",
       "2  262150  018d937e-f545-7261-8deb-4868dcf6151e   \n",
       "\n",
       "                                       price_history  \n",
       "0  [{'timestamp': '2024-02-11T02:18:44+01:00', 's...  \n",
       "1  [{'timestamp': '2024-05-20T19:16:12+02:00', 's...  \n",
       "2  [{'timestamp': '2024-05-13T19:21:27+02:00', 's...  "
      ]
     },
     "execution_count": 384,
     "metadata": {},
     "output_type": "execute_result"
    }
   ],
   "source": [
    "print(api_data_2014_2015.shape)\n",
    "api_data_2014_2015.head(3)"
   ]
  },
  {
   "cell_type": "markdown",
   "metadata": {},
   "source": [
    "### Merging Datasets\n",
    "\n",
    "Now let's put these dataframes together. We need to remove the indices that had errors first though."
   ]
  },
  {
   "cell_type": "code",
   "execution_count": 91,
   "metadata": {},
   "outputs": [
    {
     "data": {
      "text/plain": [
       "(10750, 42)"
      ]
     },
     "execution_count": 91,
     "metadata": {},
     "output_type": "execute_result"
    }
   ],
   "source": [
    "games_selected_years_df = pd.read_csv('../data/games_2016_2017.csv')\n",
    "games_selected_years_df = games_selected_years_df.drop(columns='Unnamed: 0')\n",
    "games_selected_years_df.shape"
   ]
  },
  {
   "cell_type": "code",
   "execution_count": 92,
   "metadata": {},
   "outputs": [
    {
     "data": {
      "text/plain": [
       "(10601, 2)"
      ]
     },
     "execution_count": 92,
     "metadata": {},
     "output_type": "execute_result"
    }
   ],
   "source": [
    "api_data = pd.read_csv('../data/price_history.csv')\n",
    "api_data = api_data.drop(columns='Unnamed: 0')\n",
    "api_data = api_data.drop_duplicates(subset='game_ids')\n",
    "api_data.shape"
   ]
  },
  {
   "cell_type": "markdown",
   "metadata": {},
   "source": [
    "So 148 rows are missing, but we don't know which ones. Unfortunately we will have to iterate again, but we can use the api_data and just look up the games and get the app_id. "
   ]
  },
  {
   "cell_type": "markdown",
   "metadata": {},
   "source": [
    "Commenting this cell out so don't accidentally run for loop (takes hours) and overwrite the games info (which will be empty if didn't load in API key)."
   ]
  },
  {
   "cell_type": "code",
   "execution_count": null,
   "metadata": {},
   "outputs": [],
   "source": [
    "# from tqdm import tqdm\n",
    "\n",
    "# # we'll just get the full info just in case\n",
    "# def get_game_info(game_id, api_key, endpoint = 'https://api.isthereanydeal.com/games/info/v2'):\n",
    "#     params = {\n",
    "#         'key': api_key,\n",
    "#         'id': game_id\n",
    "#     }\n",
    "\n",
    "#     game_info = request_game_data(endpoint, params)\n",
    "    \n",
    "#     return game_info\n",
    "\n",
    "# game_info_lst = []\n",
    "\n",
    "# game_ids = list(api_data['game_ids'])\n",
    "\n",
    "# for i, game_id in enumerate(tqdm(game_ids, desc=\"Processing game IDs\")):\n",
    "#     try:\n",
    "#         game_info = get_game_info(game_id, api_key)\n",
    "#         game_info_lst.append(game_info)\n",
    "#     except Exception as e:\n",
    "#         print(f\"An error occurred at index {i}: {e}\")\n",
    "#         continue\n",
    "\n",
    "# game_info_df = pd.DataFrame(game_info_lst)\n",
    "# game_info_df.to_csv('../data/game_info.csv', index=False)"
   ]
  },
  {
   "cell_type": "code",
   "execution_count": 97,
   "metadata": {},
   "outputs": [],
   "source": [
    "game_info_df = pd.read_csv('../data/game_info.csv')"
   ]
  },
  {
   "cell_type": "markdown",
   "metadata": {},
   "source": [
    "There are some null values and duplicates to get rid of."
   ]
  },
  {
   "cell_type": "code",
   "execution_count": 98,
   "metadata": {},
   "outputs": [
    {
     "data": {
      "text/plain": [
       "239"
      ]
     },
     "execution_count": 98,
     "metadata": {},
     "output_type": "execute_result"
    }
   ],
   "source": [
    "game_info_df['appid'].isna().sum()"
   ]
  },
  {
   "cell_type": "code",
   "execution_count": 99,
   "metadata": {},
   "outputs": [
    {
     "data": {
      "text/plain": [
       "(10362, 18)"
      ]
     },
     "execution_count": 99,
     "metadata": {},
     "output_type": "execute_result"
    }
   ],
   "source": [
    "game_info_df2 = game_info_df.dropna(subset='appid')\n",
    "game_info_df2 = game_info_df2.rename(columns={'id': 'game_ids'})\n",
    "\n",
    "# because we didn't remove duplicates in api_data before, we ended up with the same duplicate here\n",
    "game_info_df2 = game_info_df2.drop_duplicates(subset='game_ids')\n",
    "game_info_df2.shape\n"
   ]
  },
  {
   "cell_type": "code",
   "execution_count": 100,
   "metadata": {},
   "outputs": [
    {
     "data": {
      "text/plain": [
       "(10362, 19)"
      ]
     },
     "execution_count": 100,
     "metadata": {},
     "output_type": "execute_result"
    }
   ],
   "source": [
    "complete_api_data = game_info_df2.merge(api_data, how='left', on='game_ids')\n",
    "complete_api_data.shape"
   ]
  },
  {
   "cell_type": "markdown",
   "metadata": {},
   "source": [
    "Now we can combine all three datasets to get what we need to make predictions."
   ]
  },
  {
   "cell_type": "code",
   "execution_count": 101,
   "metadata": {},
   "outputs": [],
   "source": [
    "complete_api_data = complete_api_data.rename(columns={'appid': 'AppID'})"
   ]
  },
  {
   "cell_type": "code",
   "execution_count": 102,
   "metadata": {},
   "outputs": [],
   "source": [
    "complete_api_data = complete_api_data.rename(columns={'appid': 'AppID'})\n",
    "complete_api_data = complete_api_data.merge(games_selected_years_df, how='left', on='AppID')"
   ]
  },
  {
   "cell_type": "code",
   "execution_count": 103,
   "metadata": {},
   "outputs": [
    {
     "data": {
      "text/html": [
       "<div>\n",
       "<style scoped>\n",
       "    .dataframe tbody tr th:only-of-type {\n",
       "        vertical-align: middle;\n",
       "    }\n",
       "\n",
       "    .dataframe tbody tr th {\n",
       "        vertical-align: top;\n",
       "    }\n",
       "\n",
       "    .dataframe thead th {\n",
       "        text-align: right;\n",
       "    }\n",
       "</style>\n",
       "<table border=\"1\" class=\"dataframe\">\n",
       "  <thead>\n",
       "    <tr style=\"text-align: right;\">\n",
       "      <th></th>\n",
       "      <th>game_ids</th>\n",
       "      <th>slug</th>\n",
       "      <th>title</th>\n",
       "      <th>type</th>\n",
       "      <th>mature</th>\n",
       "      <th>assets</th>\n",
       "      <th>earlyAccess</th>\n",
       "      <th>achievements</th>\n",
       "      <th>tradingCards</th>\n",
       "      <th>AppID</th>\n",
       "      <th>...</th>\n",
       "      <th>Developers</th>\n",
       "      <th>Publishers</th>\n",
       "      <th>Categories</th>\n",
       "      <th>Genres</th>\n",
       "      <th>Tags</th>\n",
       "      <th>Screenshots</th>\n",
       "      <th>Movies</th>\n",
       "      <th>ReleaseDate</th>\n",
       "      <th>ParsedReleaseDate</th>\n",
       "      <th>year</th>\n",
       "    </tr>\n",
       "  </thead>\n",
       "  <tbody>\n",
       "    <tr>\n",
       "      <th>0</th>\n",
       "      <td>018d937f-0a5b-70dc-b37c-4a0a46d1b122</td>\n",
       "      <td>train-bandit</td>\n",
       "      <td>Train Bandit</td>\n",
       "      <td>game</td>\n",
       "      <td>False</td>\n",
       "      <td>{'boxart': 'https://dbxce1spal1df.cloudfront.n...</td>\n",
       "      <td>False</td>\n",
       "      <td>True</td>\n",
       "      <td>False</td>\n",
       "      <td>655370.0</td>\n",
       "      <td>...</td>\n",
       "      <td>Rusty Moyher</td>\n",
       "      <td>Wild Rooster</td>\n",
       "      <td>Single-player,Steam Achievements,Full controll...</td>\n",
       "      <td>Action,Indie</td>\n",
       "      <td>Indie,Action,Pixel Graphics,2D,Retro,Arcade,Sc...</td>\n",
       "      <td>https://cdn.akamai.steamstatic.com/steam/apps/...</td>\n",
       "      <td>http://cdn.akamai.steamstatic.com/steam/apps/2...</td>\n",
       "      <td>2017-10-12</td>\n",
       "      <td>2017-10-12</td>\n",
       "      <td>2017.0</td>\n",
       "    </tr>\n",
       "    <tr>\n",
       "      <th>1</th>\n",
       "      <td>018d937f-00f3-70e3-b3ff-eeb61ac9966c</td>\n",
       "      <td>cthulhu-realms</td>\n",
       "      <td>Cthulhu Realms</td>\n",
       "      <td>game</td>\n",
       "      <td>False</td>\n",
       "      <td>{'boxart': 'https://dbxce1spal1df.cloudfront.n...</td>\n",
       "      <td>False</td>\n",
       "      <td>False</td>\n",
       "      <td>False</td>\n",
       "      <td>485000.0</td>\n",
       "      <td>...</td>\n",
       "      <td>Wise Wizard Games, LLC</td>\n",
       "      <td>Wise Wizard Games, LLC</td>\n",
       "      <td>Single-player,Multi-player,Shared/Split Screen...</td>\n",
       "      <td>Strategy</td>\n",
       "      <td>Card Game,Strategy,Deckbuilding,Lovecraftian,B...</td>\n",
       "      <td>https://cdn.akamai.steamstatic.com/steam/apps/...</td>\n",
       "      <td>http://cdn.akamai.steamstatic.com/steam/apps/2...</td>\n",
       "      <td>2016-07-01</td>\n",
       "      <td>2016-07-01</td>\n",
       "      <td>2016.0</td>\n",
       "    </tr>\n",
       "    <tr>\n",
       "      <th>2</th>\n",
       "      <td>018d937f-158f-72b0-9909-e63af7a0fbbe</td>\n",
       "      <td>steam-squad</td>\n",
       "      <td>Steam Squad</td>\n",
       "      <td>game</td>\n",
       "      <td>False</td>\n",
       "      <td>{'boxart': 'https://dbxce1spal1df.cloudfront.n...</td>\n",
       "      <td>False</td>\n",
       "      <td>True</td>\n",
       "      <td>True</td>\n",
       "      <td>290870.0</td>\n",
       "      <td>...</td>\n",
       "      <td>Bretwalda Games</td>\n",
       "      <td>Bretwalda Games</td>\n",
       "      <td>Single-player,Multi-player,PvP,Shared/Split Sc...</td>\n",
       "      <td>Indie,Strategy</td>\n",
       "      <td>Strategy,Indie,Turn-Based,World War I,Steampun...</td>\n",
       "      <td>https://cdn.akamai.steamstatic.com/steam/apps/...</td>\n",
       "      <td>http://cdn.akamai.steamstatic.com/steam/apps/2...</td>\n",
       "      <td>2016-07-28</td>\n",
       "      <td>2016-07-28</td>\n",
       "      <td>2016.0</td>\n",
       "    </tr>\n",
       "  </tbody>\n",
       "</table>\n",
       "<p>3 rows × 60 columns</p>\n",
       "</div>"
      ],
      "text/plain": [
       "                               game_ids            slug           title  type  \\\n",
       "0  018d937f-0a5b-70dc-b37c-4a0a46d1b122    train-bandit    Train Bandit  game   \n",
       "1  018d937f-00f3-70e3-b3ff-eeb61ac9966c  cthulhu-realms  Cthulhu Realms  game   \n",
       "2  018d937f-158f-72b0-9909-e63af7a0fbbe     steam-squad     Steam Squad  game   \n",
       "\n",
       "   mature                                             assets  earlyAccess  \\\n",
       "0   False  {'boxart': 'https://dbxce1spal1df.cloudfront.n...        False   \n",
       "1   False  {'boxart': 'https://dbxce1spal1df.cloudfront.n...        False   \n",
       "2   False  {'boxart': 'https://dbxce1spal1df.cloudfront.n...        False   \n",
       "\n",
       "   achievements  tradingCards     AppID  ...              Developers  \\\n",
       "0          True         False  655370.0  ...            Rusty Moyher   \n",
       "1         False         False  485000.0  ...  Wise Wizard Games, LLC   \n",
       "2          True          True  290870.0  ...         Bretwalda Games   \n",
       "\n",
       "               Publishers                                         Categories  \\\n",
       "0            Wild Rooster  Single-player,Steam Achievements,Full controll...   \n",
       "1  Wise Wizard Games, LLC  Single-player,Multi-player,Shared/Split Screen...   \n",
       "2         Bretwalda Games  Single-player,Multi-player,PvP,Shared/Split Sc...   \n",
       "\n",
       "           Genres                                               Tags  \\\n",
       "0    Action,Indie  Indie,Action,Pixel Graphics,2D,Retro,Arcade,Sc...   \n",
       "1        Strategy  Card Game,Strategy,Deckbuilding,Lovecraftian,B...   \n",
       "2  Indie,Strategy  Strategy,Indie,Turn-Based,World War I,Steampun...   \n",
       "\n",
       "                                         Screenshots  \\\n",
       "0  https://cdn.akamai.steamstatic.com/steam/apps/...   \n",
       "1  https://cdn.akamai.steamstatic.com/steam/apps/...   \n",
       "2  https://cdn.akamai.steamstatic.com/steam/apps/...   \n",
       "\n",
       "                                              Movies ReleaseDate  \\\n",
       "0  http://cdn.akamai.steamstatic.com/steam/apps/2...  2017-10-12   \n",
       "1  http://cdn.akamai.steamstatic.com/steam/apps/2...  2016-07-01   \n",
       "2  http://cdn.akamai.steamstatic.com/steam/apps/2...  2016-07-28   \n",
       "\n",
       "  ParsedReleaseDate    year  \n",
       "0        2017-10-12  2017.0  \n",
       "1        2016-07-01  2016.0  \n",
       "2        2016-07-28  2016.0  \n",
       "\n",
       "[3 rows x 60 columns]"
      ]
     },
     "execution_count": 103,
     "metadata": {},
     "output_type": "execute_result"
    }
   ],
   "source": [
    "complete_api_data.head(3)"
   ]
  },
  {
   "cell_type": "markdown",
   "metadata": {},
   "source": [
    "Now let's take a closer look at all the columns to see which ones might be of interest for modeling."
   ]
  },
  {
   "cell_type": "code",
   "execution_count": 104,
   "metadata": {},
   "outputs": [
    {
     "name": "stdout",
     "output_type": "stream",
     "text": [
      "game_ids\n",
      "018d937f-0a5b-70dc-b37c-4a0a46d1b122 \n",
      "\n",
      "slug\n",
      "train-bandit \n",
      "\n",
      "title\n",
      "Train Bandit \n",
      "\n",
      "type\n",
      "game \n",
      "\n",
      "mature\n",
      "False \n",
      "\n",
      "assets\n",
      "{'boxart': 'https://dbxce1spal1df.cloudfront.net/018d937f-0a5b-70dc-b37c-4a0a46d1b122/boxart.jpg', 'banner145': 'https://dbxce1spal1df.cloudfront.net/018d937f-0a5b-70dc-b37c-4a0a46d1b122/banner145.jpg', 'banner300': 'https://dbxce1spal1df.cloudfront.net/018d937f-0a5b-70dc-b37c-4a0a46d1b122/banner300.jpg', 'banner400': 'https://dbxce1spal1df.cloudfront.net/018d937f-0a5b-70dc-b37c-4a0a46d1b122/banner400.jpg', 'banner600': 'https://dbxce1spal1df.cloudfront.net/018d937f-0a5b-70dc-b37c-4a0a46d1b122/banner600.jpg'} \n",
      "\n",
      "earlyAccess\n",
      "False \n",
      "\n",
      "achievements\n",
      "True \n",
      "\n",
      "tradingCards\n",
      "False \n",
      "\n",
      "AppID\n",
      "655370.0 \n",
      "\n",
      "tags\n",
      "['Indie', 'Action', 'Pixel Graphics', '2D', 'Retro'] \n",
      "\n",
      "releaseDate\n",
      "2017-10-12 \n",
      "\n",
      "developers\n",
      "[{'id': 7238, 'name': 'Rusty Moyher'}] \n",
      "\n",
      "publishers\n",
      "[{'id': 12181, 'name': 'Wild Rooster'}] \n",
      "\n",
      "reviews\n",
      "[{'score': 86, 'source': 'Steam', 'count': 58, 'url': 'https://store.steampowered.com/app/655370/'}, {'score': None, 'source': 'Metacritic User Score', 'count': 1, 'url': 'https://metacritic.com/game/train-bandit/user-reviews/?platform=pc'}] \n",
      "\n",
      "stats\n",
      "{'rank': 47649, 'waitlisted': 108, 'collected': 223} \n",
      "\n",
      "players\n",
      "{'recent': 0, 'day': 1, 'week': 1, 'peak': 3} \n",
      "\n",
      "urls\n",
      "{'game': 'https://isthereanydeal.com/game/train-bandit/'} \n",
      "\n",
      "price_history\n",
      "[{'timestamp': '2024-05-13T19:16:33+02:00', 'shop': {'id': 61, 'name': 'Steam'}, 'deal': {'price': {'amount': 0.49, 'amountInt': 49, 'currency': 'USD'}, 'regular': {'amount': 0.99, 'amountInt': 99, 'currency': 'USD'}, 'cut': 51}}, {'timestamp': '2024-03-25T18:15:39+01:00', 'shop': {'id': 61, 'name': 'Steam'}, 'deal': {'price': {'amount': 0.99, 'amountInt': 99, 'currency': 'USD'}, 'regular': {'amount': 0.99, 'amountInt': 99, 'currency': 'USD'}, 'cut': 0}}, {'timestamp': '2024-03-14T18:17:05+01:00', 'shop': {'id': 61, 'name': 'Steam'}, 'deal': {'price': {'amount': 0.49, 'amountInt': 49, 'currency': 'USD'}, 'regular': {'amount': 0.99, 'amountInt': 99, 'currency': 'USD'}, 'cut': 51}}, {'timestamp': '2024-02-11T04:22:52+01:00', 'shop': {'id': 61, 'name': 'Steam'}, 'deal': {'price': {'amount': 0.99, 'amountInt': 99, 'currency': 'USD'}, 'regular': {'amount': 0.99, 'amountInt': 99, 'currency': 'USD'}, 'cut': 0}}, {'timestamp': '2024-01-04T20:10:11+01:00', 'shop': {'id': 61, 'name': 'Steam'}, 'deal': {'price': {'amount': 0.99, 'amountInt': 99, 'currency': 'USD'}, 'regular': {'amount': 0.99, 'amountInt': 99, 'currency': 'USD'}, 'cut': 0}}, {'timestamp': '2023-12-21T20:43:13+01:00', 'shop': {'id': 61, 'name': 'Steam'}, 'deal': {'price': {'amount': 0.49, 'amountInt': 49, 'currency': 'USD'}, 'regular': {'amount': 0.99, 'amountInt': 99, 'currency': 'USD'}, 'cut': 51}}, {'timestamp': '2023-11-28T23:30:08+01:00', 'shop': {'id': 61, 'name': 'Steam'}, 'deal': {'price': {'amount': 0.99, 'amountInt': 99, 'currency': 'USD'}, 'regular': {'amount': 0.99, 'amountInt': 99, 'currency': 'USD'}, 'cut': 0}}, {'timestamp': '2023-11-21T20:23:10+01:00', 'shop': {'id': 61, 'name': 'Steam'}, 'deal': {'price': {'amount': 0.49, 'amountInt': 49, 'currency': 'USD'}, 'regular': {'amount': 0.99, 'amountInt': 99, 'currency': 'USD'}, 'cut': 51}}, {'timestamp': '2023-08-07T19:19:14+02:00', 'shop': {'id': 61, 'name': 'Steam'}, 'deal': {'price': {'amount': 0.99, 'amountInt': 99, 'currency': 'USD'}, 'regular': {'amount': 0.99, 'amountInt': 99, 'currency': 'USD'}, 'cut': 0}}, {'timestamp': '2023-07-31T19:22:15+02:00', 'shop': {'id': 61, 'name': 'Steam'}, 'deal': {'price': {'amount': 0.49, 'amountInt': 49, 'currency': 'USD'}, 'regular': {'amount': 0.99, 'amountInt': 99, 'currency': 'USD'}, 'cut': 51}}, {'timestamp': '2023-07-13T20:41:45+02:00', 'shop': {'id': 61, 'name': 'Steam'}, 'deal': {'price': {'amount': 0.99, 'amountInt': 99, 'currency': 'USD'}, 'regular': {'amount': 0.99, 'amountInt': 99, 'currency': 'USD'}, 'cut': 0}}, {'timestamp': '2023-06-29T23:43:03+02:00', 'shop': {'id': 61, 'name': 'Steam'}, 'deal': {'price': {'amount': 0.48, 'amountInt': 48, 'currency': 'USD'}, 'regular': {'amount': 0.99, 'amountInt': 99, 'currency': 'USD'}, 'cut': 52}}, {'timestamp': '2023-03-23T20:19:44+01:00', 'shop': {'id': 61, 'name': 'Steam'}, 'deal': {'price': {'amount': 0.99, 'amountInt': 99, 'currency': 'USD'}, 'regular': {'amount': 0.99, 'amountInt': 99, 'currency': 'USD'}, 'cut': 0}}, {'timestamp': '2023-03-16T21:12:59+01:00', 'shop': {'id': 61, 'name': 'Steam'}, 'deal': {'price': {'amount': 0.49, 'amountInt': 49, 'currency': 'USD'}, 'regular': {'amount': 0.99, 'amountInt': 99, 'currency': 'USD'}, 'cut': 51}}, {'timestamp': '2023-02-27T19:10:40+01:00', 'shop': {'id': 61, 'name': 'Steam'}, 'deal': {'price': {'amount': 0.99, 'amountInt': 99, 'currency': 'USD'}, 'regular': {'amount': 0.99, 'amountInt': 99, 'currency': 'USD'}, 'cut': 0}}, {'timestamp': '2023-02-20T19:06:54+01:00', 'shop': {'id': 61, 'name': 'Steam'}, 'deal': {'price': {'amount': 0.27, 'amountInt': 27, 'currency': 'USD'}, 'regular': {'amount': 0.99, 'amountInt': 99, 'currency': 'USD'}, 'cut': 73}}, {'timestamp': '2023-01-05T19:34:19+01:00', 'shop': {'id': 61, 'name': 'Steam'}, 'deal': {'price': {'amount': 0.99, 'amountInt': 99, 'currency': 'USD'}, 'regular': {'amount': 0.99, 'amountInt': 99, 'currency': 'USD'}, 'cut': 0}}, {'timestamp': '2022-12-22T19:39:14+01:00', 'shop': {'id': 61, 'name': 'Steam'}, 'deal': {'price': {'amount': 0.49, 'amountInt': 49, 'currency': 'USD'}, 'regular': {'amount': 0.99, 'amountInt': 99, 'currency': 'USD'}, 'cut': 51}}, {'timestamp': '2022-12-19T19:31:40+01:00', 'shop': {'id': 61, 'name': 'Steam'}, 'deal': {'price': {'amount': 0.99, 'amountInt': 99, 'currency': 'USD'}, 'regular': {'amount': 0.99, 'amountInt': 99, 'currency': 'USD'}, 'cut': 0}}, {'timestamp': '2022-12-12T20:16:45+01:00', 'shop': {'id': 61, 'name': 'Steam'}, 'deal': {'price': {'amount': 0.49, 'amountInt': 49, 'currency': 'USD'}, 'regular': {'amount': 0.99, 'amountInt': 99, 'currency': 'USD'}, 'cut': 51}}, {'timestamp': '2022-11-29T20:45:21+01:00', 'shop': {'id': 61, 'name': 'Steam'}, 'deal': {'price': {'amount': 0.99, 'amountInt': 99, 'currency': 'USD'}, 'regular': {'amount': 0.99, 'amountInt': 99, 'currency': 'USD'}, 'cut': 0}}, {'timestamp': '2022-11-22T23:34:05+01:00', 'shop': {'id': 61, 'name': 'Steam'}, 'deal': {'price': {'amount': 0.49, 'amountInt': 49, 'currency': 'USD'}, 'regular': {'amount': 0.99, 'amountInt': 99, 'currency': 'USD'}, 'cut': 51}}, {'timestamp': '2022-09-05T19:06:42+02:00', 'shop': {'id': 61, 'name': 'Steam'}, 'deal': {'price': {'amount': 0.99, 'amountInt': 99, 'currency': 'USD'}, 'regular': {'amount': 0.99, 'amountInt': 99, 'currency': 'USD'}, 'cut': 0}}, {'timestamp': '2022-08-29T20:30:26+02:00', 'shop': {'id': 61, 'name': 'Steam'}, 'deal': {'price': {'amount': 0.51, 'amountInt': 51, 'currency': 'USD'}, 'regular': {'amount': 0.99, 'amountInt': 99, 'currency': 'USD'}, 'cut': 48}}, {'timestamp': '2022-07-07T20:55:21+02:00', 'shop': {'id': 61, 'name': 'Steam'}, 'deal': {'price': {'amount': 0.99, 'amountInt': 99, 'currency': 'USD'}, 'regular': {'amount': 0.99, 'amountInt': 99, 'currency': 'USD'}, 'cut': 0}}, {'timestamp': '2022-06-23T20:56:33+02:00', 'shop': {'id': 61, 'name': 'Steam'}, 'deal': {'price': {'amount': 0.51, 'amountInt': 51, 'currency': 'USD'}, 'regular': {'amount': 0.99, 'amountInt': 99, 'currency': 'USD'}, 'cut': 48}}, {'timestamp': '2022-06-13T19:47:02+02:00', 'shop': {'id': 61, 'name': 'Steam'}, 'deal': {'price': {'amount': 0.99, 'amountInt': 99, 'currency': 'USD'}, 'regular': {'amount': 0.99, 'amountInt': 99, 'currency': 'USD'}, 'cut': 0}}, {'timestamp': '2022-06-06T19:24:02+02:00', 'shop': {'id': 61, 'name': 'Steam'}, 'deal': {'price': {'amount': 0.51, 'amountInt': 51, 'currency': 'USD'}, 'regular': {'amount': 0.99, 'amountInt': 99, 'currency': 'USD'}, 'cut': 48}}, {'timestamp': '2022-04-11T19:42:51+02:00', 'shop': {'id': 61, 'name': 'Steam'}, 'deal': {'price': {'amount': 0.99, 'amountInt': 99, 'currency': 'USD'}, 'regular': {'amount': 0.99, 'amountInt': 99, 'currency': 'USD'}, 'cut': 0}}, {'timestamp': '2022-04-04T19:13:26+02:00', 'shop': {'id': 61, 'name': 'Steam'}, 'deal': {'price': {'amount': 0.51, 'amountInt': 51, 'currency': 'USD'}, 'regular': {'amount': 0.99, 'amountInt': 99, 'currency': 'USD'}, 'cut': 48}}, {'timestamp': '2022-01-05T20:53:20+01:00', 'shop': {'id': 61, 'name': 'Steam'}, 'deal': {'price': {'amount': 0.99, 'amountInt': 99, 'currency': 'USD'}, 'regular': {'amount': 0.99, 'amountInt': 99, 'currency': 'USD'}, 'cut': 0}}, {'timestamp': '2021-12-22T20:00:52+01:00', 'shop': {'id': 61, 'name': 'Steam'}, 'deal': {'price': {'amount': 0.49, 'amountInt': 49, 'currency': 'USD'}, 'regular': {'amount': 0.99, 'amountInt': 99, 'currency': 'USD'}, 'cut': 51}}, {'timestamp': '2021-12-01T20:34:10+01:00', 'shop': {'id': 61, 'name': 'Steam'}, 'deal': {'price': {'amount': 0.99, 'amountInt': 99, 'currency': 'USD'}, 'regular': {'amount': 0.99, 'amountInt': 99, 'currency': 'USD'}, 'cut': 0}}, {'timestamp': '2021-11-24T19:15:07+01:00', 'shop': {'id': 61, 'name': 'Steam'}, 'deal': {'price': {'amount': 0.49, 'amountInt': 49, 'currency': 'USD'}, 'regular': {'amount': 0.99, 'amountInt': 99, 'currency': 'USD'}, 'cut': 51}}, {'timestamp': '2021-11-01T18:58:10+01:00', 'shop': {'id': 61, 'name': 'Steam'}, 'deal': {'price': {'amount': 0.99, 'amountInt': 99, 'currency': 'USD'}, 'regular': {'amount': 0.99, 'amountInt': 99, 'currency': 'USD'}, 'cut': 0}}, {'timestamp': '2021-10-28T19:01:25+02:00', 'shop': {'id': 61, 'name': 'Steam'}, 'deal': {'price': {'amount': 0.49, 'amountInt': 49, 'currency': 'USD'}, 'regular': {'amount': 0.99, 'amountInt': 99, 'currency': 'USD'}, 'cut': 51}}, {'timestamp': '2021-10-11T19:06:32+02:00', 'shop': {'id': 61, 'name': 'Steam'}, 'deal': {'price': {'amount': 0.99, 'amountInt': 99, 'currency': 'USD'}, 'regular': {'amount': 0.99, 'amountInt': 99, 'currency': 'USD'}, 'cut': 0}}, {'timestamp': '2021-10-04T19:19:54+02:00', 'shop': {'id': 61, 'name': 'Steam'}, 'deal': {'price': {'amount': 0.49, 'amountInt': 49, 'currency': 'USD'}, 'regular': {'amount': 0.99, 'amountInt': 99, 'currency': 'USD'}, 'cut': 51}}, {'timestamp': '2021-07-08T20:54:02+02:00', 'shop': {'id': 61, 'name': 'Steam'}, 'deal': {'price': {'amount': 0.99, 'amountInt': 99, 'currency': 'USD'}, 'regular': {'amount': 0.99, 'amountInt': 99, 'currency': 'USD'}, 'cut': 0}}, {'timestamp': '2021-06-24T23:54:29+02:00', 'shop': {'id': 61, 'name': 'Steam'}, 'deal': {'price': {'amount': 0.49, 'amountInt': 49, 'currency': 'USD'}, 'regular': {'amount': 0.99, 'amountInt': 99, 'currency': 'USD'}, 'cut': 51}}, {'timestamp': '2021-06-07T19:24:06+02:00', 'shop': {'id': 61, 'name': 'Steam'}, 'deal': {'price': {'amount': 0.99, 'amountInt': 99, 'currency': 'USD'}, 'regular': {'amount': 0.99, 'amountInt': 99, 'currency': 'USD'}, 'cut': 0}}, {'timestamp': '2021-05-31T19:18:56+02:00', 'shop': {'id': 61, 'name': 'Steam'}, 'deal': {'price': {'amount': 0.49, 'amountInt': 49, 'currency': 'USD'}, 'regular': {'amount': 0.99, 'amountInt': 99, 'currency': 'USD'}, 'cut': 51}}, {'timestamp': '2021-03-27T12:08:37+01:00', 'shop': {'id': 61, 'name': 'Steam'}, 'deal': {'price': {'amount': 0.99, 'amountInt': 99, 'currency': 'USD'}, 'regular': {'amount': 0.99, 'amountInt': 99, 'currency': 'USD'}, 'cut': 0}}, {'timestamp': '2021-02-22T19:21:22+01:00', 'shop': {'id': 61, 'name': 'Steam'}, 'deal': {'price': {'amount': 0.99, 'amountInt': 99, 'currency': 'USD'}, 'regular': {'amount': 0.99, 'amountInt': 99, 'currency': 'USD'}, 'cut': 0}}, {'timestamp': '2021-02-11T20:00:29+01:00', 'shop': {'id': 61, 'name': 'Steam'}, 'deal': {'price': {'amount': 0.49, 'amountInt': 49, 'currency': 'USD'}, 'regular': {'amount': 0.99, 'amountInt': 99, 'currency': 'USD'}, 'cut': 51}}, {'timestamp': '2021-01-05T19:55:18+01:00', 'shop': {'id': 61, 'name': 'Steam'}, 'deal': {'price': {'amount': 0.99, 'amountInt': 99, 'currency': 'USD'}, 'regular': {'amount': 0.99, 'amountInt': 99, 'currency': 'USD'}, 'cut': 0}}, {'timestamp': '2020-12-22T20:03:38+01:00', 'shop': {'id': 61, 'name': 'Steam'}, 'deal': {'price': {'amount': 0.49, 'amountInt': 49, 'currency': 'USD'}, 'regular': {'amount': 0.99, 'amountInt': 99, 'currency': 'USD'}, 'cut': 51}}, {'timestamp': '2020-12-21T19:21:12+01:00', 'shop': {'id': 61, 'name': 'Steam'}, 'deal': {'price': {'amount': 0.99, 'amountInt': 99, 'currency': 'USD'}, 'regular': {'amount': 0.99, 'amountInt': 99, 'currency': 'USD'}, 'cut': 0}}, {'timestamp': '2020-12-14T19:35:20+01:00', 'shop': {'id': 61, 'name': 'Steam'}, 'deal': {'price': {'amount': 0.49, 'amountInt': 49, 'currency': 'USD'}, 'regular': {'amount': 0.99, 'amountInt': 99, 'currency': 'USD'}, 'cut': 51}}, {'timestamp': '2020-12-01T19:23:22+01:00', 'shop': {'id': 61, 'name': 'Steam'}, 'deal': {'price': {'amount': 0.99, 'amountInt': 99, 'currency': 'USD'}, 'regular': {'amount': 0.99, 'amountInt': 99, 'currency': 'USD'}, 'cut': 0}}, {'timestamp': '2020-11-25T19:33:44+01:00', 'shop': {'id': 61, 'name': 'Steam'}, 'deal': {'price': {'amount': 0.49, 'amountInt': 49, 'currency': 'USD'}, 'regular': {'amount': 0.99, 'amountInt': 99, 'currency': 'USD'}, 'cut': 51}}, {'timestamp': '2020-11-02T19:23:14+01:00', 'shop': {'id': 61, 'name': 'Steam'}, 'deal': {'price': {'amount': 0.99, 'amountInt': 99, 'currency': 'USD'}, 'regular': {'amount': 0.99, 'amountInt': 99, 'currency': 'USD'}, 'cut': 0}}, {'timestamp': '2020-10-26T18:22:21+01:00', 'shop': {'id': 61, 'name': 'Steam'}, 'deal': {'price': {'amount': 0.49, 'amountInt': 49, 'currency': 'USD'}, 'regular': {'amount': 0.99, 'amountInt': 99, 'currency': 'USD'}, 'cut': 51}}, {'timestamp': '2020-09-14T19:21:24+02:00', 'shop': {'id': 61, 'name': 'Steam'}, 'deal': {'price': {'amount': 0.99, 'amountInt': 99, 'currency': 'USD'}, 'regular': {'amount': 0.99, 'amountInt': 99, 'currency': 'USD'}, 'cut': 0}}, {'timestamp': '2020-09-07T19:22:05+02:00', 'shop': {'id': 61, 'name': 'Steam'}, 'deal': {'price': {'amount': 0.49, 'amountInt': 49, 'currency': 'USD'}, 'regular': {'amount': 0.99, 'amountInt': 99, 'currency': 'USD'}, 'cut': 51}}, {'timestamp': '2020-07-09T19:29:52+02:00', 'shop': {'id': 61, 'name': 'Steam'}, 'deal': {'price': {'amount': 0.99, 'amountInt': 99, 'currency': 'USD'}, 'regular': {'amount': 0.99, 'amountInt': 99, 'currency': 'USD'}, 'cut': 0}}, {'timestamp': '2020-06-25T20:26:19+02:00', 'shop': {'id': 61, 'name': 'Steam'}, 'deal': {'price': {'amount': 0.49, 'amountInt': 49, 'currency': 'USD'}, 'regular': {'amount': 0.99, 'amountInt': 99, 'currency': 'USD'}, 'cut': 51}}, {'timestamp': '2020-04-06T19:21:33+02:00', 'shop': {'id': 61, 'name': 'Steam'}, 'deal': {'price': {'amount': 0.99, 'amountInt': 99, 'currency': 'USD'}, 'regular': {'amount': 0.99, 'amountInt': 99, 'currency': 'USD'}, 'cut': 0}}, {'timestamp': '2020-03-30T19:21:48+02:00', 'shop': {'id': 61, 'name': 'Steam'}, 'deal': {'price': {'amount': 0.49, 'amountInt': 49, 'currency': 'USD'}, 'regular': {'amount': 0.99, 'amountInt': 99, 'currency': 'USD'}, 'cut': 51}}, {'timestamp': '2020-02-17T19:21:50+01:00', 'shop': {'id': 61, 'name': 'Steam'}, 'deal': {'price': {'amount': 0.99, 'amountInt': 99, 'currency': 'USD'}, 'regular': {'amount': 0.99, 'amountInt': 99, 'currency': 'USD'}, 'cut': 0}}, {'timestamp': '2020-02-10T19:21:30+01:00', 'shop': {'id': 61, 'name': 'Steam'}, 'deal': {'price': {'amount': 0.49, 'amountInt': 49, 'currency': 'USD'}, 'regular': {'amount': 0.99, 'amountInt': 99, 'currency': 'USD'}, 'cut': 51}}, {'timestamp': '2020-01-02T19:40:50+01:00', 'shop': {'id': 61, 'name': 'Steam'}, 'deal': {'price': {'amount': 0.99, 'amountInt': 99, 'currency': 'USD'}, 'regular': {'amount': 0.99, 'amountInt': 99, 'currency': 'USD'}, 'cut': 0}}, {'timestamp': '2019-12-19T19:26:29+01:00', 'shop': {'id': 61, 'name': 'Steam'}, 'deal': {'price': {'amount': 0.49, 'amountInt': 49, 'currency': 'USD'}, 'regular': {'amount': 0.99, 'amountInt': 99, 'currency': 'USD'}, 'cut': 51}}, {'timestamp': '2019-12-03T19:25:31+01:00', 'shop': {'id': 61, 'name': 'Steam'}, 'deal': {'price': {'amount': 0.99, 'amountInt': 99, 'currency': 'USD'}, 'regular': {'amount': 0.99, 'amountInt': 99, 'currency': 'USD'}, 'cut': 0}}, {'timestamp': '2019-11-26T19:22:18+01:00', 'shop': {'id': 61, 'name': 'Steam'}, 'deal': {'price': {'amount': 0.49, 'amountInt': 49, 'currency': 'USD'}, 'regular': {'amount': 0.99, 'amountInt': 99, 'currency': 'USD'}, 'cut': 51}}, {'timestamp': '2019-11-01T18:23:31+01:00', 'shop': {'id': 61, 'name': 'Steam'}, 'deal': {'price': {'amount': 0.99, 'amountInt': 99, 'currency': 'USD'}, 'regular': {'amount': 0.99, 'amountInt': 99, 'currency': 'USD'}, 'cut': 0}}, {'timestamp': '2019-10-21T19:21:09+02:00', 'shop': {'id': 61, 'name': 'Steam'}, 'deal': {'price': {'amount': 0.49, 'amountInt': 49, 'currency': 'USD'}, 'regular': {'amount': 0.99, 'amountInt': 99, 'currency': 'USD'}, 'cut': 51}}, {'timestamp': '2019-09-09T19:21:33+02:00', 'shop': {'id': 61, 'name': 'Steam'}, 'deal': {'price': {'amount': 0.99, 'amountInt': 99, 'currency': 'USD'}, 'regular': {'amount': 0.99, 'amountInt': 99, 'currency': 'USD'}, 'cut': 0}}, {'timestamp': '2019-09-02T19:21:44+02:00', 'shop': {'id': 61, 'name': 'Steam'}, 'deal': {'price': {'amount': 0.49, 'amountInt': 49, 'currency': 'USD'}, 'regular': {'amount': 0.99, 'amountInt': 99, 'currency': 'USD'}, 'cut': 51}}, {'timestamp': '2019-07-09T22:54:37+02:00', 'shop': {'id': 61, 'name': 'Steam'}, 'deal': {'price': {'amount': 0.99, 'amountInt': 99, 'currency': 'USD'}, 'regular': {'amount': 0.99, 'amountInt': 99, 'currency': 'USD'}, 'cut': 0}}, {'timestamp': '2019-06-26T06:34:28+02:00', 'shop': {'id': 61, 'name': 'Steam'}, 'deal': {'price': {'amount': 0.49, 'amountInt': 49, 'currency': 'USD'}, 'regular': {'amount': 0.99, 'amountInt': 99, 'currency': 'USD'}, 'cut': 51}}, {'timestamp': '2019-04-30T01:11:23+02:00', 'shop': {'id': 61, 'name': 'Steam'}, 'deal': {'price': {'amount': 0.99, 'amountInt': 99, 'currency': 'USD'}, 'regular': {'amount': 0.99, 'amountInt': 99, 'currency': 'USD'}, 'cut': 0}}, {'timestamp': '2019-04-22T20:45:07+02:00', 'shop': {'id': 61, 'name': 'Steam'}, 'deal': {'price': {'amount': 0.49, 'amountInt': 49, 'currency': 'USD'}, 'regular': {'amount': 0.99, 'amountInt': 99, 'currency': 'USD'}, 'cut': 51}}, {'timestamp': '2019-02-12T00:42:04+01:00', 'shop': {'id': 61, 'name': 'Steam'}, 'deal': {'price': {'amount': 0.99, 'amountInt': 99, 'currency': 'USD'}, 'regular': {'amount': 0.99, 'amountInt': 99, 'currency': 'USD'}, 'cut': 0}}, {'timestamp': '2019-02-04T21:00:38+01:00', 'shop': {'id': 61, 'name': 'Steam'}, 'deal': {'price': {'amount': 0.49, 'amountInt': 49, 'currency': 'USD'}, 'regular': {'amount': 0.99, 'amountInt': 99, 'currency': 'USD'}, 'cut': 51}}, {'timestamp': '2019-01-28T19:39:05+01:00', 'shop': {'id': 61, 'name': 'Steam'}, 'deal': {'price': {'amount': 0.99, 'amountInt': 99, 'currency': 'USD'}, 'regular': {'amount': 0.99, 'amountInt': 99, 'currency': 'USD'}, 'cut': 0}}, {'timestamp': '2019-01-21T20:08:45+01:00', 'shop': {'id': 61, 'name': 'Steam'}, 'deal': {'price': {'amount': 0.49, 'amountInt': 49, 'currency': 'USD'}, 'regular': {'amount': 0.99, 'amountInt': 99, 'currency': 'USD'}, 'cut': 51}}, {'timestamp': '2019-01-03T21:10:55+01:00', 'shop': {'id': 61, 'name': 'Steam'}, 'deal': {'price': {'amount': 0.99, 'amountInt': 99, 'currency': 'USD'}, 'regular': {'amount': 0.99, 'amountInt': 99, 'currency': 'USD'}, 'cut': 0}}, {'timestamp': '2018-12-20T23:39:31+01:00', 'shop': {'id': 61, 'name': 'Steam'}, 'deal': {'price': {'amount': 0.49, 'amountInt': 49, 'currency': 'USD'}, 'regular': {'amount': 0.99, 'amountInt': 99, 'currency': 'USD'}, 'cut': 51}}, {'timestamp': '2018-11-27T20:52:48+01:00', 'shop': {'id': 61, 'name': 'Steam'}, 'deal': {'price': {'amount': 0.99, 'amountInt': 99, 'currency': 'USD'}, 'regular': {'amount': 0.99, 'amountInt': 99, 'currency': 'USD'}, 'cut': 0}}, {'timestamp': '2018-11-21T21:32:17+01:00', 'shop': {'id': 61, 'name': 'Steam'}, 'deal': {'price': {'amount': 0.49, 'amountInt': 49, 'currency': 'USD'}, 'regular': {'amount': 0.99, 'amountInt': 99, 'currency': 'USD'}, 'cut': 51}}, {'timestamp': '2018-10-01T20:40:16+02:00', 'shop': {'id': 61, 'name': 'Steam'}, 'deal': {'price': {'amount': 0.99, 'amountInt': 99, 'currency': 'USD'}, 'regular': {'amount': 0.99, 'amountInt': 99, 'currency': 'USD'}, 'cut': 0}}, {'timestamp': '2018-09-24T22:00:13+02:00', 'shop': {'id': 61, 'name': 'Steam'}, 'deal': {'price': {'amount': 0.49, 'amountInt': 49, 'currency': 'USD'}, 'regular': {'amount': 0.99, 'amountInt': 99, 'currency': 'USD'}, 'cut': 51}}, {'timestamp': '2018-07-30T19:31:33+02:00', 'shop': {'id': 61, 'name': 'Steam'}, 'deal': {'price': {'amount': 0.99, 'amountInt': 99, 'currency': 'USD'}, 'regular': {'amount': 0.99, 'amountInt': 99, 'currency': 'USD'}, 'cut': 0}}, {'timestamp': '2018-07-23T19:23:19+02:00', 'shop': {'id': 61, 'name': 'Steam'}, 'deal': {'price': {'amount': 0.49, 'amountInt': 49, 'currency': 'USD'}, 'regular': {'amount': 0.99, 'amountInt': 99, 'currency': 'USD'}, 'cut': 51}}, {'timestamp': '2018-07-05T21:41:59+02:00', 'shop': {'id': 61, 'name': 'Steam'}, 'deal': {'price': {'amount': 0.99, 'amountInt': 99, 'currency': 'USD'}, 'regular': {'amount': 0.99, 'amountInt': 99, 'currency': 'USD'}, 'cut': 0}}, {'timestamp': '2018-06-21T19:55:32+02:00', 'shop': {'id': 61, 'name': 'Steam'}, 'deal': {'price': {'amount': 0.49, 'amountInt': 49, 'currency': 'USD'}, 'regular': {'amount': 0.99, 'amountInt': 99, 'currency': 'USD'}, 'cut': 51}}, {'timestamp': '2018-05-28T19:51:22+02:00', 'shop': {'id': 61, 'name': 'Steam'}, 'deal': {'price': {'amount': 0.99, 'amountInt': 99, 'currency': 'USD'}, 'regular': {'amount': 0.99, 'amountInt': 99, 'currency': 'USD'}, 'cut': 0}}, {'timestamp': '2018-05-21T19:50:24+02:00', 'shop': {'id': 61, 'name': 'Steam'}, 'deal': {'price': {'amount': 0.49, 'amountInt': 49, 'currency': 'USD'}, 'regular': {'amount': 0.99, 'amountInt': 99, 'currency': 'USD'}, 'cut': 51}}, {'timestamp': '2018-03-26T20:53:20+02:00', 'shop': {'id': 61, 'name': 'Steam'}, 'deal': {'price': {'amount': 0.99, 'amountInt': 99, 'currency': 'USD'}, 'regular': {'amount': 0.99, 'amountInt': 99, 'currency': 'USD'}, 'cut': 0}}, {'timestamp': '2018-03-19T18:53:06+01:00', 'shop': {'id': 61, 'name': 'Steam'}, 'deal': {'price': {'amount': 0.49, 'amountInt': 49, 'currency': 'USD'}, 'regular': {'amount': 0.99, 'amountInt': 99, 'currency': 'USD'}, 'cut': 51}}, {'timestamp': '2018-02-19T19:20:58+01:00', 'shop': {'id': 61, 'name': 'Steam'}, 'deal': {'price': {'amount': 0.99, 'amountInt': 99, 'currency': 'USD'}, 'regular': {'amount': 0.99, 'amountInt': 99, 'currency': 'USD'}, 'cut': 0}}, {'timestamp': '2018-02-15T19:19:06+01:00', 'shop': {'id': 61, 'name': 'Steam'}, 'deal': {'price': {'amount': 0.49, 'amountInt': 49, 'currency': 'USD'}, 'regular': {'amount': 0.99, 'amountInt': 99, 'currency': 'USD'}, 'cut': 51}}, {'timestamp': '2018-01-22T19:15:54+01:00', 'shop': {'id': 61, 'name': 'Steam'}, 'deal': {'price': {'amount': 0.99, 'amountInt': 99, 'currency': 'USD'}, 'regular': {'amount': 0.99, 'amountInt': 99, 'currency': 'USD'}, 'cut': 0}}, {'timestamp': '2018-01-15T19:15:50+01:00', 'shop': {'id': 61, 'name': 'Steam'}, 'deal': {'price': {'amount': 0.49, 'amountInt': 49, 'currency': 'USD'}, 'regular': {'amount': 0.99, 'amountInt': 99, 'currency': 'USD'}, 'cut': 51}}, {'timestamp': '2018-01-04T19:46:21+01:00', 'shop': {'id': 61, 'name': 'Steam'}, 'deal': {'price': {'amount': 0.99, 'amountInt': 99, 'currency': 'USD'}, 'regular': {'amount': 0.99, 'amountInt': 99, 'currency': 'USD'}, 'cut': 0}}, {'timestamp': '2017-12-21T19:46:23+01:00', 'shop': {'id': 61, 'name': 'Steam'}, 'deal': {'price': {'amount': 0.49, 'amountInt': 49, 'currency': 'USD'}, 'regular': {'amount': 0.99, 'amountInt': 99, 'currency': 'USD'}, 'cut': 51}}, {'timestamp': '2017-11-28T19:46:14+01:00', 'shop': {'id': 61, 'name': 'Steam'}, 'deal': {'price': {'amount': 0.99, 'amountInt': 99, 'currency': 'USD'}, 'regular': {'amount': 0.99, 'amountInt': 99, 'currency': 'USD'}, 'cut': 0}}, {'timestamp': '2017-11-22T19:46:09+01:00', 'shop': {'id': 61, 'name': 'Steam'}, 'deal': {'price': {'amount': 0.62, 'amountInt': 62, 'currency': 'USD'}, 'regular': {'amount': 0.99, 'amountInt': 99, 'currency': 'USD'}, 'cut': 37}}, {'timestamp': '2017-11-20T19:45:35+01:00', 'shop': {'id': 61, 'name': 'Steam'}, 'deal': {'price': {'amount': 0.99, 'amountInt': 99, 'currency': 'USD'}, 'regular': {'amount': 0.99, 'amountInt': 99, 'currency': 'USD'}, 'cut': 0}}, {'timestamp': '2017-11-13T19:45:35+01:00', 'shop': {'id': 61, 'name': 'Steam'}, 'deal': {'price': {'amount': 0.62, 'amountInt': 62, 'currency': 'USD'}, 'regular': {'amount': 0.99, 'amountInt': 99, 'currency': 'USD'}, 'cut': 37}}, {'timestamp': '2017-10-13T13:15:45+02:00', 'shop': {'id': 61, 'name': 'Steam'}, 'deal': {'price': {'amount': 0.99, 'amountInt': 99, 'currency': 'USD'}, 'regular': {'amount': 0.99, 'amountInt': 99, 'currency': 'USD'}, 'cut': 0}}] \n",
      "\n",
      "Name\n",
      "Train Bandit \n",
      "\n",
      "Release date\n",
      "Oct 12, 2017 \n",
      "\n",
      "Estimated owners\n",
      "0 - 20000 \n",
      "\n",
      "Peak CCU\n",
      "0.0 \n",
      "\n",
      "Required age\n",
      "0.0 \n",
      "\n",
      "Price\n",
      "0.99 \n",
      "\n",
      "DLC count\n",
      "0.0 \n",
      "\n",
      "About the game\n",
      "THE LAW!! Looks to be a showdown atop a train. This will be your last fight. Good luck, Train Bandit. WHAT IS THIS GAME? Train Bandit is a simple score attack game. The Law will attack you from both sides. Your weapon is your keyboard. You'll use those keys to kick the living shit out of the law. React quickly by attacking the correct direction. React...or you're dead. THE FEATURES Unlock new bandits Earn Achievements Become Steam's Most Wanted ? Battle elite officers Kick the law's ass \n",
      "\n",
      "Supported languages\n",
      "['English', 'French', 'Italian', 'German', 'Spanish - Spain', 'Japanese', 'Portuguese - Brazil', 'Russian', 'Simplified Chinese', 'Traditional Chinese'] \n",
      "\n",
      "Full audio languages\n",
      "[] \n",
      "\n",
      "Reviews\n",
      "nan \n",
      "\n",
      "Header image\n",
      "https://cdn.akamai.steamstatic.com/steam/apps/655370/header.jpg?t=1617500526 \n",
      "\n",
      "Website\n",
      "http://trainbandit.com \n",
      "\n",
      "Support url\n",
      "nan \n",
      "\n",
      "Support email\n",
      "support@rustymoyher.com \n",
      "\n",
      "Windows\n",
      "True \n",
      "\n",
      "Mac\n",
      "True \n",
      "\n",
      "Linux\n",
      "False \n",
      "\n",
      "Metacritic score\n",
      "0.0 \n",
      "\n",
      "Metacritic url\n",
      "nan \n",
      "\n",
      "User score\n",
      "0.0 \n",
      "\n",
      "Positive\n",
      "53.0 \n",
      "\n",
      "Negative\n",
      "5.0 \n",
      "\n",
      "Score rank\n",
      "nan \n",
      "\n",
      "Achievements\n",
      "12.0 \n",
      "\n",
      "Recommendations\n",
      "0.0 \n",
      "\n",
      "Notes\n",
      "nan \n",
      "\n",
      "Average playtime forever\n",
      "0.0 \n",
      "\n",
      "Average playtime two weeks\n",
      "0.0 \n",
      "\n",
      "Median playtime forever\n",
      "0.0 \n",
      "\n",
      "Median playtime two weeks\n",
      "0.0 \n",
      "\n",
      "Developers\n",
      "Rusty Moyher \n",
      "\n",
      "Publishers\n",
      "Wild Rooster \n",
      "\n",
      "Categories\n",
      "Single-player,Steam Achievements,Full controller support,Steam Leaderboards,Remote Play on Phone,Remote Play on Tablet,Remote Play on TV \n",
      "\n",
      "Genres\n",
      "Action,Indie \n",
      "\n",
      "Tags\n",
      "Indie,Action,Pixel Graphics,2D,Retro,Arcade,Score Attack,Minimalist,Comedy,Singleplayer,Fast-Paced,Casual,Funny,Parody,Difficult,Gore,Violent,Western,Controller,Blood \n",
      "\n",
      "Screenshots\n",
      "https://cdn.akamai.steamstatic.com/steam/apps/655370/ss_16785eac54b29db688870e832f6997c89cd7804b.1920x1080.jpg?t=1617500526,https://cdn.akamai.steamstatic.com/steam/apps/655370/ss_599ad201ec3bb869449aaab4d0b103e220645762.1920x1080.jpg?t=1617500526,https://cdn.akamai.steamstatic.com/steam/apps/655370/ss_a26cfed1bc3e9ca4225fdc9d5c10681cfeb4f106.1920x1080.jpg?t=1617500526,https://cdn.akamai.steamstatic.com/steam/apps/655370/ss_9b815c0ec4996783088d82d22105caa1c044acad.1920x1080.jpg?t=1617500526,https://cdn.akamai.steamstatic.com/steam/apps/655370/ss_b5aada1bd265ff4b34116794fb937ad62e2882bb.1920x1080.jpg?t=1617500526 \n",
      "\n",
      "Movies\n",
      "http://cdn.akamai.steamstatic.com/steam/apps/256691108/movie_max.mp4?t=1506089586 \n",
      "\n",
      "ReleaseDate\n",
      "2017-10-12 \n",
      "\n",
      "ParsedReleaseDate\n",
      "2017-10-12 \n",
      "\n",
      "year\n",
      "2017.0 \n",
      "\n"
     ]
    }
   ],
   "source": [
    "example_row = dict(complete_api_data.iloc[0, :])\n",
    "\n",
    "for key, value in example_row.items():\n",
    "    print(key)\n",
    "    print(value, '\\n')"
   ]
  },
  {
   "cell_type": "markdown",
   "metadata": {},
   "source": [
    "Here are the potentially useful columns for modeling. Note, we are selecting columns with info that we would have for a new game. Data like player count or reviews aren't useful for predicting newer games (unless we had that data for a game on initial release, but we don't). \n",
    "\n",
    "- mature\n",
    "- tradingCards\n",
    "- achievements\n",
    "- earlyAccess\n",
    "- tags or Tags (duplicate columns)\n",
    "- publishers\n",
    "- price_history\n",
    "- Release date or ReleaseDate (already in datetime friendly format)\n",
    "- About the game\n",
    "- Supported Languages\n",
    "- Windows\n",
    "- Mac\n",
    "- Linux\n",
    "- Categories\n",
    "- Genres\n",
    "\n",
    "We will want the game_id, appid, and title as well just in case."
   ]
  },
  {
   "cell_type": "code",
   "execution_count": 408,
   "metadata": {},
   "outputs": [
    {
     "name": "stdout",
     "output_type": "stream",
     "text": [
      "(10362, 18)\n"
     ]
    },
    {
     "data": {
      "text/html": [
       "<div>\n",
       "<style scoped>\n",
       "    .dataframe tbody tr th:only-of-type {\n",
       "        vertical-align: middle;\n",
       "    }\n",
       "\n",
       "    .dataframe tbody tr th {\n",
       "        vertical-align: top;\n",
       "    }\n",
       "\n",
       "    .dataframe thead th {\n",
       "        text-align: right;\n",
       "    }\n",
       "</style>\n",
       "<table border=\"1\" class=\"dataframe\">\n",
       "  <thead>\n",
       "    <tr style=\"text-align: right;\">\n",
       "      <th></th>\n",
       "      <th>game_ids</th>\n",
       "      <th>AppID</th>\n",
       "      <th>title</th>\n",
       "      <th>mature</th>\n",
       "      <th>earlyAccess</th>\n",
       "      <th>achievements</th>\n",
       "      <th>tradingCards</th>\n",
       "      <th>price_history</th>\n",
       "      <th>About the game</th>\n",
       "      <th>Supported languages</th>\n",
       "      <th>Windows</th>\n",
       "      <th>Mac</th>\n",
       "      <th>Linux</th>\n",
       "      <th>Publishers</th>\n",
       "      <th>Categories</th>\n",
       "      <th>Genres</th>\n",
       "      <th>Tags</th>\n",
       "      <th>ReleaseDate</th>\n",
       "    </tr>\n",
       "  </thead>\n",
       "  <tbody>\n",
       "    <tr>\n",
       "      <th>0</th>\n",
       "      <td>018d937f-0a5b-70dc-b37c-4a0a46d1b122</td>\n",
       "      <td>655370.0</td>\n",
       "      <td>Train Bandit</td>\n",
       "      <td>False</td>\n",
       "      <td>False</td>\n",
       "      <td>True</td>\n",
       "      <td>False</td>\n",
       "      <td>[{'timestamp': '2024-05-13T19:16:33+02:00', 's...</td>\n",
       "      <td>THE LAW!! Looks to be a showdown atop a train....</td>\n",
       "      <td>['English', 'French', 'Italian', 'German', 'Sp...</td>\n",
       "      <td>True</td>\n",
       "      <td>True</td>\n",
       "      <td>False</td>\n",
       "      <td>Wild Rooster</td>\n",
       "      <td>Single-player,Steam Achievements,Full controll...</td>\n",
       "      <td>Action,Indie</td>\n",
       "      <td>Indie,Action,Pixel Graphics,2D,Retro,Arcade,Sc...</td>\n",
       "      <td>2017-10-12</td>\n",
       "    </tr>\n",
       "    <tr>\n",
       "      <th>1</th>\n",
       "      <td>018d937f-00f3-70e3-b3ff-eeb61ac9966c</td>\n",
       "      <td>485000.0</td>\n",
       "      <td>Cthulhu Realms</td>\n",
       "      <td>False</td>\n",
       "      <td>False</td>\n",
       "      <td>False</td>\n",
       "      <td>False</td>\n",
       "      <td>[{'timestamp': '2024-02-11T03:20:08+01:00', 's...</td>\n",
       "      <td>Star Realms has gone insane! Introducing Cthul...</td>\n",
       "      <td>['English']</td>\n",
       "      <td>True</td>\n",
       "      <td>True</td>\n",
       "      <td>False</td>\n",
       "      <td>Wise Wizard Games, LLC</td>\n",
       "      <td>Single-player,Multi-player,Shared/Split Screen...</td>\n",
       "      <td>Strategy</td>\n",
       "      <td>Card Game,Strategy,Deckbuilding,Lovecraftian,B...</td>\n",
       "      <td>2016-07-01</td>\n",
       "    </tr>\n",
       "    <tr>\n",
       "      <th>2</th>\n",
       "      <td>018d937f-158f-72b0-9909-e63af7a0fbbe</td>\n",
       "      <td>290870.0</td>\n",
       "      <td>Steam Squad</td>\n",
       "      <td>False</td>\n",
       "      <td>False</td>\n",
       "      <td>True</td>\n",
       "      <td>True</td>\n",
       "      <td>[{'timestamp': '2024-02-11T02:17:53+01:00', 's...</td>\n",
       "      <td>Steam Squad - tactical wargame, where gameplay...</td>\n",
       "      <td>['English', 'Russian', 'French', 'German']</td>\n",
       "      <td>True</td>\n",
       "      <td>True</td>\n",
       "      <td>True</td>\n",
       "      <td>Bretwalda Games</td>\n",
       "      <td>Single-player,Multi-player,PvP,Shared/Split Sc...</td>\n",
       "      <td>Indie,Strategy</td>\n",
       "      <td>Strategy,Indie,Turn-Based,World War I,Steampun...</td>\n",
       "      <td>2016-07-28</td>\n",
       "    </tr>\n",
       "  </tbody>\n",
       "</table>\n",
       "</div>"
      ],
      "text/plain": [
       "                               game_ids     AppID           title  mature  \\\n",
       "0  018d937f-0a5b-70dc-b37c-4a0a46d1b122  655370.0    Train Bandit   False   \n",
       "1  018d937f-00f3-70e3-b3ff-eeb61ac9966c  485000.0  Cthulhu Realms   False   \n",
       "2  018d937f-158f-72b0-9909-e63af7a0fbbe  290870.0     Steam Squad   False   \n",
       "\n",
       "   earlyAccess  achievements  tradingCards  \\\n",
       "0        False          True         False   \n",
       "1        False         False         False   \n",
       "2        False          True          True   \n",
       "\n",
       "                                       price_history  \\\n",
       "0  [{'timestamp': '2024-05-13T19:16:33+02:00', 's...   \n",
       "1  [{'timestamp': '2024-02-11T03:20:08+01:00', 's...   \n",
       "2  [{'timestamp': '2024-02-11T02:17:53+01:00', 's...   \n",
       "\n",
       "                                      About the game  \\\n",
       "0  THE LAW!! Looks to be a showdown atop a train....   \n",
       "1  Star Realms has gone insane! Introducing Cthul...   \n",
       "2  Steam Squad - tactical wargame, where gameplay...   \n",
       "\n",
       "                                 Supported languages Windows   Mac  Linux  \\\n",
       "0  ['English', 'French', 'Italian', 'German', 'Sp...    True  True  False   \n",
       "1                                        ['English']    True  True  False   \n",
       "2         ['English', 'Russian', 'French', 'German']    True  True   True   \n",
       "\n",
       "               Publishers                                         Categories  \\\n",
       "0            Wild Rooster  Single-player,Steam Achievements,Full controll...   \n",
       "1  Wise Wizard Games, LLC  Single-player,Multi-player,Shared/Split Screen...   \n",
       "2         Bretwalda Games  Single-player,Multi-player,PvP,Shared/Split Sc...   \n",
       "\n",
       "           Genres                                               Tags  \\\n",
       "0    Action,Indie  Indie,Action,Pixel Graphics,2D,Retro,Arcade,Sc...   \n",
       "1        Strategy  Card Game,Strategy,Deckbuilding,Lovecraftian,B...   \n",
       "2  Indie,Strategy  Strategy,Indie,Turn-Based,World War I,Steampun...   \n",
       "\n",
       "  ReleaseDate  \n",
       "0  2017-10-12  \n",
       "1  2016-07-01  \n",
       "2  2016-07-28  "
      ]
     },
     "execution_count": 408,
     "metadata": {},
     "output_type": "execute_result"
    }
   ],
   "source": [
    "raw_train_test_data = complete_api_data[['game_ids', 'AppID', 'title', 'mature', 'earlyAccess',\n",
    "       'achievements', 'tradingCards', 'price_history', 'About the game',\n",
    "       'Supported languages', 'Windows',\n",
    "       'Mac', 'Linux', 'Publishers', 'Categories', 'Genres', 'Tags',\n",
    "       'ReleaseDate']]\n",
    "\n",
    "print(raw_train_test_data.shape)\n",
    "raw_train_test_data.head(3)"
   ]
  },
  {
   "cell_type": "code",
   "execution_count": 393,
   "metadata": {},
   "outputs": [
    {
     "data": {
      "text/plain": [
       "(4327, 42)"
      ]
     },
     "execution_count": 393,
     "metadata": {},
     "output_type": "execute_result"
    }
   ],
   "source": [
    "games_2014_2015_df = pd.read_csv('../data/games_2014_2015.csv')\n",
    "games_2014_2015_df = games_2014_2015_df.drop(columns='Unnamed: 0')\n",
    "games_2014_2015_df.shape"
   ]
  },
  {
   "cell_type": "code",
   "execution_count": 396,
   "metadata": {},
   "outputs": [
    {
     "data": {
      "text/html": [
       "<div>\n",
       "<style scoped>\n",
       "    .dataframe tbody tr th:only-of-type {\n",
       "        vertical-align: middle;\n",
       "    }\n",
       "\n",
       "    .dataframe tbody tr th {\n",
       "        vertical-align: top;\n",
       "    }\n",
       "\n",
       "    .dataframe thead th {\n",
       "        text-align: right;\n",
       "    }\n",
       "</style>\n",
       "<table border=\"1\" class=\"dataframe\">\n",
       "  <thead>\n",
       "    <tr style=\"text-align: right;\">\n",
       "      <th></th>\n",
       "      <th>AppID</th>\n",
       "      <th>game_ids</th>\n",
       "      <th>price_history</th>\n",
       "      <th>Name</th>\n",
       "      <th>Release date</th>\n",
       "      <th>Estimated owners</th>\n",
       "      <th>Peak CCU</th>\n",
       "      <th>Required age</th>\n",
       "      <th>Price</th>\n",
       "      <th>DLC count</th>\n",
       "      <th>...</th>\n",
       "      <th>Developers</th>\n",
       "      <th>Publishers</th>\n",
       "      <th>Categories</th>\n",
       "      <th>Genres</th>\n",
       "      <th>Tags</th>\n",
       "      <th>Screenshots</th>\n",
       "      <th>Movies</th>\n",
       "      <th>ReleaseDate</th>\n",
       "      <th>ParsedReleaseDate</th>\n",
       "      <th>year</th>\n",
       "    </tr>\n",
       "  </thead>\n",
       "  <tbody>\n",
       "    <tr>\n",
       "      <th>0</th>\n",
       "      <td>320150</td>\n",
       "      <td>018d937f-1991-707d-9471-9514d5fe9ba7</td>\n",
       "      <td>[{'timestamp': '2024-02-11T02:18:44+01:00', 's...</td>\n",
       "      <td>Deadlings: Rotten Edition</td>\n",
       "      <td>Nov 11, 2014</td>\n",
       "      <td>50000 - 100000</td>\n",
       "      <td>0</td>\n",
       "      <td>0</td>\n",
       "      <td>3.99</td>\n",
       "      <td>0</td>\n",
       "      <td>...</td>\n",
       "      <td>ONE MORE LEVEL</td>\n",
       "      <td>ONE MORE LEVEL</td>\n",
       "      <td>Single-player,Steam Achievements,Steam Trading...</td>\n",
       "      <td>Action,Adventure,Indie</td>\n",
       "      <td>Action,Indie,Adventure,Puzzle-Platformer,Arcad...</td>\n",
       "      <td>https://cdn.akamai.steamstatic.com/steam/apps/...</td>\n",
       "      <td>http://cdn.akamai.steamstatic.com/steam/apps/2...</td>\n",
       "      <td>2014-11-11</td>\n",
       "      <td>2014-11-11</td>\n",
       "      <td>2014</td>\n",
       "    </tr>\n",
       "    <tr>\n",
       "      <th>1</th>\n",
       "      <td>346560</td>\n",
       "      <td>018d937f-33d7-726f-bf1d-b8a4482faf81</td>\n",
       "      <td>[{'timestamp': '2024-05-20T19:16:12+02:00', 's...</td>\n",
       "      <td>Hero of the Kingdom II</td>\n",
       "      <td>Feb 20, 2015</td>\n",
       "      <td>100000 - 200000</td>\n",
       "      <td>5</td>\n",
       "      <td>0</td>\n",
       "      <td>7.99</td>\n",
       "      <td>0</td>\n",
       "      <td>...</td>\n",
       "      <td>Lonely Troops</td>\n",
       "      <td>Lonely Troops</td>\n",
       "      <td>Single-player,Steam Achievements,Steam Trading...</td>\n",
       "      <td>Adventure,Casual,Indie,RPG</td>\n",
       "      <td>Adventure,Casual,Point &amp; Click,RPG,Indie,Isome...</td>\n",
       "      <td>https://cdn.akamai.steamstatic.com/steam/apps/...</td>\n",
       "      <td>http://cdn.akamai.steamstatic.com/steam/apps/2...</td>\n",
       "      <td>2015-02-20</td>\n",
       "      <td>2015-02-20</td>\n",
       "      <td>2015</td>\n",
       "    </tr>\n",
       "    <tr>\n",
       "      <th>2</th>\n",
       "      <td>262150</td>\n",
       "      <td>018d937e-f545-7261-8deb-4868dcf6151e</td>\n",
       "      <td>[{'timestamp': '2024-05-13T19:21:27+02:00', 's...</td>\n",
       "      <td>Vanguard Princess</td>\n",
       "      <td>Mar 3, 2014</td>\n",
       "      <td>200000 - 500000</td>\n",
       "      <td>1</td>\n",
       "      <td>0</td>\n",
       "      <td>2.49</td>\n",
       "      <td>7</td>\n",
       "      <td>...</td>\n",
       "      <td>Tomoaki Sugeno</td>\n",
       "      <td>eigoMANGA</td>\n",
       "      <td>Single-player,Multi-player,PvP,Shared/Split Sc...</td>\n",
       "      <td>Action,Casual,Indie</td>\n",
       "      <td>Anime,Fighting,2D Fighter,Indie,Female Protago...</td>\n",
       "      <td>https://cdn.akamai.steamstatic.com/steam/apps/...</td>\n",
       "      <td>http://cdn.akamai.steamstatic.com/steam/apps/2...</td>\n",
       "      <td>2014-03-03</td>\n",
       "      <td>2014-03-03</td>\n",
       "      <td>2014</td>\n",
       "    </tr>\n",
       "  </tbody>\n",
       "</table>\n",
       "<p>3 rows × 44 columns</p>\n",
       "</div>"
      ],
      "text/plain": [
       "    AppID                              game_ids  \\\n",
       "0  320150  018d937f-1991-707d-9471-9514d5fe9ba7   \n",
       "1  346560  018d937f-33d7-726f-bf1d-b8a4482faf81   \n",
       "2  262150  018d937e-f545-7261-8deb-4868dcf6151e   \n",
       "\n",
       "                                       price_history  \\\n",
       "0  [{'timestamp': '2024-02-11T02:18:44+01:00', 's...   \n",
       "1  [{'timestamp': '2024-05-20T19:16:12+02:00', 's...   \n",
       "2  [{'timestamp': '2024-05-13T19:21:27+02:00', 's...   \n",
       "\n",
       "                        Name  Release date Estimated owners  Peak CCU  \\\n",
       "0  Deadlings: Rotten Edition  Nov 11, 2014   50000 - 100000         0   \n",
       "1     Hero of the Kingdom II  Feb 20, 2015  100000 - 200000         5   \n",
       "2          Vanguard Princess   Mar 3, 2014  200000 - 500000         1   \n",
       "\n",
       "   Required age  Price  DLC count  ...      Developers      Publishers  \\\n",
       "0             0   3.99          0  ...  ONE MORE LEVEL  ONE MORE LEVEL   \n",
       "1             0   7.99          0  ...   Lonely Troops   Lonely Troops   \n",
       "2             0   2.49          7  ...  Tomoaki Sugeno       eigoMANGA   \n",
       "\n",
       "                                          Categories  \\\n",
       "0  Single-player,Steam Achievements,Steam Trading...   \n",
       "1  Single-player,Steam Achievements,Steam Trading...   \n",
       "2  Single-player,Multi-player,PvP,Shared/Split Sc...   \n",
       "\n",
       "                       Genres  \\\n",
       "0      Action,Adventure,Indie   \n",
       "1  Adventure,Casual,Indie,RPG   \n",
       "2         Action,Casual,Indie   \n",
       "\n",
       "                                                Tags  \\\n",
       "0  Action,Indie,Adventure,Puzzle-Platformer,Arcad...   \n",
       "1  Adventure,Casual,Point & Click,RPG,Indie,Isome...   \n",
       "2  Anime,Fighting,2D Fighter,Indie,Female Protago...   \n",
       "\n",
       "                                         Screenshots  \\\n",
       "0  https://cdn.akamai.steamstatic.com/steam/apps/...   \n",
       "1  https://cdn.akamai.steamstatic.com/steam/apps/...   \n",
       "2  https://cdn.akamai.steamstatic.com/steam/apps/...   \n",
       "\n",
       "                                              Movies ReleaseDate  \\\n",
       "0  http://cdn.akamai.steamstatic.com/steam/apps/2...  2014-11-11   \n",
       "1  http://cdn.akamai.steamstatic.com/steam/apps/2...  2015-02-20   \n",
       "2  http://cdn.akamai.steamstatic.com/steam/apps/2...  2014-03-03   \n",
       "\n",
       "   ParsedReleaseDate  year  \n",
       "0         2014-11-11  2014  \n",
       "1         2015-02-20  2015  \n",
       "2         2014-03-03  2014  \n",
       "\n",
       "[3 rows x 44 columns]"
      ]
     },
     "execution_count": 396,
     "metadata": {},
     "output_type": "execute_result"
    }
   ],
   "source": [
    "# doing this again for 2014-2015 data\n",
    "\n",
    "api_data_2014_2015 = pd.read_csv('../data/price_history_2014_2015.csv')\n",
    "api_data_2014_2015 = api_data_2014_2015.rename(columns = {'appid': 'AppID'})\n",
    "\n",
    "complete_api_data_2014_2015 = api_data_2014_2015.merge(games_2014_2015_df, how='left', on='AppID')\n",
    "complete_api_data_2014_2015.head(3)"
   ]
  },
  {
   "cell_type": "code",
   "execution_count": 398,
   "metadata": {},
   "outputs": [
    {
     "data": {
      "text/plain": [
       "Index(['AppID', 'game_ids', 'price_history', 'Name', 'Release date',\n",
       "       'Estimated owners', 'Peak CCU', 'Required age', 'Price', 'DLC count',\n",
       "       'About the game', 'Supported languages', 'Full audio languages',\n",
       "       'Reviews', 'Header image', 'Website', 'Support url', 'Support email',\n",
       "       'Windows', 'Mac', 'Linux', 'Metacritic score', 'Metacritic url',\n",
       "       'User score', 'Positive', 'Negative', 'Score rank', 'Achievements',\n",
       "       'Recommendations', 'Notes', 'Average playtime forever',\n",
       "       'Average playtime two weeks', 'Median playtime forever',\n",
       "       'Median playtime two weeks', 'Developers', 'Publishers', 'Categories',\n",
       "       'Genres', 'Tags', 'Screenshots', 'Movies', 'ReleaseDate',\n",
       "       'ParsedReleaseDate', 'year'],\n",
       "      dtype='object')"
      ]
     },
     "execution_count": 398,
     "metadata": {},
     "output_type": "execute_result"
    }
   ],
   "source": [
    "complete_api_data_2014_2015.columns"
   ]
  },
  {
   "cell_type": "markdown",
   "metadata": {},
   "source": [
    "So we don't have `title` but we have `name` - `title` comes from the game_info api which we didn't use here but we don't need it for modeling anyway. The other columns we can't get are `mature`, `earlyAccess`, and `tradingCards` but we can remove these (tradinCards shows up in the Tags column anyway, earlyAccess isn't relevant to us here, and finally mature has too few True values as you'll see below)."
   ]
  },
  {
   "cell_type": "code",
   "execution_count": 403,
   "metadata": {},
   "outputs": [],
   "source": [
    "raw_train_test_data_2 = complete_api_data_2014_2015[\n",
    "    ['game_ids', 'AppID', 'Name', 'Achievements', 'price_history', 'About the game', 'Supported languages', \n",
    "    'Windows', 'Mac', 'Linux', 'Publishers', 'Categories', 'Genres', 'Tags', 'ReleaseDate']]\n",
    "\n",
    "    "
   ]
  },
  {
   "cell_type": "markdown",
   "metadata": {},
   "source": [
    "## EDA and Preprocessing"
   ]
  },
  {
   "cell_type": "markdown",
   "metadata": {},
   "source": [
    "### Target Variable\n",
    "\n",
    "The target variable will be the amount of time from the release date to the first price drop. We will consider the time in months. First let's clean the raw_train_test_data dataframe."
   ]
  },
  {
   "cell_type": "code",
   "execution_count": 451,
   "metadata": {},
   "outputs": [],
   "source": [
    "import ast\n",
    "import numpy as np\n",
    "from collections import Counter"
   ]
  },
  {
   "cell_type": "code",
   "execution_count": 452,
   "metadata": {},
   "outputs": [],
   "source": [
    "def safe_eval(val, eval_func):\n",
    "    if pd.isna(val):  # Check for NaN values\n",
    "        return val\n",
    "    if isinstance(val, str):  # Ensure the value is a string\n",
    "        try:\n",
    "            return eval_func(val)\n",
    "        except (ValueError, SyntaxError):\n",
    "            return val  # Return the original value if it can't be parsed\n",
    "    return val  # Return the original value if it's not a string\n",
    "\n",
    "def preprocess_price_history(df):\n",
    "    # convert string lists to lists remove empty lists\n",
    "    df['price_history'] = df['price_history'].apply(lambda x: safe_eval(x, ast.literal_eval))\n",
    "\n",
    "    # remove empty lists\n",
    "    df = df[df['price_history'].apply(lambda x: len(x) > 0)]\n",
    "    df = df.reset_index(drop=True)\n",
    "\n",
    "    return df\n",
    "\n",
    "def preprocess_release_date(df):\n",
    "    df = df.dropna(subset='ReleaseDate')\n",
    "    df = df.reset_index(drop=True)\n",
    "    return df\n",
    "\n",
    "def time_until_discount(price_history, release_date):\n",
    "    for i in range(len(price_history)-1, -1, -1):\n",
    "        ph = price_history[i]\n",
    "\n",
    "        # need to make sure we only consider steam sales and the discount date isn't before release date\n",
    "        shop_id = ph['shop']['id']\n",
    "        discount_date = ph['timestamp']\n",
    "        discount_date = datetime.fromisoformat(discount_date).date()\n",
    "\n",
    "        if (shop_id == 61) and (release_date < discount_date):\n",
    "            regular_price = ph['deal']['regular']['amount']\n",
    "            discount_price = ph['deal']['price']['amount']\n",
    "\n",
    "            if discount_price < regular_price:\n",
    "                time_delta = discount_date - release_date\n",
    "                months_until_discount = time_delta.days\n",
    "\n",
    "                return months_until_discount\n",
    "        else:\n",
    "            continue\n",
    "        \n",
    "    # if never went on sale, then return the the time since release in months\n",
    "    final_recorded_date = datetime.fromisoformat(price_history[0]['timestamp']).date()\n",
    "    time_since_release = (final_recorded_date - release_date).days\n",
    "    return time_since_release\n",
    "\n",
    "\n",
    "def remove_price_history_errors(df):\n",
    "    days_until_discount_lst = []\n",
    "\n",
    "    for i, row in df.iterrows():\n",
    "        #print(i)\n",
    "        release_date = datetime.fromisoformat(row['ReleaseDate']).date()\n",
    "        try:\n",
    "            time_delta = time_until_discount(row['price_history'], release_date)\n",
    "            if time_delta < 0:\n",
    "                days_until_discount_lst.append(0)\n",
    "            else:\n",
    "                days_until_discount_lst.append(time_delta)\n",
    "        except (TypeError):\n",
    "            days_until_discount_lst.append(np.nan)\n",
    "            continue\n",
    "\n",
    "    return pd.DataFrame(days_until_discount_lst)\n",
    "\n",
    "def get_time_delta_col(df):\n",
    "    days_until_sale = remove_price_history_errors(df)\n",
    "    df = pd.concat([df, days_until_sale], axis=1)\n",
    "    df = df.rename(columns={0:'TimeDelta'})\n",
    "    df = df.dropna(subset='TimeDelta')\n",
    "    df = df.reset_index(drop=True)\n",
    "    return df\n",
    "\n",
    "# might only want to not consider games that went on sale on release or never since release\n",
    "def when_did_it_discount(price_history, release_date):\n",
    "    for i in range(len(price_history)-1, -1, -1):\n",
    "        ph = price_history[i]\n",
    "\n",
    "        # need to make sure we only consider steam sales and the discount date isn't before release date\n",
    "        shop_id = ph['shop']['id']\n",
    "        discount_date = ph['timestamp']\n",
    "        discount_date = datetime.fromisoformat(discount_date).date()\n",
    "\n",
    "        if (shop_id == 61) and (release_date < discount_date):\n",
    "            regular_price = ph['deal']['regular']['amount']\n",
    "            discount_price = ph['deal']['price']['amount']\n",
    "\n",
    "            if discount_price < regular_price:\n",
    "                if i == 0:\n",
    "                    return 'went on sale on release'\n",
    "                else:\n",
    "                    return 'went on sale'\n",
    "        else:\n",
    "            continue\n",
    "\n",
    "    return 'never went on sale'\n",
    "\n",
    "def get_sales_type(df):\n",
    "    sale_types = []\n",
    "\n",
    "    for i, row in df.iterrows():\n",
    "        #print(i)\n",
    "        release_date = datetime.fromisoformat(row['ReleaseDate']).date()\n",
    "        try:\n",
    "            sale_type = when_did_it_discount(row['price_history'], release_date)\n",
    "            sale_types.append(sale_type)\n",
    "        except (TypeError):\n",
    "            print(i)\n",
    "            sale_types.append('error')\n",
    "            continue\n",
    "\n",
    "    sale_type_df = pd.DataFrame(sale_types)\n",
    "    sale_type_df = sale_type_df.rename(columns={0: 'SaleType'})\n",
    "\n",
    "    return sale_type_df"
   ]
  },
  {
   "cell_type": "code",
   "execution_count": null,
   "metadata": {},
   "outputs": [],
   "source": [
    "# raw_train_test_data = raw_train_test_data.dropna(subset='ReleaseDate')\n",
    "\n",
    "# raw_train_test_data['price_history'] = raw_train_test_data['price_history'].apply(lambda x: safe_eval(x, ast.literal_eval))\n",
    "\n",
    "# raw_train_test_data = raw_train_test_data[raw_train_test_data['price_history'].apply(lambda x: len(x) > 0)]\n",
    "# raw_train_test_data = raw_train_test_data.reset_index(drop=True)"
   ]
  },
  {
   "cell_type": "code",
   "execution_count": 108,
   "metadata": {},
   "outputs": [
    {
     "data": {
      "text/plain": [
       "{'timestamp': '2024-05-13T19:16:33+02:00',\n",
       " 'shop': {'id': 61, 'name': 'Steam'},\n",
       " 'deal': {'price': {'amount': 0.49, 'amountInt': 49, 'currency': 'USD'},\n",
       "  'regular': {'amount': 0.99, 'amountInt': 99, 'currency': 'USD'},\n",
       "  'cut': 51}}"
      ]
     },
     "execution_count": 108,
     "metadata": {},
     "output_type": "execute_result"
    }
   ],
   "source": [
    "example_ph = raw_train_test_data['price_history'][0]\n",
    "example_ph[0]"
   ]
  },
  {
   "cell_type": "markdown",
   "metadata": {},
   "source": [
    "We have a dictionary of dictionaries to parse through."
   ]
  },
  {
   "cell_type": "code",
   "execution_count": 109,
   "metadata": {},
   "outputs": [
    {
     "name": "stdout",
     "output_type": "stream",
     "text": [
      "regular price: 0.99\n",
      "discount price: 0.49\n",
      "release date: 2017-10-12\n"
     ]
    }
   ],
   "source": [
    "example_idx = 2\n",
    "regular_price = example_ph[example_idx]['deal']['regular']['amount']\n",
    "print('regular price:', regular_price)\n",
    "\n",
    "discount_price = example_ph[example_idx]['deal']['price']['amount']\n",
    "print('discount price:', discount_price)\n",
    "\n",
    "release_date = datetime.fromisoformat(raw_train_test_data['ReleaseDate'][0]).date()\n",
    "print('release date:', release_date)"
   ]
  },
  {
   "cell_type": "code",
   "execution_count": 111,
   "metadata": {},
   "outputs": [
    {
     "data": {
      "text/plain": [
       "32"
      ]
     },
     "execution_count": 111,
     "metadata": {},
     "output_type": "execute_result"
    }
   ],
   "source": [
    "time_until_discount(example_ph, release_date)"
   ]
  },
  {
   "cell_type": "code",
   "execution_count": 112,
   "metadata": {},
   "outputs": [
    {
     "name": "stdout",
     "output_type": "stream",
     "text": [
      "less than zero 3556 -7\n",
      "4811\n",
      "4814\n",
      "4815\n",
      "4820\n"
     ]
    }
   ],
   "source": [
    "for i, row in raw_train_test_data.iterrows():\n",
    "    #print(i)\n",
    "    release_date = datetime.fromisoformat(row['ReleaseDate']).date()\n",
    "    try:\n",
    "        time_delta = time_until_discount(row['price_history'], release_date)\n",
    "        if time_delta < 0:\n",
    "            print('less than zero', i, time_delta)\n",
    "    except (TypeError):\n",
    "        print(i)\n",
    "        continue"
   ]
  },
  {
   "cell_type": "markdown",
   "metadata": {},
   "source": [
    "So for whatever reason we have a few errors and negative values. Let's remove these errors and make negative values 0, indicating a discoutn price on release."
   ]
  },
  {
   "cell_type": "code",
   "execution_count": 406,
   "metadata": {},
   "outputs": [
    {
     "name": "stdout",
     "output_type": "stream",
     "text": [
      "0    0\n",
      "dtype: int64\n"
     ]
    },
    {
     "data": {
      "text/plain": [
       "(10341, 1)"
      ]
     },
     "execution_count": 406,
     "metadata": {},
     "output_type": "execute_result"
    }
   ],
   "source": [
    "days_until_sale = remove_price_history_errors(raw_train_test_data)\n",
    "print(days_until_sale.isna().sum())\n",
    "days_until_sale.shape"
   ]
  },
  {
   "cell_type": "code",
   "execution_count": 115,
   "metadata": {},
   "outputs": [],
   "source": [
    "# raw_train_test_data = pd.concat([raw_train_test_data, days_until_sale], axis=1)\n",
    "# raw_train_test_data = raw_train_test_data.rename(columns={0:'TimeDelta'})\n",
    "# raw_train_test_data = raw_train_test_data.dropna(subset='TimeDelta')\n",
    "# raw_train_test_data = raw_train_test_data.reset_index(drop=True)"
   ]
  },
  {
   "cell_type": "code",
   "execution_count": null,
   "metadata": {},
   "outputs": [],
   "source": [
    "raw_train_test_data = preprocess_price_history(raw_train_test_data)\n",
    "raw_train_test_data = preprocess_release_date(raw_train_test_data)\n",
    "raw_train_test_data = get_time_delta_col(raw_train_test_data)"
   ]
  },
  {
   "cell_type": "code",
   "execution_count": 418,
   "metadata": {},
   "outputs": [
    {
     "data": {
      "text/html": [
       "<div>\n",
       "<style scoped>\n",
       "    .dataframe tbody tr th:only-of-type {\n",
       "        vertical-align: middle;\n",
       "    }\n",
       "\n",
       "    .dataframe tbody tr th {\n",
       "        vertical-align: top;\n",
       "    }\n",
       "\n",
       "    .dataframe thead th {\n",
       "        text-align: right;\n",
       "    }\n",
       "</style>\n",
       "<table border=\"1\" class=\"dataframe\">\n",
       "  <thead>\n",
       "    <tr style=\"text-align: right;\">\n",
       "      <th></th>\n",
       "      <th>game_ids</th>\n",
       "      <th>AppID</th>\n",
       "      <th>title</th>\n",
       "      <th>mature</th>\n",
       "      <th>earlyAccess</th>\n",
       "      <th>achievements</th>\n",
       "      <th>tradingCards</th>\n",
       "      <th>price_history</th>\n",
       "      <th>About the game</th>\n",
       "      <th>Supported languages</th>\n",
       "      <th>Windows</th>\n",
       "      <th>Mac</th>\n",
       "      <th>Linux</th>\n",
       "      <th>Publishers</th>\n",
       "      <th>Categories</th>\n",
       "      <th>Genres</th>\n",
       "      <th>Tags</th>\n",
       "      <th>ReleaseDate</th>\n",
       "      <th>TimeDelta</th>\n",
       "    </tr>\n",
       "  </thead>\n",
       "  <tbody>\n",
       "    <tr>\n",
       "      <th>0</th>\n",
       "      <td>018d937f-0a5b-70dc-b37c-4a0a46d1b122</td>\n",
       "      <td>655370.0</td>\n",
       "      <td>Train Bandit</td>\n",
       "      <td>False</td>\n",
       "      <td>False</td>\n",
       "      <td>True</td>\n",
       "      <td>False</td>\n",
       "      <td>[{'timestamp': '2024-05-13T19:16:33+02:00', 's...</td>\n",
       "      <td>THE LAW!! Looks to be a showdown atop a train....</td>\n",
       "      <td>['English', 'French', 'Italian', 'German', 'Sp...</td>\n",
       "      <td>True</td>\n",
       "      <td>True</td>\n",
       "      <td>False</td>\n",
       "      <td>Wild Rooster</td>\n",
       "      <td>Single-player,Steam Achievements,Full controll...</td>\n",
       "      <td>Action,Indie</td>\n",
       "      <td>Indie,Action,Pixel Graphics,2D,Retro,Arcade,Sc...</td>\n",
       "      <td>2017-10-12</td>\n",
       "      <td>32.0</td>\n",
       "    </tr>\n",
       "    <tr>\n",
       "      <th>1</th>\n",
       "      <td>018d937f-00f3-70e3-b3ff-eeb61ac9966c</td>\n",
       "      <td>485000.0</td>\n",
       "      <td>Cthulhu Realms</td>\n",
       "      <td>False</td>\n",
       "      <td>False</td>\n",
       "      <td>False</td>\n",
       "      <td>False</td>\n",
       "      <td>[{'timestamp': '2024-02-11T03:20:08+01:00', 's...</td>\n",
       "      <td>Star Realms has gone insane! Introducing Cthul...</td>\n",
       "      <td>['English']</td>\n",
       "      <td>True</td>\n",
       "      <td>True</td>\n",
       "      <td>False</td>\n",
       "      <td>Wise Wizard Games, LLC</td>\n",
       "      <td>Single-player,Multi-player,Shared/Split Screen...</td>\n",
       "      <td>Strategy</td>\n",
       "      <td>Card Game,Strategy,Deckbuilding,Lovecraftian,B...</td>\n",
       "      <td>2016-07-01</td>\n",
       "      <td>2781.0</td>\n",
       "    </tr>\n",
       "    <tr>\n",
       "      <th>2</th>\n",
       "      <td>018d937f-158f-72b0-9909-e63af7a0fbbe</td>\n",
       "      <td>290870.0</td>\n",
       "      <td>Steam Squad</td>\n",
       "      <td>False</td>\n",
       "      <td>False</td>\n",
       "      <td>True</td>\n",
       "      <td>True</td>\n",
       "      <td>[{'timestamp': '2024-02-11T02:17:53+01:00', 's...</td>\n",
       "      <td>Steam Squad - tactical wargame, where gameplay...</td>\n",
       "      <td>['English', 'Russian', 'French', 'German']</td>\n",
       "      <td>True</td>\n",
       "      <td>True</td>\n",
       "      <td>True</td>\n",
       "      <td>Bretwalda Games</td>\n",
       "      <td>Single-player,Multi-player,PvP,Shared/Split Sc...</td>\n",
       "      <td>Indie,Strategy</td>\n",
       "      <td>Strategy,Indie,Turn-Based,World War I,Steampun...</td>\n",
       "      <td>2016-07-28</td>\n",
       "      <td>81.0</td>\n",
       "    </tr>\n",
       "  </tbody>\n",
       "</table>\n",
       "</div>"
      ],
      "text/plain": [
       "                               game_ids     AppID           title  mature  \\\n",
       "0  018d937f-0a5b-70dc-b37c-4a0a46d1b122  655370.0    Train Bandit   False   \n",
       "1  018d937f-00f3-70e3-b3ff-eeb61ac9966c  485000.0  Cthulhu Realms   False   \n",
       "2  018d937f-158f-72b0-9909-e63af7a0fbbe  290870.0     Steam Squad   False   \n",
       "\n",
       "   earlyAccess  achievements  tradingCards  \\\n",
       "0        False          True         False   \n",
       "1        False         False         False   \n",
       "2        False          True          True   \n",
       "\n",
       "                                       price_history  \\\n",
       "0  [{'timestamp': '2024-05-13T19:16:33+02:00', 's...   \n",
       "1  [{'timestamp': '2024-02-11T03:20:08+01:00', 's...   \n",
       "2  [{'timestamp': '2024-02-11T02:17:53+01:00', 's...   \n",
       "\n",
       "                                      About the game  \\\n",
       "0  THE LAW!! Looks to be a showdown atop a train....   \n",
       "1  Star Realms has gone insane! Introducing Cthul...   \n",
       "2  Steam Squad - tactical wargame, where gameplay...   \n",
       "\n",
       "                                 Supported languages Windows   Mac  Linux  \\\n",
       "0  ['English', 'French', 'Italian', 'German', 'Sp...    True  True  False   \n",
       "1                                        ['English']    True  True  False   \n",
       "2         ['English', 'Russian', 'French', 'German']    True  True   True   \n",
       "\n",
       "               Publishers                                         Categories  \\\n",
       "0            Wild Rooster  Single-player,Steam Achievements,Full controll...   \n",
       "1  Wise Wizard Games, LLC  Single-player,Multi-player,Shared/Split Screen...   \n",
       "2         Bretwalda Games  Single-player,Multi-player,PvP,Shared/Split Sc...   \n",
       "\n",
       "           Genres                                               Tags  \\\n",
       "0    Action,Indie  Indie,Action,Pixel Graphics,2D,Retro,Arcade,Sc...   \n",
       "1        Strategy  Card Game,Strategy,Deckbuilding,Lovecraftian,B...   \n",
       "2  Indie,Strategy  Strategy,Indie,Turn-Based,World War I,Steampun...   \n",
       "\n",
       "  ReleaseDate  TimeDelta  \n",
       "0  2017-10-12       32.0  \n",
       "1  2016-07-01     2781.0  \n",
       "2  2016-07-28       81.0  "
      ]
     },
     "execution_count": 418,
     "metadata": {},
     "output_type": "execute_result"
    }
   ],
   "source": [
    "raw_train_test_data.head(3)"
   ]
  },
  {
   "cell_type": "code",
   "execution_count": 420,
   "metadata": {},
   "outputs": [
    {
     "data": {
      "image/png": "[encoded data removed]",
      "text/plain": [
       "<Figure size 640x480 with 1 Axes>"
      ]
     },
     "metadata": {},
     "output_type": "display_data"
    }
   ],
   "source": [
    "#time_delta_col = raw_train_test_data['TimeDelta'].apply(lambda x: int(x))\n",
    "time_delta_col = raw_train_test_data['TimeDelta'].apply(lambda x: x // 30)\n",
    "\n",
    "plt.hist(time_delta_col, bins=3, edgecolor='black')\n",
    "plt.xlabel('Months')\n",
    "plt.ylabel('Frequency')\n",
    "plt.title('Histogram of TimeDelta (in months)')\n",
    "plt.show()"
   ]
  },
  {
   "cell_type": "code",
   "execution_count": 119,
   "metadata": {},
   "outputs": [
    {
     "data": {
      "text/plain": [
       "'went on sale'"
      ]
     },
     "execution_count": 119,
     "metadata": {},
     "output_type": "execute_result"
    }
   ],
   "source": [
    "when_did_it_discount(example_ph, release_date)"
   ]
  },
  {
   "cell_type": "code",
   "execution_count": 449,
   "metadata": {},
   "outputs": [
    {
     "data": {
      "text/plain": [
       "Counter({'went on sale': 9009,\n",
       "         'never went on sale': 1331,\n",
       "         'went on sale on release': 1})"
      ]
     },
     "execution_count": 449,
     "metadata": {},
     "output_type": "execute_result"
    }
   ],
   "source": [
    "sale_type_df = get_sales_type(raw_train_test_data)\n",
    "Counter(sale_type_df['SaleType'].tolist())"
   ]
  },
  {
   "cell_type": "code",
   "execution_count": null,
   "metadata": {},
   "outputs": [],
   "source": [
    "raw_train_test_data = pd.concat([raw_train_test_data, sale_type_df], axis=1)"
   ]
  },
  {
   "cell_type": "markdown",
   "metadata": {},
   "source": [
    "#### Games that Went on Sale"
   ]
  },
  {
   "cell_type": "markdown",
   "metadata": {},
   "source": [
    "Okay so we have most of the data still if we only consider games that went on sale. We could build another model to see if a game will even go on sale though. In any case, let's focus on games that went on sale."
   ]
  },
  {
   "cell_type": "code",
   "execution_count": 44,
   "metadata": {},
   "outputs": [
    {
     "ename": "NameError",
     "evalue": "name 'raw_train_test_data' is not defined",
     "output_type": "error",
     "traceback": [
      "\u001b[1;31m---------------------------------------------------------------------------\u001b[0m",
      "\u001b[1;31mNameError\u001b[0m                                 Traceback (most recent call last)",
      "Cell \u001b[1;32mIn[44], line 1\u001b[0m\n\u001b[1;32m----> 1\u001b[0m discounted_games \u001b[38;5;241m=\u001b[39m \u001b[43mraw_train_test_data\u001b[49m[raw_train_test_data[\u001b[38;5;124m'\u001b[39m\u001b[38;5;124mSaleType\u001b[39m\u001b[38;5;124m'\u001b[39m] \u001b[38;5;241m==\u001b[39m \u001b[38;5;124m'\u001b[39m\u001b[38;5;124mwent on sale\u001b[39m\u001b[38;5;124m'\u001b[39m]\n\u001b[0;32m      2\u001b[0m discounted_games\u001b[38;5;241m.\u001b[39mshape\n",
      "\u001b[1;31mNameError\u001b[0m: name 'raw_train_test_data' is not defined"
     ]
    }
   ],
   "source": [
    "discounted_games = raw_train_test_data[raw_train_test_data['SaleType'] == 'went on sale']\n",
    "discounted_games.shape"
   ]
  },
  {
   "cell_type": "code",
   "execution_count": 125,
   "metadata": {},
   "outputs": [
    {
     "data": {
      "image/png": "[encoded data removed]",
      "text/plain": [
       "<Figure size 640x480 with 1 Axes>"
      ]
     },
     "metadata": {},
     "output_type": "display_data"
    }
   ],
   "source": [
    "time_delta_discounted_games = discounted_games['TimeDelta'].apply(lambda x: x // 30)\n",
    "\n",
    "plt.hist(time_delta_discounted_games, bins=10, edgecolor='black')\n",
    "plt.xlabel('Months')\n",
    "plt.ylabel('Frequency')\n",
    "plt.title('Histogram of TimeDelta (in months)')\n",
    "plt.show()"
   ]
  },
  {
   "cell_type": "markdown",
   "metadata": {},
   "source": [
    "Looks like 40 months might be a good cutoff for games but let's explore."
   ]
  },
  {
   "cell_type": "code",
   "execution_count": 126,
   "metadata": {},
   "outputs": [
    {
     "name": "stdout",
     "output_type": "stream",
     "text": [
      "number of discounted games within cutoff: 8749\n",
      "number of discounted games outside of cutoff: 260\n"
     ]
    },
    {
     "data": {
      "image/png": "[encoded data removed]",
      "text/plain": [
       "<Figure size 640x480 with 1 Axes>"
      ]
     },
     "metadata": {},
     "output_type": "display_data"
    }
   ],
   "source": [
    "num_of_months_cutoff = 12\n",
    "\n",
    "discounted_games_subset = discounted_games[discounted_games['TimeDelta'] < num_of_months_cutoff*30]\n",
    "print('number of discounted games within cutoff:', discounted_games_subset.shape[0])\n",
    "print('number of discounted games outside of cutoff:', discounted_games.shape[0] - discounted_games_subset.shape[0])\n",
    "\n",
    "time_delta_discounted_games = discounted_games_subset['TimeDelta'].apply(lambda x: x // 30)\n",
    "\n",
    "plt.hist(time_delta_discounted_games, bins=3, edgecolor='black')\n",
    "plt.xlabel('Months')\n",
    "plt.ylabel('Frequency')\n",
    "plt.title('Histogram of TimeDelta (in months)')\n",
    "plt.show()"
   ]
  },
  {
   "cell_type": "markdown",
   "metadata": {},
   "source": [
    "Let's actually try an uneven bin range, meaning let's customize it to something like 0-3 months, 4-6 months, 6-12, and then more than a year."
   ]
  },
  {
   "cell_type": "code",
   "execution_count": 127,
   "metadata": {},
   "outputs": [
    {
     "data": {
      "text/plain": [
       "Counter({0.0: 4399,\n",
       "         1.0: 1591,\n",
       "         2.0: 1310,\n",
       "         3.0: 585,\n",
       "         4.0: 329,\n",
       "         5.0: 169,\n",
       "         6.0: 139,\n",
       "         8.0: 69,\n",
       "         7.0: 69,\n",
       "         9.0: 40,\n",
       "         10.0: 26,\n",
       "         11.0: 23,\n",
       "         12.0: 17,\n",
       "         14.0: 15,\n",
       "         13.0: 15,\n",
       "         17.0: 13,\n",
       "         16.0: 13,\n",
       "         18.0: 12,\n",
       "         23.0: 10,\n",
       "         15.0: 8,\n",
       "         30.0: 7,\n",
       "         76.0: 7,\n",
       "         19.0: 6,\n",
       "         22.0: 6,\n",
       "         21.0: 6,\n",
       "         20.0: 6,\n",
       "         25.0: 5,\n",
       "         39.0: 5,\n",
       "         83.0: 5,\n",
       "         34.0: 4,\n",
       "         81.0: 4,\n",
       "         35.0: 4,\n",
       "         37.0: 4,\n",
       "         45.0: 4,\n",
       "         38.0: 4,\n",
       "         33.0: 3,\n",
       "         48.0: 3,\n",
       "         49.0: 3,\n",
       "         52.0: 3,\n",
       "         32.0: 3,\n",
       "         77.0: 3,\n",
       "         26.0: 3,\n",
       "         53.0: 2,\n",
       "         64.0: 2,\n",
       "         62.0: 2,\n",
       "         90.0: 2,\n",
       "         24.0: 2,\n",
       "         31.0: 2,\n",
       "         27.0: 2,\n",
       "         78.0: 2,\n",
       "         95.0: 2,\n",
       "         28.0: 2,\n",
       "         51.0: 2,\n",
       "         63.0: 2,\n",
       "         50.0: 2,\n",
       "         29.0: 2,\n",
       "         61.0: 1,\n",
       "         47.0: 1,\n",
       "         44.0: 1,\n",
       "         46.0: 1,\n",
       "         65.0: 1,\n",
       "         67.0: 1,\n",
       "         73.0: 1,\n",
       "         71.0: 1,\n",
       "         42.0: 1,\n",
       "         66.0: 1,\n",
       "         88.0: 1,\n",
       "         84.0: 1,\n",
       "         41.0: 1,\n",
       "         97.0: 1,\n",
       "         93.0: 1,\n",
       "         75.0: 1,\n",
       "         98.0: 1,\n",
       "         85.0: 1,\n",
       "         79.0: 1,\n",
       "         60.0: 1,\n",
       "         55.0: 1,\n",
       "         89.0: 1,\n",
       "         40.0: 1,\n",
       "         59.0: 1,\n",
       "         87.0: 1,\n",
       "         70.0: 1,\n",
       "         56.0: 1,\n",
       "         43.0: 1,\n",
       "         82.0: 1,\n",
       "         57.0: 1,\n",
       "         86.0: 1})"
      ]
     },
     "execution_count": 127,
     "metadata": {},
     "output_type": "execute_result"
    }
   ],
   "source": [
    "months_time_delta = discounted_games['TimeDelta'] // 30\n",
    "Counter(months_time_delta)"
   ]
  },
  {
   "cell_type": "markdown",
   "metadata": {},
   "source": [
    "Based on the distribution it makes more sense to have classes based on the below chart, which is games that went on sale in less than a month, 1-3 months, 4-6 months, and then 6+ months as the final class."
   ]
  },
  {
   "cell_type": "code",
   "execution_count": 128,
   "metadata": {},
   "outputs": [
    {
     "data": {
      "image/png": "[encoded data removed]",
      "text/plain": [
       "<Figure size 640x480 with 1 Axes>"
      ]
     },
     "metadata": {},
     "output_type": "display_data"
    }
   ],
   "source": [
    "# disregard games that went on sale in the first month\n",
    "discounted_games_subset = discounted_games[discounted_games['TimeDelta'] > 0]\n",
    "\n",
    "#time_delta_discounted_games = months_time_delta[months_time_delta > 0] # to see data with no games that went on sale in less than a month\n",
    "time_delta_discounted_games = discounted_games_subset['TimeDelta'].apply(lambda x: x // 30)\n",
    "\n",
    "plt.hist(time_delta_discounted_games, bins = [0, 1, 4, 7, time_delta_discounted_games.max() + 1], edgecolor='black')\n",
    "plt.xlabel('Months')\n",
    "plt.ylabel('Frequency')\n",
    "plt.title('Histogram of TimeDelta (in months)')\n",
    "plt.show()"
   ]
  },
  {
   "cell_type": "markdown",
   "metadata": {},
   "source": [
    "Now let's create our target variable. We want to divide it by 30 to get it in months, then if it is in our ranges we will create a new column with the respective classes."
   ]
  },
  {
   "cell_type": "code",
   "execution_count": 129,
   "metadata": {},
   "outputs": [
    {
     "data": {
      "text/plain": [
       "0               1-3 months\n",
       "2               1-3 months\n",
       "3        less than a month\n",
       "4        less than a month\n",
       "5        less than a month\n",
       "               ...        \n",
       "10334    less than a month\n",
       "10335    less than a month\n",
       "10336           1-3 months\n",
       "10337    less than a month\n",
       "10338           1-3 months\n",
       "Name: TimeDelta, Length: 9009, dtype: category\n",
       "Categories (4, object): ['less than a month' < '1-3 months' < '4-6 months' < 'more than 6 months']"
      ]
     },
     "execution_count": 129,
     "metadata": {},
     "output_type": "execute_result"
    }
   ],
   "source": [
    "months_until_sale = discounted_games['TimeDelta'] // 30\n",
    "months_until_sale = months_until_sale.apply(lambda x: int(x))\n",
    "\n",
    "bins = [-1, 0, 3, 6, float('inf')]\n",
    "labels = ['less than a month', '1-3 months', '4-6 months', 'more than 6 months']\n",
    "months_until_sale = pd.cut(months_until_sale, bins=bins, labels=labels)\n",
    "months_until_sale"
   ]
  },
  {
   "cell_type": "code",
   "execution_count": 130,
   "metadata": {},
   "outputs": [
    {
     "name": "stderr",
     "output_type": "stream",
     "text": [
      "C:\\Users\\RaviB\\AppData\\Local\\Temp\\ipykernel_17948\\3379270169.py:1: SettingWithCopyWarning: \n",
      "A value is trying to be set on a copy of a slice from a DataFrame.\n",
      "Try using .loc[row_indexer,col_indexer] = value instead\n",
      "\n",
      "See the caveats in the documentation: https://pandas.pydata.org/pandas-docs/stable/user_guide/indexing.html#returning-a-view-versus-a-copy\n",
      "  discounted_games['monthsUntilSale'] = months_until_sale\n"
     ]
    }
   ],
   "source": [
    "discounted_games['monthsUntilSale'] = months_until_sale"
   ]
  },
  {
   "cell_type": "markdown",
   "metadata": {},
   "source": [
    "#### Adding 2014/2015 Data"
   ]
  },
  {
   "cell_type": "code",
   "execution_count": 454,
   "metadata": {},
   "outputs": [
    {
     "name": "stderr",
     "output_type": "stream",
     "text": [
      "C:\\Users\\RaviB\\AppData\\Local\\Temp\\ipykernel_17948\\2785719401.py:13: SettingWithCopyWarning: \n",
      "A value is trying to be set on a copy of a slice from a DataFrame.\n",
      "Try using .loc[row_indexer,col_indexer] = value instead\n",
      "\n",
      "See the caveats in the documentation: https://pandas.pydata.org/pandas-docs/stable/user_guide/indexing.html#returning-a-view-versus-a-copy\n",
      "  df['price_history'] = df['price_history'].apply(lambda x: safe_eval(x, ast.literal_eval))\n"
     ]
    }
   ],
   "source": [
    "raw_train_test_data_2 = preprocess_price_history(raw_train_test_data_2)\n",
    "raw_train_test_data_2 = preprocess_release_date(raw_train_test_data_2)\n",
    "raw_train_test_data_2 = get_time_delta_col(raw_train_test_data_2)\n",
    "sale_type_df_2 = get_sales_type(raw_train_test_data_2)\n",
    "raw_train_test_data_2 = pd.concat([raw_train_test_data_2, sale_type_df_2], axis=1)"
   ]
  },
  {
   "cell_type": "markdown",
   "metadata": {},
   "source": [
    "Now Let's concatenate these two dataframes together and save it for modeling. We need to remove and edit some column names first though."
   ]
  },
  {
   "cell_type": "code",
   "execution_count": 461,
   "metadata": {},
   "outputs": [],
   "source": [
    "raw_train_test_data_1 = raw_train_test_data.drop(columns=['mature', 'earlyAccess', 'tradingCards'])\n",
    "raw_train_test_data_1 = raw_train_test_data_1.rename(columns={'title': 'Name', 'achievements': 'Achievements'})"
   ]
  },
  {
   "cell_type": "code",
   "execution_count": 463,
   "metadata": {},
   "outputs": [
    {
     "data": {
      "text/plain": [
       "(4302, 17)"
      ]
     },
     "execution_count": 463,
     "metadata": {},
     "output_type": "execute_result"
    }
   ],
   "source": [
    "raw_train_test_data_2.shape"
   ]
  },
  {
   "cell_type": "code",
   "execution_count": 464,
   "metadata": {},
   "outputs": [
    {
     "data": {
      "text/plain": [
       "(14643, 17)"
      ]
     },
     "execution_count": 464,
     "metadata": {},
     "output_type": "execute_result"
    }
   ],
   "source": [
    "raw_train_test_data_complete = pd.concat([raw_train_test_data_1, raw_train_test_data_2], axis=0)\n",
    "raw_train_test_data_complete.shape"
   ]
  },
  {
   "cell_type": "code",
   "execution_count": 465,
   "metadata": {},
   "outputs": [],
   "source": [
    "raw_train_test_data_complete.to_csv('../data/raw_data_2014-2017.csv')"
   ]
  },
  {
   "cell_type": "markdown",
   "metadata": {},
   "source": [
    "Now let's filter for games that went on sale and look at the target again."
   ]
  },
  {
   "cell_type": "code",
   "execution_count": 45,
   "metadata": {},
   "outputs": [],
   "source": [
    "raw_train_test_data_complete = pd.read_csv('../data/raw_data_2014-2017.csv')\n",
    "raw_train_test_data_complete = raw_train_test_data_complete.drop(columns='Unnamed: 0')"
   ]
  },
  {
   "cell_type": "code",
   "execution_count": null,
   "metadata": {},
   "outputs": [],
   "source": [
    "Counter(raw_train_test_data_complete['SaleType'])"
   ]
  },
  {
   "cell_type": "code",
   "execution_count": 48,
   "metadata": {},
   "outputs": [
    {
     "data": {
      "text/plain": [
       "4574    2721.0\n",
       "Name: TimeDelta, dtype: float64"
      ]
     },
     "execution_count": 48,
     "metadata": {},
     "output_type": "execute_result"
    }
   ],
   "source": [
    "raw_train_test_data_complete[raw_train_test_data_complete['SaleType'] == 'went on sale on release']['TimeDelta']"
   ]
  },
  {
   "cell_type": "markdown",
   "metadata": {},
   "source": [
    "Time delta should be zero here, but regardless this is basically a binary column, either a game went on sale or it never did."
   ]
  },
  {
   "cell_type": "markdown",
   "metadata": {},
   "source": [
    "#### Restructuring Target Variable"
   ]
  },
  {
   "cell_type": "code",
   "execution_count": 49,
   "metadata": {},
   "outputs": [
    {
     "data": {
      "text/plain": [
       "(13003, 17)"
      ]
     },
     "execution_count": 49,
     "metadata": {},
     "output_type": "execute_result"
    }
   ],
   "source": [
    "discounted_games = raw_train_test_data_complete[raw_train_test_data_complete['SaleType'] == 'went on sale']\n",
    "discounted_games.shape"
   ]
  },
  {
   "cell_type": "code",
   "execution_count": 11,
   "metadata": {},
   "outputs": [
    {
     "name": "stderr",
     "output_type": "stream",
     "text": [
      "C:\\Users\\RaviB\\AppData\\Local\\Temp\\ipykernel_2816\\1852085743.py:1: SettingWithCopyWarning: \n",
      "A value is trying to be set on a copy of a slice from a DataFrame.\n",
      "Try using .loc[row_indexer,col_indexer] = value instead\n",
      "\n",
      "See the caveats in the documentation: https://pandas.pydata.org/pandas-docs/stable/user_guide/indexing.html#returning-a-view-versus-a-copy\n",
      "  discounted_games['TimeDelta'] = discounted_games['TimeDelta'].astype(int)\n"
     ]
    }
   ],
   "source": [
    "discounted_games['TimeDelta'] = discounted_games['TimeDelta'].astype(int)"
   ]
  },
  {
   "cell_type": "markdown",
   "metadata": {},
   "source": [
    "Games that went on sale on release actually have a TimeDelta value of 1 from below (there are no TimeDelta values of 0)."
   ]
  },
  {
   "cell_type": "code",
   "execution_count": 12,
   "metadata": {},
   "outputs": [
    {
     "name": "stdout",
     "output_type": "stream",
     "text": [
      "(4055, 17)\n",
      "(0, 17)\n"
     ]
    }
   ],
   "source": [
    "print(discounted_games[discounted_games['TimeDelta'] == 1].shape)\n",
    "print(discounted_games[discounted_games['TimeDelta'] == 0].shape)"
   ]
  },
  {
   "cell_type": "code",
   "execution_count": 17,
   "metadata": {},
   "outputs": [
    {
     "name": "stdout",
     "output_type": "stream",
     "text": [
      "(13003,)\n"
     ]
    },
    {
     "data": {
      "image/png": "[encoded data removed]",
      "text/plain": [
       "<Figure size 640x480 with 1 Axes>"
      ]
     },
     "metadata": {},
     "output_type": "display_data"
    }
   ],
   "source": [
    "# taking log transform of target to see what it's like\n",
    "time_delta_discounted_games = np.log1p(discounted_games['TimeDelta'])\n",
    "print(time_delta_discounted_games.shape)\n",
    "\n",
    "plt.hist(time_delta_discounted_games, bins = 50, edgecolor='black')\n",
    "plt.xlabel('Months')\n",
    "plt.ylabel('Frequency')\n",
    "plt.title('Histogram of TimeDelta (in months)')\n",
    "plt.show()"
   ]
  },
  {
   "cell_type": "markdown",
   "metadata": {},
   "source": [
    "So the best thing to do here is to build a classifier model to predict if it belongs to the first peak or the normal distribution. Let's investigate the second smaller peak though."
   ]
  },
  {
   "cell_type": "code",
   "execution_count": 18,
   "metadata": {},
   "outputs": [
    {
     "name": "stdout",
     "output_type": "stream",
     "text": [
      "(8569,)\n"
     ]
    },
    {
     "data": {
      "image/png": "[encoded data removed]",
      "text/plain": [
       "<Figure size 640x480 with 1 Axes>"
      ]
     },
     "metadata": {},
     "output_type": "display_data"
    }
   ],
   "source": [
    "discounted_games_subset = discounted_games[discounted_games['TimeDelta'] > 2]\n",
    "#discounted_games_subset = discounted_games_subset[discounted_games_subset['TimeDelta'] < 30*12]\n",
    "\n",
    "# taking log transform of target to see what it's like\n",
    "time_delta_discounted_games = np.log1p(discounted_games_subset['TimeDelta'])\n",
    "print(time_delta_discounted_games.shape)\n",
    "\n",
    "#time_delta_discounted_games = months_time_delta[months_time_delta > 0] # to see data with no games that went on sale in less than a month\n",
    "#time_delta_discounted_games = discounted_games_subset['TimeDelta'].apply(lambda x: x // 30)\n",
    "\n",
    "plt.hist(time_delta_discounted_games, bins = 40, edgecolor='black')\n",
    "plt.xlabel('Months')\n",
    "plt.ylabel('Frequency')\n",
    "plt.title('Histogram of TimeDelta (in months)')\n",
    "plt.show()"
   ]
  },
  {
   "cell_type": "code",
   "execution_count": 19,
   "metadata": {},
   "outputs": [
    {
     "name": "stdout",
     "output_type": "stream",
     "text": [
      "1.718281828459045\n",
      "6.38905609893065\n",
      "19.085536923187668\n",
      "53.598150033144236\n",
      "147.4131591025766\n"
     ]
    }
   ],
   "source": [
    "for i in range(1, 6):\n",
    "    print(np.expm1(i))"
   ]
  },
  {
   "cell_type": "code",
   "execution_count": 20,
   "metadata": {},
   "outputs": [
    {
     "name": "stdout",
     "output_type": "stream",
     "text": [
      "Frequency count for games that went on sale in 0 days: 0\n",
      "Frequency count for games that went on sale in 1 days: 4055\n",
      "Frequency count for games that went on sale in 2 days: 379\n",
      "Frequency count for games that went on sale in 3 days: 50\n",
      "Frequency count for games that went on sale in 4 days: 32\n",
      "Frequency count for games that went on sale in 5 days: 45\n",
      "Frequency count for games that went on sale in 6 days: 52\n",
      "Frequency count for games that went on sale in 7 days: 58\n",
      "Frequency count for games that went on sale in 8 days: 57\n",
      "Frequency count for games that went on sale in 9 days: 59\n"
     ]
    }
   ],
   "source": [
    "for i in range(0, 10):\n",
    "    print(f\"Frequency count for games that went on sale in {i} days:\", discounted_games[discounted_games['TimeDelta'] == i].shape[0])"
   ]
  },
  {
   "cell_type": "markdown",
   "metadata": {},
   "source": [
    "Looks like games that went on sale in the second day are also a significant separation from the normal distribution."
   ]
  },
  {
   "cell_type": "markdown",
   "metadata": {},
   "source": [
    "#### Constructing Target Variables\n",
    "\n",
    "Let's create our targets now. There will be two."
   ]
  },
  {
   "cell_type": "code",
   "execution_count": 52,
   "metadata": {},
   "outputs": [],
   "source": [
    "discounted_games = raw_train_test_data_complete[raw_train_test_data_complete['SaleType'] == 'went on sale']\n",
    "discounted_games = discounted_games.drop(columns='SaleType')"
   ]
  },
  {
   "cell_type": "code",
   "execution_count": 53,
   "metadata": {},
   "outputs": [],
   "source": [
    "discounted_games['DiscountedEarly'] = discounted_games['TimeDelta'].apply(lambda x: 'discounted within 2 days' if x < 3 else 'discounted after 3 days')"
   ]
  },
  {
   "cell_type": "code",
   "execution_count": 54,
   "metadata": {},
   "outputs": [],
   "source": [
    "def get_early_discount_target(df):\n",
    "    # filter for games that actually did go on sale at some point\n",
    "    discounted_games = df[raw_train_test_data_complete['SaleType'] == 'went on sale']\n",
    "    # then we don't need that column anymore\n",
    "    discounted_games = discounted_games.drop(columns='SaleType')\n",
    "    # now create a new column for binary classification, it a game went on sale in the first 2 days or not\n",
    "    discounted_games['DiscountedEarly'] = discounted_games['TimeDelta'].apply(lambda x: 'discounted within 2 days' if x < 3 else 'discounted after 3 days')\n",
    "    return discounted_games\n",
    "\n",
    "discounted_games = get_early_discount_target(raw_train_test_data_complete)"
   ]
  },
  {
   "cell_type": "markdown",
   "metadata": {},
   "source": [
    "For the regression target variable, it will be the TimeDelta column after filtering for games that were discounted after 3 days. Then, we will take the log of the values and do a regression task."
   ]
  },
  {
   "cell_type": "markdown",
   "metadata": {},
   "source": [
    "### Steam API for User Requests"
   ]
  },
  {
   "cell_type": "markdown",
   "metadata": {},
   "source": [
    "We want to make sure we can get unseen data before using it for the model. We can use this library to do this easily:\n",
    "\n",
    "https://pypi.org/project/python-steam-api/.\n",
    "\n",
    "Note the steam api does have a rate limit: \"You are limited to one hundred thousand (100,000) calls to the Steam Web API per day.\" (Also saw another rate limit of around 2 seconds before each request, but not sure if this is true).\n",
    "\n",
    "Ultimately, this will be implemented in a Streamlit app."
   ]
  },
  {
   "cell_type": "code",
   "execution_count": 233,
   "metadata": {},
   "outputs": [],
   "source": [
    "from steam_web_api import Steam\n",
    "\n",
    "load_dotenv('../.env')\n",
    "steam_api_key = os.getenv('STEAM_API_KEY')\n",
    "steam = Steam(steam_api_key)"
   ]
  },
  {
   "cell_type": "markdown",
   "metadata": {},
   "source": [
    "We can search games given a name, and then get thd appid from there."
   ]
  },
  {
   "cell_type": "code",
   "execution_count": 235,
   "metadata": {},
   "outputs": [
    {
     "data": {
      "text/plain": [
       "{'apps': [{'id': [208650],\n",
       "   'link': 'https://store.steampowered.com/app/208650/Batman_Arkham_Knight/?snr=1_7_15__13',\n",
       "   'name': 'Batman\\\\u2122: Arkham Knight',\n",
       "   'img': 'https://shared.akamai.steamstatic.com/store_item_assets/steam/apps/208650/capsule_sm_120.jpg?t=1702934528',\n",
       "   'price': '$3.99'},\n",
       "  {'id': [209000],\n",
       "   'link': 'https://store.steampowered.com/app/209000/Batman_Arkham_Origins/?snr=1_7_15__13',\n",
       "   'name': 'Batman\\\\u2122: Arkham Origins',\n",
       "   'img': 'https://shared.akamai.steamstatic.com/store_item_assets/steam/apps/209000/capsule_sm_120.jpg?t=1681234740',\n",
       "   'price': '$3.99'},\n",
       "  {'id': [35140, 200260, 208650, 367480],\n",
       "   'link': 'https://store.steampowered.com/sub/320795/?snr=1_7_15__13',\n",
       "   'name': 'Batman: Arkham Collection',\n",
       "   'img': 'https://shared.akamai.steamstatic.com/store_item_assets/steam/subs/320795/capsule_sm_120.jpg?t=1636658684',\n",
       "   'price': '$8.99'},\n",
       "  {'id': [313690],\n",
       "   'link': 'https://store.steampowered.com/app/313690/LEGO_Batman_3_Beyond_Gotham/?snr=1_7_15__13',\n",
       "   'name': 'LEGO\\\\u00ae Batman\\\\u2122 3: Beyond Gotham',\n",
       "   'img': 'https://shared.akamai.steamstatic.com/store_item_assets/steam/apps/313690/capsule_sm_120.jpg?t=1573510385',\n",
       "   'price': '$4.99'},\n",
       "  {'id': [200260],\n",
       "   'link': 'https://store.steampowered.com/app/200260/Batman_Arkham_City__Game_of_the_Year_Edition/?snr=1_7_15__13',\n",
       "   'name': 'Batman: Arkham City - Game of the Year Edition',\n",
       "   'img': 'https://shared.akamai.steamstatic.com/store_item_assets/steam/apps/200260/capsule_sm_120.jpg?t=1702934622',\n",
       "   'price': '$3.99'}]}"
      ]
     },
     "execution_count": 235,
     "metadata": {},
     "output_type": "execute_result"
    }
   ],
   "source": [
    "search_games_lst = steam.apps.search_games(\"batman\")\n",
    "search_games_lst"
   ]
  },
  {
   "cell_type": "markdown",
   "metadata": {},
   "source": [
    "So given an appid we can get the games info."
   ]
  },
  {
   "cell_type": "code",
   "execution_count": 239,
   "metadata": {},
   "outputs": [
    {
     "data": {
      "text/plain": [
       "{'35140': {'success': True,\n",
       "  'data': {'type': 'game',\n",
       "   'name': 'Batman: Arkham Asylum Game of the Year Edition',\n",
       "   'steam_appid': 35140,\n",
       "   'required_age': 0,\n",
       "   'is_free': False,\n",
       "   'detailed_description': 'Critically acclaimed Batman: Arkham Asylum returns with a remastered Game of the Year Edition, featuring 4 extra Challenge Maps. The additional Challenge Maps are Crime Alley; Scarecrow Nightmare; Totally Insane and Nocturnal Hunter (both from the Insane Night Map Pack).<br>\\t\\t\\t\\t\\t<ul class=\"bb_ul\"><li>Utilize the unique FreeFlow™ combat system to chain together unlimited combos seamlessly and battle with huge groups of The Joker’s henchmen in brutal melee brawls <br>\\t\\t\\t\\t\\t</li><li>Investigate as Batman, the WORLD’S GREATEST DETECTIVE, by solving intricate puzzles with the help of cutting edge forensic tools including x-ray scanning, fingerprint scans, ‘Amido Black’ spray and a pheromone tracker<br>\\t\\t\\t\\t\\t</li><li>Face off against Gotham’s greatest villains including The Joker, HARLEY QUINN, POISON IVY and KILLER CROC <br>\\t\\t\\t\\t\\t</li><li>Become the Invisible Predator™ with Batman’s fear takedowns and unique vantage point system to move without being seen and hunt enemies  <br>\\t\\t\\t\\t\\t</li><li>Choose multiple takedown methods, including swooping from the sky and smashing through walls. <br>\\t\\t\\t\\t\\t</li><li>Explore every inch of Arkham Asylum and roam freely on the infamous island, presented for the first time ever in its gritty and realistic entirety<br>\\t\\t\\t\\t\\t</li><li>Experience what it’s like to be BATMAN using BATARANGS, explosive gel aerosol, The Batclaw, sonar resonator and the line launcher <br>\\t\\t\\t\\t\\t</li><li>Unlock more secrets by completing hidden challenges in the world and develop and customize equipment by earning experience points <br>\\t\\t\\t\\t\\t</li><li>Enjoy complete superhero freedom in the environment with the use of Batman’s grapnel gun to get to any place you can see, jump from any height and glide in any direction <br>\\t\\t\\t\\t\\t</li></ul>',\n",
       "   'about_the_game': 'Critically acclaimed Batman: Arkham Asylum returns with a remastered Game of the Year Edition, featuring 4 extra Challenge Maps. The additional Challenge Maps are Crime Alley; Scarecrow Nightmare; Totally Insane and Nocturnal Hunter (both from the Insane Night Map Pack).<br>\\t\\t\\t\\t\\t<ul class=\"bb_ul\"><li>Utilize the unique FreeFlow™ combat system to chain together unlimited combos seamlessly and battle with huge groups of The Joker’s henchmen in brutal melee brawls <br>\\t\\t\\t\\t\\t</li><li>Investigate as Batman, the WORLD’S GREATEST DETECTIVE, by solving intricate puzzles with the help of cutting edge forensic tools including x-ray scanning, fingerprint scans, ‘Amido Black’ spray and a pheromone tracker<br>\\t\\t\\t\\t\\t</li><li>Face off against Gotham’s greatest villains including The Joker, HARLEY QUINN, POISON IVY and KILLER CROC <br>\\t\\t\\t\\t\\t</li><li>Become the Invisible Predator™ with Batman’s fear takedowns and unique vantage point system to move without being seen and hunt enemies  <br>\\t\\t\\t\\t\\t</li><li>Choose multiple takedown methods, including swooping from the sky and smashing through walls. <br>\\t\\t\\t\\t\\t</li><li>Explore every inch of Arkham Asylum and roam freely on the infamous island, presented for the first time ever in its gritty and realistic entirety<br>\\t\\t\\t\\t\\t</li><li>Experience what it’s like to be BATMAN using BATARANGS, explosive gel aerosol, The Batclaw, sonar resonator and the line launcher <br>\\t\\t\\t\\t\\t</li><li>Unlock more secrets by completing hidden challenges in the world and develop and customize equipment by earning experience points <br>\\t\\t\\t\\t\\t</li><li>Enjoy complete superhero freedom in the environment with the use of Batman’s grapnel gun to get to any place you can see, jump from any height and glide in any direction <br>\\t\\t\\t\\t\\t</li></ul>',\n",
       "   'short_description': \"Experience what it’s like to be Batman and face off against Gotham's greatest villians. Explore every inch of Arkham Asylum and roam freely on the infamous island.\",\n",
       "   'supported_languages': 'English, French, German, Italian, Spanish - Spain',\n",
       "   'header_image': 'https://shared.akamai.steamstatic.com/store_item_assets/steam/apps/35140/header.jpg?t=1702934705',\n",
       "   'capsule_image': 'https://shared.akamai.steamstatic.com/store_item_assets/steam/apps/35140/capsule_231x87.jpg?t=1702934705',\n",
       "   'capsule_imagev5': 'https://shared.akamai.steamstatic.com/store_item_assets/steam/apps/35140/capsule_184x69.jpg?t=1702934705',\n",
       "   'website': 'http://rocksteadyltd.com/#arkham-asylum',\n",
       "   'pc_requirements': {'minimum': '<ul class=\"bb_ul\"><li><strong>OS:</strong> Vista/XP<br>\\t                    </li><li><strong>Processor:</strong> 3Ghz Intel or AMD or any Dual Core<br>\\t                    </li><li><strong>Memory:</strong> 1GB Ram(XP)/2GB Ram<br>\\t                    </li><li><strong>Graphics:</strong> PCI Express SM3 NVidia 6600/ ATI 1300<br>\\t                    </li><li><strong>DirectX®:</strong> 9<br>\\t                    </li><li><strong>Hard Drive:</strong> 8GB free space<br>\\t                    </li><li><strong>Sound:</strong> Any onboard sound card<br>\\t\\t   </li></ul>'},\n",
       "   'mac_requirements': {'minimum': '<strong>Minimum:</strong><br><ul class=\"bb_ul\"><li><strong>OS:</strong>Mac OS X 10.9.5<br>\\t</li><li><strong>Processor:</strong> 2.0 GHz<br>\\t</li><li><strong>Memory:</strong> 4 GB RAM<br>\\t</li><li><strong>Hard Disk Space:</strong> 10 GB<br>\\t</li><li><strong>Video Memory:</strong> 256 MB<br>\\t</li><li><strong>NOTICE:</strong>The following graphics cards are not supported: ATI X1xxx series, ATI HD2xxx series, Intel GMA series, NVIDIA 7xxx series, NVIDIA 8xxx series The following cards require you to have 8GB of system RAM: NVIDIA 3xx and Intel HD3000.</li></ul>',\n",
       "    'recommended': '<strong>Recommended:</strong><br><ul class=\"bb_ul\"><li><strong>OS:</strong>Mac OS X 10.10.3<br>\\t</li><li><strong>Processor:</strong> 2.4 GHz<br>\\t</li><li><strong>Memory:</strong> 8 GB RAM<br>\\t</li><li><strong>Hard Disk Space:</strong> 10 GB<br>\\t</li><li><strong>Video Memory:</strong> 1GB</li></ul>'},\n",
       "   'linux_requirements': [],\n",
       "   'legal_notice': 'BATMAN: ARKHAM ASYLUM software © 2013 Warner Bros. Entertainment Inc. Developed by Rocksteady Studios.<br />\\r\\n<br />\\r\\nBATMAN and all characters, their distinctive likenesses, and related elements are trademarks of DC Comics © 2013. All Rights Reserved.<br />\\r\\nWB GAMES LOGO, WB SHIELD: ™ & © Warner Bros. Entertainment Inc. <br />\\r\\n(s13)'}}}"
      ]
     },
     "execution_count": 239,
     "metadata": {},
     "output_type": "execute_result"
    }
   ],
   "source": [
    "batman_arkham_knight = 35140\n",
    "user = steam.apps.get_app_details(batman_arkham_knight)\n",
    "user"
   ]
  },
  {
   "cell_type": "markdown",
   "metadata": {},
   "source": [
    "And then further info can be acquired from the isthereanydeals api. This will give us what we need for end user requests."
   ]
  },
  {
   "cell_type": "markdown",
   "metadata": {},
   "source": [
    "### Independent Variables"
   ]
  },
  {
   "cell_type": "code",
   "execution_count": 131,
   "metadata": {},
   "outputs": [
    {
     "data": {
      "text/html": [
       "<div>\n",
       "<style scoped>\n",
       "    .dataframe tbody tr th:only-of-type {\n",
       "        vertical-align: middle;\n",
       "    }\n",
       "\n",
       "    .dataframe tbody tr th {\n",
       "        vertical-align: top;\n",
       "    }\n",
       "\n",
       "    .dataframe thead th {\n",
       "        text-align: right;\n",
       "    }\n",
       "</style>\n",
       "<table border=\"1\" class=\"dataframe\">\n",
       "  <thead>\n",
       "    <tr style=\"text-align: right;\">\n",
       "      <th></th>\n",
       "      <th>mature</th>\n",
       "      <th>earlyAccess</th>\n",
       "      <th>achievements</th>\n",
       "      <th>tradingCards</th>\n",
       "      <th>About the game</th>\n",
       "      <th>Supported languages</th>\n",
       "      <th>Windows</th>\n",
       "      <th>Mac</th>\n",
       "      <th>Linux</th>\n",
       "      <th>Publishers</th>\n",
       "      <th>Categories</th>\n",
       "      <th>Genres</th>\n",
       "      <th>Tags</th>\n",
       "    </tr>\n",
       "  </thead>\n",
       "  <tbody>\n",
       "    <tr>\n",
       "      <th>0</th>\n",
       "      <td>False</td>\n",
       "      <td>False</td>\n",
       "      <td>True</td>\n",
       "      <td>False</td>\n",
       "      <td>THE LAW!! Looks to be a showdown atop a train....</td>\n",
       "      <td>['English', 'French', 'Italian', 'German', 'Sp...</td>\n",
       "      <td>True</td>\n",
       "      <td>True</td>\n",
       "      <td>False</td>\n",
       "      <td>Wild Rooster</td>\n",
       "      <td>Single-player,Steam Achievements,Full controll...</td>\n",
       "      <td>Action,Indie</td>\n",
       "      <td>Indie,Action,Pixel Graphics,2D,Retro,Arcade,Sc...</td>\n",
       "    </tr>\n",
       "    <tr>\n",
       "      <th>2</th>\n",
       "      <td>False</td>\n",
       "      <td>False</td>\n",
       "      <td>True</td>\n",
       "      <td>True</td>\n",
       "      <td>Steam Squad - tactical wargame, where gameplay...</td>\n",
       "      <td>['English', 'Russian', 'French', 'German']</td>\n",
       "      <td>True</td>\n",
       "      <td>True</td>\n",
       "      <td>True</td>\n",
       "      <td>Bretwalda Games</td>\n",
       "      <td>Single-player,Multi-player,PvP,Shared/Split Sc...</td>\n",
       "      <td>Indie,Strategy</td>\n",
       "      <td>Strategy,Indie,Turn-Based,World War I,Steampun...</td>\n",
       "    </tr>\n",
       "    <tr>\n",
       "      <th>3</th>\n",
       "      <td>False</td>\n",
       "      <td>False</td>\n",
       "      <td>False</td>\n",
       "      <td>True</td>\n",
       "      <td>Meet the continuation of the hardcore platform...</td>\n",
       "      <td>['English']</td>\n",
       "      <td>True</td>\n",
       "      <td>False</td>\n",
       "      <td>False</td>\n",
       "      <td>Volens Nolens Games</td>\n",
       "      <td>Single-player,Steam Trading Cards</td>\n",
       "      <td>Action,Adventure,Casual,Indie</td>\n",
       "      <td>Action,Adventure,Casual,Indie,Platformer,2D Pl...</td>\n",
       "    </tr>\n",
       "  </tbody>\n",
       "</table>\n",
       "</div>"
      ],
      "text/plain": [
       "   mature  earlyAccess  achievements  tradingCards  \\\n",
       "0   False        False          True         False   \n",
       "2   False        False          True          True   \n",
       "3   False        False         False          True   \n",
       "\n",
       "                                      About the game  \\\n",
       "0  THE LAW!! Looks to be a showdown atop a train....   \n",
       "2  Steam Squad - tactical wargame, where gameplay...   \n",
       "3  Meet the continuation of the hardcore platform...   \n",
       "\n",
       "                                 Supported languages Windows    Mac  Linux  \\\n",
       "0  ['English', 'French', 'Italian', 'German', 'Sp...    True   True  False   \n",
       "2         ['English', 'Russian', 'French', 'German']    True   True   True   \n",
       "3                                        ['English']    True  False  False   \n",
       "\n",
       "            Publishers                                         Categories  \\\n",
       "0         Wild Rooster  Single-player,Steam Achievements,Full controll...   \n",
       "2      Bretwalda Games  Single-player,Multi-player,PvP,Shared/Split Sc...   \n",
       "3  Volens Nolens Games                  Single-player,Steam Trading Cards   \n",
       "\n",
       "                          Genres  \\\n",
       "0                   Action,Indie   \n",
       "2                 Indie,Strategy   \n",
       "3  Action,Adventure,Casual,Indie   \n",
       "\n",
       "                                                Tags  \n",
       "0  Indie,Action,Pixel Graphics,2D,Retro,Arcade,Sc...  \n",
       "2  Strategy,Indie,Turn-Based,World War I,Steampun...  \n",
       "3  Action,Adventure,Casual,Indie,Platformer,2D Pl...  "
      ]
     },
     "execution_count": 131,
     "metadata": {},
     "output_type": "execute_result"
    }
   ],
   "source": [
    "X = discounted_games[['mature', 'earlyAccess', 'achievements', 'tradingCards', 'About the game', 'Supported languages', \n",
    "                      'Windows', 'Mac', 'Linux', 'Publishers', 'Categories', 'Genres', 'Tags']]\n",
    "\n",
    "X.head(3)"
   ]
  },
  {
   "cell_type": "markdown",
   "metadata": {},
   "source": [
    "We want to keep this simple for now, so let's trim some of these columns based on intuition. Firstly, earlyAccess isn't too relevant since we aren't considering games that were on sale before the release date. achievements probably don't contribute to player satisfaction a significant amount. Let's count total True's for all the binary columns."
   ]
  },
  {
   "cell_type": "code",
   "execution_count": 132,
   "metadata": {},
   "outputs": [
    {
     "name": "stdout",
     "output_type": "stream",
     "text": [
      "Number of rows X: 9009 \n",
      "\n",
      "Number of True values for the mature column: 33\n",
      "Number of True values for the earlyAccess column: 718\n",
      "Number of True values for the achievements column: 5025\n",
      "Number of True values for the tradingCards column: 3632\n",
      "Number of True values for the Windows column: 9000\n",
      "Number of True values for the Mac column: 2823\n",
      "Number of True values for the Linux column: 1961\n",
      "\n",
      " Number of different publishers: 5686\n"
     ]
    }
   ],
   "source": [
    "print('Number of rows X:', X.shape[0], '\\n')\n",
    "\n",
    "for col_name in ['mature', 'earlyAccess', 'achievements', 'tradingCards', 'Windows', 'Mac', 'Linux']:\n",
    "    print(f\"Number of True values for the {col_name} column:\", X[f\"{col_name}\"].sum())\n",
    "\n",
    "print('\\n', 'Number of different publishers:', len(Counter(X['Publishers'])))"
   ]
  },
  {
   "cell_type": "markdown",
   "metadata": {},
   "source": [
    "Some observations: the `Windows` column is basically a constant value so can be ignored. Same for the mature column. `earlyAccess` isn't as bad but almost a tenth of it is True so probably should just ignore it (already agreed it should be intuitively too). This `achievements`, `tradingCards`, `Mac`, and `Linux` are the only binary columns worth keeping.\n",
    "\n",
    "From the dataframe above, it seems like the `Genres` columns is a subset of the Tags column, so we can drop that too. Also, the `Publishers` column has too many different ones to be meaningful (random names basically). Our new X is now:"
   ]
  },
  {
   "cell_type": "code",
   "execution_count": 133,
   "metadata": {},
   "outputs": [
    {
     "data": {
      "text/html": [
       "<div>\n",
       "<style scoped>\n",
       "    .dataframe tbody tr th:only-of-type {\n",
       "        vertical-align: middle;\n",
       "    }\n",
       "\n",
       "    .dataframe tbody tr th {\n",
       "        vertical-align: top;\n",
       "    }\n",
       "\n",
       "    .dataframe thead th {\n",
       "        text-align: right;\n",
       "    }\n",
       "</style>\n",
       "<table border=\"1\" class=\"dataframe\">\n",
       "  <thead>\n",
       "    <tr style=\"text-align: right;\">\n",
       "      <th></th>\n",
       "      <th>achievements</th>\n",
       "      <th>tradingCards</th>\n",
       "      <th>About the game</th>\n",
       "      <th>Supported languages</th>\n",
       "      <th>Mac</th>\n",
       "      <th>Linux</th>\n",
       "      <th>Categories</th>\n",
       "      <th>Tags</th>\n",
       "    </tr>\n",
       "  </thead>\n",
       "  <tbody>\n",
       "    <tr>\n",
       "      <th>0</th>\n",
       "      <td>True</td>\n",
       "      <td>False</td>\n",
       "      <td>THE LAW!! Looks to be a showdown atop a train....</td>\n",
       "      <td>['English', 'French', 'Italian', 'German', 'Sp...</td>\n",
       "      <td>True</td>\n",
       "      <td>False</td>\n",
       "      <td>Single-player,Steam Achievements,Full controll...</td>\n",
       "      <td>Indie,Action,Pixel Graphics,2D,Retro,Arcade,Sc...</td>\n",
       "    </tr>\n",
       "    <tr>\n",
       "      <th>2</th>\n",
       "      <td>True</td>\n",
       "      <td>True</td>\n",
       "      <td>Steam Squad - tactical wargame, where gameplay...</td>\n",
       "      <td>['English', 'Russian', 'French', 'German']</td>\n",
       "      <td>True</td>\n",
       "      <td>True</td>\n",
       "      <td>Single-player,Multi-player,PvP,Shared/Split Sc...</td>\n",
       "      <td>Strategy,Indie,Turn-Based,World War I,Steampun...</td>\n",
       "    </tr>\n",
       "  </tbody>\n",
       "</table>\n",
       "</div>"
      ],
      "text/plain": [
       "   achievements  tradingCards  \\\n",
       "0          True         False   \n",
       "2          True          True   \n",
       "\n",
       "                                      About the game  \\\n",
       "0  THE LAW!! Looks to be a showdown atop a train....   \n",
       "2  Steam Squad - tactical wargame, where gameplay...   \n",
       "\n",
       "                                 Supported languages   Mac  Linux  \\\n",
       "0  ['English', 'French', 'Italian', 'German', 'Sp...  True  False   \n",
       "2         ['English', 'Russian', 'French', 'German']  True   True   \n",
       "\n",
       "                                          Categories  \\\n",
       "0  Single-player,Steam Achievements,Full controll...   \n",
       "2  Single-player,Multi-player,PvP,Shared/Split Sc...   \n",
       "\n",
       "                                                Tags  \n",
       "0  Indie,Action,Pixel Graphics,2D,Retro,Arcade,Sc...  \n",
       "2  Strategy,Indie,Turn-Based,World War I,Steampun...  "
      ]
     },
     "execution_count": 133,
     "metadata": {},
     "output_type": "execute_result"
    }
   ],
   "source": [
    "X = discounted_games[['achievements', 'tradingCards', 'About the game', 'Supported languages', \n",
    "                      'Mac', 'Linux', 'Categories', 'Tags']]\n",
    "\n",
    "X.head(2)"
   ]
  },
  {
   "cell_type": "code",
   "execution_count": 134,
   "metadata": {},
   "outputs": [
    {
     "data": {
      "text/plain": [
       "'single-player,multi-player,pvp,shared/split screen pvp,shared/split screen,cross-platform multiplayer,steam achievements,steam trading cards,steam cloud,remote play together'"
      ]
     },
     "execution_count": 134,
     "metadata": {},
     "output_type": "execute_result"
    }
   ],
   "source": [
    "X['Categories'][2].lower()"
   ]
  },
  {
   "cell_type": "code",
   "execution_count": 135,
   "metadata": {},
   "outputs": [],
   "source": [
    "X = X.dropna(subset=['Categories'])"
   ]
  },
  {
   "cell_type": "code",
   "execution_count": 136,
   "metadata": {},
   "outputs": [
    {
     "name": "stdout",
     "output_type": "stream",
     "text": [
      "5244\n",
      "3802\n"
     ]
    }
   ],
   "source": [
    "achievement_cnt = 0\n",
    "trading_cards_cnt = 0\n",
    "\n",
    "for i, row in X.iterrows():\n",
    "    if 'achievement' in row['Categories'].lower():\n",
    "        achievement_cnt += 1\n",
    "\n",
    "    if 'trading' in row['Categories'].lower():\n",
    "        trading_cards_cnt += 1\n",
    "\n",
    "print(achievement_cnt)\n",
    "print(trading_cards_cnt)\n",
    "    "
   ]
  },
  {
   "cell_type": "markdown",
   "metadata": {},
   "source": [
    "So upon inspection it looks like these columns names appear the same amount of times in the `Categories` column, making them redundant. "
   ]
  },
  {
   "cell_type": "code",
   "execution_count": 137,
   "metadata": {},
   "outputs": [
    {
     "data": {
      "text/html": [
       "<div>\n",
       "<style scoped>\n",
       "    .dataframe tbody tr th:only-of-type {\n",
       "        vertical-align: middle;\n",
       "    }\n",
       "\n",
       "    .dataframe tbody tr th {\n",
       "        vertical-align: top;\n",
       "    }\n",
       "\n",
       "    .dataframe thead th {\n",
       "        text-align: right;\n",
       "    }\n",
       "</style>\n",
       "<table border=\"1\" class=\"dataframe\">\n",
       "  <thead>\n",
       "    <tr style=\"text-align: right;\">\n",
       "      <th></th>\n",
       "      <th>About the game</th>\n",
       "      <th>Supported languages</th>\n",
       "      <th>Categories</th>\n",
       "      <th>Tags</th>\n",
       "    </tr>\n",
       "  </thead>\n",
       "  <tbody>\n",
       "    <tr>\n",
       "      <th>0</th>\n",
       "      <td>THE LAW!! Looks to be a showdown atop a train....</td>\n",
       "      <td>['English', 'French', 'Italian', 'German', 'Sp...</td>\n",
       "      <td>Single-player,Steam Achievements,Full controll...</td>\n",
       "      <td>Indie,Action,Pixel Graphics,2D,Retro,Arcade,Sc...</td>\n",
       "    </tr>\n",
       "    <tr>\n",
       "      <th>2</th>\n",
       "      <td>Steam Squad - tactical wargame, where gameplay...</td>\n",
       "      <td>['English', 'Russian', 'French', 'German']</td>\n",
       "      <td>Single-player,Multi-player,PvP,Shared/Split Sc...</td>\n",
       "      <td>Strategy,Indie,Turn-Based,World War I,Steampun...</td>\n",
       "    </tr>\n",
       "  </tbody>\n",
       "</table>\n",
       "</div>"
      ],
      "text/plain": [
       "                                      About the game  \\\n",
       "0  THE LAW!! Looks to be a showdown atop a train....   \n",
       "2  Steam Squad - tactical wargame, where gameplay...   \n",
       "\n",
       "                                 Supported languages  \\\n",
       "0  ['English', 'French', 'Italian', 'German', 'Sp...   \n",
       "2         ['English', 'Russian', 'French', 'German']   \n",
       "\n",
       "                                          Categories  \\\n",
       "0  Single-player,Steam Achievements,Full controll...   \n",
       "2  Single-player,Multi-player,PvP,Shared/Split Sc...   \n",
       "\n",
       "                                                Tags  \n",
       "0  Indie,Action,Pixel Graphics,2D,Retro,Arcade,Sc...  \n",
       "2  Strategy,Indie,Turn-Based,World War I,Steampun...  "
      ]
     },
     "execution_count": 137,
     "metadata": {},
     "output_type": "execute_result"
    }
   ],
   "source": [
    "X = discounted_games[['About the game', 'Supported languages', 'Categories', 'Tags']]\n",
    "X.head(2)"
   ]
  },
  {
   "cell_type": "markdown",
   "metadata": {},
   "source": [
    "The simplist thing to do from here is to just concatenate everything as one long string."
   ]
  },
  {
   "cell_type": "code",
   "execution_count": 138,
   "metadata": {},
   "outputs": [
    {
     "name": "stdout",
     "output_type": "stream",
     "text": [
      "(8763, 4)\n"
     ]
    },
    {
     "data": {
      "text/html": [
       "<div>\n",
       "<style scoped>\n",
       "    .dataframe tbody tr th:only-of-type {\n",
       "        vertical-align: middle;\n",
       "    }\n",
       "\n",
       "    .dataframe tbody tr th {\n",
       "        vertical-align: top;\n",
       "    }\n",
       "\n",
       "    .dataframe thead th {\n",
       "        text-align: right;\n",
       "    }\n",
       "</style>\n",
       "<table border=\"1\" class=\"dataframe\">\n",
       "  <thead>\n",
       "    <tr style=\"text-align: right;\">\n",
       "      <th></th>\n",
       "      <th>About the game</th>\n",
       "      <th>Supported languages</th>\n",
       "      <th>Categories</th>\n",
       "      <th>Tags</th>\n",
       "    </tr>\n",
       "  </thead>\n",
       "  <tbody>\n",
       "    <tr>\n",
       "      <th>0</th>\n",
       "      <td>THE LAW!! Looks to be a showdown atop a train....</td>\n",
       "      <td>['English', 'French', 'Italian', 'German', 'Sp...</td>\n",
       "      <td>Single-player,Steam Achievements,Full controll...</td>\n",
       "      <td>Indie,Action,Pixel Graphics,2D,Retro,Arcade,Sc...</td>\n",
       "    </tr>\n",
       "    <tr>\n",
       "      <th>2</th>\n",
       "      <td>Steam Squad - tactical wargame, where gameplay...</td>\n",
       "      <td>['English', 'Russian', 'French', 'German']</td>\n",
       "      <td>Single-player,Multi-player,PvP,Shared/Split Sc...</td>\n",
       "      <td>Strategy,Indie,Turn-Based,World War I,Steampun...</td>\n",
       "    </tr>\n",
       "  </tbody>\n",
       "</table>\n",
       "</div>"
      ],
      "text/plain": [
       "                                      About the game  \\\n",
       "0  THE LAW!! Looks to be a showdown atop a train....   \n",
       "2  Steam Squad - tactical wargame, where gameplay...   \n",
       "\n",
       "                                 Supported languages  \\\n",
       "0  ['English', 'French', 'Italian', 'German', 'Sp...   \n",
       "2         ['English', 'Russian', 'French', 'German']   \n",
       "\n",
       "                                          Categories  \\\n",
       "0  Single-player,Steam Achievements,Full controll...   \n",
       "2  Single-player,Multi-player,PvP,Shared/Split Sc...   \n",
       "\n",
       "                                                Tags  \n",
       "0  Indie,Action,Pixel Graphics,2D,Retro,Arcade,Sc...  \n",
       "2  Strategy,Indie,Turn-Based,World War I,Steampun...  "
      ]
     },
     "execution_count": 138,
     "metadata": {},
     "output_type": "execute_result"
    }
   ],
   "source": [
    "X = X.dropna()\n",
    "print(X.shape)\n",
    "X.head(2)"
   ]
  },
  {
   "cell_type": "code",
   "execution_count": 139,
   "metadata": {},
   "outputs": [],
   "source": [
    "def convert_lst_to_str(languages):\n",
    "    full_languages_str = ''\n",
    "    for language in languages:\n",
    "        full_languages_str += language + ' '\n",
    "\n",
    "    return full_languages_str\n",
    "\n",
    "X['Supported languages'] = X['Supported languages'].apply(ast.literal_eval)\n",
    "X['Supported languages'] = X['Supported languages'].apply(lambda x: convert_lst_to_str(x))"
   ]
  },
  {
   "cell_type": "code",
   "execution_count": 140,
   "metadata": {},
   "outputs": [],
   "source": [
    "X['Categories'] = X['Categories'].apply(lambda x: x.replace(',', ' '))\n",
    "X['Tags'] = X['Tags'].apply(lambda x: x.replace(',', ' '))"
   ]
  },
  {
   "cell_type": "code",
   "execution_count": 141,
   "metadata": {},
   "outputs": [
    {
     "data": {
      "text/html": [
       "<div>\n",
       "<style scoped>\n",
       "    .dataframe tbody tr th:only-of-type {\n",
       "        vertical-align: middle;\n",
       "    }\n",
       "\n",
       "    .dataframe tbody tr th {\n",
       "        vertical-align: top;\n",
       "    }\n",
       "\n",
       "    .dataframe thead th {\n",
       "        text-align: right;\n",
       "    }\n",
       "</style>\n",
       "<table border=\"1\" class=\"dataframe\">\n",
       "  <thead>\n",
       "    <tr style=\"text-align: right;\">\n",
       "      <th></th>\n",
       "      <th>About the game</th>\n",
       "      <th>Supported languages</th>\n",
       "      <th>Categories</th>\n",
       "      <th>Tags</th>\n",
       "    </tr>\n",
       "  </thead>\n",
       "  <tbody>\n",
       "    <tr>\n",
       "      <th>0</th>\n",
       "      <td>THE LAW!! Looks to be a showdown atop a train....</td>\n",
       "      <td>English French Italian German Spanish - Spain ...</td>\n",
       "      <td>Single-player Steam Achievements Full controll...</td>\n",
       "      <td>Indie Action Pixel Graphics 2D Retro Arcade Sc...</td>\n",
       "    </tr>\n",
       "    <tr>\n",
       "      <th>2</th>\n",
       "      <td>Steam Squad - tactical wargame, where gameplay...</td>\n",
       "      <td>English Russian French German</td>\n",
       "      <td>Single-player Multi-player PvP Shared/Split Sc...</td>\n",
       "      <td>Strategy Indie Turn-Based World War I Steampun...</td>\n",
       "    </tr>\n",
       "    <tr>\n",
       "      <th>3</th>\n",
       "      <td>Meet the continuation of the hardcore platform...</td>\n",
       "      <td>English</td>\n",
       "      <td>Single-player Steam Trading Cards</td>\n",
       "      <td>Action Adventure Casual Indie Platformer 2D Pl...</td>\n",
       "    </tr>\n",
       "    <tr>\n",
       "      <th>4</th>\n",
       "      <td>Aerofly FS 2 lets you explore the world of fly...</td>\n",
       "      <td>English German French</td>\n",
       "      <td>Single-player Partial Controller Support</td>\n",
       "      <td>Flight Simulation VR Racing Physics Open World...</td>\n",
       "    </tr>\n",
       "    <tr>\n",
       "      <th>5</th>\n",
       "      <td>“I wish I could make my own video game.” Who a...</td>\n",
       "      <td>English</td>\n",
       "      <td>Single-player Steam Achievements Partial Contr...</td>\n",
       "      <td>Casual Platformer Hand-drawn</td>\n",
       "    </tr>\n",
       "  </tbody>\n",
       "</table>\n",
       "</div>"
      ],
      "text/plain": [
       "                                      About the game  \\\n",
       "0  THE LAW!! Looks to be a showdown atop a train....   \n",
       "2  Steam Squad - tactical wargame, where gameplay...   \n",
       "3  Meet the continuation of the hardcore platform...   \n",
       "4  Aerofly FS 2 lets you explore the world of fly...   \n",
       "5  “I wish I could make my own video game.” Who a...   \n",
       "\n",
       "                                 Supported languages  \\\n",
       "0  English French Italian German Spanish - Spain ...   \n",
       "2                     English Russian French German    \n",
       "3                                           English    \n",
       "4                             English German French    \n",
       "5                                           English    \n",
       "\n",
       "                                          Categories  \\\n",
       "0  Single-player Steam Achievements Full controll...   \n",
       "2  Single-player Multi-player PvP Shared/Split Sc...   \n",
       "3                  Single-player Steam Trading Cards   \n",
       "4           Single-player Partial Controller Support   \n",
       "5  Single-player Steam Achievements Partial Contr...   \n",
       "\n",
       "                                                Tags  \n",
       "0  Indie Action Pixel Graphics 2D Retro Arcade Sc...  \n",
       "2  Strategy Indie Turn-Based World War I Steampun...  \n",
       "3  Action Adventure Casual Indie Platformer 2D Pl...  \n",
       "4  Flight Simulation VR Racing Physics Open World...  \n",
       "5                       Casual Platformer Hand-drawn  "
      ]
     },
     "execution_count": 141,
     "metadata": {},
     "output_type": "execute_result"
    }
   ],
   "source": [
    "X.head()"
   ]
  },
  {
   "cell_type": "code",
   "execution_count": 142,
   "metadata": {},
   "outputs": [
    {
     "data": {
      "text/plain": [
       "0    THE LAW!! Looks to be a showdown atop a train....\n",
       "2    Steam Squad - tactical wargame, where gameplay...\n",
       "3    Meet the continuation of the hardcore platform...\n",
       "4    Aerofly FS 2 lets you explore the world of fly...\n",
       "5    “I wish I could make my own video game.” Who a...\n",
       "dtype: object"
      ]
     },
     "execution_count": 142,
     "metadata": {},
     "output_type": "execute_result"
    }
   ],
   "source": [
    "X_full_str = X['About the game'] + X['Supported languages'] + X['Categories'] + X['Tags']\n",
    "X_full_str.head()"
   ]
  },
  {
   "cell_type": "markdown",
   "metadata": {},
   "source": [
    "#### Tabular Approach - EDA and Preprocessing\n",
    "\n",
    "The text based model doesn't perform too well though. Below we'll try collecting tabular focused data for XGBoost modeling."
   ]
  },
  {
   "cell_type": "code",
   "execution_count": 110,
   "metadata": {},
   "outputs": [
    {
     "data": {
      "text/html": [
       "<div>\n",
       "<style scoped>\n",
       "    .dataframe tbody tr th:only-of-type {\n",
       "        vertical-align: middle;\n",
       "    }\n",
       "\n",
       "    .dataframe tbody tr th {\n",
       "        vertical-align: top;\n",
       "    }\n",
       "\n",
       "    .dataframe thead th {\n",
       "        text-align: right;\n",
       "    }\n",
       "</style>\n",
       "<table border=\"1\" class=\"dataframe\">\n",
       "  <thead>\n",
       "    <tr style=\"text-align: right;\">\n",
       "      <th></th>\n",
       "      <th>game_ids</th>\n",
       "      <th>AppID</th>\n",
       "      <th>Name</th>\n",
       "      <th>Achievements</th>\n",
       "      <th>price_history</th>\n",
       "      <th>About the game</th>\n",
       "      <th>Supported languages</th>\n",
       "      <th>Windows</th>\n",
       "      <th>Mac</th>\n",
       "      <th>Linux</th>\n",
       "      <th>Publishers</th>\n",
       "      <th>Categories</th>\n",
       "      <th>Genres</th>\n",
       "      <th>Tags</th>\n",
       "      <th>ReleaseDate</th>\n",
       "      <th>TimeDelta</th>\n",
       "      <th>DiscountedEarly</th>\n",
       "    </tr>\n",
       "  </thead>\n",
       "  <tbody>\n",
       "    <tr>\n",
       "      <th>0</th>\n",
       "      <td>018d937f-0a5b-70dc-b37c-4a0a46d1b122</td>\n",
       "      <td>655370.0</td>\n",
       "      <td>Train Bandit</td>\n",
       "      <td>1</td>\n",
       "      <td>[{'timestamp': '2024-05-13T19:16:33+02:00', 's...</td>\n",
       "      <td>THE LAW!! Looks to be a showdown atop a train....</td>\n",
       "      <td>['English', 'French', 'Italian', 'German', 'Sp...</td>\n",
       "      <td>True</td>\n",
       "      <td>True</td>\n",
       "      <td>False</td>\n",
       "      <td>Wild Rooster</td>\n",
       "      <td>Single-player,Steam Achievements,Full controll...</td>\n",
       "      <td>Action,Indie</td>\n",
       "      <td>Indie,Action,Pixel Graphics,2D,Retro,Arcade,Sc...</td>\n",
       "      <td>2017-10-12</td>\n",
       "      <td>32.0</td>\n",
       "      <td>discounted after 3 days</td>\n",
       "    </tr>\n",
       "    <tr>\n",
       "      <th>2</th>\n",
       "      <td>018d937f-158f-72b0-9909-e63af7a0fbbe</td>\n",
       "      <td>290870.0</td>\n",
       "      <td>Steam Squad</td>\n",
       "      <td>1</td>\n",
       "      <td>[{'timestamp': '2024-02-11T02:17:53+01:00', 's...</td>\n",
       "      <td>Steam Squad - tactical wargame, where gameplay...</td>\n",
       "      <td>['English', 'Russian', 'French', 'German']</td>\n",
       "      <td>True</td>\n",
       "      <td>True</td>\n",
       "      <td>True</td>\n",
       "      <td>Bretwalda Games</td>\n",
       "      <td>Single-player,Multi-player,PvP,Shared/Split Sc...</td>\n",
       "      <td>Indie,Strategy</td>\n",
       "      <td>Strategy,Indie,Turn-Based,World War I,Steampun...</td>\n",
       "      <td>2016-07-28</td>\n",
       "      <td>81.0</td>\n",
       "      <td>discounted after 3 days</td>\n",
       "    </tr>\n",
       "  </tbody>\n",
       "</table>\n",
       "</div>"
      ],
      "text/plain": [
       "                               game_ids     AppID          Name  Achievements  \\\n",
       "0  018d937f-0a5b-70dc-b37c-4a0a46d1b122  655370.0  Train Bandit             1   \n",
       "2  018d937f-158f-72b0-9909-e63af7a0fbbe  290870.0   Steam Squad             1   \n",
       "\n",
       "                                       price_history  \\\n",
       "0  [{'timestamp': '2024-05-13T19:16:33+02:00', 's...   \n",
       "2  [{'timestamp': '2024-02-11T02:17:53+01:00', 's...   \n",
       "\n",
       "                                      About the game  \\\n",
       "0  THE LAW!! Looks to be a showdown atop a train....   \n",
       "2  Steam Squad - tactical wargame, where gameplay...   \n",
       "\n",
       "                                 Supported languages  Windows   Mac  Linux  \\\n",
       "0  ['English', 'French', 'Italian', 'German', 'Sp...     True  True  False   \n",
       "2         ['English', 'Russian', 'French', 'German']     True  True   True   \n",
       "\n",
       "        Publishers                                         Categories  \\\n",
       "0     Wild Rooster  Single-player,Steam Achievements,Full controll...   \n",
       "2  Bretwalda Games  Single-player,Multi-player,PvP,Shared/Split Sc...   \n",
       "\n",
       "           Genres                                               Tags  \\\n",
       "0    Action,Indie  Indie,Action,Pixel Graphics,2D,Retro,Arcade,Sc...   \n",
       "2  Indie,Strategy  Strategy,Indie,Turn-Based,World War I,Steampun...   \n",
       "\n",
       "  ReleaseDate  TimeDelta          DiscountedEarly  \n",
       "0  2017-10-12       32.0  discounted after 3 days  \n",
       "2  2016-07-28       81.0  discounted after 3 days  "
      ]
     },
     "execution_count": 110,
     "metadata": {},
     "output_type": "execute_result"
    }
   ],
   "source": [
    "discounted_games.head(2)"
   ]
  },
  {
   "cell_type": "code",
   "execution_count": 109,
   "metadata": {},
   "outputs": [
    {
     "data": {
      "text/plain": [
       "Index(['game_ids', 'AppID', 'Name', 'Achievements', 'price_history',\n",
       "       'About the game', 'Supported languages', 'Windows', 'Mac', 'Linux',\n",
       "       'Publishers', 'Categories', 'Genres', 'Tags', 'ReleaseDate',\n",
       "       'TimeDelta', 'DiscountedEarly'],\n",
       "      dtype='object')"
      ]
     },
     "execution_count": 109,
     "metadata": {},
     "output_type": "execute_result"
    }
   ],
   "source": [
    "discounted_games.columns"
   ]
  },
  {
   "cell_type": "markdown",
   "metadata": {},
   "source": [
    "Something that might make more sense: consider only the 'Achievements', 'Supported languages', 'Windows', 'Mac', 'Linux', 'Categories', 'Genres', 'Tags', 'ReleaseDate', 'TimeDelta', 'DiscountedEarly' columns. Recall the Genres column is redundant if we have Tags.\n",
    "\n",
    "Recall Windows it always True almost so we don't need it."
   ]
  },
  {
   "cell_type": "code",
   "execution_count": 55,
   "metadata": {},
   "outputs": [
    {
     "name": "stderr",
     "output_type": "stream",
     "text": [
      "C:\\Users\\RaviB\\AppData\\Local\\Temp\\ipykernel_9296\\466478896.py:10: SettingWithCopyWarning: \n",
      "A value is trying to be set on a copy of a slice from a DataFrame.\n",
      "Try using .loc[row_indexer,col_indexer] = value instead\n",
      "\n",
      "See the caveats in the documentation: https://pandas.pydata.org/pandas-docs/stable/user_guide/indexing.html#returning-a-view-versus-a-copy\n",
      "  tabular_df['Achievements'] = tabular_df['Achievements'].astype(int)\n",
      "C:\\Users\\RaviB\\AppData\\Local\\Temp\\ipykernel_9296\\466478896.py:12: SettingWithCopyWarning: \n",
      "A value is trying to be set on a copy of a slice from a DataFrame.\n",
      "Try using .loc[row_indexer,col_indexer] = value instead\n",
      "\n",
      "See the caveats in the documentation: https://pandas.pydata.org/pandas-docs/stable/user_guide/indexing.html#returning-a-view-versus-a-copy\n",
      "  tabular_df['Mac'] = tabular_df['Mac'].astype(int)\n",
      "C:\\Users\\RaviB\\AppData\\Local\\Temp\\ipykernel_9296\\466478896.py:13: SettingWithCopyWarning: \n",
      "A value is trying to be set on a copy of a slice from a DataFrame.\n",
      "Try using .loc[row_indexer,col_indexer] = value instead\n",
      "\n",
      "See the caveats in the documentation: https://pandas.pydata.org/pandas-docs/stable/user_guide/indexing.html#returning-a-view-versus-a-copy\n",
      "  tabular_df['Linux'] = tabular_df['Linux'].astype(int)\n"
     ]
    },
    {
     "data": {
      "text/plain": [
       "(12699, 9)"
      ]
     },
     "execution_count": 55,
     "metadata": {},
     "output_type": "execute_result"
    }
   ],
   "source": [
    "tabular_df = discounted_games[\n",
    "    [\n",
    "    'Achievements', 'Supported languages',\n",
    "    'Mac', 'Linux', 'Categories', 'Tags', \n",
    "    'ReleaseDate', 'TimeDelta', 'DiscountedEarly'\n",
    "    ]\n",
    "]\n",
    "\n",
    "# converting binary columns to ints\n",
    "tabular_df['Achievements'] = tabular_df['Achievements'].astype(int)\n",
    "#tabular_df['Windows'] = tabular_df['Windows'].astype(int)\n",
    "tabular_df['Mac'] = tabular_df['Mac'].astype(int)\n",
    "tabular_df['Linux'] = tabular_df['Linux'].astype(int)\n",
    "\n",
    "tabular_df = tabular_df.dropna(subset=['Categories', 'Tags'])\n",
    "tabular_df = tabular_df.reset_index(drop=True)\n",
    "\n",
    "tabular_df.shape"
   ]
  },
  {
   "cell_type": "code",
   "execution_count": 247,
   "metadata": {},
   "outputs": [],
   "source": [
    "import ast"
   ]
  },
  {
   "cell_type": "code",
   "execution_count": 248,
   "metadata": {},
   "outputs": [],
   "source": [
    "#convert supported languages into just how many there are\n",
    "tabular_df['Supported languages'] = tabular_df['Supported languages'].apply(ast.literal_eval)\n",
    "tabular_df['Supported languages'] = tabular_df['Supported languages'].apply(lambda lst: len(lst))"
   ]
  },
  {
   "cell_type": "code",
   "execution_count": 124,
   "metadata": {},
   "outputs": [],
   "source": [
    "tabular_df['Categories'] = tabular_df['Categories'].apply(lambda x: x.replace(' ', '-').split(','))"
   ]
  },
  {
   "cell_type": "code",
   "execution_count": 125,
   "metadata": {},
   "outputs": [
    {
     "data": {
      "text/plain": [
       "['Single-player',\n",
       " 'Steam-Achievements',\n",
       " 'Full-controller-support',\n",
       " 'Steam-Leaderboards',\n",
       " 'Remote-Play-on-Phone',\n",
       " 'Remote-Play-on-Tablet',\n",
       " 'Remote-Play-on-TV']"
      ]
     },
     "execution_count": 125,
     "metadata": {},
     "output_type": "execute_result"
    }
   ],
   "source": [
    "tabular_df['Categories'][0]"
   ]
  },
  {
   "cell_type": "code",
   "execution_count": 126,
   "metadata": {},
   "outputs": [],
   "source": [
    "all_cats = [label for sublist in tabular_df['Categories'] for label in sublist]\n",
    "cats_counter = Counter(all_cats)"
   ]
  },
  {
   "cell_type": "code",
   "execution_count": 127,
   "metadata": {},
   "outputs": [],
   "source": [
    "frequency_threshold = 50\n",
    "\n",
    "frequent_cats = {label for label, count in cats_counter.items() if count >= frequency_threshold}\n",
    "\n",
    "# Filter the original labels to keep only frequent labels\n",
    "tabular_df['Filtered_Categories'] = tabular_df['Categories'].apply(lambda x: [label for label in x if label in frequent_cats])\n"
   ]
  },
  {
   "cell_type": "code",
   "execution_count": 128,
   "metadata": {},
   "outputs": [
    {
     "data": {
      "text/plain": [
       "Counter({'Single-player': 12261,\n",
       "         'Steam-Achievements': 7568,\n",
       "         'Steam-Trading-Cards': 6033,\n",
       "         'Steam-Cloud': 4263,\n",
       "         'Full-controller-support': 3423,\n",
       "         'Multi-player': 2824,\n",
       "         'Partial-Controller-Support': 2176,\n",
       "         'Steam-Leaderboards': 2003,\n",
       "         'Remote-Play-Together': 1522,\n",
       "         'PvP': 1440,\n",
       "         'Co-op': 1263,\n",
       "         'Shared/Split-Screen': 1259,\n",
       "         'Stats': 1055,\n",
       "         'Online-PvP': 932,\n",
       "         'Remote-Play-on-TV': 859,\n",
       "         'Shared/Split-Screen-PvP': 802,\n",
       "         'Includes-level-editor': 623,\n",
       "         'Steam-Workshop': 576,\n",
       "         'Shared/Split-Screen-Co-op': 556,\n",
       "         'Cross-Platform-Multiplayer': 514,\n",
       "         'Online-Co-op': 486,\n",
       "         'Captions-available': 480,\n",
       "         'Remote-Play-on-Tablet': 252,\n",
       "         'Remote-Play-on-Phone': 213,\n",
       "         'VR-Support': 168,\n",
       "         'In-App-Purchases': 127,\n",
       "         'MMO': 102,\n",
       "         'Commentary-available': 90,\n",
       "         'LAN-Co-op': 52,\n",
       "         'LAN-PvP': 52})"
      ]
     },
     "execution_count": 128,
     "metadata": {},
     "output_type": "execute_result"
    }
   ],
   "source": [
    "all_filtered_cats = [label for sublist in tabular_df['Filtered_Categories'] for label in sublist]\n",
    "Counter(all_filtered_cats)"
   ]
  },
  {
   "cell_type": "code",
   "execution_count": 129,
   "metadata": {},
   "outputs": [
    {
     "data": {
      "text/html": [
       "<div>\n",
       "<style scoped>\n",
       "    .dataframe tbody tr th:only-of-type {\n",
       "        vertical-align: middle;\n",
       "    }\n",
       "\n",
       "    .dataframe tbody tr th {\n",
       "        vertical-align: top;\n",
       "    }\n",
       "\n",
       "    .dataframe thead th {\n",
       "        text-align: right;\n",
       "    }\n",
       "</style>\n",
       "<table border=\"1\" class=\"dataframe\">\n",
       "  <thead>\n",
       "    <tr style=\"text-align: right;\">\n",
       "      <th></th>\n",
       "      <th>Captions-available</th>\n",
       "      <th>Co-op</th>\n",
       "      <th>Commentary-available</th>\n",
       "      <th>Cross-Platform-Multiplayer</th>\n",
       "      <th>Full-controller-support</th>\n",
       "      <th>In-App-Purchases</th>\n",
       "      <th>Includes-level-editor</th>\n",
       "      <th>LAN-Co-op</th>\n",
       "      <th>LAN-PvP</th>\n",
       "      <th>MMO</th>\n",
       "      <th>...</th>\n",
       "      <th>Shared/Split-Screen-Co-op</th>\n",
       "      <th>Shared/Split-Screen-PvP</th>\n",
       "      <th>Single-player</th>\n",
       "      <th>Stats</th>\n",
       "      <th>Steam-Achievements</th>\n",
       "      <th>Steam-Cloud</th>\n",
       "      <th>Steam-Leaderboards</th>\n",
       "      <th>Steam-Trading-Cards</th>\n",
       "      <th>Steam-Workshop</th>\n",
       "      <th>VR-Support</th>\n",
       "    </tr>\n",
       "  </thead>\n",
       "  <tbody>\n",
       "    <tr>\n",
       "      <th>0</th>\n",
       "      <td>0</td>\n",
       "      <td>0</td>\n",
       "      <td>0</td>\n",
       "      <td>0</td>\n",
       "      <td>1</td>\n",
       "      <td>0</td>\n",
       "      <td>0</td>\n",
       "      <td>0</td>\n",
       "      <td>0</td>\n",
       "      <td>0</td>\n",
       "      <td>...</td>\n",
       "      <td>0</td>\n",
       "      <td>0</td>\n",
       "      <td>1</td>\n",
       "      <td>0</td>\n",
       "      <td>1</td>\n",
       "      <td>0</td>\n",
       "      <td>1</td>\n",
       "      <td>0</td>\n",
       "      <td>0</td>\n",
       "      <td>0</td>\n",
       "    </tr>\n",
       "    <tr>\n",
       "      <th>1</th>\n",
       "      <td>0</td>\n",
       "      <td>0</td>\n",
       "      <td>0</td>\n",
       "      <td>1</td>\n",
       "      <td>0</td>\n",
       "      <td>0</td>\n",
       "      <td>0</td>\n",
       "      <td>0</td>\n",
       "      <td>0</td>\n",
       "      <td>0</td>\n",
       "      <td>...</td>\n",
       "      <td>0</td>\n",
       "      <td>1</td>\n",
       "      <td>1</td>\n",
       "      <td>0</td>\n",
       "      <td>1</td>\n",
       "      <td>1</td>\n",
       "      <td>0</td>\n",
       "      <td>1</td>\n",
       "      <td>0</td>\n",
       "      <td>0</td>\n",
       "    </tr>\n",
       "    <tr>\n",
       "      <th>2</th>\n",
       "      <td>0</td>\n",
       "      <td>0</td>\n",
       "      <td>0</td>\n",
       "      <td>0</td>\n",
       "      <td>0</td>\n",
       "      <td>0</td>\n",
       "      <td>0</td>\n",
       "      <td>0</td>\n",
       "      <td>0</td>\n",
       "      <td>0</td>\n",
       "      <td>...</td>\n",
       "      <td>0</td>\n",
       "      <td>0</td>\n",
       "      <td>1</td>\n",
       "      <td>0</td>\n",
       "      <td>0</td>\n",
       "      <td>0</td>\n",
       "      <td>0</td>\n",
       "      <td>1</td>\n",
       "      <td>0</td>\n",
       "      <td>0</td>\n",
       "    </tr>\n",
       "  </tbody>\n",
       "</table>\n",
       "<p>3 rows × 30 columns</p>\n",
       "</div>"
      ],
      "text/plain": [
       "   Captions-available  Co-op  Commentary-available  \\\n",
       "0                   0      0                     0   \n",
       "1                   0      0                     0   \n",
       "2                   0      0                     0   \n",
       "\n",
       "   Cross-Platform-Multiplayer  Full-controller-support  In-App-Purchases  \\\n",
       "0                           0                        1                 0   \n",
       "1                           1                        0                 0   \n",
       "2                           0                        0                 0   \n",
       "\n",
       "   Includes-level-editor  LAN-Co-op  LAN-PvP  MMO  ...  \\\n",
       "0                      0          0        0    0  ...   \n",
       "1                      0          0        0    0  ...   \n",
       "2                      0          0        0    0  ...   \n",
       "\n",
       "   Shared/Split-Screen-Co-op  Shared/Split-Screen-PvP  Single-player  Stats  \\\n",
       "0                          0                        0              1      0   \n",
       "1                          0                        1              1      0   \n",
       "2                          0                        0              1      0   \n",
       "\n",
       "   Steam-Achievements  Steam-Cloud  Steam-Leaderboards  Steam-Trading-Cards  \\\n",
       "0                   1            0                   1                    0   \n",
       "1                   1            1                   0                    1   \n",
       "2                   0            0                   0                    1   \n",
       "\n",
       "   Steam-Workshop  VR-Support  \n",
       "0               0           0  \n",
       "1               0           0  \n",
       "2               0           0  \n",
       "\n",
       "[3 rows x 30 columns]"
      ]
     },
     "execution_count": 129,
     "metadata": {},
     "output_type": "execute_result"
    }
   ],
   "source": [
    "from sklearn.preprocessing import MultiLabelBinarizer\n",
    "mlb_cats = MultiLabelBinarizer()\n",
    "\n",
    "# Fit and transform the data\n",
    "one_hot_encoded = mlb_cats.fit_transform(tabular_df['Filtered_Categories'])\n",
    "\n",
    "# Create a DataFrame with the one-hot encoded data\n",
    "one_hot_df_cats = pd.DataFrame(one_hot_encoded, columns=mlb_cats.classes_)\n",
    "one_hot_df_cats.head(3)"
   ]
  },
  {
   "cell_type": "code",
   "execution_count": 130,
   "metadata": {},
   "outputs": [],
   "source": [
    "tabular_df['Tags'] = tabular_df['Tags'].apply(lambda x: x.replace(' ', '-').split(','))"
   ]
  },
  {
   "cell_type": "code",
   "execution_count": 132,
   "metadata": {},
   "outputs": [
    {
     "name": "stdout",
     "output_type": "stream",
     "text": [
      "['Indie', 'Action', 'Pixel-Graphics', '2D', 'Retro', 'Arcade', 'Score-Attack', 'Minimalist', 'Comedy', 'Singleplayer', 'Fast-Paced', 'Casual', 'Funny', 'Parody', 'Difficult', 'Gore', 'Violent', 'Western', 'Controller', 'Blood']\n"
     ]
    }
   ],
   "source": [
    "print(tabular_df['Tags'][0])"
   ]
  },
  {
   "cell_type": "code",
   "execution_count": 133,
   "metadata": {},
   "outputs": [],
   "source": [
    "all_tags = [label for sublist in tabular_df['Tags'] for label in sublist]\n",
    "tags_counter = Counter(all_tags)"
   ]
  },
  {
   "cell_type": "code",
   "execution_count": 134,
   "metadata": {},
   "outputs": [
    {
     "name": "stdout",
     "output_type": "stream",
     "text": [
      "185\n"
     ]
    }
   ],
   "source": [
    "frequency_threshold = 100\n",
    "\n",
    "frequent_tags = {label for label, count in tags_counter.items() if count >= frequency_threshold}\n",
    "print(len(frequent_tags))\n",
    "\n",
    "# Filter the original labels to keep only frequent labels\n",
    "tabular_df['Filtered_Tags'] = tabular_df['Tags'].apply(lambda x: [label for label in x if label in frequent_tags])"
   ]
  },
  {
   "cell_type": "code",
   "execution_count": 135,
   "metadata": {},
   "outputs": [
    {
     "data": {
      "text/html": [
       "<div>\n",
       "<style scoped>\n",
       "    .dataframe tbody tr th:only-of-type {\n",
       "        vertical-align: middle;\n",
       "    }\n",
       "\n",
       "    .dataframe tbody tr th {\n",
       "        vertical-align: top;\n",
       "    }\n",
       "\n",
       "    .dataframe thead th {\n",
       "        text-align: right;\n",
       "    }\n",
       "</style>\n",
       "<table border=\"1\" class=\"dataframe\">\n",
       "  <thead>\n",
       "    <tr style=\"text-align: right;\">\n",
       "      <th></th>\n",
       "      <th>1980s</th>\n",
       "      <th>1990's</th>\n",
       "      <th>2.5D</th>\n",
       "      <th>2D</th>\n",
       "      <th>2D-Fighter</th>\n",
       "      <th>2D-Platformer</th>\n",
       "      <th>3D</th>\n",
       "      <th>3D-Platformer</th>\n",
       "      <th>4-Player-Local</th>\n",
       "      <th>Abstract</th>\n",
       "      <th>...</th>\n",
       "      <th>Twin-Stick-Shooter</th>\n",
       "      <th>VR</th>\n",
       "      <th>VR-Only</th>\n",
       "      <th>Violent</th>\n",
       "      <th>Visual-Novel</th>\n",
       "      <th>Walking-Simulator</th>\n",
       "      <th>War</th>\n",
       "      <th>Wargame</th>\n",
       "      <th>World-War-II</th>\n",
       "      <th>Zombies</th>\n",
       "    </tr>\n",
       "  </thead>\n",
       "  <tbody>\n",
       "    <tr>\n",
       "      <th>0</th>\n",
       "      <td>0</td>\n",
       "      <td>0</td>\n",
       "      <td>0</td>\n",
       "      <td>1</td>\n",
       "      <td>0</td>\n",
       "      <td>0</td>\n",
       "      <td>0</td>\n",
       "      <td>0</td>\n",
       "      <td>0</td>\n",
       "      <td>0</td>\n",
       "      <td>...</td>\n",
       "      <td>0</td>\n",
       "      <td>0</td>\n",
       "      <td>0</td>\n",
       "      <td>1</td>\n",
       "      <td>0</td>\n",
       "      <td>0</td>\n",
       "      <td>0</td>\n",
       "      <td>0</td>\n",
       "      <td>0</td>\n",
       "      <td>0</td>\n",
       "    </tr>\n",
       "    <tr>\n",
       "      <th>1</th>\n",
       "      <td>0</td>\n",
       "      <td>0</td>\n",
       "      <td>0</td>\n",
       "      <td>0</td>\n",
       "      <td>0</td>\n",
       "      <td>0</td>\n",
       "      <td>0</td>\n",
       "      <td>0</td>\n",
       "      <td>0</td>\n",
       "      <td>0</td>\n",
       "      <td>...</td>\n",
       "      <td>0</td>\n",
       "      <td>0</td>\n",
       "      <td>0</td>\n",
       "      <td>0</td>\n",
       "      <td>0</td>\n",
       "      <td>0</td>\n",
       "      <td>0</td>\n",
       "      <td>1</td>\n",
       "      <td>0</td>\n",
       "      <td>0</td>\n",
       "    </tr>\n",
       "    <tr>\n",
       "      <th>2</th>\n",
       "      <td>0</td>\n",
       "      <td>0</td>\n",
       "      <td>0</td>\n",
       "      <td>1</td>\n",
       "      <td>0</td>\n",
       "      <td>1</td>\n",
       "      <td>0</td>\n",
       "      <td>0</td>\n",
       "      <td>0</td>\n",
       "      <td>0</td>\n",
       "      <td>...</td>\n",
       "      <td>0</td>\n",
       "      <td>0</td>\n",
       "      <td>0</td>\n",
       "      <td>0</td>\n",
       "      <td>0</td>\n",
       "      <td>0</td>\n",
       "      <td>0</td>\n",
       "      <td>0</td>\n",
       "      <td>0</td>\n",
       "      <td>0</td>\n",
       "    </tr>\n",
       "    <tr>\n",
       "      <th>3</th>\n",
       "      <td>0</td>\n",
       "      <td>0</td>\n",
       "      <td>0</td>\n",
       "      <td>0</td>\n",
       "      <td>0</td>\n",
       "      <td>0</td>\n",
       "      <td>1</td>\n",
       "      <td>0</td>\n",
       "      <td>0</td>\n",
       "      <td>0</td>\n",
       "      <td>...</td>\n",
       "      <td>0</td>\n",
       "      <td>1</td>\n",
       "      <td>0</td>\n",
       "      <td>0</td>\n",
       "      <td>0</td>\n",
       "      <td>0</td>\n",
       "      <td>0</td>\n",
       "      <td>0</td>\n",
       "      <td>0</td>\n",
       "      <td>0</td>\n",
       "    </tr>\n",
       "    <tr>\n",
       "      <th>4</th>\n",
       "      <td>0</td>\n",
       "      <td>0</td>\n",
       "      <td>0</td>\n",
       "      <td>0</td>\n",
       "      <td>0</td>\n",
       "      <td>0</td>\n",
       "      <td>0</td>\n",
       "      <td>0</td>\n",
       "      <td>0</td>\n",
       "      <td>0</td>\n",
       "      <td>...</td>\n",
       "      <td>0</td>\n",
       "      <td>0</td>\n",
       "      <td>0</td>\n",
       "      <td>0</td>\n",
       "      <td>0</td>\n",
       "      <td>0</td>\n",
       "      <td>0</td>\n",
       "      <td>0</td>\n",
       "      <td>0</td>\n",
       "      <td>0</td>\n",
       "    </tr>\n",
       "    <tr>\n",
       "      <th>...</th>\n",
       "      <td>...</td>\n",
       "      <td>...</td>\n",
       "      <td>...</td>\n",
       "      <td>...</td>\n",
       "      <td>...</td>\n",
       "      <td>...</td>\n",
       "      <td>...</td>\n",
       "      <td>...</td>\n",
       "      <td>...</td>\n",
       "      <td>...</td>\n",
       "      <td>...</td>\n",
       "      <td>...</td>\n",
       "      <td>...</td>\n",
       "      <td>...</td>\n",
       "      <td>...</td>\n",
       "      <td>...</td>\n",
       "      <td>...</td>\n",
       "      <td>...</td>\n",
       "      <td>...</td>\n",
       "      <td>...</td>\n",
       "      <td>...</td>\n",
       "    </tr>\n",
       "    <tr>\n",
       "      <th>12694</th>\n",
       "      <td>0</td>\n",
       "      <td>0</td>\n",
       "      <td>0</td>\n",
       "      <td>0</td>\n",
       "      <td>0</td>\n",
       "      <td>0</td>\n",
       "      <td>0</td>\n",
       "      <td>0</td>\n",
       "      <td>0</td>\n",
       "      <td>0</td>\n",
       "      <td>...</td>\n",
       "      <td>0</td>\n",
       "      <td>0</td>\n",
       "      <td>0</td>\n",
       "      <td>0</td>\n",
       "      <td>0</td>\n",
       "      <td>0</td>\n",
       "      <td>0</td>\n",
       "      <td>0</td>\n",
       "      <td>0</td>\n",
       "      <td>0</td>\n",
       "    </tr>\n",
       "    <tr>\n",
       "      <th>12695</th>\n",
       "      <td>0</td>\n",
       "      <td>0</td>\n",
       "      <td>0</td>\n",
       "      <td>0</td>\n",
       "      <td>0</td>\n",
       "      <td>0</td>\n",
       "      <td>0</td>\n",
       "      <td>0</td>\n",
       "      <td>0</td>\n",
       "      <td>0</td>\n",
       "      <td>...</td>\n",
       "      <td>0</td>\n",
       "      <td>0</td>\n",
       "      <td>0</td>\n",
       "      <td>0</td>\n",
       "      <td>0</td>\n",
       "      <td>0</td>\n",
       "      <td>0</td>\n",
       "      <td>0</td>\n",
       "      <td>0</td>\n",
       "      <td>0</td>\n",
       "    </tr>\n",
       "    <tr>\n",
       "      <th>12696</th>\n",
       "      <td>0</td>\n",
       "      <td>0</td>\n",
       "      <td>0</td>\n",
       "      <td>0</td>\n",
       "      <td>0</td>\n",
       "      <td>0</td>\n",
       "      <td>0</td>\n",
       "      <td>0</td>\n",
       "      <td>0</td>\n",
       "      <td>0</td>\n",
       "      <td>...</td>\n",
       "      <td>0</td>\n",
       "      <td>0</td>\n",
       "      <td>0</td>\n",
       "      <td>0</td>\n",
       "      <td>0</td>\n",
       "      <td>0</td>\n",
       "      <td>0</td>\n",
       "      <td>0</td>\n",
       "      <td>0</td>\n",
       "      <td>0</td>\n",
       "    </tr>\n",
       "    <tr>\n",
       "      <th>12697</th>\n",
       "      <td>0</td>\n",
       "      <td>0</td>\n",
       "      <td>0</td>\n",
       "      <td>0</td>\n",
       "      <td>0</td>\n",
       "      <td>0</td>\n",
       "      <td>0</td>\n",
       "      <td>0</td>\n",
       "      <td>0</td>\n",
       "      <td>0</td>\n",
       "      <td>...</td>\n",
       "      <td>0</td>\n",
       "      <td>0</td>\n",
       "      <td>0</td>\n",
       "      <td>0</td>\n",
       "      <td>0</td>\n",
       "      <td>0</td>\n",
       "      <td>0</td>\n",
       "      <td>0</td>\n",
       "      <td>0</td>\n",
       "      <td>0</td>\n",
       "    </tr>\n",
       "    <tr>\n",
       "      <th>12698</th>\n",
       "      <td>0</td>\n",
       "      <td>0</td>\n",
       "      <td>0</td>\n",
       "      <td>0</td>\n",
       "      <td>0</td>\n",
       "      <td>0</td>\n",
       "      <td>0</td>\n",
       "      <td>0</td>\n",
       "      <td>0</td>\n",
       "      <td>0</td>\n",
       "      <td>...</td>\n",
       "      <td>0</td>\n",
       "      <td>0</td>\n",
       "      <td>0</td>\n",
       "      <td>0</td>\n",
       "      <td>0</td>\n",
       "      <td>0</td>\n",
       "      <td>0</td>\n",
       "      <td>0</td>\n",
       "      <td>0</td>\n",
       "      <td>0</td>\n",
       "    </tr>\n",
       "  </tbody>\n",
       "</table>\n",
       "<p>12699 rows × 185 columns</p>\n",
       "</div>"
      ],
      "text/plain": [
       "       1980s  1990's  2.5D  2D  2D-Fighter  2D-Platformer  3D  3D-Platformer  \\\n",
       "0          0       0     0   1           0              0   0              0   \n",
       "1          0       0     0   0           0              0   0              0   \n",
       "2          0       0     0   1           0              1   0              0   \n",
       "3          0       0     0   0           0              0   1              0   \n",
       "4          0       0     0   0           0              0   0              0   \n",
       "...      ...     ...   ...  ..         ...            ...  ..            ...   \n",
       "12694      0       0     0   0           0              0   0              0   \n",
       "12695      0       0     0   0           0              0   0              0   \n",
       "12696      0       0     0   0           0              0   0              0   \n",
       "12697      0       0     0   0           0              0   0              0   \n",
       "12698      0       0     0   0           0              0   0              0   \n",
       "\n",
       "       4-Player-Local  Abstract  ...  Twin-Stick-Shooter  VR  VR-Only  \\\n",
       "0                   0         0  ...                   0   0        0   \n",
       "1                   0         0  ...                   0   0        0   \n",
       "2                   0         0  ...                   0   0        0   \n",
       "3                   0         0  ...                   0   1        0   \n",
       "4                   0         0  ...                   0   0        0   \n",
       "...               ...       ...  ...                 ...  ..      ...   \n",
       "12694               0         0  ...                   0   0        0   \n",
       "12695               0         0  ...                   0   0        0   \n",
       "12696               0         0  ...                   0   0        0   \n",
       "12697               0         0  ...                   0   0        0   \n",
       "12698               0         0  ...                   0   0        0   \n",
       "\n",
       "       Violent  Visual-Novel  Walking-Simulator  War  Wargame  World-War-II  \\\n",
       "0            1             0                  0    0        0             0   \n",
       "1            0             0                  0    0        1             0   \n",
       "2            0             0                  0    0        0             0   \n",
       "3            0             0                  0    0        0             0   \n",
       "4            0             0                  0    0        0             0   \n",
       "...        ...           ...                ...  ...      ...           ...   \n",
       "12694        0             0                  0    0        0             0   \n",
       "12695        0             0                  0    0        0             0   \n",
       "12696        0             0                  0    0        0             0   \n",
       "12697        0             0                  0    0        0             0   \n",
       "12698        0             0                  0    0        0             0   \n",
       "\n",
       "       Zombies  \n",
       "0            0  \n",
       "1            0  \n",
       "2            0  \n",
       "3            0  \n",
       "4            0  \n",
       "...        ...  \n",
       "12694        0  \n",
       "12695        0  \n",
       "12696        0  \n",
       "12697        0  \n",
       "12698        0  \n",
       "\n",
       "[12699 rows x 185 columns]"
      ]
     },
     "execution_count": 135,
     "metadata": {},
     "output_type": "execute_result"
    }
   ],
   "source": [
    "mlb_tags = MultiLabelBinarizer()\n",
    "\n",
    "# Fit and transform the data\n",
    "one_hot_encoded_tags = mlb_tags.fit_transform(tabular_df['Filtered_Tags'])\n",
    "\n",
    "# Create a DataFrame with the one-hot encoded data\n",
    "one_hot_df_tags = pd.DataFrame(one_hot_encoded_tags, columns=mlb_tags.classes_)\n",
    "one_hot_df_tags"
   ]
  },
  {
   "cell_type": "code",
   "execution_count": 136,
   "metadata": {},
   "outputs": [],
   "source": [
    "tabular_df['ReleaseDate'] = pd.to_datetime(tabular_df['ReleaseDate'])\n",
    "\n",
    "# Extract the month and create a new column 'month'\n",
    "tabular_df['month'] = tabular_df['ReleaseDate'].dt.month"
   ]
  },
  {
   "cell_type": "code",
   "execution_count": 137,
   "metadata": {},
   "outputs": [],
   "source": [
    "preprocessed_tabular_df = tabular_df.drop(columns=['Categories', 'Tags', 'Filtered_Categories', 'Filtered_Tags', 'ReleaseDate'])\n",
    "\n",
    "preprocessed_tabular_df = pd.concat([preprocessed_tabular_df, one_hot_df_cats, one_hot_df_tags], axis=1)\n",
    "preprocessed_tabular_df.head(3)"
   ]
  },
  {
   "cell_type": "markdown",
   "metadata": {},
   "source": [
    "#### Modularizing Tabular Approach"
   ]
  },
  {
   "cell_type": "code",
   "execution_count": 50,
   "metadata": {},
   "outputs": [],
   "source": [
    "from sklearn.preprocessing import MultiLabelBinarizer\n",
    "import ast"
   ]
  },
  {
   "cell_type": "code",
   "execution_count": 57,
   "metadata": {},
   "outputs": [],
   "source": [
    "def encoding_multilabel_column(df, feature, frequency_threshold):\n",
    "    #replace labels with spacing with a dash so that they remain one word\n",
    "    #then split into list based on commas\n",
    "    df[feature] = df[feature].apply(lambda x: x.replace(' ', '-').split(','))\n",
    "\n",
    "    all_labels = [label for sublist in df[feature] for label in sublist]\n",
    "    labels_counter = Counter(all_labels)\n",
    "\n",
    "    frequent_cats = {label for label, count in labels_counter.items() if count >= frequency_threshold}\n",
    "    df[f\"Filtered_{feature}\"] = df[feature].apply(lambda x: [label for label in x if label in frequent_cats])\n",
    "\n",
    "    mlb = MultiLabelBinarizer()\n",
    "\n",
    "    # Fit and transform the data\n",
    "    one_hot_encoded = mlb.fit_transform(df[f\"Filtered_{feature}\"])\n",
    "\n",
    "    # Create a DataFrame with the one-hot encoded data\n",
    "    one_hot_df_labels = pd.DataFrame(one_hot_encoded, columns=mlb.classes_)\n",
    "\n",
    "    return one_hot_df_labels"
   ]
  },
  {
   "cell_type": "markdown",
   "metadata": {},
   "source": [
    "Preprocessing everything at once."
   ]
  },
  {
   "cell_type": "code",
   "execution_count": 59,
   "metadata": {},
   "outputs": [],
   "source": [
    "from collections import Counter"
   ]
  },
  {
   "cell_type": "code",
   "execution_count": 60,
   "metadata": {},
   "outputs": [
    {
     "name": "stderr",
     "output_type": "stream",
     "text": [
      "C:\\Users\\RaviB\\AppData\\Local\\Temp\\ipykernel_9296\\373867817.py:10: SettingWithCopyWarning: \n",
      "A value is trying to be set on a copy of a slice from a DataFrame.\n",
      "Try using .loc[row_indexer,col_indexer] = value instead\n",
      "\n",
      "See the caveats in the documentation: https://pandas.pydata.org/pandas-docs/stable/user_guide/indexing.html#returning-a-view-versus-a-copy\n",
      "  tabular_df['Achievements'] = tabular_df['Achievements'].astype(int)\n",
      "C:\\Users\\RaviB\\AppData\\Local\\Temp\\ipykernel_9296\\373867817.py:11: SettingWithCopyWarning: \n",
      "A value is trying to be set on a copy of a slice from a DataFrame.\n",
      "Try using .loc[row_indexer,col_indexer] = value instead\n",
      "\n",
      "See the caveats in the documentation: https://pandas.pydata.org/pandas-docs/stable/user_guide/indexing.html#returning-a-view-versus-a-copy\n",
      "  tabular_df['Mac'] = tabular_df['Mac'].astype(int)\n",
      "C:\\Users\\RaviB\\AppData\\Local\\Temp\\ipykernel_9296\\373867817.py:12: SettingWithCopyWarning: \n",
      "A value is trying to be set on a copy of a slice from a DataFrame.\n",
      "Try using .loc[row_indexer,col_indexer] = value instead\n",
      "\n",
      "See the caveats in the documentation: https://pandas.pydata.org/pandas-docs/stable/user_guide/indexing.html#returning-a-view-versus-a-copy\n",
      "  tabular_df['Linux'] = tabular_df['Linux'].astype(int)\n",
      "C:\\Users\\RaviB\\AppData\\Local\\Temp\\ipykernel_9296\\373867817.py:15: SettingWithCopyWarning: \n",
      "A value is trying to be set on a copy of a slice from a DataFrame.\n",
      "Try using .loc[row_indexer,col_indexer] = value instead\n",
      "\n",
      "See the caveats in the documentation: https://pandas.pydata.org/pandas-docs/stable/user_guide/indexing.html#returning-a-view-versus-a-copy\n",
      "  tabular_df['Supported languages'] = tabular_df['Supported languages'].apply(ast.literal_eval)\n",
      "C:\\Users\\RaviB\\AppData\\Local\\Temp\\ipykernel_9296\\373867817.py:16: SettingWithCopyWarning: \n",
      "A value is trying to be set on a copy of a slice from a DataFrame.\n",
      "Try using .loc[row_indexer,col_indexer] = value instead\n",
      "\n",
      "See the caveats in the documentation: https://pandas.pydata.org/pandas-docs/stable/user_guide/indexing.html#returning-a-view-versus-a-copy\n",
      "  tabular_df['Supported languages'] = tabular_df['Supported languages'].apply(lambda lst: len(lst))\n",
      "C:\\Users\\RaviB\\AppData\\Local\\Temp\\ipykernel_9296\\373867817.py:19: SettingWithCopyWarning: \n",
      "A value is trying to be set on a copy of a slice from a DataFrame.\n",
      "Try using .loc[row_indexer,col_indexer] = value instead\n",
      "\n",
      "See the caveats in the documentation: https://pandas.pydata.org/pandas-docs/stable/user_guide/indexing.html#returning-a-view-versus-a-copy\n",
      "  tabular_df['ReleaseDate'] = pd.to_datetime(tabular_df['ReleaseDate'])\n",
      "C:\\Users\\RaviB\\AppData\\Local\\Temp\\ipykernel_9296\\373867817.py:20: SettingWithCopyWarning: \n",
      "A value is trying to be set on a copy of a slice from a DataFrame.\n",
      "Try using .loc[row_indexer,col_indexer] = value instead\n",
      "\n",
      "See the caveats in the documentation: https://pandas.pydata.org/pandas-docs/stable/user_guide/indexing.html#returning-a-view-versus-a-copy\n",
      "  tabular_df['month'] = tabular_df['ReleaseDate'].dt.month\n"
     ]
    }
   ],
   "source": [
    "tabular_df = discounted_games[\n",
    "    [\n",
    "    'Achievements', 'Supported languages',\n",
    "    'Mac', 'Linux', 'Categories', 'Tags', \n",
    "    'ReleaseDate', 'TimeDelta', 'DiscountedEarly'\n",
    "    ]\n",
    "]\n",
    "\n",
    "# converting binary columns to ints\n",
    "tabular_df['Achievements'] = tabular_df['Achievements'].astype(int)\n",
    "tabular_df['Mac'] = tabular_df['Mac'].astype(int)\n",
    "tabular_df['Linux'] = tabular_df['Linux'].astype(int)\n",
    "\n",
    "# converting supported languages to just the number of them\n",
    "tabular_df['Supported languages'] = tabular_df['Supported languages'].apply(ast.literal_eval)\n",
    "tabular_df['Supported languages'] = tabular_df['Supported languages'].apply(lambda lst: len(lst))\n",
    "\n",
    "# converting release date to the month only\n",
    "tabular_df['ReleaseDate'] = pd.to_datetime(tabular_df['ReleaseDate'])\n",
    "tabular_df['month'] = tabular_df['ReleaseDate'].dt.month\n",
    "\n",
    "tabular_df = tabular_df.dropna(subset=['Categories', 'Tags'])\n",
    "tabular_df = tabular_df.reset_index(drop=True)\n",
    "\n",
    "one_hot_df_cats = encoding_multilabel_column(tabular_df, 'Categories', 50)\n",
    "one_hot_df_tags = encoding_multilabel_column(tabular_df, 'Tags', 100)\n",
    "\n",
    "preprocessed_tabular_df = tabular_df.drop(columns=['Categories', 'Tags', 'Filtered_Categories', 'Filtered_Tags', 'ReleaseDate'])\n",
    "\n",
    "preprocessed_tabular_df = pd.concat([preprocessed_tabular_df, one_hot_df_cats, one_hot_df_tags], axis=1)"
   ]
  },
  {
   "cell_type": "code",
   "execution_count": 28,
   "metadata": {},
   "outputs": [
    {
     "name": "stdout",
     "output_type": "stream",
     "text": [
      "(12699, 222)\n"
     ]
    },
    {
     "data": {
      "text/html": [
       "<div>\n",
       "<style scoped>\n",
       "    .dataframe tbody tr th:only-of-type {\n",
       "        vertical-align: middle;\n",
       "    }\n",
       "\n",
       "    .dataframe tbody tr th {\n",
       "        vertical-align: top;\n",
       "    }\n",
       "\n",
       "    .dataframe thead th {\n",
       "        text-align: right;\n",
       "    }\n",
       "</style>\n",
       "<table border=\"1\" class=\"dataframe\">\n",
       "  <thead>\n",
       "    <tr style=\"text-align: right;\">\n",
       "      <th></th>\n",
       "      <th>Achievements</th>\n",
       "      <th>Supported languages</th>\n",
       "      <th>Mac</th>\n",
       "      <th>Linux</th>\n",
       "      <th>TimeDelta</th>\n",
       "      <th>DiscountedEarly</th>\n",
       "      <th>month</th>\n",
       "      <th>Captions-available</th>\n",
       "      <th>Co-op</th>\n",
       "      <th>Commentary-available</th>\n",
       "      <th>...</th>\n",
       "      <th>Twin-Stick-Shooter</th>\n",
       "      <th>VR</th>\n",
       "      <th>VR-Only</th>\n",
       "      <th>Violent</th>\n",
       "      <th>Visual-Novel</th>\n",
       "      <th>Walking-Simulator</th>\n",
       "      <th>War</th>\n",
       "      <th>Wargame</th>\n",
       "      <th>World-War-II</th>\n",
       "      <th>Zombies</th>\n",
       "    </tr>\n",
       "  </thead>\n",
       "  <tbody>\n",
       "    <tr>\n",
       "      <th>0</th>\n",
       "      <td>1</td>\n",
       "      <td>10</td>\n",
       "      <td>1</td>\n",
       "      <td>0</td>\n",
       "      <td>32.0</td>\n",
       "      <td>discounted after 3 days</td>\n",
       "      <td>10</td>\n",
       "      <td>0</td>\n",
       "      <td>0</td>\n",
       "      <td>0</td>\n",
       "      <td>...</td>\n",
       "      <td>0</td>\n",
       "      <td>0</td>\n",
       "      <td>0</td>\n",
       "      <td>1</td>\n",
       "      <td>0</td>\n",
       "      <td>0</td>\n",
       "      <td>0</td>\n",
       "      <td>0</td>\n",
       "      <td>0</td>\n",
       "      <td>0</td>\n",
       "    </tr>\n",
       "    <tr>\n",
       "      <th>1</th>\n",
       "      <td>1</td>\n",
       "      <td>4</td>\n",
       "      <td>1</td>\n",
       "      <td>1</td>\n",
       "      <td>81.0</td>\n",
       "      <td>discounted after 3 days</td>\n",
       "      <td>7</td>\n",
       "      <td>0</td>\n",
       "      <td>0</td>\n",
       "      <td>0</td>\n",
       "      <td>...</td>\n",
       "      <td>0</td>\n",
       "      <td>0</td>\n",
       "      <td>0</td>\n",
       "      <td>0</td>\n",
       "      <td>0</td>\n",
       "      <td>0</td>\n",
       "      <td>0</td>\n",
       "      <td>1</td>\n",
       "      <td>0</td>\n",
       "      <td>0</td>\n",
       "    </tr>\n",
       "    <tr>\n",
       "      <th>2</th>\n",
       "      <td>0</td>\n",
       "      <td>1</td>\n",
       "      <td>0</td>\n",
       "      <td>0</td>\n",
       "      <td>1.0</td>\n",
       "      <td>discounted within 2 days</td>\n",
       "      <td>1</td>\n",
       "      <td>0</td>\n",
       "      <td>0</td>\n",
       "      <td>0</td>\n",
       "      <td>...</td>\n",
       "      <td>0</td>\n",
       "      <td>0</td>\n",
       "      <td>0</td>\n",
       "      <td>0</td>\n",
       "      <td>0</td>\n",
       "      <td>0</td>\n",
       "      <td>0</td>\n",
       "      <td>0</td>\n",
       "      <td>0</td>\n",
       "      <td>0</td>\n",
       "    </tr>\n",
       "  </tbody>\n",
       "</table>\n",
       "<p>3 rows × 222 columns</p>\n",
       "</div>"
      ],
      "text/plain": [
       "   Achievements  Supported languages  Mac  Linux  TimeDelta  \\\n",
       "0             1                   10    1      0       32.0   \n",
       "1             1                    4    1      1       81.0   \n",
       "2             0                    1    0      0        1.0   \n",
       "\n",
       "            DiscountedEarly  month  Captions-available  Co-op  \\\n",
       "0   discounted after 3 days     10                   0      0   \n",
       "1   discounted after 3 days      7                   0      0   \n",
       "2  discounted within 2 days      1                   0      0   \n",
       "\n",
       "   Commentary-available  ...  Twin-Stick-Shooter  VR  VR-Only  Violent  \\\n",
       "0                     0  ...                   0   0        0        1   \n",
       "1                     0  ...                   0   0        0        0   \n",
       "2                     0  ...                   0   0        0        0   \n",
       "\n",
       "   Visual-Novel  Walking-Simulator  War  Wargame  World-War-II  Zombies  \n",
       "0             0                  0    0        0             0        0  \n",
       "1             0                  0    0        1             0        0  \n",
       "2             0                  0    0        0             0        0  \n",
       "\n",
       "[3 rows x 222 columns]"
      ]
     },
     "execution_count": 28,
     "metadata": {},
     "output_type": "execute_result"
    }
   ],
   "source": [
    "print(preprocessed_tabular_df.shape)\n",
    "preprocessed_tabular_df.head(3)"
   ]
  },
  {
   "cell_type": "markdown",
   "metadata": {},
   "source": [
    "### Preprocessing Text Data Approach"
   ]
  },
  {
   "cell_type": "markdown",
   "metadata": {},
   "source": [
    "#### Target"
   ]
  },
  {
   "cell_type": "markdown",
   "metadata": {},
   "source": [
    "For the target we will just do label encoding."
   ]
  },
  {
   "cell_type": "code",
   "execution_count": 2,
   "metadata": {},
   "outputs": [],
   "source": [
    "from sklearn.preprocessing import LabelEncoder\n",
    "import nltk\n",
    "import re\n",
    "from nltk.tokenize import word_tokenize\n",
    "from nltk.corpus import stopwords\n",
    "from nltk.stem import WordNetLemmatizer\n",
    "\n",
    "# if we wanted consistent and intuitive order than this mapping would be better, but it doesn't matter so we can use label encoding instead\n",
    "#category_map = {'less than a month': 0, '1-3 months': 1, '4-6 months': 2, 'more than 6 months': 3}"
   ]
  },
  {
   "cell_type": "code",
   "execution_count": 54,
   "metadata": {},
   "outputs": [],
   "source": [
    "label_encoder = LabelEncoder()\n",
    "\n",
    "y = discounted_games['monthsUntilSale'].loc[X_full_str.index]\n",
    "\n",
    "y = label_encoder.fit_transform(y)"
   ]
  },
  {
   "cell_type": "markdown",
   "metadata": {},
   "source": [
    "#### Text Column"
   ]
  },
  {
   "cell_type": "code",
   "execution_count": 55,
   "metadata": {},
   "outputs": [],
   "source": [
    "def remove_stop_words(review):\n",
    "    english_stop_words = stopwords.words('english')\n",
    "\n",
    "    #get the words in the review as a list\n",
    "    review_words = review.split()\n",
    "    \n",
    "    #make a new list with the same words but only if they are not a stop word\n",
    "    removed_stop_words_list = [word for word in review_words if word not in english_stop_words]\n",
    "    \n",
    "    removed_stop_words = ' '.join(removed_stop_words_list)\n",
    "    \n",
    "    return removed_stop_words\n",
    "\n",
    "def remove_punctuation(text):\n",
    "    # Define a regular expression pattern to match punctuation\n",
    "    punctuation_pattern = r'[^\\w\\s]'\n",
    "    # Use the sub() function to replace punctuation with an empty string\n",
    "    return re.sub(punctuation_pattern, '', text)\n",
    "\n",
    "def lemmatizing_reviews(review):\n",
    "    lemmatizer = WordNetLemmatizer()\n",
    "\n",
    "    #get review text as a list of words\n",
    "    review_list = review.split()\n",
    "    \n",
    "    #lemmatize the words\n",
    "    lemmatized_list = [lemmatizer.lemmatize(word) for word in review_list]\n",
    "    \n",
    "    #make it into a string again\n",
    "    lemmatized_review = ' '.join(lemmatized_list)\n",
    "    \n",
    "    return lemmatized_review"
   ]
  },
  {
   "cell_type": "code",
   "execution_count": 56,
   "metadata": {},
   "outputs": [],
   "source": [
    "import unicodedata\n",
    "\n",
    "# there are some words that aren't english still\n",
    "def is_english(c):\n",
    "    return c.isalpha() and unicodedata.name(c).startswith(('LATIN', 'COMMON'))\n",
    " \n",
    "def remove_non_english(lst):\n",
    "    output = []\n",
    "    for s in lst:\n",
    "        filtered = filter(is_english, list(s))\n",
    "        english_str = ''.join(filtered)\n",
    "        output.append(english_str)\n",
    "    return output"
   ]
  },
  {
   "cell_type": "code",
   "execution_count": 57,
   "metadata": {},
   "outputs": [],
   "source": [
    "X_preproc = X_full_str.apply(lambda x: x.lower())\n",
    "X_preproc = X_preproc.apply(remove_stop_words)\n",
    "X_preproc = X_preproc.apply(remove_punctuation)\n",
    "X_preproc = X_preproc.apply(lemmatizing_reviews)\n",
    "X_preproc = X_preproc.apply(word_tokenize)\n",
    "X_preproc = X_preproc.apply(remove_non_english)"
   ]
  },
  {
   "cell_type": "code",
   "execution_count": 58,
   "metadata": {},
   "outputs": [
    {
     "data": {
      "text/plain": [
       "0        [law, look, showdown, atop, train, last, fight...\n",
       "2        [steam, squad, tactical, wargame, gameplay, ta...\n",
       "3        [meet, continuation, hardcore, platformer, pro...\n",
       "4        [aerofly, f, , let, explore, world, flying, qu...\n",
       "5        [i, wish, could, make, video, game, among, u, ...\n",
       "                               ...                        \n",
       "10334    [saga, begin, again, great, calamity, sundered...\n",
       "10335    [get, bare, necessity, life, play, mancub, mow...\n",
       "10336    [trapped, lonely, motel, car, break, middle, n...\n",
       "10337    [deer, hunter, back, deer, hunter, reloaded, s...\n",
       "10338    [defend, organism, vicious, germ, strike, agai...\n",
       "Length: 8763, dtype: object"
      ]
     },
     "execution_count": 58,
     "metadata": {},
     "output_type": "execute_result"
    }
   ],
   "source": [
    "X_preproc"
   ]
  },
  {
   "cell_type": "markdown",
   "metadata": {},
   "source": [
    "Let's save this for ease of access for modeling."
   ]
  },
  {
   "cell_type": "code",
   "execution_count": 85,
   "metadata": {},
   "outputs": [],
   "source": [
    "X_preproc_df = pd.DataFrame(X_preproc.reset_index(drop=True))\n",
    "X_preproc_df = X_preproc_df.rename(columns={0:'tokenizedText'})\n",
    "\n",
    "y_df = pd.DataFrame(y)\n",
    "y_df = y_df.rename(columns={0:'labeledMonthsUntilSale'})"
   ]
  },
  {
   "cell_type": "code",
   "execution_count": 86,
   "metadata": {},
   "outputs": [],
   "source": [
    "preprocessed_df = pd.concat([X_preproc_df, y_df], axis=1)\n",
    "preprocessed_df.to_csv('../data/preprocessed_date.csv')"
   ]
  },
  {
   "cell_type": "markdown",
   "metadata": {},
   "source": [
    "## Modeling"
   ]
  },
  {
   "cell_type": "markdown",
   "metadata": {},
   "source": [
    "### XGBoost"
   ]
  },
  {
   "cell_type": "code",
   "execution_count": 5,
   "metadata": {},
   "outputs": [],
   "source": [
    "# for text column with XGBoost, but didn't perform well so not doing that here\n",
    "\n",
    "# import ast\n",
    "# from sklearn.feature_extraction.text import TfidfVectorizer\n",
    "\n",
    "# preprocessed_df = pd.read_csv('../data/preprocessed_date.csv')\n",
    "# X = preprocessed_df['tokenizedText'].apply(ast.literal_eval)\n",
    "# y = preprocessed_df['labeledMonthsUntilSale']\n",
    "\n",
    "# def get_tfidf_splits(X, y, test_size=0.25, random_state=42):\n",
    "#     X_train, X_test, y_train, y_test = train_test_split(X, y, test_size=test_size, random_state=random_state)\n",
    "\n",
    "#     tfidf = TfidfVectorizer()\n",
    "\n",
    "#     tfidf_fitted = tfidf.fit(X_train.str.join(' '))\n",
    "\n",
    "#     tfidf_X_train_labels = tfidf_fitted.transform(X_train.str.join(' '))\n",
    "#     tfidf_X_test_labels = tfidf_fitted.transform(X_test.str.join(' '))\n",
    "#     tfidf_train_df = pd.DataFrame(tfidf_X_train_labels.toarray(), columns=tfidf.get_feature_names_out())\n",
    "#     tfidf_test_df = pd.DataFrame(tfidf_X_test_labels.toarray(), columns=tfidf.get_feature_names_out())\n",
    "\n",
    "#     return tfidf_train_df, tfidf_test_df, y_train, y_test, tfidf_fitted\n",
    "\n",
    "# tfidf_train_df, tfidf_test_df, y_train, y_test, tfidf_fitted = get_tfidf_splits(X, y, test_size=0.2)\n",
    "#tfidf_train_df"
   ]
  },
  {
   "cell_type": "markdown",
   "metadata": {},
   "source": [
    "#### Classification - Binary"
   ]
  },
  {
   "cell_type": "code",
   "execution_count": 65,
   "metadata": {},
   "outputs": [],
   "source": [
    "from sklearn.model_selection import train_test_split\n",
    "import xgboost as xgb\n",
    "from sklearn.metrics import accuracy_score, f1_score\n",
    "from sklearn.model_selection import GridSearchCV"
   ]
  },
  {
   "cell_type": "code",
   "execution_count": 61,
   "metadata": {},
   "outputs": [
    {
     "data": {
      "text/plain": [
       "Index(['Achievements', 'Supported languages', 'Mac', 'Linux', 'TimeDelta',\n",
       "       'DiscountedEarly', 'month', 'Captions-available', 'Co-op',\n",
       "       'Commentary-available',\n",
       "       ...\n",
       "       'Twin-Stick-Shooter', 'VR', 'VR-Only', 'Violent', 'Visual-Novel',\n",
       "       'Walking-Simulator', 'War', 'Wargame', 'World-War-II', 'Zombies'],\n",
       "      dtype='object', length=222)"
      ]
     },
     "execution_count": 61,
     "metadata": {},
     "output_type": "execute_result"
    }
   ],
   "source": [
    "preprocessed_tabular_df.columns"
   ]
  },
  {
   "cell_type": "code",
   "execution_count": 31,
   "metadata": {},
   "outputs": [],
   "source": [
    "y = preprocessed_tabular_df['DiscountedEarly']\n",
    "X = preprocessed_tabular_df.drop(columns=['DiscountedEarly', 'TimeDelta'])\n",
    "\n",
    "X = X.drop(columns=['Co-op', 'PvP'])\n",
    "\n",
    "label_encoding = {'discounted within 2 days': 0, 'discounted after 3 days': 1}\n",
    "y = y.apply(lambda x: label_encoding[x])"
   ]
  },
  {
   "cell_type": "code",
   "execution_count": 34,
   "metadata": {},
   "outputs": [],
   "source": [
    "X_train, X_test, y_train, y_test = train_test_split(X, y, test_size=0.2, random_state=42)"
   ]
  },
  {
   "cell_type": "code",
   "execution_count": 35,
   "metadata": {},
   "outputs": [
    {
     "name": "stdout",
     "output_type": "stream",
     "text": [
      "Accuracy: 0.6704724409448819\n",
      "F1 Score: 0.768592756427979\n"
     ]
    }
   ],
   "source": [
    "# Define your XGBoost model\n",
    "model = xgb.XGBClassifier(\n",
    "    objective='binary:logistic',  # for multiclass classification\n",
    "    eval_metric='logloss'\n",
    ")\n",
    "\n",
    "# Train the model using TF-IDF features\n",
    "model.fit(X_train, y_train)\n",
    "\n",
    "# Make predictions on the test set\n",
    "y_pred = model.predict(X_test)\n",
    "\n",
    "# Calculate accuracy\n",
    "accuracy = accuracy_score(y_test, y_pred)\n",
    "print(\"Accuracy:\", accuracy)\n",
    "\n",
    "f1 = f1_score(y_test, y_pred)\n",
    "print(\"F1 Score:\", f1)\n"
   ]
  },
  {
   "cell_type": "code",
   "execution_count": 207,
   "metadata": {},
   "outputs": [
    {
     "name": "stdout",
     "output_type": "stream",
     "text": [
      "Fitting 3 folds for each of 48 candidates, totalling 144 fits\n",
      "Best Hyperparameters: {'learning_rate': 0.1, 'max_depth': 3, 'n_estimators': None}\n",
      "Accuracy: 0.6748031496062992\n",
      "F1 Score: 0.7833158447009444\n"
     ]
    }
   ],
   "source": [
    "# Define the parameter grid\n",
    "param_grid = {\n",
    "    'max_depth': [None, 3, 5, 7],              # Maximum depth of a tree\n",
    "    'n_estimators': [None, 50, 100, 200],      # Number of trees\n",
    "    'learning_rate': [0.01, 0.1, 0.05],  # Step size shrinkage\n",
    "    #'subsample': [0.8, 1.0],             # Subsample ratio of the training instances\n",
    "    #'colsample_bytree': [0.8, 1.0],      # Subsample ratio of columns when constructing each tree\n",
    "    #'min_child_weight': [None, 1, 3, 5],       # Minimum sum of instance weight (hessian) needed in a child\n",
    "    #'gamma': [0, 0.1, 0.3],              # Minimum loss reduction required to make a further partition on a leaf node\n",
    "    #'reg_alpha': [0, 0.01, 0.1],         # L1 regularization term on weights\n",
    "    #'reg_lambda': [1, 1.5, 2]            # L2 regularization term on weights\n",
    "}\n",
    "\n",
    "model = xgb.XGBClassifier(\n",
    "    objective='binary:logistic',  # for multiclass classification\n",
    "    eval_metric='logloss'\n",
    ")\n",
    "\n",
    "\n",
    "grid_search = GridSearchCV(estimator=model, param_grid=param_grid, \n",
    "                           scoring='accuracy', cv=3, verbose=1, n_jobs=-1)\n",
    "\n",
    "\n",
    "grid_search.fit(X_train, y_train)\n",
    "\n",
    "best_model = grid_search.best_estimator_\n",
    "\n",
    "y_pred = best_model.predict(X_test)\n",
    "\n",
    "accuracy = accuracy_score(y_test, y_pred)\n",
    "f1 = f1_score(y_test, y_pred)\n",
    "\n",
    "print(\"Best Hyperparameters:\", grid_search.best_params_)\n",
    "print(\"Accuracy:\", accuracy)\n",
    "print(\"F1 Score:\", f1)"
   ]
  },
  {
   "cell_type": "markdown",
   "metadata": {},
   "source": [
    "#### Regression - Log Transformed TimeDelta\n",
    "\n",
    "Now if the game goes on sale after the first 2 days, then we will want to predict based on the TimeDelta column after doing a log transform since it has a normal distribution."
   ]
  },
  {
   "cell_type": "code",
   "execution_count": 62,
   "metadata": {},
   "outputs": [
    {
     "name": "stdout",
     "output_type": "stream",
     "text": [
      "7966\n"
     ]
    },
    {
     "data": {
      "text/plain": [
       "Counter({1.0: 2287,\n",
       "         2.0: 2136,\n",
       "         0.0: 1268,\n",
       "         3.0: 952,\n",
       "         4.0: 518,\n",
       "         5.0: 287,\n",
       "         6.0: 199,\n",
       "         7.0: 96,\n",
       "         8.0: 83,\n",
       "         9.0: 54,\n",
       "         10.0: 50,\n",
       "         11.0: 36})"
      ]
     },
     "execution_count": 62,
     "metadata": {},
     "output_type": "execute_result"
    }
   ],
   "source": [
    "regression_df = preprocessed_tabular_df[preprocessed_tabular_df['DiscountedEarly'] == 'discounted after 3 days']\n",
    "regression_df = regression_df.drop(columns='DiscountedEarly')\n",
    "\n",
    "#removing games that went on sale after many years\n",
    "regression_df['TimeDelta'] = regression_df[['TimeDelta']] // 30 \n",
    "regression_df = regression_df[regression_df['TimeDelta'] < 1*12]\n",
    "\n",
    "print(len(regression_df['TimeDelta']))\n",
    "Counter(regression_df['TimeDelta'])"
   ]
  },
  {
   "cell_type": "markdown",
   "metadata": {},
   "source": [
    "So it makes sense to make the cutoff at 6 months, which means games that went on sale within 7 months."
   ]
  },
  {
   "cell_type": "code",
   "execution_count": 68,
   "metadata": {},
   "outputs": [],
   "source": [
    "regression_df = preprocessed_tabular_df[preprocessed_tabular_df['DiscountedEarly'] == 'discounted after 3 days']\n",
    "regression_df = regression_df.drop(columns='DiscountedEarly')\n",
    "\n",
    "#removing games that went on sale after 6 months\n",
    "regression_df['TimeDelta'] = regression_df[['TimeDelta']] // 30 \n",
    "regression_df = regression_df[regression_df['TimeDelta'] < 6]\n",
    "\n",
    "y = np.log1p(regression_df['TimeDelta'])\n",
    "X = regression_df.drop(columns=['TimeDelta'])\n",
    "\n",
    "# duplicate columns\n",
    "X = X.drop(columns=['Co-op', 'PvP'])\n",
    "\n",
    "X_train, X_test, y_train, y_test = train_test_split(X, y, test_size=0.2, random_state=42)"
   ]
  },
  {
   "cell_type": "code",
   "execution_count": 69,
   "metadata": {},
   "outputs": [
    {
     "name": "stdout",
     "output_type": "stream",
     "text": [
      "Mean Squared Error (MSE): 0.20493634684053352\n",
      "Root Mean Squared Error (RMSE): 0.45269895829406714\n",
      "Mean Absolute Error (MAE): 0.3453159127678639\n",
      "R^2 Score: 0.191815711636098\n"
     ]
    }
   ],
   "source": [
    "from sklearn.metrics import mean_squared_error, mean_absolute_error, r2_score\n",
    "\n",
    "model = xgb.XGBRegressor(\n",
    "    objective='reg:squarederror',  # Objective function for regression\n",
    "    random_state=42  # Seed for reproducibility\n",
    ")\n",
    "\n",
    "# Train the model\n",
    "model.fit(X_train, y_train)\n",
    "\n",
    "# Make predictions on the test set\n",
    "y_pred = model.predict(X_test)\n",
    "\n",
    "# Calculate evaluation metrics\n",
    "mse = mean_squared_error(y_test, y_pred)\n",
    "rmse = np.sqrt(mse)\n",
    "mae = mean_absolute_error(y_test, y_pred)\n",
    "r2 = r2_score(y_test, y_pred)\n",
    "\n",
    "print(f\"Mean Squared Error (MSE): {mse}\")\n",
    "print(f\"Root Mean Squared Error (RMSE): {rmse}\")\n",
    "print(f\"Mean Absolute Error (MAE): {mae}\")\n",
    "print(f\"R^2 Score: {r2}\")\n"
   ]
  },
  {
   "cell_type": "code",
   "execution_count": 70,
   "metadata": {},
   "outputs": [
    {
     "name": "stdout",
     "output_type": "stream",
     "text": [
      "Fitting 3 folds for each of 2304 candidates, totalling 6912 fits\n",
      "Best parameters found:  {'learning_rate': 0.05, 'max_depth': None, 'min_child_weight': 5, 'n_estimators': 50, 'reg_alpha': 0.01, 'reg_lambda': 1.5}\n",
      "Mean Squared Error (MSE): 0.19322666949696246\n",
      "Root Mean Squared Error (RMSE): 0.4395755560730856\n",
      "Mean Absolute Error (MAE): 0.3327593999306083\n",
      "R^2 Score: 0.23799384156172199\n",
      "The model explains a small proportion of the variance. Consider improving the model.\n"
     ]
    }
   ],
   "source": [
    "param_grid = {\n",
    "    'max_depth': [None, 3, 5, 7],            # maximum depth of a tree\n",
    "    'n_estimators': [None, 50, 100, 200],    # number of trees\n",
    "    'learning_rate': [0.01, 0.1, 0.05, 1], # step size shrinkage\n",
    "    #'subsample': [0.8, 1.0],           # subsample ratio of the training instances\n",
    "    #'colsample_bytree': [0.8, 1.0],     # subsample ratio of columns when constructing each tree\n",
    "    'min_child_weight': [None, 1, 3, 5],       # Minimum sum of instance weight (hessian) needed in a child\n",
    "    #'gamma': [0, 0.1, 0.3],              # Minimum loss reduction required to make a further partition on a leaf node\n",
    "    'reg_alpha': [0, 0.01, 0.1],         # L1 regularization term on weights\n",
    "    'reg_lambda': [1, 1.5, 2]            # L2 regularization term on weights\n",
    "}\n",
    "\n",
    "# Initialize the XGBoost regressor\n",
    "xgb_model = xgb.XGBRegressor(objective='reg:squarederror', random_state=42)\n",
    "\n",
    "# Initialize GridSearchCV with the XGBoost regressor and parameter grid\n",
    "grid_search = GridSearchCV(\n",
    "    estimator=xgb_model, \n",
    "    param_grid=param_grid, \n",
    "    cv=3, \n",
    "    scoring='neg_mean_squared_error', \n",
    "    verbose=1, \n",
    "    #n_jobs=-1\n",
    ")\n",
    "\n",
    "# Fit the grid search to the training data\n",
    "grid_search.fit(X_train, y_train)\n",
    "\n",
    "# Get the best model from grid search\n",
    "best_model = grid_search.best_estimator_\n",
    "\n",
    "# Make predictions on the test set\n",
    "y_pred = best_model.predict(X_test)\n",
    "\n",
    "# Evaluate the model\n",
    "mse = mean_squared_error(y_test, y_pred)\n",
    "rmse = np.sqrt(mse)\n",
    "mae = mean_absolute_error(y_test, y_pred)\n",
    "r2 = r2_score(y_test, y_pred)\n",
    "\n",
    "print(\"Best parameters found: \", grid_search.best_params_)\n",
    "print(f\"Mean Squared Error (MSE): {mse}\")\n",
    "print(f\"Root Mean Squared Error (RMSE): {rmse}\")\n",
    "print(f\"Mean Absolute Error (MAE): {mae}\")\n",
    "print(f\"R^2 Score: {r2}\")\n",
    "\n",
    "if r2 > 0.7:\n",
    "    print(\"The model explains a high proportion of the variance. This is a good R² score.\")\n",
    "elif r2 > 0.4:\n",
    "    print(\"The model explains a moderate proportion of the variance. This is an acceptable R² score.\")\n",
    "else:\n",
    "    print(\"The model explains a small proportion of the variance. Consider improving the model.\")"
   ]
  },
  {
   "cell_type": "markdown",
   "metadata": {},
   "source": [
    "### LLM\n",
    "\n",
    "Metric scores with tfidf and XGBoost were really bad and probably not a whole lot can be done to fix it. Trying an LLM here."
   ]
  },
  {
   "cell_type": "code",
   "execution_count": 6,
   "metadata": {},
   "outputs": [
    {
     "data": {
      "application/vnd.jupyter.widget-view+json": {
       "model_id": "5f66d0471b2e486188b884f828d7a2d7",
       "version_major": 2,
       "version_minor": 0
      },
      "text/plain": [
       "VBox(children=(HTML(value='<center> <img\\nsrc=https://huggingface.co/front/assets/huggingface_logo-noborder.sv…"
      ]
     },
     "metadata": {},
     "output_type": "display_data"
    }
   ],
   "source": [
    "from huggingface_hub import notebook_login\n",
    "\n",
    "notebook_login()"
   ]
  },
  {
   "cell_type": "code",
   "execution_count": 7,
   "metadata": {},
   "outputs": [],
   "source": [
    "from datasets import Dataset"
   ]
  },
  {
   "cell_type": "code",
   "execution_count": 61,
   "metadata": {},
   "outputs": [],
   "source": [
    "labels_to_og = {2: 'less than 1 month', 0: '1-3 months', 1: '4-6 months', 3: 'more than 6 months'}\n",
    "\n",
    "# a better mapping\n",
    "id2label = {0: 'less than 1 month', 1: '1-3 months', 2: '4-6 months', 3: 'more than 6 months'}\n",
    "label2id = {'less than 1 month': 0, '1-3 months': 1, '4-6 months': 2, 'more than 6 months': 3}\n",
    "\n",
    "X_str = X.apply(lambda x: ' '.join(x))\n",
    "y_og = y.apply(lambda x: labels_to_og[x])\n",
    "y_labels = y_og.apply(lambda x: label2id[x])\n",
    "\n",
    "data_dict = {\n",
    "    'text': X_str.tolist(),\n",
    "    'label': y_labels.tolist()\n",
    "}\n",
    "\n",
    "steam_time_delta_data = Dataset.from_dict(data_dict)\n",
    "steam_time_delta_data = steam_time_delta_data.train_test_split(0.2)"
   ]
  },
  {
   "cell_type": "code",
   "execution_count": 62,
   "metadata": {},
   "outputs": [],
   "source": [
    "from transformers import AutoTokenizer\n",
    "\n",
    "tokenizer = AutoTokenizer.from_pretrained(\"distilbert/distilbert-base-uncased\")"
   ]
  },
  {
   "cell_type": "code",
   "execution_count": 63,
   "metadata": {},
   "outputs": [],
   "source": [
    "def preprocess_function(examples):\n",
    "    return tokenizer(examples[\"text\"], truncation=True, padding=True)"
   ]
  },
  {
   "cell_type": "code",
   "execution_count": 64,
   "metadata": {},
   "outputs": [
    {
     "data": {
      "application/vnd.jupyter.widget-view+json": {
       "model_id": "2eb89b8c1e3f4df5beee77e4f6f6a130",
       "version_major": 2,
       "version_minor": 0
      },
      "text/plain": [
       "Map:   0%|          | 0/7010 [00:00<?, ? examples/s]"
      ]
     },
     "metadata": {},
     "output_type": "display_data"
    },
    {
     "data": {
      "application/vnd.jupyter.widget-view+json": {
       "model_id": "d9b2c84197184780a5f00ba759e2e673",
       "version_major": 2,
       "version_minor": 0
      },
      "text/plain": [
       "Map:   0%|          | 0/1753 [00:00<?, ? examples/s]"
      ]
     },
     "metadata": {},
     "output_type": "display_data"
    }
   ],
   "source": [
    "tokenized_steam_time_delta_data = steam_time_delta_data.map(preprocess_function, batched=True)"
   ]
  },
  {
   "cell_type": "code",
   "execution_count": 65,
   "metadata": {},
   "outputs": [],
   "source": [
    "from transformers import DataCollatorWithPadding\n",
    "\n",
    "data_collator = DataCollatorWithPadding(tokenizer=tokenizer)"
   ]
  },
  {
   "cell_type": "code",
   "execution_count": 66,
   "metadata": {},
   "outputs": [],
   "source": [
    "import evaluate\n",
    "\n",
    "accuracy = evaluate.load(\"accuracy\")"
   ]
  },
  {
   "cell_type": "code",
   "execution_count": 77,
   "metadata": {},
   "outputs": [
    {
     "name": "stdout",
     "output_type": "stream",
     "text": [
      "langdonholmes/cohen_weighted_kappa\n"
     ]
    }
   ],
   "source": [
    "for e in list(evaluate.list_evaluation_modules()):\n",
    "    if 'cohen' in e:\n",
    "        print(e)"
   ]
  },
  {
   "cell_type": "code",
   "execution_count": 78,
   "metadata": {},
   "outputs": [
    {
     "data": {
      "application/vnd.jupyter.widget-view+json": {
       "model_id": "f1260959c45246efb819d2c9b44a3fde",
       "version_major": 2,
       "version_minor": 0
      },
      "text/plain": [
       "Downloading builder script:   0%|          | 0.00/3.58k [00:00<?, ?B/s]"
      ]
     },
     "metadata": {},
     "output_type": "display_data"
    },
    {
     "data": {
      "text/plain": [
       "EvaluationModule(name: \"cohen_weighted_kappa\", module_type: \"metric\", features: {'predictions': Value(dtype='float32', id=None), 'references': Value(dtype='float32', id=None)}, usage: \"\"\"\n",
       "Calculates how good are predictions given some references, using certain scores\n",
       "Args:\n",
       "    predictions: list of predictions to score. Each predictions\n",
       "        should be a string with tokens separated by spaces.\n",
       "    references: list of reference for each prediction. Each\n",
       "        reference should be a string with tokens separated by spaces.\n",
       "Returns:\n",
       "    accuracy: description of the first score,\n",
       "    another_score: description of the second score,\n",
       "Examples:\n",
       "    Examples should be written in doctest format, and should illustrate how\n",
       "    to use the function.\n",
       "\n",
       "    >>> my_new_module = evaluate.load(\"my_new_module\")\n",
       "    >>> results = my_new_module.compute(references=[0, 1], predictions=[0, 1])\n",
       "    >>> print(results)\n",
       "    {'accuracy': 1.0}\n",
       "\"\"\", stored examples: 0)"
      ]
     },
     "execution_count": 78,
     "metadata": {},
     "output_type": "execute_result"
    }
   ],
   "source": [
    "evaluate.load(\"langdonholmes/cohen_weighted_kappa\")"
   ]
  },
  {
   "cell_type": "code",
   "execution_count": 81,
   "metadata": {},
   "outputs": [],
   "source": [
    "import numpy as np\n",
    "\n",
    "\n",
    "def compute_metrics(eval_pred):\n",
    "    predictions, labels = eval_pred\n",
    "    predictions = np.argmax(predictions, axis=1)\n",
    "    return accuracy.compute(predictions=predictions, references=labels)\n",
    "\n",
    "# Load the F1-score metric\n",
    "f1 = evaluate.load(\"f1\")\n",
    "\n",
    "def compute_metrics(eval_pred):\n",
    "    predictions, labels = eval_pred\n",
    "    predictions = np.argmax(predictions, axis=1)\n",
    "    return {\n",
    "        \"accuracy\": accuracy.compute(predictions=predictions, references=labels),\n",
    "        \"f1\": f1.compute(predictions=predictions, references=labels, average=\"weighted\"),\n",
    "    }\n"
   ]
  },
  {
   "cell_type": "code",
   "execution_count": 68,
   "metadata": {},
   "outputs": [],
   "source": [
    "id2label = {0: 'less than 1 month', 1: '1-3 months', 2: '4-6 months', 3: 'more than 6 months'}\n",
    "label2id = {'less than 1 month': 0, '1-3 months': 1, '4-6 months': 2, 'more than 6 months': 3}"
   ]
  },
  {
   "cell_type": "code",
   "execution_count": 82,
   "metadata": {},
   "outputs": [
    {
     "name": "stderr",
     "output_type": "stream",
     "text": [
      "Some weights of DistilBertForSequenceClassification were not initialized from the model checkpoint at distilbert/distilbert-base-uncased and are newly initialized: ['classifier.bias', 'classifier.weight', 'pre_classifier.bias', 'pre_classifier.weight']\n",
      "You should probably TRAIN this model on a down-stream task to be able to use it for predictions and inference.\n"
     ]
    }
   ],
   "source": [
    "from transformers import AutoModelForSequenceClassification, TrainingArguments, Trainer\n",
    "\n",
    "model = AutoModelForSequenceClassification.from_pretrained(\n",
    "    \"distilbert/distilbert-base-uncased\", num_labels=4, id2label=id2label, label2id=label2id\n",
    ")"
   ]
  },
  {
   "cell_type": "code",
   "execution_count": 86,
   "metadata": {},
   "outputs": [
    {
     "name": "stdout",
     "output_type": "stream",
     "text": [
      "GPU is available.\n"
     ]
    }
   ],
   "source": [
    "import torch\n",
    "\n",
    "if torch.cuda.is_available():\n",
    "    print(\"GPU is available.\")\n",
    "else:\n",
    "    print(\"GPU is not available. Make sure you have installed the appropriate CUDA drivers.\")\n",
    "\n",
    "device = torch.device(\"cuda\" if torch.cuda.is_available() else \"cpu\")\n"
   ]
  },
  {
   "cell_type": "code",
   "execution_count": 88,
   "metadata": {},
   "outputs": [
    {
     "data": {
      "application/vnd.jupyter.widget-view+json": {
       "model_id": "b48e18b55b714ffb8e1fe84a2d3087d5",
       "version_major": 2,
       "version_minor": 0
      },
      "text/plain": [
       "  0%|          | 0/878 [00:00<?, ?it/s]"
      ]
     },
     "metadata": {},
     "output_type": "display_data"
    },
    {
     "data": {
      "application/vnd.jupyter.widget-view+json": {
       "model_id": "906d608afd0840dc813a30055a92363c",
       "version_major": 2,
       "version_minor": 0
      },
      "text/plain": [
       "  0%|          | 0/110 [00:00<?, ?it/s]"
      ]
     },
     "metadata": {},
     "output_type": "display_data"
    },
    {
     "name": "stdout",
     "output_type": "stream",
     "text": [
      "{'eval_loss': 1.0868923664093018, 'eval_accuracy': {'accuracy': 0.4757558471192242}, 'eval_f1': {'f1': 0.3067494213354719}, 'eval_runtime': 18.8993, 'eval_samples_per_second': 92.755, 'eval_steps_per_second': 5.82, 'epoch': 1.0}\n",
      "{'loss': 1.0473, 'grad_norm': 1.327791690826416, 'learning_rate': 8.610478359908883e-07, 'epoch': 1.14}\n"
     ]
    },
    {
     "data": {
      "application/vnd.jupyter.widget-view+json": {
       "model_id": "09888cd018a6410cb612c64fdc2a9354",
       "version_major": 2,
       "version_minor": 0
      },
      "text/plain": [
       "  0%|          | 0/110 [00:00<?, ?it/s]"
      ]
     },
     "metadata": {},
     "output_type": "display_data"
    },
    {
     "name": "stdout",
     "output_type": "stream",
     "text": [
      "{'eval_loss': 1.086958646774292, 'eval_accuracy': {'accuracy': 0.4757558471192242}, 'eval_f1': {'f1': 0.3067494213354719}, 'eval_runtime': 19.3859, 'eval_samples_per_second': 90.427, 'eval_steps_per_second': 5.674, 'epoch': 2.0}\n",
      "{'train_runtime': 479.9152, 'train_samples_per_second': 29.213, 'train_steps_per_second': 1.829, 'train_loss': 1.048424722936539, 'epoch': 2.0}\n"
     ]
    },
    {
     "data": {
      "text/plain": [
       "TrainOutput(global_step=878, training_loss=1.048424722936539, metrics={'train_runtime': 479.9152, 'train_samples_per_second': 29.213, 'train_steps_per_second': 1.829, 'total_flos': 1857259169955840.0, 'train_loss': 1.048424722936539, 'epoch': 2.0})"
      ]
     },
     "execution_count": 88,
     "metadata": {},
     "output_type": "execute_result"
    }
   ],
   "source": [
    "training_args = TrainingArguments(\n",
    "    output_dir=\"my_awesome_model\",\n",
    "    learning_rate=2e-6,\n",
    "    per_device_train_batch_size=16,\n",
    "    per_device_eval_batch_size=16,\n",
    "    num_train_epochs=2,\n",
    "    weight_decay=0.01,\n",
    "    eval_strategy=\"epoch\",\n",
    "    save_strategy=\"epoch\",\n",
    "    load_best_model_at_end=True,\n",
    "    push_to_hub=False,\n",
    ")\n",
    "\n",
    "trainer = Trainer(\n",
    "    model=model,\n",
    "    args=training_args,\n",
    "    train_dataset=tokenized_steam_time_delta_data[\"train\"],\n",
    "    eval_dataset=tokenized_steam_time_delta_data[\"test\"],\n",
    "    tokenizer=tokenizer,\n",
    "    data_collator=data_collator,\n",
    "    compute_metrics=compute_metrics,\n",
    ")\n",
    "\n",
    "trainer.train()\n",
    "\n",
    "#trainer.push_to_hub()"
   ]
  },
  {
   "cell_type": "code",
   "execution_count": 84,
   "metadata": {},
   "outputs": [
    {
     "data": {
      "application/vnd.jupyter.widget-view+json": {
       "model_id": "11b2250082f24d738257af9b43b3cc01",
       "version_major": 2,
       "version_minor": 0
      },
      "text/plain": [
       "  0%|          | 0/110 [00:00<?, ?it/s]"
      ]
     },
     "metadata": {},
     "output_type": "display_data"
    },
    {
     "name": "stdout",
     "output_type": "stream",
     "text": [
      "Evaluation results: {'eval_loss': 1.0755261182785034, 'eval_accuracy': {'accuracy': 0.48088990302338847}, 'eval_f1': {'f1': 0.32203832473628746}, 'eval_runtime': 19.2158, 'eval_samples_per_second': 91.227, 'eval_steps_per_second': 5.724, 'epoch': 1.0}\n"
     ]
    }
   ],
   "source": [
    "eval_results = trainer.evaluate()\n",
    "print(f\"Evaluation results: {eval_results}\")"
   ]
  },
  {
   "cell_type": "markdown",
   "metadata": {},
   "source": [
    "# AWS Deployment\n",
    "\n",
    "Here we will take everything above and modularize it to automate training in Sagemaker."
   ]
  },
  {
   "cell_type": "code",
   "execution_count": 1,
   "metadata": {},
   "outputs": [
    {
     "name": "stdout",
     "output_type": "stream",
     "text": [
      "sagemaker.config INFO - Not applying SDK defaults from location: C:\\ProgramData\\sagemaker\\sagemaker\\config.yaml\n",
      "sagemaker.config INFO - Not applying SDK defaults from location: C:\\Users\\RaviB\\AppData\\Local\\sagemaker\\sagemaker\\config.yaml\n"
     ]
    }
   ],
   "source": [
    "%load_ext autoreload\n",
    "%autoreload 2\n",
    "%load_ext dotenv\n",
    "%dotenv\n",
    "\n",
    "import os\n",
    "import sys\n",
    "import logging\n",
    "import boto3\n",
    "import sagemaker\n",
    "from pathlib import Path\n",
    "\n",
    "CODE_FOLDER = Path(\"code\")\n",
    "MLFLOW_FOLDER = Path(\"mlruns\")\n",
    "sys.path.extend([f\"./{CODE_FOLDER}\"])\n",
    "\n",
    "DATA_FILEPATH = \"../data/raw_data_2014-2017.csv\"\n",
    "\n",
    "logging.getLogger(\"sagemaker.config\").setLevel(logging.ERROR)"
   ]
  },
  {
   "cell_type": "markdown",
   "metadata": {},
   "source": [
    "Loading evironment variables."
   ]
  },
  {
   "cell_type": "code",
   "execution_count": 2,
   "metadata": {},
   "outputs": [],
   "source": [
    "bucket = os.environ[\"BUCKET\"]\n",
    "role = os.environ[\"ROLE\"]\n",
    "\n",
    "mlflow_experiment_name = os.environ[\"MLFLOW_EXPERIMENT_NAME\"]\n",
    "\n",
    "S3_LOCATION = f\"s3://{bucket}/price_history\"\n",
    "\n",
    "sagemaker_session = sagemaker.session.Session()\n",
    "sagemaker_client = boto3.client(\"sagemaker\")\n",
    "iam_client = boto3.client(\"iam\")\n",
    "region = boto3.Session().region_name"
   ]
  },
  {
   "cell_type": "markdown",
   "metadata": {},
   "source": [
    "## Preprocessing"
   ]
  },
  {
   "cell_type": "code",
   "execution_count": 47,
   "metadata": {},
   "outputs": [],
   "source": [
    "(CODE_FOLDER / \"processing\").mkdir(parents=True, exist_ok=True)\n",
    "sys.path.extend([f\"./{CODE_FOLDER}/processing\"])"
   ]
  },
  {
   "cell_type": "code",
   "execution_count": 88,
   "metadata": {},
   "outputs": [
    {
     "name": "stdout",
     "output_type": "stream",
     "text": [
      "Overwriting code/processing/preprocessing_script.py\n"
     ]
    }
   ],
   "source": [
    "%%writefile {CODE_FOLDER}/processing/preprocessing_script.py\n",
    "# | filename: preprocessing_script.py\n",
    "# | code-line-numbers: true\n",
    "\n",
    "import ast\n",
    "from pathlib import Path\n",
    "import numpy as np\n",
    "import pandas as pd\n",
    "from collections import Counter\n",
    "from sklearn.model_selection import train_test_split\n",
    "from sklearn.preprocessing import MultiLabelBinarizer\n",
    "\n",
    "def _read_data_from_input_csv_files(base_directory):\n",
    "    \"\"\"Read the data from the input CSV files.\n",
    "\n",
    "    This function reads the input data from a CSV file \n",
    "    and does some simple cleaning.\n",
    "    \"\"\"\n",
    "    input_directory = Path(base_directory) / \"raw_data_2014-2017.csv\"\n",
    "\n",
    "    raw_train_test_data = pd.read_csv(input_directory)\n",
    "    raw_train_test_data = raw_train_test_data.drop(columns='Unnamed: 0')\n",
    "\n",
    "    return raw_train_test_data\n",
    "\n",
    "def _get_early_discount_target(df):\n",
    "    \"\"\"Filter for games that actually went on sale.\n",
    "\n",
    "    This function uses a SaleType columns to only consider games that actually went on sale\n",
    "    Then drops that column and creates a new binary one for games that went on sale on release or not\n",
    "    \"\"\"\n",
    "    discounted_games = df[df['SaleType'] == 'went on sale']\n",
    "    discounted_games = discounted_games.drop(columns='SaleType')\n",
    "    discounted_games['DiscountedEarly'] = discounted_games['TimeDelta'].apply(lambda x: 'discounted within 2 days' if x < 3 else 'discounted after 3 days')\n",
    "    return discounted_games\n",
    "\n",
    "def _encoding_multilabel_column(df, feature, frequency_threshold):\n",
    "    #replace labels with spacing with a dash so that they remain one word\n",
    "    #then split into list based on commas\n",
    "    df[feature] = df[feature].apply(lambda x: x.replace(' ', '-').split(','))\n",
    "\n",
    "    all_labels = [label for sublist in df[feature] for label in sublist]\n",
    "    labels_counter = Counter(all_labels)\n",
    "\n",
    "    frequent_cats = {label for label, count in labels_counter.items() if count >= frequency_threshold}\n",
    "    df[f\"Filtered_{feature}\"] = df[feature].apply(lambda x: [label for label in x if label in frequent_cats])\n",
    "\n",
    "    mlb = MultiLabelBinarizer()\n",
    "\n",
    "    # Fit and transform the data\n",
    "    one_hot_encoded = mlb.fit_transform(df[f\"Filtered_{feature}\"])\n",
    "\n",
    "    # Create a DataFrame with the one-hot encoded data\n",
    "    one_hot_df_labels = pd.DataFrame(one_hot_encoded, columns=mlb.classes_)\n",
    "\n",
    "    return one_hot_df_labels\n",
    "\n",
    "def _split_data_discount_on_release(df):\n",
    "    \"\"\"Split the data into train and test for classification.\n",
    "\n",
    "    This function splits the data into training and testing sets\n",
    "    for classification - predicting if a game went on sale within 2 days or not\n",
    "    \"\"\"\n",
    "    # pass in preprocessed_tabular_df as input\n",
    "    y = df['DiscountedEarly']\n",
    "    X = df.drop(columns=['DiscountedEarly', 'TimeDelta'])\n",
    "\n",
    "    # duplicate columns to manually drop\n",
    "    X = X.drop(columns=['Co-op', 'PvP'])\n",
    "\n",
    "    label_encoding = {'discounted within 2 days': 0, 'discounted after 3 days': 1}\n",
    "    y = y.apply(lambda x: label_encoding[x])\n",
    "\n",
    "    X_train, X_test, y_train, y_test = train_test_split(X, y, test_size=0.2, random_state=42)\n",
    "\n",
    "    return X_train, X_test, y_train, y_test, label_encoding\n",
    "\n",
    "def _split_data_discount_after_release(df):\n",
    "    \"\"\"Split the data into train and test for regression.\n",
    "    \n",
    "    This function splits the data into training and testing sets \n",
    "    for predicting how many months until a game goes one sale,\n",
    "    given that it didn't within the first 2 days.\n",
    "    \"\"\"\n",
    "    regression_df = df[df['DiscountedEarly'] == 'discounted after 3 days']\n",
    "    # target for classification task that we don't need anymore after filtering\n",
    "    regression_df = regression_df.drop(columns='DiscountedEarly')\n",
    "\n",
    "    #removing games that went on sale after 6 months for optimal model performance\n",
    "    regression_df['TimeDelta'] = regression_df[['TimeDelta']] // 30 \n",
    "    regression_df = regression_df[regression_df['TimeDelta'] < 6]\n",
    "\n",
    "    # log transform since data has exponential decay\n",
    "    y = np.log1p(regression_df['TimeDelta'])\n",
    "    X = regression_df.drop(columns=['TimeDelta'])\n",
    "\n",
    "    # duplicate columns to manually drop\n",
    "    X = X.drop(columns=['Co-op', 'PvP'])\n",
    "\n",
    "    X_train, X_test, y_train, y_test = train_test_split(X, y, test_size=0.2, random_state=42)\n",
    "\n",
    "    return X_train, X_test, y_train, y_test\n",
    "\n",
    "def _save_splits(\n",
    "    base_directory,\n",
    "    X_train,  # noqa: N803\n",
    "    y_train,\n",
    "    X_test,  # noqa: N803\n",
    "    y_test,\n",
    "    train_path_name,\n",
    "    test_path_name\n",
    "):\n",
    "    \"\"\"Save data splits to disk.\n",
    "\n",
    "    This function concatenates the transformed features\n",
    "    and the target variable, and saves each one of the split\n",
    "    sets to disk.\n",
    "\n",
    "    train_path_name (str): should be either \"train_clf\" or train_reg\"\n",
    "    test_path_name (str): should be either \"test_clf\" or test_reg\"\n",
    "    \"\"\"\n",
    "    train = np.concatenate((X_train, y_train), axis=1)\n",
    "    test = np.concatenate((X_test, y_test), axis=1)\n",
    "\n",
    "    train_path = Path(base_directory) / train_path_name\n",
    "    test_path = Path(base_directory) / test_path_name\n",
    "\n",
    "    train_path.mkdir(parents=True, exist_ok=True)\n",
    "    test_path.mkdir(parents=True, exist_ok=True)\n",
    "\n",
    "    pd.DataFrame(train).to_csv(train_path / f\"{train_path_name}.csv\", header=False, index=False)\n",
    "    pd.DataFrame(test).to_csv(test_path / f\"{test_path_name}.csv\", header=False, index=False)\n",
    "\n",
    "\n",
    "def preprocess(base_directory):\n",
    "    df = _read_data_from_input_csv_files(base_directory)\n",
    "\n",
    "    discounted_games = _get_early_discount_target(df)\n",
    "\n",
    "    tabular_df = discounted_games[\n",
    "        [\n",
    "        'Achievements', 'Supported languages',\n",
    "        'Mac', 'Linux', 'Categories', 'Tags', \n",
    "        'ReleaseDate', 'TimeDelta', 'DiscountedEarly'\n",
    "        ]\n",
    "    ]\n",
    "\n",
    "    # converting binary columns to ints\n",
    "    tabular_df['Achievements'] = tabular_df['Achievements'].astype(int)\n",
    "    tabular_df['Mac'] = tabular_df['Mac'].astype(int)\n",
    "    tabular_df['Linux'] = tabular_df['Linux'].astype(int)\n",
    "\n",
    "    # converting supported languages to just the number of them\n",
    "    tabular_df['Supported languages'] = tabular_df['Supported languages'].apply(ast.literal_eval)\n",
    "    tabular_df['Supported languages'] = tabular_df['Supported languages'].apply(lambda lst: len(lst))\n",
    "\n",
    "    # converting release date to the month only\n",
    "    tabular_df['ReleaseDate'] = pd.to_datetime(tabular_df['ReleaseDate'])\n",
    "    tabular_df['month'] = tabular_df['ReleaseDate'].dt.month\n",
    "\n",
    "    tabular_df = tabular_df.dropna(subset=['Categories', 'Tags'])\n",
    "    tabular_df = tabular_df.reset_index(drop=True)\n",
    "\n",
    "    one_hot_df_cats = _encoding_multilabel_column(tabular_df, 'Categories', 50)\n",
    "    one_hot_df_tags = _encoding_multilabel_column(tabular_df, 'Tags', 100)\n",
    "\n",
    "    preprocessed_tabular_df = tabular_df.drop(columns=['Categories', 'Tags', 'Filtered_Categories', 'Filtered_Tags', 'ReleaseDate'])\n",
    "    preprocessed_tabular_df = pd.concat([preprocessed_tabular_df, one_hot_df_cats, one_hot_df_tags], axis=1)\n",
    "\n",
    "    X_train_clf, X_test_clf, y_train_clf, y_test_clf, label_encoding = _split_data_discount_on_release(preprocessed_tabular_df)\n",
    "    X_train_reg, X_test_reg, y_train_reg, y_test_reg = _split_data_discount_after_release(preprocessed_tabular_df)\n",
    "\n",
    "    _save_splits(base_directory, X_train_clf, X_test_clf, y_train_clf, y_test_clf, \"train_clf\", \"test_clf\")\n",
    "    _save_splits(base_directory, X_train_reg, X_test_reg, y_train_reg, y_test_reg, \"train_reg\", \"test_reg\")\n",
    "\n",
    "\n",
    "if __name__ == \"__main__\":\n",
    "    preprocess(base_directory=\"/opt/ml/processing\")"
   ]
  },
  {
   "cell_type": "markdown",
   "metadata": {},
   "source": [
    "Let's configure caching and a sagemaker pipeline."
   ]
  },
  {
   "cell_type": "code",
   "execution_count": 89,
   "metadata": {},
   "outputs": [],
   "source": [
    "from sagemaker.workflow.steps import CacheConfig\n",
    "\n",
    "cache_config = CacheConfig(enable_caching=True, expire_after=\"15d\")"
   ]
  },
  {
   "cell_type": "code",
   "execution_count": 90,
   "metadata": {},
   "outputs": [],
   "source": [
    "from sagemaker.workflow.parameters import ParameterString\n",
    "from sagemaker.workflow.pipeline_definition_config import PipelineDefinitionConfig\n",
    "\n",
    "pipeline_definition_config = PipelineDefinitionConfig(use_custom_job_prefix=True)\n",
    "\n",
    "dataset_location = ParameterString(\n",
    "    name=\"dataset_location\",\n",
    "    default_value=f\"{S3_LOCATION}/data\",\n",
    ")"
   ]
  },
  {
   "cell_type": "markdown",
   "metadata": {},
   "source": [
    "### Preprocessing Pipeline"
   ]
  },
  {
   "cell_type": "code",
   "execution_count": 91,
   "metadata": {},
   "outputs": [
    {
     "data": {
      "text/plain": [
       "'1.7.1'"
      ]
     },
     "execution_count": 91,
     "metadata": {},
     "output_type": "execute_result"
    }
   ],
   "source": [
    "#check what version we are using\n",
    "xgb.__version__"
   ]
  },
  {
   "cell_type": "code",
   "execution_count": 92,
   "metadata": {},
   "outputs": [],
   "source": [
    "from sagemaker.workflow.pipeline_context import LocalPipelineSession, PipelineSession\n",
    "import xgboost as xgb\n",
    "\n",
    "pipeline_session = PipelineSession(default_bucket=bucket)\n",
    "\n",
    "config = {\n",
    "    \"session\": pipeline_session,\n",
    "    #\"instance_type\": \"ml.t3.medium\",\n",
    "    \"instance_type\": \"ml.m5.xlarge\",\n",
    "    \"image\": None,\n",
    "}\n",
    "\n",
    "# These specific settings refer to the SageMaker\n",
    "# xgboost container we'll use, for some reason the version uses a dash\n",
    "config[\"framework_version\"] = \"1.7-1\"\n",
    "config[\"py_version\"] = \"py3\""
   ]
  },
  {
   "cell_type": "code",
   "execution_count": 93,
   "metadata": {},
   "outputs": [
    {
     "name": "stderr",
     "output_type": "stream",
     "text": [
      "INFO:sagemaker.image_uris:Defaulting to only available Python version: py3\n"
     ]
    }
   ],
   "source": [
    "from sagemaker.sklearn.processing import SKLearnProcessor\n",
    "\n",
    "processor = SKLearnProcessor(\n",
    "    base_job_name=\"preprocess-data\",\n",
    "    framework_version=\"1.2-1\",\n",
    "    # By default, a new account doesn't have access to `ml.m5.xlarge` instances.\n",
    "    # If you haven't requested a quota increase yet, you can use an\n",
    "    # `ml.t3.medium` instance type instead. This will work out of the box, but\n",
    "    # the Processing Job will take significantly longer than it should have.\n",
    "    # To get access to `ml.m5.xlarge` instances, you can request a quota\n",
    "    # increase under the Service Quotas section in your AWS account.\n",
    "    #instance_type=\"ml.t3.medium\",\n",
    "    instance_type=config[\"instance_type\"],\n",
    "    instance_count=1,\n",
    "    role=role,\n",
    "    sagemaker_session=config[\"session\"],\n",
    ")"
   ]
  },
  {
   "cell_type": "code",
   "execution_count": 94,
   "metadata": {},
   "outputs": [],
   "source": [
    "from sagemaker.processing import ProcessingInput, ProcessingOutput\n",
    "from sagemaker.workflow.steps import ProcessingStep\n",
    "\n",
    "preprocessing_step = ProcessingStep(\n",
    "    name=\"preprocess-data\",\n",
    "    step_args=processor.run(\n",
    "        code=f\"{(CODE_FOLDER / 'processing' / 'preprocessing_script.py').as_posix()}\",\n",
    "        inputs=[\n",
    "            ProcessingInput(\n",
    "                source=dataset_location,\n",
    "                destination=\"/opt/ml/processing/input\",\n",
    "            ),\n",
    "        ],\n",
    "        outputs=[\n",
    "            ProcessingOutput(\n",
    "                output_name=\"train_clf\",\n",
    "                source=\"/opt/ml/processing/train_clf\",\n",
    "                destination=f\"{S3_LOCATION}/preprocessing/train_clf\",\n",
    "            ),\n",
    "            ProcessingOutput(\n",
    "                output_name=\"test_clf\",\n",
    "                source=\"/opt/ml/processing/test_clf\",\n",
    "                destination=f\"{S3_LOCATION}/preprocessing/test_clf\",\n",
    "            ),\n",
    "            ProcessingOutput(\n",
    "                output_name=\"train_reg\",\n",
    "                source=\"/opt/ml/processing/train_reg\",\n",
    "                destination=f\"{S3_LOCATION}/preprocessing/train_reg\",\n",
    "            ),\n",
    "            ProcessingOutput(\n",
    "                output_name=\"test_reg\",\n",
    "                source=\"/opt/ml/processing/test_reg\",\n",
    "                destination=f\"{S3_LOCATION}/preprocessing/test_reg\",\n",
    "            ),\n",
    "        ],\n",
    "    ),\n",
    "    cache_config=cache_config,\n",
    ")"
   ]
  },
  {
   "cell_type": "markdown",
   "metadata": {},
   "source": [
    "Now we can create the sagemaker pipeline, or update it."
   ]
  },
  {
   "cell_type": "code",
   "execution_count": 95,
   "metadata": {},
   "outputs": [
    {
     "data": {
      "text/plain": [
       "{'PipelineArn': 'arn:aws:sagemaker:us-east-1:590184030535:pipeline/preprocessing-pipeline',\n",
       " 'ResponseMetadata': {'RequestId': '82fefee3-072d-4630-8e46-902beae44cbe',\n",
       "  'HTTPStatusCode': 200,\n",
       "  'HTTPHeaders': {'x-amzn-requestid': '82fefee3-072d-4630-8e46-902beae44cbe',\n",
       "   'content-type': 'application/x-amz-json-1.1',\n",
       "   'content-length': '90',\n",
       "   'date': 'Thu, 30 May 2024 01:03:39 GMT'},\n",
       "  'RetryAttempts': 0}}"
      ]
     },
     "execution_count": 95,
     "metadata": {},
     "output_type": "execute_result"
    }
   ],
   "source": [
    "from sagemaker.workflow.pipeline import Pipeline\n",
    "\n",
    "preprocessing_pipeline = Pipeline(\n",
    "    name=\"preprocessing-pipeline\",\n",
    "    parameters=[dataset_location],\n",
    "    steps=[\n",
    "        preprocessing_step,\n",
    "    ],\n",
    "    pipeline_definition_config=pipeline_definition_config,\n",
    "    sagemaker_session=config[\"session\"],\n",
    ")\n",
    "\n",
    "preprocessing_pipeline.upsert(role_arn=role)"
   ]
  },
  {
   "cell_type": "markdown",
   "metadata": {},
   "source": [
    "## Model Training"
   ]
  },
  {
   "cell_type": "code",
   "execution_count": 10,
   "metadata": {},
   "outputs": [],
   "source": [
    "(CODE_FOLDER / \"training\").mkdir(parents=True, exist_ok=True)\n",
    "sys.path.extend([f\"./{CODE_FOLDER}/training\"])"
   ]
  },
  {
   "cell_type": "code",
   "execution_count": 11,
   "metadata": {},
   "outputs": [
    {
     "name": "stdout",
     "output_type": "stream",
     "text": [
      "Overwriting code/training/train_script.py\n"
     ]
    }
   ],
   "source": [
    "%%writefile {CODE_FOLDER}/training/train_script.py\n",
    "# | filename: train_script.py\n",
    "# | code-line-numbers: true\n",
    "\n",
    "import argparse\n",
    "import os\n",
    "import json\n",
    "import pandas as pd\n",
    "import xgboost as xgb\n",
    "from sklearn.metrics import accuracy_score, f1_score, mean_squared_error, mean_absolute_error, r2_score\n",
    "from pathlib import Path\n",
    "import tarfile\n",
    "import mlflow\n",
    "import mlflow.xgboost\n",
    "\n",
    "def train_clf(\n",
    "    model_directory,\n",
    "    train_clf_path,\n",
    "    test_clf_path,\n",
    "    pipeline_path,\n",
    "    learning_rate=0.1,\n",
    "    max_depth=3\n",
    "):\n",
    "    X_train = pd.read_csv(Path(train_clf_path) / \"train_clf.csv\")\n",
    "    y_train = X_train[X_train.columns[-1]]\n",
    "    X_train = X_train.drop(X_train.columns[-1], axis=1)\n",
    "\n",
    "    X_test = pd.read_csv(Path(test_clf_path) / \"test_clf.csv\")\n",
    "    y_test = X_test[X_test.columns[-1]]\n",
    "    X_test = X_test.drop(X_test.columns[-1], axis=1)\n",
    "\n",
    "    params = {\n",
    "        'learning_rate': learning_rate,\n",
    "        'max_depth': max_depth,\n",
    "        'objective': 'binary:logistic',\n",
    "        'eval_metric': 'logloss'\n",
    "    }\n",
    "\n",
    "    with mlflow.start_run():\n",
    "        # Log parameters\n",
    "        mlflow.log_params({\n",
    "            \"learning_rate\": learning_rate,\n",
    "            \"max_depth\": max_depth,\n",
    "        })\n",
    "\n",
    "        model = xgb.XGBClassifier(**params)\n",
    "\n",
    "        model.fit(X_train, y_train)\n",
    "\n",
    "        y_pred = model.predict(X_test)\n",
    "\n",
    "        accuracy = accuracy_score(y_test, y_pred)\n",
    "        f1 = f1_score(y_test, y_pred)\n",
    "\n",
    "        mlflow.log_metrics({\n",
    "            \"accuracy\": accuracy,\n",
    "            \"f1_score\": f1,\n",
    "        })\n",
    "\n",
    "        # Log model\n",
    "        mlflow.xgboost.log_model(model, \"xgboost_clf\")\n",
    "\n",
    "        model_filepath = (Path(model_directory) / \"discount_on_release.xgboost_clf\")\n",
    "\n",
    "        with tarfile.open(Path(pipeline_path) / \"model.tar.gz\", \"r:gz\") as tar:\n",
    "            tar.extractall(model_directory)\n",
    "\n",
    "def train_reg(\n",
    "    model_directory,\n",
    "    train_reg_path,\n",
    "    test_reg_path,\n",
    "    pipeline_path,\n",
    "    learning_rate=0.05,\n",
    "    min_child_weight=5,\n",
    "    n_estimators=50,\n",
    "    reg_alpha=0.01,\n",
    "    reg_lambda=1.5\n",
    "):\n",
    "    X_train = pd.read_csv(Path(train_reg_path) / \"train_reg.csv\")\n",
    "    y_train = X_train[X_train.columns[-1]]\n",
    "    X_train = X_train.drop(X_train.columns[-1], axis=1)\n",
    "\n",
    "    X_test = pd.read_csv(Path(test_reg_path) / \"test_reg.csv\")\n",
    "    y_test = X_test[X_test.columns[-1]]\n",
    "    X_test = X_test.drop(X_test.columns[-1], axis=1)\n",
    "\n",
    "    params = {\n",
    "        'learning_rate': learning_rate,\n",
    "        'min_child_weight': min_child_weight,\n",
    "        'n_estimators': n_estimators,\n",
    "        'reg_alpha': reg_alpha,\n",
    "        'reg_lambda': reg_lambda,\n",
    "        'objective': 'reg:squarederror',\n",
    "    }\n",
    "\n",
    "    with mlflow.start_run():\n",
    "        # Log parameters\n",
    "        mlflow.log_params({\n",
    "            'learning_rate': learning_rate,\n",
    "            'min_child_weight': min_child_weight,\n",
    "            'n_estimators': n_estimators,\n",
    "            'reg_alpha': reg_alpha,\n",
    "            'reg_lambda': reg_lambda,\n",
    "        })\n",
    "\n",
    "        model = xgb.XGBRegressor(**params)\n",
    "\n",
    "        model.fit(X_train, y_train)\n",
    "\n",
    "        y_pred = model.predict(X_test)\n",
    "\n",
    "        mse = mean_squared_error(y_test, y_pred)\n",
    "        mae = mean_absolute_error(y_test, y_pred)\n",
    "        r2 = r2_score(y_test, y_pred)\n",
    "\n",
    "        mlflow.log_metrics({\n",
    "            \"mse\": mse,\n",
    "            \"mae\": mae,\n",
    "            \"r2\": r2\n",
    "        })\n",
    "\n",
    "        # Log model\n",
    "        mlflow.xgboost.log_model(model, \"xgboost_reg\")\n",
    "\n",
    "        model_filepath = (Path(model_directory) / \"time_until_discount.xgboost_reg\")\n",
    "\n",
    "        with tarfile.open(Path(pipeline_path) / \"model.tar.gz\", \"r:gz\") as tar:\n",
    "            tar.extractall(model_directory)\n",
    "\n",
    "if __name__ == \"__main__\":\n",
    "    # Any hyperparameters provided by the training job are passed to\n",
    "    # the entry point as script arguments.\n",
    "    # default values came from a local grid search run\n",
    "    parser = argparse.ArgumentParser()\n",
    "    # for the classifier model\n",
    "    parser.add_argument(\"--learning_rate_clf\", type=float, default=0.1)\n",
    "    parser.add_argument(\"--max_depth_clf\", type=int, default=3)\n",
    "    #for the regression model\n",
    "    parser.add_argument(\"--learning_rate_reg\", type=float, default=0.05)\n",
    "    parser.add_argument(\"--min_child_weight_reg\", type=int, default=5)\n",
    "    parser.add_argument(\"--n_estimators_reg\", type=int, default=50)\n",
    "    parser.add_argument(\"--reg_alpha_reg\", type=float, default=0.01)\n",
    "    parser.add_argument(\"--reg_lambda_reg\", type=float, default=1.5)\n",
    "    args, _ = parser.parse_known_args()\n",
    "\n",
    "\n",
    "    training_env = json.loads(os.environ.get(\"SM_TRAINING_ENV\", {}))\n",
    "    job_name = training_env.get(\"job_name\", None) if training_env else None\n",
    "\n",
    "    mlflow.set_experiment(job_name)\n",
    "\n",
    "    train_clf(\n",
    "        # This is the location where we need to save our model.\n",
    "        # SageMaker will create a model.tar.gz file with anything\n",
    "        # inside this directory when the training script finishes.\n",
    "        model_directory=os.environ[\"SM_MODEL_DIR_CLF\"],\n",
    "        # SageMaker creates one channel for each one of the inputs\n",
    "        # to the Training Step.\n",
    "        train_clf_path=os.environ[\"SM_CHANNEL_TRAIN_CLF\"],\n",
    "        test_clf_path=os.environ[\"SM_CHANNEL_TEST_CLF\"],\n",
    "        pipeline_path=os.environ[\"SM_CHANNEL_PIPELINE_CLF\"],\n",
    "        learning_rate=args.learning_rate_clf,\n",
    "        max_depth=args.max_depth_clf,\n",
    "    )\n",
    "\n",
    "    train_reg(\n",
    "        model_directory=os.environ[\"SM_MODEL_DIR_REG\"],\n",
    "        train_reg_path=os.environ[\"SM_CHANNEL_TRAIN_REG\"],\n",
    "        test_reg_path=os.environ[\"SM_CHANNEL_TEST_REG\"],\n",
    "        pipeline_path=os.environ[\"SM_CHANNEL_PIPELINE_REG\"],\n",
    "        learning_rate=args.learning_rate_reg,\n",
    "        min_child_weight=args.min_child_weight_reg,\n",
    "        n_estimators=args.n_estimators_reg,\n",
    "        reg_alpha=args.reg_alpha_reg,\n",
    "        reg_lambda=args.reg_lambda_reg\n",
    "    )\n",
    "\n"
   ]
  },
  {
   "cell_type": "markdown",
   "metadata": {},
   "source": [
    "Now we need to create a Training Step"
   ]
  },
  {
   "cell_type": "code",
   "execution_count": 43,
   "metadata": {},
   "outputs": [
    {
     "name": "stderr",
     "output_type": "stream",
     "text": [
      "INFO:sagemaker.image_uris:Ignoring unnecessary Python version: py3.\n",
      "INFO:sagemaker.image_uris:Ignoring unnecessary instance type: ml.m5.xlarge.\n"
     ]
    }
   ],
   "source": [
    "from sagemaker.inputs import TrainingInput\n",
    "from sagemaker.workflow.steps import TrainingStep\n",
    "from sagemaker.xgboost import XGBoost\n",
    "\n",
    "estimator = XGBoost(\n",
    "    entry_point=\"train_script.py\",\n",
    "    source_dir=f\"{(CODE_FOLDER / 'training').as_posix()}\",\n",
    "    hyperparameters={\n",
    "        \"objective\": \"binary:logistic\",\n",
    "        \"learning_rate\": 0.1,\n",
    "        \"max_depth\": 3\n",
    "    },\n",
    "    environment={\n",
    "        \"MLFLOW_TRACKING_URI\": f\"{MLFLOW_FOLDER}\",\n",
    "        \"MLFLOW_EXPERIMENT_NAME\": mlflow_experiment_name,\n",
    "    },\n",
    "    framework_version=config[\"framework_version\"],\n",
    "    py_version=config[\"py_version\"],\n",
    "    instance_type=config[\"instance_type\"],\n",
    "    instance_count=1,\n",
    "    role=role,\n",
    "    sagemaker_session=config[\"session\"],\n",
    ")"
   ]
  },
  {
   "cell_type": "code",
   "execution_count": 44,
   "metadata": {},
   "outputs": [],
   "source": [
    "def create_training_step(estimator):\n",
    "    \"\"\"Create a SageMaker TrainingStep using the provided estimator.\"\"\"\n",
    "    return TrainingStep(\n",
    "        name=\"train-model\",\n",
    "        step_args=estimator.fit(\n",
    "            inputs={\n",
    "                \"train_clf\": TrainingInput(\n",
    "                    s3_data=preprocessing_step.properties.ProcessingOutputConfig.Outputs[\n",
    "                        \"train_clf\"\n",
    "                    ].S3Output.S3Uri,\n",
    "                    content_type=\"text/csv\",\n",
    "                ),\n",
    "                \"test_clf\": TrainingInput(\n",
    "                    s3_data=preprocessing_step.properties.ProcessingOutputConfig.Outputs[\n",
    "                        \"test_clf\"\n",
    "                    ].S3Output.S3Uri,\n",
    "                    content_type=\"text/csv\",\n",
    "                ),\n",
    "                \"train_reg\": TrainingInput(\n",
    "                    s3_data=preprocessing_step.properties.ProcessingOutputConfig.Outputs[\n",
    "                        \"train_reg\"\n",
    "                    ].S3Output.S3Uri,\n",
    "                    content_type=\"text/csv\",\n",
    "                ),\n",
    "                \"test_reg\": TrainingInput(\n",
    "                    s3_data=preprocessing_step.properties.ProcessingOutputConfig.Outputs[\n",
    "                        \"test_reg\"\n",
    "                    ].S3Output.S3Uri,\n",
    "                    content_type=\"text/csv\",\n",
    "                ),\n",
    "            },\n",
    "        ),\n",
    "        cache_config=cache_config,\n",
    "    )\n",
    "\n",
    "train_model_step = create_training_step(estimator)"
   ]
  },
  {
   "cell_type": "code",
   "execution_count": 45,
   "metadata": {},
   "outputs": [
    {
     "data": {
      "text/plain": [
       "{'PipelineArn': 'arn:aws:sagemaker:us-east-1:590184030535:pipeline/train-pipeline',\n",
       " 'ResponseMetadata': {'RequestId': 'f502f2d0-fa49-4a6c-8679-474372c78179',\n",
       "  'HTTPStatusCode': 200,\n",
       "  'HTTPHeaders': {'x-amzn-requestid': 'f502f2d0-fa49-4a6c-8679-474372c78179',\n",
       "   'content-type': 'application/x-amz-json-1.1',\n",
       "   'content-length': '82',\n",
       "   'date': 'Wed, 29 May 2024 13:37:32 GMT'},\n",
       "  'RetryAttempts': 0}}"
      ]
     },
     "execution_count": 45,
     "metadata": {},
     "output_type": "execute_result"
    }
   ],
   "source": [
    "train_pipeline = Pipeline(\n",
    "    name=\"train-pipeline\",\n",
    "    parameters=[dataset_location],\n",
    "    steps=[\n",
    "        preprocessing_step,\n",
    "        train_model_step,\n",
    "    ],\n",
    "    pipeline_definition_config=pipeline_definition_config,\n",
    "    sagemaker_session=config[\"session\"],\n",
    ")\n",
    "\n",
    "train_pipeline.upsert(role_arn=role)"
   ]
  },
  {
   "cell_type": "code",
   "execution_count": null,
   "metadata": {},
   "outputs": [],
   "source": []
  },
  {
   "cell_type": "markdown",
   "metadata": {},
   "source": [
    "## Running a Pipeline"
   ]
  },
  {
   "cell_type": "code",
   "execution_count": 96,
   "metadata": {},
   "outputs": [
    {
     "data": {
      "text/plain": [
       "_PipelineExecution(arn='arn:aws:sagemaker:us-east-1:590184030535:pipeline/preprocessing-pipeline/execution/6l2fn0ng7bys', sagemaker_session=<sagemaker.workflow.pipeline_context.PipelineSession object at 0x000001907817BF10>)"
      ]
     },
     "execution_count": 96,
     "metadata": {},
     "output_type": "execute_result"
    }
   ],
   "source": [
    "preprocessing_pipeline.start()"
   ]
  },
  {
   "cell_type": "code",
   "execution_count": null,
   "metadata": {},
   "outputs": [],
   "source": []
  }
 ],
 "metadata": {
  "kernelspec": {
   "display_name": "base",
   "language": "python",
   "name": "python3"
  },
  "language_info": {
   "codemirror_mode": {
    "name": "ipython",
    "version": 3
   },
   "file_extension": ".py",
   "mimetype": "text/x-python",
   "name": "python",
   "nbconvert_exporter": "python",
   "pygments_lexer": "ipython3",
   "version": "3.10.14"
  }
 },
 "nbformat": 4,
 "nbformat_minor": 2
}
