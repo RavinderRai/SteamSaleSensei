{
 "cells": [
  {
   "cell_type": "markdown",
   "metadata": {},
   "source": [
    "# Steam Sale Sensei\n",
    "\n",
    "Predicting when a game will first go on sale. Dataset starts from a kaggle dataset to first get a list of games, and then pricing history data comes from https://docs.isthereanydeal.com"
   ]
  },
  {
   "cell_type": "markdown",
   "metadata": {},
   "source": [
    "## Data Collection"
   ]
  },
  {
   "cell_type": "code",
   "execution_count": 1,
   "metadata": {},
   "outputs": [],
   "source": [
    "import os\n",
    "import pandas as pd\n",
    "import matplotlib.pyplot as plt\n",
    "import requests\n",
    "from dotenv import load_dotenv\n",
    "from datetime import datetime"
   ]
  },
  {
   "cell_type": "code",
   "execution_count": 2,
   "metadata": {},
   "outputs": [
    {
     "data": {
      "text/html": [
       "<div>\n",
       "<style scoped>\n",
       "    .dataframe tbody tr th:only-of-type {\n",
       "        vertical-align: middle;\n",
       "    }\n",
       "\n",
       "    .dataframe tbody tr th {\n",
       "        vertical-align: top;\n",
       "    }\n",
       "\n",
       "    .dataframe thead th {\n",
       "        text-align: right;\n",
       "    }\n",
       "</style>\n",
       "<table border=\"1\" class=\"dataframe\">\n",
       "  <thead>\n",
       "    <tr style=\"text-align: right;\">\n",
       "      <th></th>\n",
       "      <th>AppID</th>\n",
       "      <th>Name</th>\n",
       "      <th>Release date</th>\n",
       "      <th>Estimated owners</th>\n",
       "      <th>Peak CCU</th>\n",
       "      <th>Required age</th>\n",
       "      <th>Price</th>\n",
       "      <th>DLC count</th>\n",
       "      <th>About the game</th>\n",
       "      <th>Supported languages</th>\n",
       "      <th>...</th>\n",
       "      <th>Average playtime two weeks</th>\n",
       "      <th>Median playtime forever</th>\n",
       "      <th>Median playtime two weeks</th>\n",
       "      <th>Developers</th>\n",
       "      <th>Publishers</th>\n",
       "      <th>Categories</th>\n",
       "      <th>Genres</th>\n",
       "      <th>Tags</th>\n",
       "      <th>Screenshots</th>\n",
       "      <th>Movies</th>\n",
       "    </tr>\n",
       "  </thead>\n",
       "  <tbody>\n",
       "    <tr>\n",
       "      <th>0</th>\n",
       "      <td>20200</td>\n",
       "      <td>Galactic Bowling</td>\n",
       "      <td>Oct 21, 2008</td>\n",
       "      <td>0 - 20000</td>\n",
       "      <td>0</td>\n",
       "      <td>0</td>\n",
       "      <td>19.99</td>\n",
       "      <td>0</td>\n",
       "      <td>Galactic Bowling is an exaggerated and stylize...</td>\n",
       "      <td>['English']</td>\n",
       "      <td>...</td>\n",
       "      <td>0</td>\n",
       "      <td>0</td>\n",
       "      <td>0</td>\n",
       "      <td>Perpetual FX Creative</td>\n",
       "      <td>Perpetual FX Creative</td>\n",
       "      <td>Single-player,Multi-player,Steam Achievements,...</td>\n",
       "      <td>Casual,Indie,Sports</td>\n",
       "      <td>Indie,Casual,Sports,Bowling</td>\n",
       "      <td>https://cdn.akamai.steamstatic.com/steam/apps/...</td>\n",
       "      <td>http://cdn.akamai.steamstatic.com/steam/apps/2...</td>\n",
       "    </tr>\n",
       "    <tr>\n",
       "      <th>1</th>\n",
       "      <td>655370</td>\n",
       "      <td>Train Bandit</td>\n",
       "      <td>Oct 12, 2017</td>\n",
       "      <td>0 - 20000</td>\n",
       "      <td>0</td>\n",
       "      <td>0</td>\n",
       "      <td>0.99</td>\n",
       "      <td>0</td>\n",
       "      <td>THE LAW!! Looks to be a showdown atop a train....</td>\n",
       "      <td>['English', 'French', 'Italian', 'German', 'Sp...</td>\n",
       "      <td>...</td>\n",
       "      <td>0</td>\n",
       "      <td>0</td>\n",
       "      <td>0</td>\n",
       "      <td>Rusty Moyher</td>\n",
       "      <td>Wild Rooster</td>\n",
       "      <td>Single-player,Steam Achievements,Full controll...</td>\n",
       "      <td>Action,Indie</td>\n",
       "      <td>Indie,Action,Pixel Graphics,2D,Retro,Arcade,Sc...</td>\n",
       "      <td>https://cdn.akamai.steamstatic.com/steam/apps/...</td>\n",
       "      <td>http://cdn.akamai.steamstatic.com/steam/apps/2...</td>\n",
       "    </tr>\n",
       "    <tr>\n",
       "      <th>2</th>\n",
       "      <td>1732930</td>\n",
       "      <td>Jolt Project</td>\n",
       "      <td>Nov 17, 2021</td>\n",
       "      <td>0 - 20000</td>\n",
       "      <td>0</td>\n",
       "      <td>0</td>\n",
       "      <td>4.99</td>\n",
       "      <td>0</td>\n",
       "      <td>Jolt Project: The army now has a new robotics ...</td>\n",
       "      <td>['English', 'Portuguese - Brazil']</td>\n",
       "      <td>...</td>\n",
       "      <td>0</td>\n",
       "      <td>0</td>\n",
       "      <td>0</td>\n",
       "      <td>Campião Games</td>\n",
       "      <td>Campião Games</td>\n",
       "      <td>Single-player</td>\n",
       "      <td>Action,Adventure,Indie,Strategy</td>\n",
       "      <td>NaN</td>\n",
       "      <td>https://cdn.akamai.steamstatic.com/steam/apps/...</td>\n",
       "      <td>http://cdn.akamai.steamstatic.com/steam/apps/2...</td>\n",
       "    </tr>\n",
       "  </tbody>\n",
       "</table>\n",
       "<p>3 rows × 39 columns</p>\n",
       "</div>"
      ],
      "text/plain": [
       "     AppID              Name  Release date Estimated owners  Peak CCU  \\\n",
       "0    20200  Galactic Bowling  Oct 21, 2008        0 - 20000         0   \n",
       "1   655370      Train Bandit  Oct 12, 2017        0 - 20000         0   \n",
       "2  1732930      Jolt Project  Nov 17, 2021        0 - 20000         0   \n",
       "\n",
       "   Required age  Price  DLC count  \\\n",
       "0             0  19.99          0   \n",
       "1             0   0.99          0   \n",
       "2             0   4.99          0   \n",
       "\n",
       "                                      About the game  \\\n",
       "0  Galactic Bowling is an exaggerated and stylize...   \n",
       "1  THE LAW!! Looks to be a showdown atop a train....   \n",
       "2  Jolt Project: The army now has a new robotics ...   \n",
       "\n",
       "                                 Supported languages  ...  \\\n",
       "0                                        ['English']  ...   \n",
       "1  ['English', 'French', 'Italian', 'German', 'Sp...  ...   \n",
       "2                 ['English', 'Portuguese - Brazil']  ...   \n",
       "\n",
       "  Average playtime two weeks Median playtime forever  \\\n",
       "0                          0                       0   \n",
       "1                          0                       0   \n",
       "2                          0                       0   \n",
       "\n",
       "  Median playtime two weeks             Developers             Publishers  \\\n",
       "0                         0  Perpetual FX Creative  Perpetual FX Creative   \n",
       "1                         0           Rusty Moyher           Wild Rooster   \n",
       "2                         0          Campião Games          Campião Games   \n",
       "\n",
       "                                          Categories  \\\n",
       "0  Single-player,Multi-player,Steam Achievements,...   \n",
       "1  Single-player,Steam Achievements,Full controll...   \n",
       "2                                      Single-player   \n",
       "\n",
       "                            Genres  \\\n",
       "0              Casual,Indie,Sports   \n",
       "1                     Action,Indie   \n",
       "2  Action,Adventure,Indie,Strategy   \n",
       "\n",
       "                                                Tags  \\\n",
       "0                        Indie,Casual,Sports,Bowling   \n",
       "1  Indie,Action,Pixel Graphics,2D,Retro,Arcade,Sc...   \n",
       "2                                                NaN   \n",
       "\n",
       "                                         Screenshots  \\\n",
       "0  https://cdn.akamai.steamstatic.com/steam/apps/...   \n",
       "1  https://cdn.akamai.steamstatic.com/steam/apps/...   \n",
       "2  https://cdn.akamai.steamstatic.com/steam/apps/...   \n",
       "\n",
       "                                              Movies  \n",
       "0  http://cdn.akamai.steamstatic.com/steam/apps/2...  \n",
       "1  http://cdn.akamai.steamstatic.com/steam/apps/2...  \n",
       "2  http://cdn.akamai.steamstatic.com/steam/apps/2...  \n",
       "\n",
       "[3 rows x 39 columns]"
      ]
     },
     "execution_count": 2,
     "metadata": {},
     "output_type": "execute_result"
    }
   ],
   "source": [
    "games_df = pd.read_csv('../data/games.csv')\n",
    "games_df.head(3)"
   ]
  },
  {
   "cell_type": "markdown",
   "metadata": {},
   "source": [
    "Just looking at some specific games to cpoy and paste exact string to test the API."
   ]
  },
  {
   "cell_type": "code",
   "execution_count": 3,
   "metadata": {},
   "outputs": [
    {
     "name": "stdout",
     "output_type": "stream",
     "text": [
      "Batman™: Arkham Origins Blackgate - Deluxe Edition\n",
      "Batman: Arkham City\n",
      "LEGO® Batman™ 3: Beyond Gotham\n",
      "Batman: The Enemy Within - The Telltale Series\n",
      "Batman™: Arkham Origins\n",
      "Batman™: Arkham VR\n",
      "Batman™: Arkham Knight\n",
      "Batman: Arkham Asylum Game of the Year Edition\n",
      "Batman: Arkham Asylum Game of the Year Edition\n",
      "Batman: Arkham City - Game of the Year Edition\n",
      "Batman - The Telltale Series\n",
      "LEGO® Batman™: The Videogame\n",
      "LEGO® Batman™ 2: DC Super Heroes\n"
     ]
    }
   ],
   "source": [
    "for game in games_df['Name']:\n",
    "    if type(game) ==str and 'Batman' in game:\n",
    "        print(game)"
   ]
  },
  {
   "cell_type": "code",
   "execution_count": 4,
   "metadata": {},
   "outputs": [
    {
     "data": {
      "text/html": [
       "<div>\n",
       "<style scoped>\n",
       "    .dataframe tbody tr th:only-of-type {\n",
       "        vertical-align: middle;\n",
       "    }\n",
       "\n",
       "    .dataframe tbody tr th {\n",
       "        vertical-align: top;\n",
       "    }\n",
       "\n",
       "    .dataframe thead th {\n",
       "        text-align: right;\n",
       "    }\n",
       "</style>\n",
       "<table border=\"1\" class=\"dataframe\">\n",
       "  <thead>\n",
       "    <tr style=\"text-align: right;\">\n",
       "      <th></th>\n",
       "      <th>AppID</th>\n",
       "      <th>Name</th>\n",
       "      <th>Release date</th>\n",
       "      <th>Estimated owners</th>\n",
       "      <th>Peak CCU</th>\n",
       "      <th>Required age</th>\n",
       "      <th>Price</th>\n",
       "      <th>DLC count</th>\n",
       "      <th>About the game</th>\n",
       "      <th>Supported languages</th>\n",
       "      <th>...</th>\n",
       "      <th>Average playtime two weeks</th>\n",
       "      <th>Median playtime forever</th>\n",
       "      <th>Median playtime two weeks</th>\n",
       "      <th>Developers</th>\n",
       "      <th>Publishers</th>\n",
       "      <th>Categories</th>\n",
       "      <th>Genres</th>\n",
       "      <th>Tags</th>\n",
       "      <th>Screenshots</th>\n",
       "      <th>Movies</th>\n",
       "    </tr>\n",
       "  </thead>\n",
       "  <tbody>\n",
       "    <tr>\n",
       "      <th>35324</th>\n",
       "      <td>208650</td>\n",
       "      <td>Batman™: Arkham Knight</td>\n",
       "      <td>Jun 23, 2015</td>\n",
       "      <td>2000000 - 5000000</td>\n",
       "      <td>1996</td>\n",
       "      <td>17</td>\n",
       "      <td>19.99</td>\n",
       "      <td>24</td>\n",
       "      <td>Batman™: Arkham Knight brings the award-winnin...</td>\n",
       "      <td>['English', 'French', 'Italian', 'German', 'Sp...</td>\n",
       "      <td>...</td>\n",
       "      <td>289</td>\n",
       "      <td>870</td>\n",
       "      <td>455</td>\n",
       "      <td>Rocksteady Studios</td>\n",
       "      <td>Warner Bros. Interactive Entertainment</td>\n",
       "      <td>Single-player,Steam Achievements,Full controll...</td>\n",
       "      <td>Action,Adventure</td>\n",
       "      <td>Action,Open World,Superhero,Stealth,Adventure,...</td>\n",
       "      <td>https://cdn.akamai.steamstatic.com/steam/apps/...</td>\n",
       "      <td>http://cdn.akamai.steamstatic.com/steam/apps/2...</td>\n",
       "    </tr>\n",
       "  </tbody>\n",
       "</table>\n",
       "<p>1 rows × 39 columns</p>\n",
       "</div>"
      ],
      "text/plain": [
       "        AppID                    Name  Release date   Estimated owners  \\\n",
       "35324  208650  Batman™: Arkham Knight  Jun 23, 2015  2000000 - 5000000   \n",
       "\n",
       "       Peak CCU  Required age  Price  DLC count  \\\n",
       "35324      1996            17  19.99         24   \n",
       "\n",
       "                                          About the game  \\\n",
       "35324  Batman™: Arkham Knight brings the award-winnin...   \n",
       "\n",
       "                                     Supported languages  ...  \\\n",
       "35324  ['English', 'French', 'Italian', 'German', 'Sp...  ...   \n",
       "\n",
       "      Average playtime two weeks Median playtime forever  \\\n",
       "35324                        289                     870   \n",
       "\n",
       "      Median playtime two weeks          Developers  \\\n",
       "35324                       455  Rocksteady Studios   \n",
       "\n",
       "                                   Publishers  \\\n",
       "35324  Warner Bros. Interactive Entertainment   \n",
       "\n",
       "                                              Categories            Genres  \\\n",
       "35324  Single-player,Steam Achievements,Full controll...  Action,Adventure   \n",
       "\n",
       "                                                    Tags  \\\n",
       "35324  Action,Open World,Superhero,Stealth,Adventure,...   \n",
       "\n",
       "                                             Screenshots  \\\n",
       "35324  https://cdn.akamai.steamstatic.com/steam/apps/...   \n",
       "\n",
       "                                                  Movies  \n",
       "35324  http://cdn.akamai.steamstatic.com/steam/apps/2...  \n",
       "\n",
       "[1 rows x 39 columns]"
      ]
     },
     "execution_count": 4,
     "metadata": {},
     "output_type": "execute_result"
    }
   ],
   "source": [
    "games_df[games_df['Name'] == 'Batman™: Arkham Knight']"
   ]
  },
  {
   "cell_type": "markdown",
   "metadata": {},
   "source": [
    "### Exploring IsThereAnyDeal API\n",
    "\n",
    "The API won't give us everything we need with one simple request, so we can follow these steps:\n",
    "1. Use the title or AppID of a game to look it up and get the game_id\n",
    "2. Using the game_id we can get the game info, which has the release date\n",
    "3. Finally we also just need the pricing history to see when it first went on sale.\n",
    "\n",
    "Target variable will (likely) be the number of months it took before the game went on sale for the first time."
   ]
  },
  {
   "cell_type": "code",
   "execution_count": 16,
   "metadata": {},
   "outputs": [],
   "source": [
    "load_dotenv('../.env')\n",
    "api_key = os.getenv('API_KEY')"
   ]
  },
  {
   "cell_type": "code",
   "execution_count": 24,
   "metadata": {},
   "outputs": [],
   "source": [
    "# helper function to make requests and prevent repetitive code\n",
    "def request_game_data(endpoint, params):\n",
    "    response = requests.get(endpoint, params=params)\n",
    "\n",
    "    if response.status_code == 200:\n",
    "        data = response.json()\n",
    "        return data\n",
    "    else:\n",
    "        return f'Error: {response.status_code}'"
   ]
  },
  {
   "cell_type": "markdown",
   "metadata": {},
   "source": [
    "Getting game id"
   ]
  },
  {
   "cell_type": "code",
   "execution_count": 8,
   "metadata": {},
   "outputs": [
    {
     "name": "stdout",
     "output_type": "stream",
     "text": [
      "{'found': True, 'game': {'id': '018d937f-0e0c-70be-91d5-75e399e6b4e3', 'slug': 'batman-arkham-knight', 'title': 'Batman: Arkham Knight', 'type': 'game', 'mature': False}}\n"
     ]
    }
   ],
   "source": [
    "endpoint = 'https://api.isthereanydeal.com/games/lookup/v1'\n",
    "\n",
    "params = {\n",
    "    'key': api_key,\n",
    "    'appid': 208650\n",
    "    #'title': 'Batman™: Arkham Knight'\n",
    "}\n",
    "\n",
    "game_lookup = request_game_data(endpoint, params)\n",
    "print(game_lookup)\n"
   ]
  },
  {
   "cell_type": "markdown",
   "metadata": {},
   "source": [
    "Getting game info for release date"
   ]
  },
  {
   "cell_type": "code",
   "execution_count": 9,
   "metadata": {},
   "outputs": [
    {
     "name": "stdout",
     "output_type": "stream",
     "text": [
      "{'id': '018d937f-0e0c-70be-91d5-75e399e6b4e3', 'slug': 'batman-arkham-knight', 'title': 'Batman: Arkham Knight', 'type': 'game', 'mature': False, 'assets': {'boxart': 'https://dbxce1spal1df.cloudfront.net/018d937f-0e0c-70be-91d5-75e399e6b4e3/boxart.jpg', 'banner145': 'https://dbxce1spal1df.cloudfront.net/018d937f-0e0c-70be-91d5-75e399e6b4e3/banner145.jpg', 'banner300': 'https://dbxce1spal1df.cloudfront.net/018d937f-0e0c-70be-91d5-75e399e6b4e3/banner300.jpg', 'banner400': 'https://dbxce1spal1df.cloudfront.net/018d937f-0e0c-70be-91d5-75e399e6b4e3/banner400.jpg', 'banner600': 'https://dbxce1spal1df.cloudfront.net/018d937f-0e0c-70be-91d5-75e399e6b4e3/banner600.jpg'}, 'earlyAccess': False, 'achievements': True, 'tradingCards': True, 'appid': 208650, 'tags': ['Action', 'Open World', 'Superhero', 'Stealth', 'Third Person'], 'releaseDate': '2015-06-23', 'developers': [{'id': 423, 'name': 'Rocksteady Studios'}, {'id': 6704, 'name': 'Rocksteady'}], 'publishers': [{'id': 21, 'name': 'Warner Bros. Games Inc.'}, {'id': 97, 'name': 'Warner'}, {'id': 400, 'name': 'Warner Bros. Interactive Entertainment'}, {'id': 8930, 'name': 'Warner Bros'}, {'id': 5622, 'name': 'WB Games'}], 'reviews': [{'score': 91, 'source': 'Steam', 'count': 78734, 'url': 'https://store.steampowered.com/app/208650/'}, {'score': 70, 'source': 'Metascore', 'count': 6, 'url': 'https://metacritic.com/game/batman-arkham-knight/critic-reviews/?platform=pc'}, {'score': 81, 'source': 'Metacritic User Score', 'count': 4849, 'url': 'https://metacritic.com/game/batman-arkham-knight/user-reviews/?platform=pc'}, {'score': 86, 'source': 'OpenCritic', 'count': 118, 'url': 'https://opencritic.com/game/1383/batman-arkham-knight'}], 'stats': {'rank': 188, 'waitlisted': 5078, 'collected': 27691}, 'players': {'recent': 1390, 'day': 1942, 'week': 1942, 'peak': 6655}, 'urls': {'game': 'https://isthereanydeal.com/game/batman-arkham-knight/'}}\n",
      "2015-06-23\n"
     ]
    }
   ],
   "source": [
    "endpoint = \"https://api.isthereanydeal.com/games/info/v2\"\n",
    "\n",
    "params = {\n",
    "    'key': api_key,\n",
    "    'id': '018d937f-0e0c-70be-91d5-75e399e6b4e3'\n",
    "}\n",
    "\n",
    "game_info = request_game_data(endpoint, params)\n",
    "print(game_info)\n",
    "print(game_info['releaseDate'])"
   ]
  },
  {
   "cell_type": "markdown",
   "metadata": {},
   "source": [
    "Getting game price history"
   ]
  },
  {
   "cell_type": "code",
   "execution_count": 10,
   "metadata": {},
   "outputs": [
    {
     "name": "stdout",
     "output_type": "stream",
     "text": [
      "[{'timestamp': '2024-04-18T19:15:49+02:00', 'shop': {'id': 61, 'name': 'Steam'}, 'deal': {'price': {'amount': 19.99, 'amountInt': 1999, 'currency': 'USD'}, 'regular': {'amount': 19.99, 'amountInt': 1999, 'currency': 'USD'}, 'cut': 0}}, {'timestamp': '2024-04-11T19:18:03+02:00', 'shop': {'id': 61, 'name': 'Steam'}, 'deal': {'price': {'amount': 3.99, 'amountInt': 399, 'currency': 'USD'}, 'regular': {'amount': 19.99, 'amountInt': 1999, 'currency': 'USD'}, 'cut': 80}}, {'timestamp': '2024-03-21T18:18:55+01:00', 'shop': {'id': 61, 'name': 'Steam'}, 'deal': {'price': {'amount': 19.99, 'amountInt': 1999, 'currency': 'USD'}, 'regular': {'amount': 19.99, 'amountInt': 1999, 'currency': 'USD'}, 'cut': 0}}, {'timestamp': '2024-03-14T18:27:41+01:00', 'shop': {'id': 61, 'name': 'Steam'}, 'deal': {'price': {'amount': 3.99, 'amountInt': 399, 'currency': 'USD'}, 'regular': {'amount': 19.99, 'amountInt': 1999, 'currency': 'USD'}, 'cut': 80}}, {'timestamp': '2024-02-26T19:21:47+01:00', 'shop': {'id': 61, 'name': 'Steam'}, 'deal': {'price': {'amount': 19.99, 'amountInt': 1999, 'currency': 'USD'}, 'regular': {'amount': 19.99, 'amountInt': 1999, 'currency': 'USD'}, 'cut': 0}}, {'timestamp': '2024-02-19T19:15:40+01:00', 'shop': {'id': 61, 'name': 'Steam'}, 'deal': {'price': {'amount': 3.99, 'amountInt': 399, 'currency': 'USD'}, 'regular': {'amount': 19.99, 'amountInt': 1999, 'currency': 'USD'}, 'cut': 80}}, {'timestamp': '2024-02-11T01:48:57+01:00', 'shop': {'id': 61, 'name': 'Steam'}, 'deal': {'price': {'amount': 19.99, 'amountInt': 1999, 'currency': 'USD'}, 'regular': {'amount': 19.99, 'amountInt': 1999, 'currency': 'USD'}, 'cut': 0}}, {'timestamp': '2024-01-04T19:21:34+01:00', 'shop': {'id': 61, 'name': 'Steam'}, 'deal': {'price': {'amount': 19.99, 'amountInt': 1999, 'currency': 'USD'}, 'regular': {'amount': 19.99, 'amountInt': 1999, 'currency': 'USD'}, 'cut': 0}}, {'timestamp': '2023-12-21T19:41:35+01:00', 'shop': {'id': 61, 'name': 'Steam'}, 'deal': {'price': {'amount': 3.99, 'amountInt': 399, 'currency': 'USD'}, 'regular': {'amount': 19.99, 'amountInt': 1999, 'currency': 'USD'}, 'cut': 80}}, {'timestamp': '2023-11-28T20:00:41+01:00', 'shop': {'id': 61, 'name': 'Steam'}, 'deal': {'price': {'amount': 19.99, 'amountInt': 1999, 'currency': 'USD'}, 'regular': {'amount': 19.99, 'amountInt': 1999, 'currency': 'USD'}, 'cut': 0}}, {'timestamp': '2023-11-21T19:16:03+01:00', 'shop': {'id': 61, 'name': 'Steam'}, 'deal': {'price': {'amount': 3.99, 'amountInt': 399, 'currency': 'USD'}, 'regular': {'amount': 19.99, 'amountInt': 1999, 'currency': 'USD'}, 'cut': 80}}, {'timestamp': '2023-11-02T18:18:59+01:00', 'shop': {'id': 61, 'name': 'Steam'}, 'deal': {'price': {'amount': 19.99, 'amountInt': 1999, 'currency': 'USD'}, 'regular': {'amount': 19.99, 'amountInt': 1999, 'currency': 'USD'}, 'cut': 0}}, {'timestamp': '2023-10-19T19:12:21+02:00', 'shop': {'id': 61, 'name': 'Steam'}, 'deal': {'price': {'amount': 3.99, 'amountInt': 399, 'currency': 'USD'}, 'regular': {'amount': 19.99, 'amountInt': 1999, 'currency': 'USD'}, 'cut': 80}}, {'timestamp': '2023-07-31T19:46:07+02:00', 'shop': {'id': 61, 'name': 'Steam'}, 'deal': {'price': {'amount': 19.99, 'amountInt': 1999, 'currency': 'USD'}, 'regular': {'amount': 19.99, 'amountInt': 1999, 'currency': 'USD'}, 'cut': 0}}, {'timestamp': '2023-07-24T19:21:35+02:00', 'shop': {'id': 61, 'name': 'Steam'}, 'deal': {'price': {'amount': 3.99, 'amountInt': 399, 'currency': 'USD'}, 'regular': {'amount': 19.99, 'amountInt': 1999, 'currency': 'USD'}, 'cut': 80}}, {'timestamp': '2023-07-13T19:51:50+02:00', 'shop': {'id': 61, 'name': 'Steam'}, 'deal': {'price': {'amount': 19.99, 'amountInt': 1999, 'currency': 'USD'}, 'regular': {'amount': 19.99, 'amountInt': 1999, 'currency': 'USD'}, 'cut': 0}}, {'timestamp': '2023-06-30T00:33:31+02:00', 'shop': {'id': 61, 'name': 'Steam'}, 'deal': {'price': {'amount': 3.99, 'amountInt': 399, 'currency': 'USD'}, 'regular': {'amount': 19.99, 'amountInt': 1999, 'currency': 'USD'}, 'cut': 80}}, {'timestamp': '2023-06-19T19:30:23+02:00', 'shop': {'id': 61, 'name': 'Steam'}, 'deal': {'price': {'amount': 19.99, 'amountInt': 1999, 'currency': 'USD'}, 'regular': {'amount': 19.99, 'amountInt': 1999, 'currency': 'USD'}, 'cut': 0}}, {'timestamp': '2023-06-15T19:20:03+02:00', 'shop': {'id': 61, 'name': 'Steam'}, 'deal': {'price': {'amount': 3.99, 'amountInt': 399, 'currency': 'USD'}, 'regular': {'amount': 19.99, 'amountInt': 1999, 'currency': 'USD'}, 'cut': 80}}, {'timestamp': '2023-03-23T19:18:44+01:00', 'shop': {'id': 61, 'name': 'Steam'}, 'deal': {'price': {'amount': 19.99, 'amountInt': 1999, 'currency': 'USD'}, 'regular': {'amount': 19.99, 'amountInt': 1999, 'currency': 'USD'}, 'cut': 0}}, {'timestamp': '2023-03-16T20:52:42+01:00', 'shop': {'id': 61, 'name': 'Steam'}, 'deal': {'price': {'amount': 3.99, 'amountInt': 399, 'currency': 'USD'}, 'regular': {'amount': 19.99, 'amountInt': 1999, 'currency': 'USD'}, 'cut': 80}}, {'timestamp': '2023-02-20T20:18:13+01:00', 'shop': {'id': 61, 'name': 'Steam'}, 'deal': {'price': {'amount': 19.99, 'amountInt': 1999, 'currency': 'USD'}, 'regular': {'amount': 19.99, 'amountInt': 1999, 'currency': 'USD'}, 'cut': 0}}, {'timestamp': '2023-02-16T19:19:04+01:00', 'shop': {'id': 61, 'name': 'Steam'}, 'deal': {'price': {'amount': 3.99, 'amountInt': 399, 'currency': 'USD'}, 'regular': {'amount': 19.99, 'amountInt': 1999, 'currency': 'USD'}, 'cut': 80}}, {'timestamp': '2023-01-05T22:18:17+01:00', 'shop': {'id': 61, 'name': 'Steam'}, 'deal': {'price': {'amount': 19.99, 'amountInt': 1999, 'currency': 'USD'}, 'regular': {'amount': 19.99, 'amountInt': 1999, 'currency': 'USD'}, 'cut': 0}}, {'timestamp': '2022-12-22T19:34:15+01:00', 'shop': {'id': 61, 'name': 'Steam'}, 'deal': {'price': {'amount': 3.99, 'amountInt': 399, 'currency': 'USD'}, 'regular': {'amount': 19.99, 'amountInt': 1999, 'currency': 'USD'}, 'cut': 80}}, {'timestamp': '2022-11-29T19:27:43+01:00', 'shop': {'id': 61, 'name': 'Steam'}, 'deal': {'price': {'amount': 19.99, 'amountInt': 1999, 'currency': 'USD'}, 'regular': {'amount': 19.99, 'amountInt': 1999, 'currency': 'USD'}, 'cut': 0}}, {'timestamp': '2022-11-22T23:19:37+01:00', 'shop': {'id': 61, 'name': 'Steam'}, 'deal': {'price': {'amount': 3.99, 'amountInt': 399, 'currency': 'USD'}, 'regular': {'amount': 19.99, 'amountInt': 1999, 'currency': 'USD'}, 'cut': 80}}, {'timestamp': '2022-08-15T19:24:19+02:00', 'shop': {'id': 61, 'name': 'Steam'}, 'deal': {'price': {'amount': 19.99, 'amountInt': 1999, 'currency': 'USD'}, 'regular': {'amount': 19.99, 'amountInt': 1999, 'currency': 'USD'}, 'cut': 0}}, {'timestamp': '2022-08-11T19:19:31+02:00', 'shop': {'id': 61, 'name': 'Steam'}, 'deal': {'price': {'amount': 3.99, 'amountInt': 399, 'currency': 'USD'}, 'regular': {'amount': 19.99, 'amountInt': 1999, 'currency': 'USD'}, 'cut': 80}}, {'timestamp': '2022-07-07T19:49:03+02:00', 'shop': {'id': 61, 'name': 'Steam'}, 'deal': {'price': {'amount': 19.99, 'amountInt': 1999, 'currency': 'USD'}, 'regular': {'amount': 19.99, 'amountInt': 1999, 'currency': 'USD'}, 'cut': 0}}, {'timestamp': '2022-06-23T20:10:40+02:00', 'shop': {'id': 61, 'name': 'Steam'}, 'deal': {'price': {'amount': 3.99, 'amountInt': 399, 'currency': 'USD'}, 'regular': {'amount': 19.99, 'amountInt': 1999, 'currency': 'USD'}, 'cut': 80}}, {'timestamp': '2022-03-03T19:36:07+01:00', 'shop': {'id': 61, 'name': 'Steam'}, 'deal': {'price': {'amount': 19.99, 'amountInt': 1999, 'currency': 'USD'}, 'regular': {'amount': 19.99, 'amountInt': 1999, 'currency': 'USD'}, 'cut': 0}}, {'timestamp': '2022-02-28T19:24:52+01:00', 'shop': {'id': 61, 'name': 'Steam'}, 'deal': {'price': {'amount': 3.99, 'amountInt': 399, 'currency': 'USD'}, 'regular': {'amount': 19.99, 'amountInt': 1999, 'currency': 'USD'}, 'cut': 80}}, {'timestamp': '2022-02-03T19:39:40+01:00', 'shop': {'id': 61, 'name': 'Steam'}, 'deal': {'price': {'amount': 19.99, 'amountInt': 1999, 'currency': 'USD'}, 'regular': {'amount': 19.99, 'amountInt': 1999, 'currency': 'USD'}, 'cut': 0}}, {'timestamp': '2022-01-27T19:10:07+01:00', 'shop': {'id': 61, 'name': 'Steam'}, 'deal': {'price': {'amount': 3.99, 'amountInt': 399, 'currency': 'USD'}, 'regular': {'amount': 19.99, 'amountInt': 1999, 'currency': 'USD'}, 'cut': 80}}, {'timestamp': '2022-01-05T19:24:54+01:00', 'shop': {'id': 61, 'name': 'Steam'}, 'deal': {'price': {'amount': 19.99, 'amountInt': 1999, 'currency': 'USD'}, 'regular': {'amount': 19.99, 'amountInt': 1999, 'currency': 'USD'}, 'cut': 0}}, {'timestamp': '2021-12-22T22:45:53+01:00', 'shop': {'id': 61, 'name': 'Steam'}, 'deal': {'price': {'amount': 3.99, 'amountInt': 399, 'currency': 'USD'}, 'regular': {'amount': 19.99, 'amountInt': 1999, 'currency': 'USD'}, 'cut': 80}}, {'timestamp': '2021-12-01T19:36:33+01:00', 'shop': {'id': 61, 'name': 'Steam'}, 'deal': {'price': {'amount': 19.99, 'amountInt': 1999, 'currency': 'USD'}, 'regular': {'amount': 19.99, 'amountInt': 1999, 'currency': 'USD'}, 'cut': 0}}, {'timestamp': '2021-11-24T22:08:06+01:00', 'shop': {'id': 61, 'name': 'Steam'}, 'deal': {'price': {'amount': 3.99, 'amountInt': 399, 'currency': 'USD'}, 'regular': {'amount': 19.99, 'amountInt': 1999, 'currency': 'USD'}, 'cut': 80}}, {'timestamp': '2021-10-18T19:24:13+02:00', 'shop': {'id': 61, 'name': 'Steam'}, 'deal': {'price': {'amount': 19.99, 'amountInt': 1999, 'currency': 'USD'}, 'regular': {'amount': 19.99, 'amountInt': 1999, 'currency': 'USD'}, 'cut': 0}}, {'timestamp': '2021-10-14T19:06:54+02:00', 'shop': {'id': 61, 'name': 'Steam'}, 'deal': {'price': {'amount': 3.99, 'amountInt': 399, 'currency': 'USD'}, 'regular': {'amount': 19.99, 'amountInt': 1999, 'currency': 'USD'}, 'cut': 80}}, {'timestamp': '2021-10-04T19:06:14+02:00', 'shop': {'id': 61, 'name': 'Steam'}, 'deal': {'price': {'amount': 19.99, 'amountInt': 1999, 'currency': 'USD'}, 'regular': {'amount': 19.99, 'amountInt': 1999, 'currency': 'USD'}, 'cut': 0}}, {'timestamp': '2021-09-30T19:09:13+02:00', 'shop': {'id': 61, 'name': 'Steam'}, 'deal': {'price': {'amount': 3.99, 'amountInt': 399, 'currency': 'USD'}, 'regular': {'amount': 19.99, 'amountInt': 1999, 'currency': 'USD'}, 'cut': 80}}, {'timestamp': '2021-07-08T19:51:54+02:00', 'shop': {'id': 61, 'name': 'Steam'}, 'deal': {'price': {'amount': 19.99, 'amountInt': 1999, 'currency': 'USD'}, 'regular': {'amount': 19.99, 'amountInt': 1999, 'currency': 'USD'}, 'cut': 0}}, {'timestamp': '2021-06-25T19:24:56+02:00', 'shop': {'id': 61, 'name': 'Steam'}, 'deal': {'price': {'amount': 4.99, 'amountInt': 499, 'currency': 'USD'}, 'regular': {'amount': 19.99, 'amountInt': 1999, 'currency': 'USD'}, 'cut': 75}}, {'timestamp': '2021-05-31T19:24:16+02:00', 'shop': {'id': 61, 'name': 'Steam'}, 'deal': {'price': {'amount': 19.99, 'amountInt': 1999, 'currency': 'USD'}, 'regular': {'amount': 19.99, 'amountInt': 1999, 'currency': 'USD'}, 'cut': 0}}, {'timestamp': '2021-05-27T19:22:10+02:00', 'shop': {'id': 61, 'name': 'Steam'}, 'deal': {'price': {'amount': 4.99, 'amountInt': 499, 'currency': 'USD'}, 'regular': {'amount': 19.99, 'amountInt': 1999, 'currency': 'USD'}, 'cut': 75}}, {'timestamp': '2021-03-29T19:36:16+02:00', 'shop': {'id': 61, 'name': 'Steam'}, 'deal': {'price': {'amount': 19.99, 'amountInt': 1999, 'currency': 'USD'}, 'regular': {'amount': 19.99, 'amountInt': 1999, 'currency': 'USD'}, 'cut': 0}}, {'timestamp': '2021-03-25T18:19:14+01:00', 'shop': {'id': 61, 'name': 'Steam'}, 'deal': {'price': {'amount': 4.99, 'amountInt': 499, 'currency': 'USD'}, 'regular': {'amount': 19.99, 'amountInt': 1999, 'currency': 'USD'}, 'cut': 75}}, {'timestamp': '2021-02-22T19:21:14+01:00', 'shop': {'id': 61, 'name': 'Steam'}, 'deal': {'price': {'amount': 19.99, 'amountInt': 1999, 'currency': 'USD'}, 'regular': {'amount': 19.99, 'amountInt': 1999, 'currency': 'USD'}, 'cut': 0}}, {'timestamp': '2021-02-18T19:21:16+01:00', 'shop': {'id': 61, 'name': 'Steam'}, 'deal': {'price': {'amount': 4.99, 'amountInt': 499, 'currency': 'USD'}, 'regular': {'amount': 19.99, 'amountInt': 1999, 'currency': 'USD'}, 'cut': 75}}, {'timestamp': '2021-02-15T19:25:32+01:00', 'shop': {'id': 61, 'name': 'Steam'}, 'deal': {'price': {'amount': 19.99, 'amountInt': 1999, 'currency': 'USD'}, 'regular': {'amount': 19.99, 'amountInt': 1999, 'currency': 'USD'}, 'cut': 0}}, {'timestamp': '2021-02-11T19:25:32+01:00', 'shop': {'id': 61, 'name': 'Steam'}, 'deal': {'price': {'amount': 4.99, 'amountInt': 499, 'currency': 'USD'}, 'regular': {'amount': 19.99, 'amountInt': 1999, 'currency': 'USD'}, 'cut': 75}}, {'timestamp': '2021-01-05T19:55:31+01:00', 'shop': {'id': 61, 'name': 'Steam'}, 'deal': {'price': {'amount': 19.99, 'amountInt': 1999, 'currency': 'USD'}, 'regular': {'amount': 19.99, 'amountInt': 1999, 'currency': 'USD'}, 'cut': 0}}, {'timestamp': '2020-12-22T20:01:16+01:00', 'shop': {'id': 61, 'name': 'Steam'}, 'deal': {'price': {'amount': 4.99, 'amountInt': 499, 'currency': 'USD'}, 'regular': {'amount': 19.99, 'amountInt': 1999, 'currency': 'USD'}, 'cut': 75}}, {'timestamp': '2020-12-01T19:21:59+01:00', 'shop': {'id': 61, 'name': 'Steam'}, 'deal': {'price': {'amount': 19.99, 'amountInt': 1999, 'currency': 'USD'}, 'regular': {'amount': 19.99, 'amountInt': 1999, 'currency': 'USD'}, 'cut': 0}}, {'timestamp': '2020-11-25T19:25:56+01:00', 'shop': {'id': 61, 'name': 'Steam'}, 'deal': {'price': {'amount': 4.99, 'amountInt': 499, 'currency': 'USD'}, 'regular': {'amount': 19.99, 'amountInt': 1999, 'currency': 'USD'}, 'cut': 75}}, {'timestamp': '2020-11-02T19:24:45+01:00', 'shop': {'id': 61, 'name': 'Steam'}, 'deal': {'price': {'amount': 19.99, 'amountInt': 1999, 'currency': 'USD'}, 'regular': {'amount': 19.99, 'amountInt': 1999, 'currency': 'USD'}, 'cut': 0}}, {'timestamp': '2020-10-29T18:07:43+01:00', 'shop': {'id': 61, 'name': 'Steam'}, 'deal': {'price': {'amount': 4.99, 'amountInt': 499, 'currency': 'USD'}, 'regular': {'amount': 19.99, 'amountInt': 1999, 'currency': 'USD'}, 'cut': 75}}, {'timestamp': '2020-09-28T19:22:10+02:00', 'shop': {'id': 61, 'name': 'Steam'}, 'deal': {'price': {'amount': 19.99, 'amountInt': 1999, 'currency': 'USD'}, 'regular': {'amount': 19.99, 'amountInt': 1999, 'currency': 'USD'}, 'cut': 0}}, {'timestamp': '2020-09-24T19:22:13+02:00', 'shop': {'id': 61, 'name': 'Steam'}, 'deal': {'price': {'amount': 4.99, 'amountInt': 499, 'currency': 'USD'}, 'regular': {'amount': 19.99, 'amountInt': 1999, 'currency': 'USD'}, 'cut': 75}}, {'timestamp': '2020-08-24T19:22:05+02:00', 'shop': {'id': 61, 'name': 'Steam'}, 'deal': {'price': {'amount': 19.99, 'amountInt': 1999, 'currency': 'USD'}, 'regular': {'amount': 19.99, 'amountInt': 1999, 'currency': 'USD'}, 'cut': 0}}, {'timestamp': '2020-08-20T19:22:20+02:00', 'shop': {'id': 61, 'name': 'Steam'}, 'deal': {'price': {'amount': 4.99, 'amountInt': 499, 'currency': 'USD'}, 'regular': {'amount': 19.99, 'amountInt': 1999, 'currency': 'USD'}, 'cut': 75}}, {'timestamp': '2020-07-09T19:23:07+02:00', 'shop': {'id': 61, 'name': 'Steam'}, 'deal': {'price': {'amount': 19.99, 'amountInt': 1999, 'currency': 'USD'}, 'regular': {'amount': 19.99, 'amountInt': 1999, 'currency': 'USD'}, 'cut': 0}}, {'timestamp': '2020-06-25T19:51:59+02:00', 'shop': {'id': 61, 'name': 'Steam'}, 'deal': {'price': {'amount': 4.99, 'amountInt': 499, 'currency': 'USD'}, 'regular': {'amount': 19.99, 'amountInt': 1999, 'currency': 'USD'}, 'cut': 75}}, {'timestamp': '2020-04-10T19:21:17+02:00', 'shop': {'id': 61, 'name': 'Steam'}, 'deal': {'price': {'amount': 19.99, 'amountInt': 1999, 'currency': 'USD'}, 'regular': {'amount': 19.99, 'amountInt': 1999, 'currency': 'USD'}, 'cut': 0}}, {'timestamp': '2020-04-07T19:21:18+02:00', 'shop': {'id': 61, 'name': 'Steam'}, 'deal': {'price': {'amount': 4.99, 'amountInt': 499, 'currency': 'USD'}, 'regular': {'amount': 19.99, 'amountInt': 1999, 'currency': 'USD'}, 'cut': 75}}, {'timestamp': '2020-01-27T19:24:35+01:00', 'shop': {'id': 61, 'name': 'Steam'}, 'deal': {'price': {'amount': 19.99, 'amountInt': 1999, 'currency': 'USD'}, 'regular': {'amount': 19.99, 'amountInt': 1999, 'currency': 'USD'}, 'cut': 0}}, {'timestamp': '2020-01-23T19:28:57+01:00', 'shop': {'id': 61, 'name': 'Steam'}, 'deal': {'price': {'amount': 4.99, 'amountInt': 499, 'currency': 'USD'}, 'regular': {'amount': 19.99, 'amountInt': 1999, 'currency': 'USD'}, 'cut': 75}}, {'timestamp': '2020-01-02T19:42:32+01:00', 'shop': {'id': 61, 'name': 'Steam'}, 'deal': {'price': {'amount': 19.99, 'amountInt': 1999, 'currency': 'USD'}, 'regular': {'amount': 19.99, 'amountInt': 1999, 'currency': 'USD'}, 'cut': 0}}, {'timestamp': '2019-12-19T19:13:06+01:00', 'shop': {'id': 61, 'name': 'Steam'}, 'deal': {'price': {'amount': 4.99, 'amountInt': 499, 'currency': 'USD'}, 'regular': {'amount': 19.99, 'amountInt': 1999, 'currency': 'USD'}, 'cut': 75}}, {'timestamp': '2019-12-03T19:31:03+01:00', 'shop': {'id': 61, 'name': 'Steam'}, 'deal': {'price': {'amount': 19.99, 'amountInt': 1999, 'currency': 'USD'}, 'regular': {'amount': 19.99, 'amountInt': 1999, 'currency': 'USD'}, 'cut': 0}}, {'timestamp': '2019-11-26T19:08:09+01:00', 'shop': {'id': 61, 'name': 'Steam'}, 'deal': {'price': {'amount': 4.99, 'amountInt': 499, 'currency': 'USD'}, 'regular': {'amount': 19.99, 'amountInt': 1999, 'currency': 'USD'}, 'cut': 75}}, {'timestamp': '2019-11-11T19:21:31+01:00', 'shop': {'id': 61, 'name': 'Steam'}, 'deal': {'price': {'amount': 19.99, 'amountInt': 1999, 'currency': 'USD'}, 'regular': {'amount': 19.99, 'amountInt': 1999, 'currency': 'USD'}, 'cut': 0}}, {'timestamp': '2019-11-07T19:21:13+01:00', 'shop': {'id': 61, 'name': 'Steam'}, 'deal': {'price': {'amount': 4.99, 'amountInt': 499, 'currency': 'USD'}, 'regular': {'amount': 19.99, 'amountInt': 1999, 'currency': 'USD'}, 'cut': 75}}, {'timestamp': '2019-11-01T18:21:19+01:00', 'shop': {'id': 61, 'name': 'Steam'}, 'deal': {'price': {'amount': 19.99, 'amountInt': 1999, 'currency': 'USD'}, 'regular': {'amount': 19.99, 'amountInt': 1999, 'currency': 'USD'}, 'cut': 0}}, {'timestamp': '2019-10-28T18:32:39+01:00', 'shop': {'id': 61, 'name': 'Steam'}, 'deal': {'price': {'amount': 4.99, 'amountInt': 499, 'currency': 'USD'}, 'regular': {'amount': 19.99, 'amountInt': 1999, 'currency': 'USD'}, 'cut': 75}}, {'timestamp': '2019-09-26T19:21:16+02:00', 'shop': {'id': 61, 'name': 'Steam'}, 'deal': {'price': {'amount': 19.99, 'amountInt': 1999, 'currency': 'USD'}, 'regular': {'amount': 19.99, 'amountInt': 1999, 'currency': 'USD'}, 'cut': 0}}, {'timestamp': '2019-09-19T19:21:18+02:00', 'shop': {'id': 61, 'name': 'Steam'}, 'deal': {'price': {'amount': 4.99, 'amountInt': 499, 'currency': 'USD'}, 'regular': {'amount': 19.99, 'amountInt': 1999, 'currency': 'USD'}, 'cut': 75}}, {'timestamp': '2019-07-09T22:14:27+02:00', 'shop': {'id': 61, 'name': 'Steam'}, 'deal': {'price': {'amount': 19.99, 'amountInt': 1999, 'currency': 'USD'}, 'regular': {'amount': 19.99, 'amountInt': 1999, 'currency': 'USD'}, 'cut': 0}}, {'timestamp': '2019-06-26T04:01:32+02:00', 'shop': {'id': 61, 'name': 'Steam'}, 'deal': {'price': {'amount': 4.99, 'amountInt': 499, 'currency': 'USD'}, 'regular': {'amount': 19.99, 'amountInt': 1999, 'currency': 'USD'}, 'cut': 75}}, {'timestamp': '2019-05-22T19:48:25+02:00', 'shop': {'id': 61, 'name': 'Steam'}, 'deal': {'price': {'amount': 19.99, 'amountInt': 1999, 'currency': 'USD'}, 'regular': {'amount': 19.99, 'amountInt': 1999, 'currency': 'USD'}, 'cut': 0}}, {'timestamp': '2019-05-20T21:23:39+02:00', 'shop': {'id': 61, 'name': 'Steam'}, 'deal': {'price': {'amount': 4.99, 'amountInt': 499, 'currency': 'USD'}, 'regular': {'amount': 19.99, 'amountInt': 1999, 'currency': 'USD'}, 'cut': 75}}, {'timestamp': '2019-03-22T21:06:45+01:00', 'shop': {'id': 61, 'name': 'Steam'}, 'deal': {'price': {'amount': 19.99, 'amountInt': 1999, 'currency': 'USD'}, 'regular': {'amount': 19.99, 'amountInt': 1999, 'currency': 'USD'}, 'cut': 0}}, {'timestamp': '2019-03-19T18:43:52+01:00', 'shop': {'id': 61, 'name': 'Steam'}, 'deal': {'price': {'amount': 4.99, 'amountInt': 499, 'currency': 'USD'}, 'regular': {'amount': 19.99, 'amountInt': 1999, 'currency': 'USD'}, 'cut': 75}}, {'timestamp': '2019-02-12T01:06:38+01:00', 'shop': {'id': 61, 'name': 'Steam'}, 'deal': {'price': {'amount': 19.99, 'amountInt': 1999, 'currency': 'USD'}, 'regular': {'amount': 19.99, 'amountInt': 1999, 'currency': 'USD'}, 'cut': 0}}, {'timestamp': '2019-02-04T21:08:36+01:00', 'shop': {'id': 61, 'name': 'Steam'}, 'deal': {'price': {'amount': 4.99, 'amountInt': 499, 'currency': 'USD'}, 'regular': {'amount': 19.99, 'amountInt': 1999, 'currency': 'USD'}, 'cut': 75}}, {'timestamp': '2019-01-03T23:20:38+01:00', 'shop': {'id': 61, 'name': 'Steam'}, 'deal': {'price': {'amount': 19.99, 'amountInt': 1999, 'currency': 'USD'}, 'regular': {'amount': 19.99, 'amountInt': 1999, 'currency': 'USD'}, 'cut': 0}}, {'timestamp': '2018-12-20T23:46:27+01:00', 'shop': {'id': 61, 'name': 'Steam'}, 'deal': {'price': {'amount': 4.99, 'amountInt': 499, 'currency': 'USD'}, 'regular': {'amount': 19.99, 'amountInt': 1999, 'currency': 'USD'}, 'cut': 75}}, {'timestamp': '2018-11-27T19:52:33+01:00', 'shop': {'id': 61, 'name': 'Steam'}, 'deal': {'price': {'amount': 19.99, 'amountInt': 1999, 'currency': 'USD'}, 'regular': {'amount': 19.99, 'amountInt': 1999, 'currency': 'USD'}, 'cut': 0}}, {'timestamp': '2018-11-21T20:40:53+01:00', 'shop': {'id': 61, 'name': 'Steam'}, 'deal': {'price': {'amount': 4.99, 'amountInt': 499, 'currency': 'USD'}, 'regular': {'amount': 19.99, 'amountInt': 1999, 'currency': 'USD'}, 'cut': 75}}, {'timestamp': '2018-11-01T18:59:26+01:00', 'shop': {'id': 61, 'name': 'Steam'}, 'deal': {'price': {'amount': 19.99, 'amountInt': 1999, 'currency': 'USD'}, 'regular': {'amount': 19.99, 'amountInt': 1999, 'currency': 'USD'}, 'cut': 0}}, {'timestamp': '2018-10-30T01:43:36+01:00', 'shop': {'id': 61, 'name': 'Steam'}, 'deal': {'price': {'amount': 4.99, 'amountInt': 499, 'currency': 'USD'}, 'regular': {'amount': 19.99, 'amountInt': 1999, 'currency': 'USD'}, 'cut': 75}}, {'timestamp': '2018-10-01T19:06:47+02:00', 'shop': {'id': 61, 'name': 'Steam'}, 'deal': {'price': {'amount': 19.99, 'amountInt': 1999, 'currency': 'USD'}, 'regular': {'amount': 19.99, 'amountInt': 1999, 'currency': 'USD'}, 'cut': 0}}, {'timestamp': '2018-09-27T19:19:35+02:00', 'shop': {'id': 61, 'name': 'Steam'}, 'deal': {'price': {'amount': 4.99, 'amountInt': 499, 'currency': 'USD'}, 'regular': {'amount': 19.99, 'amountInt': 1999, 'currency': 'USD'}, 'cut': 75}}, {'timestamp': '2018-08-17T21:28:47+02:00', 'shop': {'id': 61, 'name': 'Steam'}, 'deal': {'price': {'amount': 19.99, 'amountInt': 1999, 'currency': 'USD'}, 'regular': {'amount': 19.99, 'amountInt': 1999, 'currency': 'USD'}, 'cut': 0}}, {'timestamp': '2018-08-14T19:14:53+02:00', 'shop': {'id': 61, 'name': 'Steam'}, 'deal': {'price': {'amount': 6.79, 'amountInt': 679, 'currency': 'USD'}, 'regular': {'amount': 19.99, 'amountInt': 1999, 'currency': 'USD'}, 'cut': 66}}, {'timestamp': '2018-07-05T19:06:42+02:00', 'shop': {'id': 61, 'name': 'Steam'}, 'deal': {'price': {'amount': 19.99, 'amountInt': 1999, 'currency': 'USD'}, 'regular': {'amount': 19.99, 'amountInt': 1999, 'currency': 'USD'}, 'cut': 0}}, {'timestamp': '2018-06-21T20:13:50+02:00', 'shop': {'id': 61, 'name': 'Steam'}, 'deal': {'price': {'amount': 6.79, 'amountInt': 679, 'currency': 'USD'}, 'regular': {'amount': 19.99, 'amountInt': 1999, 'currency': 'USD'}, 'cut': 66}}, {'timestamp': '2018-05-14T20:21:59+02:00', 'shop': {'id': 61, 'name': 'Steam'}, 'deal': {'price': {'amount': 19.99, 'amountInt': 1999, 'currency': 'USD'}, 'regular': {'amount': 19.99, 'amountInt': 1999, 'currency': 'USD'}, 'cut': 0}}, {'timestamp': '2018-05-07T22:51:02+02:00', 'shop': {'id': 61, 'name': 'Steam'}, 'deal': {'price': {'amount': 6.79, 'amountInt': 679, 'currency': 'USD'}, 'regular': {'amount': 19.99, 'amountInt': 1999, 'currency': 'USD'}, 'cut': 66}}, {'timestamp': '2018-03-05T20:54:15+01:00', 'shop': {'id': 61, 'name': 'Steam'}, 'deal': {'price': {'amount': 19.99, 'amountInt': 1999, 'currency': 'USD'}, 'regular': {'amount': 19.99, 'amountInt': 1999, 'currency': 'USD'}, 'cut': 0}}, {'timestamp': '2018-03-01T20:22:34+01:00', 'shop': {'id': 61, 'name': 'Steam'}, 'deal': {'price': {'amount': 6.79, 'amountInt': 679, 'currency': 'USD'}, 'regular': {'amount': 19.99, 'amountInt': 1999, 'currency': 'USD'}, 'cut': 66}}, {'timestamp': '2018-02-19T22:49:07+01:00', 'shop': {'id': 61, 'name': 'Steam'}, 'deal': {'price': {'amount': 19.99, 'amountInt': 1999, 'currency': 'USD'}, 'regular': {'amount': 19.99, 'amountInt': 1999, 'currency': 'USD'}, 'cut': 0}}, {'timestamp': '2018-02-15T21:18:41+01:00', 'shop': {'id': 61, 'name': 'Steam'}, 'deal': {'price': {'amount': 6.79, 'amountInt': 679, 'currency': 'USD'}, 'regular': {'amount': 19.99, 'amountInt': 1999, 'currency': 'USD'}, 'cut': 66}}, {'timestamp': '2018-01-04T22:15:47+01:00', 'shop': {'id': 61, 'name': 'Steam'}, 'deal': {'price': {'amount': 19.99, 'amountInt': 1999, 'currency': 'USD'}, 'regular': {'amount': 19.99, 'amountInt': 1999, 'currency': 'USD'}, 'cut': 0}}, {'timestamp': '2017-12-21T21:45:30+01:00', 'shop': {'id': 61, 'name': 'Steam'}, 'deal': {'price': {'amount': 7.99, 'amountInt': 799, 'currency': 'USD'}, 'regular': {'amount': 19.99, 'amountInt': 1999, 'currency': 'USD'}, 'cut': 60}}, {'timestamp': '2017-11-28T23:45:24+01:00', 'shop': {'id': 61, 'name': 'Steam'}, 'deal': {'price': {'amount': 19.99, 'amountInt': 1999, 'currency': 'USD'}, 'regular': {'amount': 19.99, 'amountInt': 1999, 'currency': 'USD'}, 'cut': 0}}, {'timestamp': '2017-11-22T21:45:27+01:00', 'shop': {'id': 61, 'name': 'Steam'}, 'deal': {'price': {'amount': 6.79, 'amountInt': 679, 'currency': 'USD'}, 'regular': {'amount': 19.99, 'amountInt': 1999, 'currency': 'USD'}, 'cut': 66}}, {'timestamp': '2017-11-01T22:15:52+01:00', 'shop': {'id': 61, 'name': 'Steam'}, 'deal': {'price': {'amount': 19.99, 'amountInt': 1999, 'currency': 'USD'}, 'regular': {'amount': 19.99, 'amountInt': 1999, 'currency': 'USD'}, 'cut': 0}}, {'timestamp': '2017-10-26T21:15:37+02:00', 'shop': {'id': 61, 'name': 'Steam'}, 'deal': {'price': {'amount': 7.99, 'amountInt': 799, 'currency': 'USD'}, 'regular': {'amount': 19.99, 'amountInt': 1999, 'currency': 'USD'}, 'cut': 60}}, {'timestamp': '2017-10-03T01:15:48+02:00', 'shop': {'id': 61, 'name': 'Steam'}, 'deal': {'price': {'amount': 19.99, 'amountInt': 1999, 'currency': 'USD'}, 'regular': {'amount': 19.99, 'amountInt': 1999, 'currency': 'USD'}, 'cut': 0}}, {'timestamp': '2017-09-28T22:15:39+02:00', 'shop': {'id': 61, 'name': 'Steam'}, 'deal': {'price': {'amount': 7.99, 'amountInt': 799, 'currency': 'USD'}, 'regular': {'amount': 19.99, 'amountInt': 1999, 'currency': 'USD'}, 'cut': 60}}, {'timestamp': '2017-08-11T21:45:29+02:00', 'shop': {'id': 61, 'name': 'Steam'}, 'deal': {'price': {'amount': 19.99, 'amountInt': 1999, 'currency': 'USD'}, 'regular': {'amount': 19.99, 'amountInt': 1999, 'currency': 'USD'}, 'cut': 0}}, {'timestamp': '2017-08-08T22:45:26+02:00', 'shop': {'id': 61, 'name': 'Steam'}, 'deal': {'price': {'amount': 7.99, 'amountInt': 799, 'currency': 'USD'}, 'regular': {'amount': 19.99, 'amountInt': 1999, 'currency': 'USD'}, 'cut': 60}}, {'timestamp': '2017-07-05T20:45:35+02:00', 'shop': {'id': 61, 'name': 'Steam'}, 'deal': {'price': {'amount': 19.99, 'amountInt': 1999, 'currency': 'USD'}, 'regular': {'amount': 19.99, 'amountInt': 1999, 'currency': 'USD'}, 'cut': 0}}, {'timestamp': '2017-06-23T00:45:34+02:00', 'shop': {'id': 61, 'name': 'Steam'}, 'deal': {'price': {'amount': 7.99, 'amountInt': 799, 'currency': 'USD'}, 'regular': {'amount': 19.99, 'amountInt': 1999, 'currency': 'USD'}, 'cut': 60}}, {'timestamp': '2017-04-29T02:15:37+02:00', 'shop': {'id': 61, 'name': 'Steam'}, 'deal': {'price': {'amount': 19.99, 'amountInt': 1999, 'currency': 'USD'}, 'regular': {'amount': 19.99, 'amountInt': 1999, 'currency': 'USD'}, 'cut': 0}}, {'timestamp': '2017-04-25T19:45:29+02:00', 'shop': {'id': 61, 'name': 'Steam'}, 'deal': {'price': {'amount': 7.99, 'amountInt': 799, 'currency': 'USD'}, 'regular': {'amount': 19.99, 'amountInt': 1999, 'currency': 'USD'}, 'cut': 60}}, {'timestamp': '2017-01-02T21:15:58+01:00', 'shop': {'id': 61, 'name': 'Steam'}, 'deal': {'price': {'amount': 19.99, 'amountInt': 1999, 'currency': 'USD'}, 'regular': {'amount': 19.99, 'amountInt': 1999, 'currency': 'USD'}, 'cut': 0}}, {'timestamp': '2016-12-22T20:46:11+01:00', 'shop': {'id': 61, 'name': 'Steam'}, 'deal': {'price': {'amount': 6.79, 'amountInt': 679, 'currency': 'USD'}, 'regular': {'amount': 19.99, 'amountInt': 1999, 'currency': 'USD'}, 'cut': 66}}, {'timestamp': '2016-11-30T19:45:31+01:00', 'shop': {'id': 61, 'name': 'Steam'}, 'deal': {'price': {'amount': 19.99, 'amountInt': 1999, 'currency': 'USD'}, 'regular': {'amount': 19.99, 'amountInt': 1999, 'currency': 'USD'}, 'cut': 0}}, {'timestamp': '2016-11-29T22:15:39+01:00', 'shop': {'id': 61, 'name': 'Steam'}, 'deal': {'price': {'amount': 29.99, 'amountInt': 2999, 'currency': 'USD'}, 'regular': {'amount': 29.99, 'amountInt': 2999, 'currency': 'USD'}, 'cut': 0}}, {'timestamp': '2016-11-23T21:45:43+01:00', 'shop': {'id': 61, 'name': 'Steam'}, 'deal': {'price': {'amount': 14.99, 'amountInt': 1499, 'currency': 'USD'}, 'regular': {'amount': 29.99, 'amountInt': 2999, 'currency': 'USD'}, 'cut': 50}}, {'timestamp': '2016-11-01T21:45:31+01:00', 'shop': {'id': 61, 'name': 'Steam'}, 'deal': {'price': {'amount': 29.99, 'amountInt': 2999, 'currency': 'USD'}, 'regular': {'amount': 29.99, 'amountInt': 2999, 'currency': 'USD'}, 'cut': 0}}, {'timestamp': '2016-10-28T21:15:28+02:00', 'shop': {'id': 61, 'name': 'Steam'}, 'deal': {'price': {'amount': 10.19, 'amountInt': 1019, 'currency': 'USD'}, 'regular': {'amount': 29.99, 'amountInt': 2999, 'currency': 'USD'}, 'cut': 66}}, {'timestamp': '2016-09-19T22:45:30+02:00', 'shop': {'id': 61, 'name': 'Steam'}, 'deal': {'price': {'amount': 29.99, 'amountInt': 2999, 'currency': 'USD'}, 'regular': {'amount': 29.99, 'amountInt': 2999, 'currency': 'USD'}, 'cut': 0}}, {'timestamp': '2016-09-15T20:45:24+02:00', 'shop': {'id': 61, 'name': 'Steam'}, 'deal': {'price': {'amount': 10.19, 'amountInt': 1019, 'currency': 'USD'}, 'regular': {'amount': 29.99, 'amountInt': 2999, 'currency': 'USD'}, 'cut': 66}}, {'timestamp': '2016-08-08T20:45:23+02:00', 'shop': {'id': 61, 'name': 'Steam'}, 'deal': {'price': {'amount': 29.99, 'amountInt': 2999, 'currency': 'USD'}, 'regular': {'amount': 29.99, 'amountInt': 2999, 'currency': 'USD'}, 'cut': 0}}, {'timestamp': '2016-08-04T20:45:21+02:00', 'shop': {'id': 61, 'name': 'Steam'}, 'deal': {'price': {'amount': 14.99, 'amountInt': 1499, 'currency': 'USD'}, 'regular': {'amount': 29.99, 'amountInt': 2999, 'currency': 'USD'}, 'cut': 50}}, {'timestamp': '2016-07-04T18:25:26+02:00', 'shop': {'id': 61, 'name': 'Steam'}, 'deal': {'price': {'amount': 29.99, 'amountInt': 2999, 'currency': 'USD'}, 'regular': {'amount': 29.99, 'amountInt': 2999, 'currency': 'USD'}, 'cut': 0}}, {'timestamp': '2016-06-24T19:01:35+02:00', 'shop': {'id': 61, 'name': 'Steam'}, 'deal': {'price': {'amount': 14.99, 'amountInt': 1499, 'currency': 'USD'}, 'regular': {'amount': 29.99, 'amountInt': 2999, 'currency': 'USD'}, 'cut': 50}}, {'timestamp': '2016-06-23T20:35:18+02:00', 'shop': {'id': 61, 'name': 'Steam'}, 'deal': {'price': {'amount': 17.99, 'amountInt': 1799, 'currency': 'USD'}, 'regular': {'amount': 29.99, 'amountInt': 2999, 'currency': 'USD'}, 'cut': 40}}, {'timestamp': '2016-04-07T22:10:26+02:00', 'shop': {'id': 61, 'name': 'Steam'}, 'deal': {'price': {'amount': 29.99, 'amountInt': 2999, 'currency': 'USD'}, 'regular': {'amount': 29.99, 'amountInt': 2999, 'currency': 'USD'}, 'cut': 0}}, {'timestamp': '2016-03-24T18:23:36+01:00', 'shop': {'id': 61, 'name': 'Steam'}, 'deal': {'price': {'amount': 39.99, 'amountInt': 3999, 'currency': 'USD'}, 'regular': {'amount': 39.99, 'amountInt': 3999, 'currency': 'USD'}, 'cut': 0}}, {'timestamp': '2016-03-22T18:14:01+01:00', 'shop': {'id': 61, 'name': 'Steam'}, 'deal': {'price': {'amount': 23.99, 'amountInt': 2399, 'currency': 'USD'}, 'regular': {'amount': 39.99, 'amountInt': 3999, 'currency': 'USD'}, 'cut': 40}}, {'timestamp': '2016-02-12T19:44:34+01:00', 'shop': {'id': 61, 'name': 'Steam'}, 'deal': {'price': {'amount': 39.99, 'amountInt': 3999, 'currency': 'USD'}, 'regular': {'amount': 39.99, 'amountInt': 3999, 'currency': 'USD'}, 'cut': 0}}, {'timestamp': '2016-02-03T19:23:45+01:00', 'shop': {'id': 61, 'name': 'Steam'}, 'deal': {'price': {'amount': 23.99, 'amountInt': 2399, 'currency': 'USD'}, 'regular': {'amount': 39.99, 'amountInt': 3999, 'currency': 'USD'}, 'cut': 40}}, {'timestamp': '2015-10-28T19:00:14+01:00', 'shop': {'id': 61, 'name': 'Steam'}, 'deal': {'price': {'amount': 49.99, 'amountInt': 4999, 'currency': 'USD'}, 'regular': {'amount': 49.99, 'amountInt': 4999, 'currency': 'USD'}, 'cut': 0}}, {'timestamp': '2014-10-28T06:19:20+01:00', 'shop': {'id': 37, 'name': 'Humble Store'}, 'deal': {'price': {'amount': 59.99, 'amountInt': 5999, 'currency': 'USD'}, 'regular': {'amount': 59.99, 'amountInt': 5999, 'currency': 'USD'}, 'cut': 0}}, {'timestamp': '2015-03-09T18:21:10+01:00', 'shop': {'id': 61, 'name': 'Steam'}, 'deal': {'price': {'amount': 59.99, 'amountInt': 5999, 'currency': 'USD'}, 'regular': {'amount': 59.99, 'amountInt': 5999, 'currency': 'USD'}, 'cut': 0}}, {'timestamp': '2015-05-07T16:21:36+02:00', 'shop': {'id': 50, 'name': 'Nuuvem'}, 'deal': {'price': {'amount': 32.91, 'amountInt': 3291, 'currency': 'USD'}, 'regular': {'amount': 32.91, 'amountInt': 3291, 'currency': 'USD'}, 'cut': 0}}, {'timestamp': '2015-06-02T20:21:25+02:00', 'shop': {'id': 27, 'name': 'GamesPlanet DE'}, 'deal': {'price': {'amount': 33.52, 'amountInt': 3352, 'currency': 'USD'}, 'regular': {'amount': 55.88, 'amountInt': 5588, 'currency': 'USD'}, 'cut': 40}}, {'timestamp': '2015-06-02T20:23:37+02:00', 'shop': {'id': 28, 'name': 'GamesPlanet FR'}, 'deal': {'price': {'amount': 33.52, 'amountInt': 3352, 'currency': 'USD'}, 'regular': {'amount': 55.88, 'amountInt': 5588, 'currency': 'USD'}, 'cut': 40}}, {'timestamp': '2015-06-18T10:42:29+02:00', 'shop': {'id': 26, 'name': 'GamesPlanet UK'}, 'deal': {'price': {'amount': 34.96, 'amountInt': 3496, 'currency': 'USD'}, 'regular': {'amount': 55.63, 'amountInt': 5563, 'currency': 'USD'}, 'cut': 37}}, {'timestamp': '2014-04-29T06:30:10+02:00', 'shop': {'id': 62, 'name': 'Ubisoft Store'}, 'deal': {'price': {'amount': 59.99, 'amountInt': 5999, 'currency': 'USD'}, 'regular': {'amount': 59.99, 'amountInt': 5999, 'currency': 'USD'}, 'cut': 0}}, {'timestamp': '2014-10-07T06:03:37+02:00', 'shop': {'id': 49, 'name': 'Newegg'}, 'deal': {'price': {'amount': 59.99, 'amountInt': 5999, 'currency': 'USD'}, 'regular': {'amount': 59.99, 'amountInt': 5999, 'currency': 'USD'}, 'cut': 0}}, {'timestamp': '2015-05-13T06:05:12+02:00', 'shop': {'id': 36, 'name': 'GreenManGaming'}, 'deal': {'price': {'amount': 59.99, 'amountInt': 5999, 'currency': 'USD'}, 'regular': {'amount': 59.99, 'amountInt': 5999, 'currency': 'USD'}, 'cut': 0}}, {'timestamp': '2015-05-15T11:05:26+02:00', 'shop': {'id': 34, 'name': 'GetGames'}, 'deal': {'price': {'amount': 47.99, 'amountInt': 4799, 'currency': 'USD'}, 'regular': {'amount': 59.99, 'amountInt': 5999, 'currency': 'USD'}, 'cut': 20}}, {'timestamp': '2015-04-21T00:08:22+02:00', 'shop': {'id': 31, 'name': 'Gamesrocket'}, 'deal': {'price': {'amount': 64.49, 'amountInt': 6449, 'currency': 'USD'}, 'regular': {'amount': 71.5, 'amountInt': 7150, 'currency': 'USD'}, 'cut': 10}}, {'timestamp': '2015-04-21T00:08:34+02:00', 'shop': {'id': 24, 'name': 'GamersGate'}, 'deal': {'price': {'amount': 53.99, 'amountInt': 5399, 'currency': 'USD'}, 'regular': {'amount': 59.99, 'amountInt': 5999, 'currency': 'USD'}, 'cut': 10}}, {'timestamp': '2015-06-17T20:45:12+02:00', 'shop': {'id': 18, 'name': 'FunStock Digital'}, 'deal': {'price': {'amount': 47.51, 'amountInt': 4751, 'currency': 'USD'}, 'regular': {'amount': 55.43, 'amountInt': 5543, 'currency': 'USD'}, 'cut': 14}}, {'timestamp': '2015-05-12T03:31:03+02:00', 'shop': {'id': 13, 'name': 'DLGamer'}, 'deal': {'price': {'amount': 50.99, 'amountInt': 5099, 'currency': 'USD'}, 'regular': {'amount': 59.99, 'amountInt': 5999, 'currency': 'USD'}, 'cut': 15}}, {'timestamp': '2014-12-29T21:03:36+01:00', 'shop': {'id': 11, 'name': 'Direct2Drive'}, 'deal': {'price': {'amount': 59.99, 'amountInt': 5999, 'currency': 'USD'}, 'regular': {'amount': 59.99, 'amountInt': 5999, 'currency': 'USD'}, 'cut': 0}}, {'timestamp': '2014-04-29T06:35:02+02:00', 'shop': {'id': 3, 'name': 'Amazon'}, 'deal': {'price': {'amount': 59.96, 'amountInt': 5996, 'currency': 'USD'}, 'regular': {'amount': 59.99, 'amountInt': 5999, 'currency': 'USD'}, 'cut': 0}}]\n"
     ]
    }
   ],
   "source": [
    "endpoint_prices = 'https://api.isthereanydeal.com/games/history/v2'\n",
    "\n",
    "since_datetime = datetime.strptime('2015-06-23 00:0:00', '%Y-%m-%d %H:%M:%S') # random release date\n",
    "# since_datetime = datetime.strptime(f\"{game_info['releaseDate']} 00:0:00\", \"%Y-%m-%d %H:%M:%S\") # using release date from previous cell\n",
    "since_datetime_str = since_datetime.isoformat() + '-05:00'\n",
    "\n",
    "\n",
    "params = {\n",
    "    'key': api_key,\n",
    "    'country': 'US',\n",
    "    'id': \"018d937f-0e0c-70be-91d5-75e399e6b4e3\",\n",
    "    'shops': [61],\n",
    "    'since': since_datetime_str\n",
    "}\n",
    "\n",
    "print(request_game_data(endpoint_prices, params))"
   ]
  },
  {
   "cell_type": "markdown",
   "metadata": {},
   "source": [
    "### Getting Pricing History Data"
   ]
  },
  {
   "cell_type": "markdown",
   "metadata": {},
   "source": [
    "The games_df data from Kaggle has too much data to make requests for iteratively. Thus, let's look at value counts to consider how to select a subset."
   ]
  },
  {
   "cell_type": "code",
   "execution_count": 10,
   "metadata": {},
   "outputs": [],
   "source": [
    "# convert release date into proper format\n",
    "def parse_date(date_string):\n",
    "    # Define the possible date formats\n",
    "    date_formats = [\"%b %d, %Y\", \"%b %Y\", \"%Y\"]\n",
    "    \n",
    "    for date_format in date_formats:\n",
    "        try:\n",
    "            return datetime.strptime(date_string, date_format).strftime(\"%Y-%m-%d\")\n",
    "        except ValueError:\n",
    "            continue\n",
    "    # If no format matches, return None or any default value\n",
    "    return None\n",
    "\n",
    "# Apply the function to the 'Release date' column\n",
    "games_df['ReleaseDate'] = games_df['Release date'].apply(parse_date)"
   ]
  },
  {
   "cell_type": "code",
   "execution_count": 11,
   "metadata": {},
   "outputs": [],
   "source": [
    "games_df['ParsedReleaseDate'] = pd.to_datetime(games_df['ReleaseDate'], format=\"%Y-%m-%d\")"
   ]
  },
  {
   "cell_type": "code",
   "execution_count": 14,
   "metadata": {},
   "outputs": [
    {
     "data": {
      "image/png": "[encoded data removed]",
      "text/plain": [
       "<Figure size 1000x600 with 1 Axes>"
      ]
     },
     "metadata": {},
     "output_type": "display_data"
    }
   ],
   "source": [
    "games_df['year'] = games_df['ParsedReleaseDate'].dt.year\n",
    "year_counts = games_df['year'].value_counts().sort_index()\n",
    "\n",
    "plt.figure(figsize=(10, 6))\n",
    "year_counts.plot(kind='bar', color='skyblue')\n",
    "plt.title('Number of Games Released Per Year')\n",
    "plt.xlabel('Year')\n",
    "plt.ylabel('Number of Games')\n",
    "plt.xticks(rotation=45)\n",
    "plt.grid(axis='y', linestyle='--', alpha=0.7)\n",
    "plt.tight_layout()\n",
    "plt.show()"
   ]
  },
  {
   "cell_type": "markdown",
   "metadata": {},
   "source": [
    "We need data that will cover enough time to have games that will have gone on sale, and we still want a good amount. It's possible pandemic could have affect how long the first sale occured, and we don't want to make too many requests whilst still getting data from about 10000 games. Thus, let's use years 2016 and 2017 for now."
   ]
  },
  {
   "cell_type": "code",
   "execution_count": 15,
   "metadata": {},
   "outputs": [
    {
     "data": {
      "text/plain": [
       "(10750, 42)"
      ]
     },
     "execution_count": 15,
     "metadata": {},
     "output_type": "execute_result"
    }
   ],
   "source": [
    "games_selected_years_df = games_df[games_df['year'] >= 2016]\n",
    "games_selected_years_df = games_selected_years_df[games_selected_years_df['year'] < 2018]\n",
    "games_selected_years_df = games_selected_years_df.reset_index(drop=True)\n",
    "games_selected_years_df.shape"
   ]
  },
  {
   "cell_type": "code",
   "execution_count": 17,
   "metadata": {},
   "outputs": [],
   "source": [
    "#saving this for ease of access later\n",
    "games_selected_years_df.to_csv('../data/games_2016_2017.csv')"
   ]
  },
  {
   "cell_type": "markdown",
   "metadata": {},
   "source": [
    "We should also filter out games that don't support English."
   ]
  },
  {
   "cell_type": "code",
   "execution_count": 114,
   "metadata": {},
   "outputs": [],
   "source": [
    "import numpy as np\n",
    "import ast"
   ]
  },
  {
   "cell_type": "code",
   "execution_count": 121,
   "metadata": {},
   "outputs": [
    {
     "data": {
      "text/plain": [
       "(10613, 42)"
      ]
     },
     "execution_count": 121,
     "metadata": {},
     "output_type": "execute_result"
    }
   ],
   "source": [
    "def remove_non_english_games(supported_languages_lst):\n",
    "    #supported_languages_lst = ast.literal_eval(supported_languages_lst)\n",
    "    if 'English' not in supported_languages_lst:\n",
    "        return np.nan\n",
    "    else:\n",
    "        return supported_languages_lst\n",
    "    \n",
    "games_selected_years_df['Supported languages'] = games_selected_years_df['Supported languages'].apply(remove_non_english_games)\n",
    "\n",
    "games_selected_years_df = games_selected_years_df.dropna(subset=['Supported languages'])\n",
    "games_selected_years_df.shape"
   ]
  },
  {
   "cell_type": "markdown",
   "metadata": {},
   "source": [
    "The documentation doesn't specify a rate limit, so we can try to find it."
   ]
  },
  {
   "cell_type": "code",
   "execution_count": 12,
   "metadata": {},
   "outputs": [
    {
     "name": "stdout",
     "output_type": "stream",
     "text": [
      "Response Headers:\n",
      "Date: Sun, 19 May 2024 12:59:59 GMT\n",
      "Content-Type: application/json\n",
      "Transfer-Encoding: chunked\n",
      "Connection: keep-alive\n",
      "set-cookie: PHPSESSID=o2ihjn7q3tpm2i7f8nab2pgufa; path=/\n",
      "expires: Thu, 19 Nov 1981 08:52:00 GMT\n",
      "Cache-Control: no-store, no-cache, must-revalidate\n",
      "pragma: no-cache\n",
      "x-frame-options: DENY\n",
      "access-control-allow-origin: *\n",
      "CF-Cache-Status: DYNAMIC\n",
      "Report-To: {\"endpoints\":[{\"url\":\"https:\\/\\/a.nel.cloudflare.com\\/report\\/v4?s=PaxE%2BRGPjB0kYJ5%2FS9MzzRFoaTM%2FOAfDvI%2F6Kk2zOYHZSBUM7F%2FY6lHnj6M8sD%2B4ZiAt32Ds%2FKvobIkjzB9DU5krz%2Bys02ycsDQ12MWpw49fXc9H1iV4ouesqWJVHbzXTocPHTHvehQ%3D\"}],\"group\":\"cf-nel\",\"max_age\":604800}\n",
      "NEL: {\"success_fraction\":0,\"report_to\":\"cf-nel\",\"max_age\":604800}\n",
      "Server: cloudflare\n",
      "CF-RAY: 8864446e6f16726b-EWR\n",
      "Content-Encoding: br\n",
      "alt-svc: h3=\":443\"; ma=86400\n",
      "\n",
      "Rate Limit Info:\n"
     ]
    }
   ],
   "source": [
    "# testing to see if requests has the rate limit\n",
    "endpoint_prices = 'https://api.isthereanydeal.com/games/history/v2'\n",
    "\n",
    "since_datetime = datetime.strptime('2015-06-23 00:0:00', '%Y-%m-%d %H:%M:%S') # random release date\n",
    "since_datetime_str = since_datetime.isoformat() + '-05:00'\n",
    "\n",
    "params = {\n",
    "    'key': api_key,\n",
    "    'country': 'US',\n",
    "    'id': \"018d937f-0e0c-70be-91d5-75e399e6b4e3\",\n",
    "    'shops': [61],\n",
    "    'since': since_datetime_str\n",
    "}\n",
    "\n",
    "response = requests.get(endpoint, params=params)\n",
    "if response.status_code == 200:\n",
    "    # Print the response headers\n",
    "    print(\"Response Headers:\")\n",
    "    for header, value in response.headers.items():\n",
    "        print(f\"{header}: {value}\")\n",
    "    \n",
    "    rate_limit = response.headers.get('X-RateLimit-Limit')\n",
    "    rate_remaining = response.headers.get('X-RateLimit-Remaining')\n",
    "    rate_reset = response.headers.get('X-RateLimit-Reset')\n",
    "\n",
    "    print(\"\\nRate Limit Info:\")\n",
    "    if rate_limit:\n",
    "        print(f\"X-RateLimit-Limit: {rate_limit}\")\n",
    "    if rate_remaining:\n",
    "        print(f\"X-RateLimit-Remaining: {rate_remaining}\")\n",
    "    if rate_reset:\n",
    "        print(f\"X-RateLimit-Reset: {rate_reset}\")"
   ]
  },
  {
   "cell_type": "markdown",
   "metadata": {},
   "source": [
    "No rate limit, will have to guess then."
   ]
  },
  {
   "cell_type": "markdown",
   "metadata": {},
   "source": [
    "We don't need to request the release date since we have that here from the Kaggle dataset, but note if we add future data then we will need to."
   ]
  },
  {
   "cell_type": "code",
   "execution_count": 11,
   "metadata": {},
   "outputs": [],
   "source": [
    "def get_game_id(appid, api_key, endpoint = 'https://api.isthereanydeal.com/games/lookup/v1'):\n",
    "    params = {\n",
    "        'key': api_key,\n",
    "        'appid': appid\n",
    "    }\n",
    "\n",
    "    game_lookup = request_game_data(endpoint, params)\n",
    "    \n",
    "    return game_lookup['game']['id']\n",
    "\n",
    "#with the kaggle data, we already have release dates, so this is unnecessary for now\n",
    "def get_game_info(game_id, api_key, endpoint = 'https://api.isthereanydeal.com/games/info/v2'):\n",
    "    params = {\n",
    "        'key': api_key,\n",
    "        'id': game_id\n",
    "    }\n",
    "\n",
    "    game_info = request_game_data(endpoint, params)\n",
    "    \n",
    "    return game_info['releaseDate']\n",
    "\n",
    "def get_price_history(game_id, release_date, endpoint='https://api.isthereanydeal.com/games/history/v2'):\n",
    "    since_datetime = datetime.strptime(f\"{release_date} 00:0:00\", \"%Y-%m-%d %H:%M:%S\")\n",
    "    since_datetime_str = since_datetime.isoformat() + '-05:00'\n",
    "\n",
    "\n",
    "    params = {\n",
    "        'key': api_key,\n",
    "        'country': 'US',\n",
    "        'id': game_id,\n",
    "        'shops': [61], # 61 is Steam\n",
    "        'since': since_datetime_str\n",
    "    }\n",
    "\n",
    "    price_history = request_game_data(endpoint, params)\n",
    "\n",
    "    return price_history"
   ]
  },
  {
   "cell_type": "markdown",
   "metadata": {},
   "source": [
    "Iterating through games_df to get pricing history data."
   ]
  },
  {
   "cell_type": "code",
   "execution_count": null,
   "metadata": {},
   "outputs": [],
   "source": [
    "# If we want to limit requests, but in an old post they said there is not limit:\n",
    "import time\n",
    "\n",
    "# don't know what rate limit is so adding a typical one here of 60 requests per minute\n",
    "max_requests_per_minute = 60\n",
    "\n",
    "# each function call makes a request\n",
    "requests_per_iteration = 2\n",
    "\n",
    "# Calculate the required wait time between iterations\n",
    "wait_time_per_iteration = 60 / (max_requests_per_minute / requests_per_iteration)"
   ]
  },
  {
   "cell_type": "code",
   "execution_count": 138,
   "metadata": {},
   "outputs": [
    {
     "name": "stdout",
     "output_type": "stream",
     "text": [
      "An error occurred for row 1840: string indices must be integers\n",
      "An error occurred for row 4995: string indices must be integers\n",
      "An error occurred for row 4996: string indices must be integers\n",
      "An error occurred for row 4997: string indices must be integers\n",
      "An error occurred for row 4999: string indices must be integers\n",
      "An error occurred for row 5000: string indices must be integers\n",
      "An error occurred for row 5003: string indices must be integers\n",
      "An error occurred for row 5004: string indices must be integers\n",
      "An error occurred for row 5007: string indices must be integers\n",
      "An error occurred for row 5012: string indices must be integers\n",
      "An error occurred for row 10305: 'game'\n"
     ]
    }
   ],
   "source": [
    "game_id_lst = []\n",
    "price_history_lst = []\n",
    "\n",
    "for i, row in games_selected_years_df.iterrows():\n",
    "    try:\n",
    "        game_id = get_game_id(row['AppID'], api_key)\n",
    "        games_price_history = get_price_history(game_id, row['ReleaseDate'])\n",
    "\n",
    "        game_id_lst.append(game_id)\n",
    "        price_history_lst.append(games_price_history)\n",
    "    except Exception as e:\n",
    "        print(f\"An error occurred for row {i}: {e}\")\n",
    "        continue\n",
    "\n",
    "    \n",
    "    # time.sleep(wait_time_per_iteration) # uncomment if want to limit requests\n",
    "    "
   ]
  },
  {
   "cell_type": "code",
   "execution_count": 139,
   "metadata": {},
   "outputs": [],
   "source": [
    "game_id_series = pd.Series(game_id_lst)\n",
    "price_history_series = pd.Series(price_history_lst)\n",
    "\n",
    "api_data = pd.concat([game_id_series, price_history_series], axis = 1)\n",
    "api_data = api_data.rename(columns={0:'game_ids', 1:'price_history'})"
   ]
  },
  {
   "cell_type": "code",
   "execution_count": 141,
   "metadata": {},
   "outputs": [],
   "source": [
    "api_data.to_csv('../data/price_history.csv')"
   ]
  },
  {
   "cell_type": "markdown",
   "metadata": {},
   "source": [
    "### Merging Datasets\n",
    "\n",
    "Now let's put these dataframes together. We need to remove the indices that had errors first though."
   ]
  },
  {
   "cell_type": "code",
   "execution_count": 50,
   "metadata": {},
   "outputs": [
    {
     "data": {
      "text/plain": [
       "(10750, 42)"
      ]
     },
     "execution_count": 50,
     "metadata": {},
     "output_type": "execute_result"
    }
   ],
   "source": [
    "games_selected_years_df = pd.read_csv('../data/games_2016_2017.csv')\n",
    "games_selected_years_df = games_selected_years_df.drop(columns='Unnamed: 0')\n",
    "games_selected_years_df.shape"
   ]
  },
  {
   "cell_type": "code",
   "execution_count": 29,
   "metadata": {},
   "outputs": [
    {
     "data": {
      "text/plain": [
       "(10601, 2)"
      ]
     },
     "execution_count": 29,
     "metadata": {},
     "output_type": "execute_result"
    }
   ],
   "source": [
    "api_data = pd.read_csv('../data/price_history.csv')\n",
    "api_data = api_data.drop(columns='Unnamed: 0')\n",
    "api_data = api_data.drop_duplicates(subset='game_ids')\n",
    "api_data.shape"
   ]
  },
  {
   "cell_type": "markdown",
   "metadata": {},
   "source": [
    "So 148 rows are missing, but we don't know which ones. Unfortunately we will have to iterate again, but we can use the api_data and just look up the games and get the app_id. "
   ]
  },
  {
   "cell_type": "code",
   "execution_count": 43,
   "metadata": {},
   "outputs": [
    {
     "name": "stderr",
     "output_type": "stream",
     "text": [
      "Processing game IDs: 100%|██████████| 10602/10602 [2:50:25<00:00,  1.04it/s] \n"
     ]
    }
   ],
   "source": [
    "from tqdm import tqdm\n",
    "\n",
    "# we'll just get the full info just in case\n",
    "def get_game_info(game_id, api_key, endpoint = 'https://api.isthereanydeal.com/games/info/v2'):\n",
    "    params = {\n",
    "        'key': api_key,\n",
    "        'id': game_id\n",
    "    }\n",
    "\n",
    "    game_info = request_game_data(endpoint, params)\n",
    "    \n",
    "    return game_info\n",
    "\n",
    "game_info_lst = []\n",
    "\n",
    "game_ids = list(api_data['game_ids'])\n",
    "\n",
    "for i, game_id in enumerate(tqdm(game_ids, desc=\"Processing game IDs\")):\n",
    "    try:\n",
    "        game_info = get_game_info(game_id, api_key)\n",
    "        game_info_lst.append(game_info)\n",
    "    except Exception as e:\n",
    "        print(f\"An error occurred at index {i}: {e}\")\n",
    "        continue\n",
    "\n",
    "game_info_df = pd.DataFrame(game_info_lst)\n",
    "game_info_df.to_csv('../data/game_info.csv', index=False)"
   ]
  },
  {
   "cell_type": "code",
   "execution_count": 40,
   "metadata": {},
   "outputs": [],
   "source": [
    "game_info_df = pd.read_csv('../data/game_info.csv')"
   ]
  },
  {
   "cell_type": "markdown",
   "metadata": {},
   "source": [
    "There are some null values and duplicates to get rid of."
   ]
  },
  {
   "cell_type": "code",
   "execution_count": 41,
   "metadata": {},
   "outputs": [
    {
     "data": {
      "text/plain": [
       "239"
      ]
     },
     "execution_count": 41,
     "metadata": {},
     "output_type": "execute_result"
    }
   ],
   "source": [
    "game_info_df['appid'].isna().sum()"
   ]
  },
  {
   "cell_type": "code",
   "execution_count": 42,
   "metadata": {},
   "outputs": [
    {
     "data": {
      "text/plain": [
       "(10362, 18)"
      ]
     },
     "execution_count": 42,
     "metadata": {},
     "output_type": "execute_result"
    }
   ],
   "source": [
    "game_info_df2 = game_info_df.dropna(subset='appid')\n",
    "game_info_df2 = game_info_df2.rename(columns={'id': 'game_ids'})\n",
    "\n",
    "# because we didn't remove duplicates in api_data before, we ended up with the same duplicate here\n",
    "game_info_df2 = game_info_df2.drop_duplicates(subset='game_ids')\n",
    "game_info_df2.shape\n"
   ]
  },
  {
   "cell_type": "code",
   "execution_count": 44,
   "metadata": {},
   "outputs": [
    {
     "data": {
      "text/plain": [
       "(10362, 19)"
      ]
     },
     "execution_count": 44,
     "metadata": {},
     "output_type": "execute_result"
    }
   ],
   "source": [
    "complete_api_data = game_info_df2.merge(api_data, how='left', on='game_ids')\n",
    "complete_api_data.shape"
   ]
  },
  {
   "cell_type": "markdown",
   "metadata": {},
   "source": [
    "Now we can combine all three datasets to get what we need to make predictions."
   ]
  },
  {
   "cell_type": "code",
   "execution_count": 57,
   "metadata": {},
   "outputs": [],
   "source": [
    "complete_api_data = complete_api_data.rename(columns={'appid': 'AppID'})"
   ]
  },
  {
   "cell_type": "code",
   "execution_count": 59,
   "metadata": {},
   "outputs": [],
   "source": [
    "complete_api_data = complete_api_data.rename(columns={'appid': 'AppID'})\n",
    "complete_api_data = complete_api_data.merge(games_selected_years_df, how='left', on='AppID')"
   ]
  },
  {
   "cell_type": "code",
   "execution_count": 61,
   "metadata": {},
   "outputs": [
    {
     "data": {
      "text/html": [
       "<div>\n",
       "<style scoped>\n",
       "    .dataframe tbody tr th:only-of-type {\n",
       "        vertical-align: middle;\n",
       "    }\n",
       "\n",
       "    .dataframe tbody tr th {\n",
       "        vertical-align: top;\n",
       "    }\n",
       "\n",
       "    .dataframe thead th {\n",
       "        text-align: right;\n",
       "    }\n",
       "</style>\n",
       "<table border=\"1\" class=\"dataframe\">\n",
       "  <thead>\n",
       "    <tr style=\"text-align: right;\">\n",
       "      <th></th>\n",
       "      <th>game_ids</th>\n",
       "      <th>slug</th>\n",
       "      <th>title</th>\n",
       "      <th>type</th>\n",
       "      <th>mature</th>\n",
       "      <th>assets</th>\n",
       "      <th>earlyAccess</th>\n",
       "      <th>achievements</th>\n",
       "      <th>tradingCards</th>\n",
       "      <th>AppID</th>\n",
       "      <th>...</th>\n",
       "      <th>Developers</th>\n",
       "      <th>Publishers</th>\n",
       "      <th>Categories</th>\n",
       "      <th>Genres</th>\n",
       "      <th>Tags</th>\n",
       "      <th>Screenshots</th>\n",
       "      <th>Movies</th>\n",
       "      <th>ReleaseDate</th>\n",
       "      <th>ParsedReleaseDate</th>\n",
       "      <th>year</th>\n",
       "    </tr>\n",
       "  </thead>\n",
       "  <tbody>\n",
       "    <tr>\n",
       "      <th>0</th>\n",
       "      <td>018d937f-0a5b-70dc-b37c-4a0a46d1b122</td>\n",
       "      <td>train-bandit</td>\n",
       "      <td>Train Bandit</td>\n",
       "      <td>game</td>\n",
       "      <td>False</td>\n",
       "      <td>{'boxart': 'https://dbxce1spal1df.cloudfront.n...</td>\n",
       "      <td>False</td>\n",
       "      <td>True</td>\n",
       "      <td>False</td>\n",
       "      <td>655370.0</td>\n",
       "      <td>...</td>\n",
       "      <td>Rusty Moyher</td>\n",
       "      <td>Wild Rooster</td>\n",
       "      <td>Single-player,Steam Achievements,Full controll...</td>\n",
       "      <td>Action,Indie</td>\n",
       "      <td>Indie,Action,Pixel Graphics,2D,Retro,Arcade,Sc...</td>\n",
       "      <td>https://cdn.akamai.steamstatic.com/steam/apps/...</td>\n",
       "      <td>http://cdn.akamai.steamstatic.com/steam/apps/2...</td>\n",
       "      <td>2017-10-12</td>\n",
       "      <td>2017-10-12</td>\n",
       "      <td>2017.0</td>\n",
       "    </tr>\n",
       "    <tr>\n",
       "      <th>1</th>\n",
       "      <td>018d937f-00f3-70e3-b3ff-eeb61ac9966c</td>\n",
       "      <td>cthulhu-realms</td>\n",
       "      <td>Cthulhu Realms</td>\n",
       "      <td>game</td>\n",
       "      <td>False</td>\n",
       "      <td>{'boxart': 'https://dbxce1spal1df.cloudfront.n...</td>\n",
       "      <td>False</td>\n",
       "      <td>False</td>\n",
       "      <td>False</td>\n",
       "      <td>485000.0</td>\n",
       "      <td>...</td>\n",
       "      <td>Wise Wizard Games, LLC</td>\n",
       "      <td>Wise Wizard Games, LLC</td>\n",
       "      <td>Single-player,Multi-player,Shared/Split Screen...</td>\n",
       "      <td>Strategy</td>\n",
       "      <td>Card Game,Strategy,Deckbuilding,Lovecraftian,B...</td>\n",
       "      <td>https://cdn.akamai.steamstatic.com/steam/apps/...</td>\n",
       "      <td>http://cdn.akamai.steamstatic.com/steam/apps/2...</td>\n",
       "      <td>2016-07-01</td>\n",
       "      <td>2016-07-01</td>\n",
       "      <td>2016.0</td>\n",
       "    </tr>\n",
       "    <tr>\n",
       "      <th>2</th>\n",
       "      <td>018d937f-158f-72b0-9909-e63af7a0fbbe</td>\n",
       "      <td>steam-squad</td>\n",
       "      <td>Steam Squad</td>\n",
       "      <td>game</td>\n",
       "      <td>False</td>\n",
       "      <td>{'boxart': 'https://dbxce1spal1df.cloudfront.n...</td>\n",
       "      <td>False</td>\n",
       "      <td>True</td>\n",
       "      <td>True</td>\n",
       "      <td>290870.0</td>\n",
       "      <td>...</td>\n",
       "      <td>Bretwalda Games</td>\n",
       "      <td>Bretwalda Games</td>\n",
       "      <td>Single-player,Multi-player,PvP,Shared/Split Sc...</td>\n",
       "      <td>Indie,Strategy</td>\n",
       "      <td>Strategy,Indie,Turn-Based,World War I,Steampun...</td>\n",
       "      <td>https://cdn.akamai.steamstatic.com/steam/apps/...</td>\n",
       "      <td>http://cdn.akamai.steamstatic.com/steam/apps/2...</td>\n",
       "      <td>2016-07-28</td>\n",
       "      <td>2016-07-28</td>\n",
       "      <td>2016.0</td>\n",
       "    </tr>\n",
       "  </tbody>\n",
       "</table>\n",
       "<p>3 rows × 60 columns</p>\n",
       "</div>"
      ],
      "text/plain": [
       "                               game_ids            slug           title  type  \\\n",
       "0  018d937f-0a5b-70dc-b37c-4a0a46d1b122    train-bandit    Train Bandit  game   \n",
       "1  018d937f-00f3-70e3-b3ff-eeb61ac9966c  cthulhu-realms  Cthulhu Realms  game   \n",
       "2  018d937f-158f-72b0-9909-e63af7a0fbbe     steam-squad     Steam Squad  game   \n",
       "\n",
       "   mature                                             assets  earlyAccess  \\\n",
       "0   False  {'boxart': 'https://dbxce1spal1df.cloudfront.n...        False   \n",
       "1   False  {'boxart': 'https://dbxce1spal1df.cloudfront.n...        False   \n",
       "2   False  {'boxart': 'https://dbxce1spal1df.cloudfront.n...        False   \n",
       "\n",
       "   achievements  tradingCards     AppID  ...              Developers  \\\n",
       "0          True         False  655370.0  ...            Rusty Moyher   \n",
       "1         False         False  485000.0  ...  Wise Wizard Games, LLC   \n",
       "2          True          True  290870.0  ...         Bretwalda Games   \n",
       "\n",
       "               Publishers                                         Categories  \\\n",
       "0            Wild Rooster  Single-player,Steam Achievements,Full controll...   \n",
       "1  Wise Wizard Games, LLC  Single-player,Multi-player,Shared/Split Screen...   \n",
       "2         Bretwalda Games  Single-player,Multi-player,PvP,Shared/Split Sc...   \n",
       "\n",
       "           Genres                                               Tags  \\\n",
       "0    Action,Indie  Indie,Action,Pixel Graphics,2D,Retro,Arcade,Sc...   \n",
       "1        Strategy  Card Game,Strategy,Deckbuilding,Lovecraftian,B...   \n",
       "2  Indie,Strategy  Strategy,Indie,Turn-Based,World War I,Steampun...   \n",
       "\n",
       "                                         Screenshots  \\\n",
       "0  https://cdn.akamai.steamstatic.com/steam/apps/...   \n",
       "1  https://cdn.akamai.steamstatic.com/steam/apps/...   \n",
       "2  https://cdn.akamai.steamstatic.com/steam/apps/...   \n",
       "\n",
       "                                              Movies ReleaseDate  \\\n",
       "0  http://cdn.akamai.steamstatic.com/steam/apps/2...  2017-10-12   \n",
       "1  http://cdn.akamai.steamstatic.com/steam/apps/2...  2016-07-01   \n",
       "2  http://cdn.akamai.steamstatic.com/steam/apps/2...  2016-07-28   \n",
       "\n",
       "  ParsedReleaseDate    year  \n",
       "0        2017-10-12  2017.0  \n",
       "1        2016-07-01  2016.0  \n",
       "2        2016-07-28  2016.0  \n",
       "\n",
       "[3 rows x 60 columns]"
      ]
     },
     "execution_count": 61,
     "metadata": {},
     "output_type": "execute_result"
    }
   ],
   "source": [
    "complete_api_data.head(3)"
   ]
  },
  {
   "cell_type": "markdown",
   "metadata": {},
   "source": [
    "Now let's take a closer look at all the columns to see which ones might be of interest for modeling."
   ]
  },
  {
   "cell_type": "code",
   "execution_count": 84,
   "metadata": {},
   "outputs": [
    {
     "name": "stdout",
     "output_type": "stream",
     "text": [
      "game_ids\n",
      "018d937f-0a5b-70dc-b37c-4a0a46d1b122 \n",
      "\n",
      "slug\n",
      "train-bandit \n",
      "\n",
      "title\n",
      "Train Bandit \n",
      "\n",
      "type\n",
      "game \n",
      "\n",
      "mature\n",
      "False \n",
      "\n",
      "assets\n",
      "{'boxart': 'https://dbxce1spal1df.cloudfront.net/018d937f-0a5b-70dc-b37c-4a0a46d1b122/boxart.jpg', 'banner145': 'https://dbxce1spal1df.cloudfront.net/018d937f-0a5b-70dc-b37c-4a0a46d1b122/banner145.jpg', 'banner300': 'https://dbxce1spal1df.cloudfront.net/018d937f-0a5b-70dc-b37c-4a0a46d1b122/banner300.jpg', 'banner400': 'https://dbxce1spal1df.cloudfront.net/018d937f-0a5b-70dc-b37c-4a0a46d1b122/banner400.jpg', 'banner600': 'https://dbxce1spal1df.cloudfront.net/018d937f-0a5b-70dc-b37c-4a0a46d1b122/banner600.jpg'} \n",
      "\n",
      "earlyAccess\n",
      "False \n",
      "\n",
      "achievements\n",
      "True \n",
      "\n",
      "tradingCards\n",
      "False \n",
      "\n",
      "AppID\n",
      "655370.0 \n",
      "\n",
      "tags\n",
      "['Indie', 'Action', 'Pixel Graphics', '2D', 'Retro'] \n",
      "\n",
      "releaseDate\n",
      "2017-10-12 \n",
      "\n",
      "developers\n",
      "[{'id': 7238, 'name': 'Rusty Moyher'}] \n",
      "\n",
      "publishers\n",
      "[{'id': 12181, 'name': 'Wild Rooster'}] \n",
      "\n",
      "reviews\n",
      "[{'score': 86, 'source': 'Steam', 'count': 58, 'url': 'https://store.steampowered.com/app/655370/'}, {'score': None, 'source': 'Metacritic User Score', 'count': 1, 'url': 'https://metacritic.com/game/train-bandit/user-reviews/?platform=pc'}] \n",
      "\n",
      "stats\n",
      "{'rank': 47649, 'waitlisted': 108, 'collected': 223} \n",
      "\n",
      "players\n",
      "{'recent': 0, 'day': 1, 'week': 1, 'peak': 3} \n",
      "\n",
      "urls\n",
      "{'game': 'https://isthereanydeal.com/game/train-bandit/'} \n",
      "\n",
      "price_history\n",
      "[{'timestamp': '2024-05-13T19:16:33+02:00', 'shop': {'id': 61, 'name': 'Steam'}, 'deal': {'price': {'amount': 0.49, 'amountInt': 49, 'currency': 'USD'}, 'regular': {'amount': 0.99, 'amountInt': 99, 'currency': 'USD'}, 'cut': 51}}, {'timestamp': '2024-03-25T18:15:39+01:00', 'shop': {'id': 61, 'name': 'Steam'}, 'deal': {'price': {'amount': 0.99, 'amountInt': 99, 'currency': 'USD'}, 'regular': {'amount': 0.99, 'amountInt': 99, 'currency': 'USD'}, 'cut': 0}}, {'timestamp': '2024-03-14T18:17:05+01:00', 'shop': {'id': 61, 'name': 'Steam'}, 'deal': {'price': {'amount': 0.49, 'amountInt': 49, 'currency': 'USD'}, 'regular': {'amount': 0.99, 'amountInt': 99, 'currency': 'USD'}, 'cut': 51}}, {'timestamp': '2024-02-11T04:22:52+01:00', 'shop': {'id': 61, 'name': 'Steam'}, 'deal': {'price': {'amount': 0.99, 'amountInt': 99, 'currency': 'USD'}, 'regular': {'amount': 0.99, 'amountInt': 99, 'currency': 'USD'}, 'cut': 0}}, {'timestamp': '2024-01-04T20:10:11+01:00', 'shop': {'id': 61, 'name': 'Steam'}, 'deal': {'price': {'amount': 0.99, 'amountInt': 99, 'currency': 'USD'}, 'regular': {'amount': 0.99, 'amountInt': 99, 'currency': 'USD'}, 'cut': 0}}, {'timestamp': '2023-12-21T20:43:13+01:00', 'shop': {'id': 61, 'name': 'Steam'}, 'deal': {'price': {'amount': 0.49, 'amountInt': 49, 'currency': 'USD'}, 'regular': {'amount': 0.99, 'amountInt': 99, 'currency': 'USD'}, 'cut': 51}}, {'timestamp': '2023-11-28T23:30:08+01:00', 'shop': {'id': 61, 'name': 'Steam'}, 'deal': {'price': {'amount': 0.99, 'amountInt': 99, 'currency': 'USD'}, 'regular': {'amount': 0.99, 'amountInt': 99, 'currency': 'USD'}, 'cut': 0}}, {'timestamp': '2023-11-21T20:23:10+01:00', 'shop': {'id': 61, 'name': 'Steam'}, 'deal': {'price': {'amount': 0.49, 'amountInt': 49, 'currency': 'USD'}, 'regular': {'amount': 0.99, 'amountInt': 99, 'currency': 'USD'}, 'cut': 51}}, {'timestamp': '2023-08-07T19:19:14+02:00', 'shop': {'id': 61, 'name': 'Steam'}, 'deal': {'price': {'amount': 0.99, 'amountInt': 99, 'currency': 'USD'}, 'regular': {'amount': 0.99, 'amountInt': 99, 'currency': 'USD'}, 'cut': 0}}, {'timestamp': '2023-07-31T19:22:15+02:00', 'shop': {'id': 61, 'name': 'Steam'}, 'deal': {'price': {'amount': 0.49, 'amountInt': 49, 'currency': 'USD'}, 'regular': {'amount': 0.99, 'amountInt': 99, 'currency': 'USD'}, 'cut': 51}}, {'timestamp': '2023-07-13T20:41:45+02:00', 'shop': {'id': 61, 'name': 'Steam'}, 'deal': {'price': {'amount': 0.99, 'amountInt': 99, 'currency': 'USD'}, 'regular': {'amount': 0.99, 'amountInt': 99, 'currency': 'USD'}, 'cut': 0}}, {'timestamp': '2023-06-29T23:43:03+02:00', 'shop': {'id': 61, 'name': 'Steam'}, 'deal': {'price': {'amount': 0.48, 'amountInt': 48, 'currency': 'USD'}, 'regular': {'amount': 0.99, 'amountInt': 99, 'currency': 'USD'}, 'cut': 52}}, {'timestamp': '2023-03-23T20:19:44+01:00', 'shop': {'id': 61, 'name': 'Steam'}, 'deal': {'price': {'amount': 0.99, 'amountInt': 99, 'currency': 'USD'}, 'regular': {'amount': 0.99, 'amountInt': 99, 'currency': 'USD'}, 'cut': 0}}, {'timestamp': '2023-03-16T21:12:59+01:00', 'shop': {'id': 61, 'name': 'Steam'}, 'deal': {'price': {'amount': 0.49, 'amountInt': 49, 'currency': 'USD'}, 'regular': {'amount': 0.99, 'amountInt': 99, 'currency': 'USD'}, 'cut': 51}}, {'timestamp': '2023-02-27T19:10:40+01:00', 'shop': {'id': 61, 'name': 'Steam'}, 'deal': {'price': {'amount': 0.99, 'amountInt': 99, 'currency': 'USD'}, 'regular': {'amount': 0.99, 'amountInt': 99, 'currency': 'USD'}, 'cut': 0}}, {'timestamp': '2023-02-20T19:06:54+01:00', 'shop': {'id': 61, 'name': 'Steam'}, 'deal': {'price': {'amount': 0.27, 'amountInt': 27, 'currency': 'USD'}, 'regular': {'amount': 0.99, 'amountInt': 99, 'currency': 'USD'}, 'cut': 73}}, {'timestamp': '2023-01-05T19:34:19+01:00', 'shop': {'id': 61, 'name': 'Steam'}, 'deal': {'price': {'amount': 0.99, 'amountInt': 99, 'currency': 'USD'}, 'regular': {'amount': 0.99, 'amountInt': 99, 'currency': 'USD'}, 'cut': 0}}, {'timestamp': '2022-12-22T19:39:14+01:00', 'shop': {'id': 61, 'name': 'Steam'}, 'deal': {'price': {'amount': 0.49, 'amountInt': 49, 'currency': 'USD'}, 'regular': {'amount': 0.99, 'amountInt': 99, 'currency': 'USD'}, 'cut': 51}}, {'timestamp': '2022-12-19T19:31:40+01:00', 'shop': {'id': 61, 'name': 'Steam'}, 'deal': {'price': {'amount': 0.99, 'amountInt': 99, 'currency': 'USD'}, 'regular': {'amount': 0.99, 'amountInt': 99, 'currency': 'USD'}, 'cut': 0}}, {'timestamp': '2022-12-12T20:16:45+01:00', 'shop': {'id': 61, 'name': 'Steam'}, 'deal': {'price': {'amount': 0.49, 'amountInt': 49, 'currency': 'USD'}, 'regular': {'amount': 0.99, 'amountInt': 99, 'currency': 'USD'}, 'cut': 51}}, {'timestamp': '2022-11-29T20:45:21+01:00', 'shop': {'id': 61, 'name': 'Steam'}, 'deal': {'price': {'amount': 0.99, 'amountInt': 99, 'currency': 'USD'}, 'regular': {'amount': 0.99, 'amountInt': 99, 'currency': 'USD'}, 'cut': 0}}, {'timestamp': '2022-11-22T23:34:05+01:00', 'shop': {'id': 61, 'name': 'Steam'}, 'deal': {'price': {'amount': 0.49, 'amountInt': 49, 'currency': 'USD'}, 'regular': {'amount': 0.99, 'amountInt': 99, 'currency': 'USD'}, 'cut': 51}}, {'timestamp': '2022-09-05T19:06:42+02:00', 'shop': {'id': 61, 'name': 'Steam'}, 'deal': {'price': {'amount': 0.99, 'amountInt': 99, 'currency': 'USD'}, 'regular': {'amount': 0.99, 'amountInt': 99, 'currency': 'USD'}, 'cut': 0}}, {'timestamp': '2022-08-29T20:30:26+02:00', 'shop': {'id': 61, 'name': 'Steam'}, 'deal': {'price': {'amount': 0.51, 'amountInt': 51, 'currency': 'USD'}, 'regular': {'amount': 0.99, 'amountInt': 99, 'currency': 'USD'}, 'cut': 48}}, {'timestamp': '2022-07-07T20:55:21+02:00', 'shop': {'id': 61, 'name': 'Steam'}, 'deal': {'price': {'amount': 0.99, 'amountInt': 99, 'currency': 'USD'}, 'regular': {'amount': 0.99, 'amountInt': 99, 'currency': 'USD'}, 'cut': 0}}, {'timestamp': '2022-06-23T20:56:33+02:00', 'shop': {'id': 61, 'name': 'Steam'}, 'deal': {'price': {'amount': 0.51, 'amountInt': 51, 'currency': 'USD'}, 'regular': {'amount': 0.99, 'amountInt': 99, 'currency': 'USD'}, 'cut': 48}}, {'timestamp': '2022-06-13T19:47:02+02:00', 'shop': {'id': 61, 'name': 'Steam'}, 'deal': {'price': {'amount': 0.99, 'amountInt': 99, 'currency': 'USD'}, 'regular': {'amount': 0.99, 'amountInt': 99, 'currency': 'USD'}, 'cut': 0}}, {'timestamp': '2022-06-06T19:24:02+02:00', 'shop': {'id': 61, 'name': 'Steam'}, 'deal': {'price': {'amount': 0.51, 'amountInt': 51, 'currency': 'USD'}, 'regular': {'amount': 0.99, 'amountInt': 99, 'currency': 'USD'}, 'cut': 48}}, {'timestamp': '2022-04-11T19:42:51+02:00', 'shop': {'id': 61, 'name': 'Steam'}, 'deal': {'price': {'amount': 0.99, 'amountInt': 99, 'currency': 'USD'}, 'regular': {'amount': 0.99, 'amountInt': 99, 'currency': 'USD'}, 'cut': 0}}, {'timestamp': '2022-04-04T19:13:26+02:00', 'shop': {'id': 61, 'name': 'Steam'}, 'deal': {'price': {'amount': 0.51, 'amountInt': 51, 'currency': 'USD'}, 'regular': {'amount': 0.99, 'amountInt': 99, 'currency': 'USD'}, 'cut': 48}}, {'timestamp': '2022-01-05T20:53:20+01:00', 'shop': {'id': 61, 'name': 'Steam'}, 'deal': {'price': {'amount': 0.99, 'amountInt': 99, 'currency': 'USD'}, 'regular': {'amount': 0.99, 'amountInt': 99, 'currency': 'USD'}, 'cut': 0}}, {'timestamp': '2021-12-22T20:00:52+01:00', 'shop': {'id': 61, 'name': 'Steam'}, 'deal': {'price': {'amount': 0.49, 'amountInt': 49, 'currency': 'USD'}, 'regular': {'amount': 0.99, 'amountInt': 99, 'currency': 'USD'}, 'cut': 51}}, {'timestamp': '2021-12-01T20:34:10+01:00', 'shop': {'id': 61, 'name': 'Steam'}, 'deal': {'price': {'amount': 0.99, 'amountInt': 99, 'currency': 'USD'}, 'regular': {'amount': 0.99, 'amountInt': 99, 'currency': 'USD'}, 'cut': 0}}, {'timestamp': '2021-11-24T19:15:07+01:00', 'shop': {'id': 61, 'name': 'Steam'}, 'deal': {'price': {'amount': 0.49, 'amountInt': 49, 'currency': 'USD'}, 'regular': {'amount': 0.99, 'amountInt': 99, 'currency': 'USD'}, 'cut': 51}}, {'timestamp': '2021-11-01T18:58:10+01:00', 'shop': {'id': 61, 'name': 'Steam'}, 'deal': {'price': {'amount': 0.99, 'amountInt': 99, 'currency': 'USD'}, 'regular': {'amount': 0.99, 'amountInt': 99, 'currency': 'USD'}, 'cut': 0}}, {'timestamp': '2021-10-28T19:01:25+02:00', 'shop': {'id': 61, 'name': 'Steam'}, 'deal': {'price': {'amount': 0.49, 'amountInt': 49, 'currency': 'USD'}, 'regular': {'amount': 0.99, 'amountInt': 99, 'currency': 'USD'}, 'cut': 51}}, {'timestamp': '2021-10-11T19:06:32+02:00', 'shop': {'id': 61, 'name': 'Steam'}, 'deal': {'price': {'amount': 0.99, 'amountInt': 99, 'currency': 'USD'}, 'regular': {'amount': 0.99, 'amountInt': 99, 'currency': 'USD'}, 'cut': 0}}, {'timestamp': '2021-10-04T19:19:54+02:00', 'shop': {'id': 61, 'name': 'Steam'}, 'deal': {'price': {'amount': 0.49, 'amountInt': 49, 'currency': 'USD'}, 'regular': {'amount': 0.99, 'amountInt': 99, 'currency': 'USD'}, 'cut': 51}}, {'timestamp': '2021-07-08T20:54:02+02:00', 'shop': {'id': 61, 'name': 'Steam'}, 'deal': {'price': {'amount': 0.99, 'amountInt': 99, 'currency': 'USD'}, 'regular': {'amount': 0.99, 'amountInt': 99, 'currency': 'USD'}, 'cut': 0}}, {'timestamp': '2021-06-24T23:54:29+02:00', 'shop': {'id': 61, 'name': 'Steam'}, 'deal': {'price': {'amount': 0.49, 'amountInt': 49, 'currency': 'USD'}, 'regular': {'amount': 0.99, 'amountInt': 99, 'currency': 'USD'}, 'cut': 51}}, {'timestamp': '2021-06-07T19:24:06+02:00', 'shop': {'id': 61, 'name': 'Steam'}, 'deal': {'price': {'amount': 0.99, 'amountInt': 99, 'currency': 'USD'}, 'regular': {'amount': 0.99, 'amountInt': 99, 'currency': 'USD'}, 'cut': 0}}, {'timestamp': '2021-05-31T19:18:56+02:00', 'shop': {'id': 61, 'name': 'Steam'}, 'deal': {'price': {'amount': 0.49, 'amountInt': 49, 'currency': 'USD'}, 'regular': {'amount': 0.99, 'amountInt': 99, 'currency': 'USD'}, 'cut': 51}}, {'timestamp': '2021-03-27T12:08:37+01:00', 'shop': {'id': 61, 'name': 'Steam'}, 'deal': {'price': {'amount': 0.99, 'amountInt': 99, 'currency': 'USD'}, 'regular': {'amount': 0.99, 'amountInt': 99, 'currency': 'USD'}, 'cut': 0}}, {'timestamp': '2021-02-22T19:21:22+01:00', 'shop': {'id': 61, 'name': 'Steam'}, 'deal': {'price': {'amount': 0.99, 'amountInt': 99, 'currency': 'USD'}, 'regular': {'amount': 0.99, 'amountInt': 99, 'currency': 'USD'}, 'cut': 0}}, {'timestamp': '2021-02-11T20:00:29+01:00', 'shop': {'id': 61, 'name': 'Steam'}, 'deal': {'price': {'amount': 0.49, 'amountInt': 49, 'currency': 'USD'}, 'regular': {'amount': 0.99, 'amountInt': 99, 'currency': 'USD'}, 'cut': 51}}, {'timestamp': '2021-01-05T19:55:18+01:00', 'shop': {'id': 61, 'name': 'Steam'}, 'deal': {'price': {'amount': 0.99, 'amountInt': 99, 'currency': 'USD'}, 'regular': {'amount': 0.99, 'amountInt': 99, 'currency': 'USD'}, 'cut': 0}}, {'timestamp': '2020-12-22T20:03:38+01:00', 'shop': {'id': 61, 'name': 'Steam'}, 'deal': {'price': {'amount': 0.49, 'amountInt': 49, 'currency': 'USD'}, 'regular': {'amount': 0.99, 'amountInt': 99, 'currency': 'USD'}, 'cut': 51}}, {'timestamp': '2020-12-21T19:21:12+01:00', 'shop': {'id': 61, 'name': 'Steam'}, 'deal': {'price': {'amount': 0.99, 'amountInt': 99, 'currency': 'USD'}, 'regular': {'amount': 0.99, 'amountInt': 99, 'currency': 'USD'}, 'cut': 0}}, {'timestamp': '2020-12-14T19:35:20+01:00', 'shop': {'id': 61, 'name': 'Steam'}, 'deal': {'price': {'amount': 0.49, 'amountInt': 49, 'currency': 'USD'}, 'regular': {'amount': 0.99, 'amountInt': 99, 'currency': 'USD'}, 'cut': 51}}, {'timestamp': '2020-12-01T19:23:22+01:00', 'shop': {'id': 61, 'name': 'Steam'}, 'deal': {'price': {'amount': 0.99, 'amountInt': 99, 'currency': 'USD'}, 'regular': {'amount': 0.99, 'amountInt': 99, 'currency': 'USD'}, 'cut': 0}}, {'timestamp': '2020-11-25T19:33:44+01:00', 'shop': {'id': 61, 'name': 'Steam'}, 'deal': {'price': {'amount': 0.49, 'amountInt': 49, 'currency': 'USD'}, 'regular': {'amount': 0.99, 'amountInt': 99, 'currency': 'USD'}, 'cut': 51}}, {'timestamp': '2020-11-02T19:23:14+01:00', 'shop': {'id': 61, 'name': 'Steam'}, 'deal': {'price': {'amount': 0.99, 'amountInt': 99, 'currency': 'USD'}, 'regular': {'amount': 0.99, 'amountInt': 99, 'currency': 'USD'}, 'cut': 0}}, {'timestamp': '2020-10-26T18:22:21+01:00', 'shop': {'id': 61, 'name': 'Steam'}, 'deal': {'price': {'amount': 0.49, 'amountInt': 49, 'currency': 'USD'}, 'regular': {'amount': 0.99, 'amountInt': 99, 'currency': 'USD'}, 'cut': 51}}, {'timestamp': '2020-09-14T19:21:24+02:00', 'shop': {'id': 61, 'name': 'Steam'}, 'deal': {'price': {'amount': 0.99, 'amountInt': 99, 'currency': 'USD'}, 'regular': {'amount': 0.99, 'amountInt': 99, 'currency': 'USD'}, 'cut': 0}}, {'timestamp': '2020-09-07T19:22:05+02:00', 'shop': {'id': 61, 'name': 'Steam'}, 'deal': {'price': {'amount': 0.49, 'amountInt': 49, 'currency': 'USD'}, 'regular': {'amount': 0.99, 'amountInt': 99, 'currency': 'USD'}, 'cut': 51}}, {'timestamp': '2020-07-09T19:29:52+02:00', 'shop': {'id': 61, 'name': 'Steam'}, 'deal': {'price': {'amount': 0.99, 'amountInt': 99, 'currency': 'USD'}, 'regular': {'amount': 0.99, 'amountInt': 99, 'currency': 'USD'}, 'cut': 0}}, {'timestamp': '2020-06-25T20:26:19+02:00', 'shop': {'id': 61, 'name': 'Steam'}, 'deal': {'price': {'amount': 0.49, 'amountInt': 49, 'currency': 'USD'}, 'regular': {'amount': 0.99, 'amountInt': 99, 'currency': 'USD'}, 'cut': 51}}, {'timestamp': '2020-04-06T19:21:33+02:00', 'shop': {'id': 61, 'name': 'Steam'}, 'deal': {'price': {'amount': 0.99, 'amountInt': 99, 'currency': 'USD'}, 'regular': {'amount': 0.99, 'amountInt': 99, 'currency': 'USD'}, 'cut': 0}}, {'timestamp': '2020-03-30T19:21:48+02:00', 'shop': {'id': 61, 'name': 'Steam'}, 'deal': {'price': {'amount': 0.49, 'amountInt': 49, 'currency': 'USD'}, 'regular': {'amount': 0.99, 'amountInt': 99, 'currency': 'USD'}, 'cut': 51}}, {'timestamp': '2020-02-17T19:21:50+01:00', 'shop': {'id': 61, 'name': 'Steam'}, 'deal': {'price': {'amount': 0.99, 'amountInt': 99, 'currency': 'USD'}, 'regular': {'amount': 0.99, 'amountInt': 99, 'currency': 'USD'}, 'cut': 0}}, {'timestamp': '2020-02-10T19:21:30+01:00', 'shop': {'id': 61, 'name': 'Steam'}, 'deal': {'price': {'amount': 0.49, 'amountInt': 49, 'currency': 'USD'}, 'regular': {'amount': 0.99, 'amountInt': 99, 'currency': 'USD'}, 'cut': 51}}, {'timestamp': '2020-01-02T19:40:50+01:00', 'shop': {'id': 61, 'name': 'Steam'}, 'deal': {'price': {'amount': 0.99, 'amountInt': 99, 'currency': 'USD'}, 'regular': {'amount': 0.99, 'amountInt': 99, 'currency': 'USD'}, 'cut': 0}}, {'timestamp': '2019-12-19T19:26:29+01:00', 'shop': {'id': 61, 'name': 'Steam'}, 'deal': {'price': {'amount': 0.49, 'amountInt': 49, 'currency': 'USD'}, 'regular': {'amount': 0.99, 'amountInt': 99, 'currency': 'USD'}, 'cut': 51}}, {'timestamp': '2019-12-03T19:25:31+01:00', 'shop': {'id': 61, 'name': 'Steam'}, 'deal': {'price': {'amount': 0.99, 'amountInt': 99, 'currency': 'USD'}, 'regular': {'amount': 0.99, 'amountInt': 99, 'currency': 'USD'}, 'cut': 0}}, {'timestamp': '2019-11-26T19:22:18+01:00', 'shop': {'id': 61, 'name': 'Steam'}, 'deal': {'price': {'amount': 0.49, 'amountInt': 49, 'currency': 'USD'}, 'regular': {'amount': 0.99, 'amountInt': 99, 'currency': 'USD'}, 'cut': 51}}, {'timestamp': '2019-11-01T18:23:31+01:00', 'shop': {'id': 61, 'name': 'Steam'}, 'deal': {'price': {'amount': 0.99, 'amountInt': 99, 'currency': 'USD'}, 'regular': {'amount': 0.99, 'amountInt': 99, 'currency': 'USD'}, 'cut': 0}}, {'timestamp': '2019-10-21T19:21:09+02:00', 'shop': {'id': 61, 'name': 'Steam'}, 'deal': {'price': {'amount': 0.49, 'amountInt': 49, 'currency': 'USD'}, 'regular': {'amount': 0.99, 'amountInt': 99, 'currency': 'USD'}, 'cut': 51}}, {'timestamp': '2019-09-09T19:21:33+02:00', 'shop': {'id': 61, 'name': 'Steam'}, 'deal': {'price': {'amount': 0.99, 'amountInt': 99, 'currency': 'USD'}, 'regular': {'amount': 0.99, 'amountInt': 99, 'currency': 'USD'}, 'cut': 0}}, {'timestamp': '2019-09-02T19:21:44+02:00', 'shop': {'id': 61, 'name': 'Steam'}, 'deal': {'price': {'amount': 0.49, 'amountInt': 49, 'currency': 'USD'}, 'regular': {'amount': 0.99, 'amountInt': 99, 'currency': 'USD'}, 'cut': 51}}, {'timestamp': '2019-07-09T22:54:37+02:00', 'shop': {'id': 61, 'name': 'Steam'}, 'deal': {'price': {'amount': 0.99, 'amountInt': 99, 'currency': 'USD'}, 'regular': {'amount': 0.99, 'amountInt': 99, 'currency': 'USD'}, 'cut': 0}}, {'timestamp': '2019-06-26T06:34:28+02:00', 'shop': {'id': 61, 'name': 'Steam'}, 'deal': {'price': {'amount': 0.49, 'amountInt': 49, 'currency': 'USD'}, 'regular': {'amount': 0.99, 'amountInt': 99, 'currency': 'USD'}, 'cut': 51}}, {'timestamp': '2019-04-30T01:11:23+02:00', 'shop': {'id': 61, 'name': 'Steam'}, 'deal': {'price': {'amount': 0.99, 'amountInt': 99, 'currency': 'USD'}, 'regular': {'amount': 0.99, 'amountInt': 99, 'currency': 'USD'}, 'cut': 0}}, {'timestamp': '2019-04-22T20:45:07+02:00', 'shop': {'id': 61, 'name': 'Steam'}, 'deal': {'price': {'amount': 0.49, 'amountInt': 49, 'currency': 'USD'}, 'regular': {'amount': 0.99, 'amountInt': 99, 'currency': 'USD'}, 'cut': 51}}, {'timestamp': '2019-02-12T00:42:04+01:00', 'shop': {'id': 61, 'name': 'Steam'}, 'deal': {'price': {'amount': 0.99, 'amountInt': 99, 'currency': 'USD'}, 'regular': {'amount': 0.99, 'amountInt': 99, 'currency': 'USD'}, 'cut': 0}}, {'timestamp': '2019-02-04T21:00:38+01:00', 'shop': {'id': 61, 'name': 'Steam'}, 'deal': {'price': {'amount': 0.49, 'amountInt': 49, 'currency': 'USD'}, 'regular': {'amount': 0.99, 'amountInt': 99, 'currency': 'USD'}, 'cut': 51}}, {'timestamp': '2019-01-28T19:39:05+01:00', 'shop': {'id': 61, 'name': 'Steam'}, 'deal': {'price': {'amount': 0.99, 'amountInt': 99, 'currency': 'USD'}, 'regular': {'amount': 0.99, 'amountInt': 99, 'currency': 'USD'}, 'cut': 0}}, {'timestamp': '2019-01-21T20:08:45+01:00', 'shop': {'id': 61, 'name': 'Steam'}, 'deal': {'price': {'amount': 0.49, 'amountInt': 49, 'currency': 'USD'}, 'regular': {'amount': 0.99, 'amountInt': 99, 'currency': 'USD'}, 'cut': 51}}, {'timestamp': '2019-01-03T21:10:55+01:00', 'shop': {'id': 61, 'name': 'Steam'}, 'deal': {'price': {'amount': 0.99, 'amountInt': 99, 'currency': 'USD'}, 'regular': {'amount': 0.99, 'amountInt': 99, 'currency': 'USD'}, 'cut': 0}}, {'timestamp': '2018-12-20T23:39:31+01:00', 'shop': {'id': 61, 'name': 'Steam'}, 'deal': {'price': {'amount': 0.49, 'amountInt': 49, 'currency': 'USD'}, 'regular': {'amount': 0.99, 'amountInt': 99, 'currency': 'USD'}, 'cut': 51}}, {'timestamp': '2018-11-27T20:52:48+01:00', 'shop': {'id': 61, 'name': 'Steam'}, 'deal': {'price': {'amount': 0.99, 'amountInt': 99, 'currency': 'USD'}, 'regular': {'amount': 0.99, 'amountInt': 99, 'currency': 'USD'}, 'cut': 0}}, {'timestamp': '2018-11-21T21:32:17+01:00', 'shop': {'id': 61, 'name': 'Steam'}, 'deal': {'price': {'amount': 0.49, 'amountInt': 49, 'currency': 'USD'}, 'regular': {'amount': 0.99, 'amountInt': 99, 'currency': 'USD'}, 'cut': 51}}, {'timestamp': '2018-10-01T20:40:16+02:00', 'shop': {'id': 61, 'name': 'Steam'}, 'deal': {'price': {'amount': 0.99, 'amountInt': 99, 'currency': 'USD'}, 'regular': {'amount': 0.99, 'amountInt': 99, 'currency': 'USD'}, 'cut': 0}}, {'timestamp': '2018-09-24T22:00:13+02:00', 'shop': {'id': 61, 'name': 'Steam'}, 'deal': {'price': {'amount': 0.49, 'amountInt': 49, 'currency': 'USD'}, 'regular': {'amount': 0.99, 'amountInt': 99, 'currency': 'USD'}, 'cut': 51}}, {'timestamp': '2018-07-30T19:31:33+02:00', 'shop': {'id': 61, 'name': 'Steam'}, 'deal': {'price': {'amount': 0.99, 'amountInt': 99, 'currency': 'USD'}, 'regular': {'amount': 0.99, 'amountInt': 99, 'currency': 'USD'}, 'cut': 0}}, {'timestamp': '2018-07-23T19:23:19+02:00', 'shop': {'id': 61, 'name': 'Steam'}, 'deal': {'price': {'amount': 0.49, 'amountInt': 49, 'currency': 'USD'}, 'regular': {'amount': 0.99, 'amountInt': 99, 'currency': 'USD'}, 'cut': 51}}, {'timestamp': '2018-07-05T21:41:59+02:00', 'shop': {'id': 61, 'name': 'Steam'}, 'deal': {'price': {'amount': 0.99, 'amountInt': 99, 'currency': 'USD'}, 'regular': {'amount': 0.99, 'amountInt': 99, 'currency': 'USD'}, 'cut': 0}}, {'timestamp': '2018-06-21T19:55:32+02:00', 'shop': {'id': 61, 'name': 'Steam'}, 'deal': {'price': {'amount': 0.49, 'amountInt': 49, 'currency': 'USD'}, 'regular': {'amount': 0.99, 'amountInt': 99, 'currency': 'USD'}, 'cut': 51}}, {'timestamp': '2018-05-28T19:51:22+02:00', 'shop': {'id': 61, 'name': 'Steam'}, 'deal': {'price': {'amount': 0.99, 'amountInt': 99, 'currency': 'USD'}, 'regular': {'amount': 0.99, 'amountInt': 99, 'currency': 'USD'}, 'cut': 0}}, {'timestamp': '2018-05-21T19:50:24+02:00', 'shop': {'id': 61, 'name': 'Steam'}, 'deal': {'price': {'amount': 0.49, 'amountInt': 49, 'currency': 'USD'}, 'regular': {'amount': 0.99, 'amountInt': 99, 'currency': 'USD'}, 'cut': 51}}, {'timestamp': '2018-03-26T20:53:20+02:00', 'shop': {'id': 61, 'name': 'Steam'}, 'deal': {'price': {'amount': 0.99, 'amountInt': 99, 'currency': 'USD'}, 'regular': {'amount': 0.99, 'amountInt': 99, 'currency': 'USD'}, 'cut': 0}}, {'timestamp': '2018-03-19T18:53:06+01:00', 'shop': {'id': 61, 'name': 'Steam'}, 'deal': {'price': {'amount': 0.49, 'amountInt': 49, 'currency': 'USD'}, 'regular': {'amount': 0.99, 'amountInt': 99, 'currency': 'USD'}, 'cut': 51}}, {'timestamp': '2018-02-19T19:20:58+01:00', 'shop': {'id': 61, 'name': 'Steam'}, 'deal': {'price': {'amount': 0.99, 'amountInt': 99, 'currency': 'USD'}, 'regular': {'amount': 0.99, 'amountInt': 99, 'currency': 'USD'}, 'cut': 0}}, {'timestamp': '2018-02-15T19:19:06+01:00', 'shop': {'id': 61, 'name': 'Steam'}, 'deal': {'price': {'amount': 0.49, 'amountInt': 49, 'currency': 'USD'}, 'regular': {'amount': 0.99, 'amountInt': 99, 'currency': 'USD'}, 'cut': 51}}, {'timestamp': '2018-01-22T19:15:54+01:00', 'shop': {'id': 61, 'name': 'Steam'}, 'deal': {'price': {'amount': 0.99, 'amountInt': 99, 'currency': 'USD'}, 'regular': {'amount': 0.99, 'amountInt': 99, 'currency': 'USD'}, 'cut': 0}}, {'timestamp': '2018-01-15T19:15:50+01:00', 'shop': {'id': 61, 'name': 'Steam'}, 'deal': {'price': {'amount': 0.49, 'amountInt': 49, 'currency': 'USD'}, 'regular': {'amount': 0.99, 'amountInt': 99, 'currency': 'USD'}, 'cut': 51}}, {'timestamp': '2018-01-04T19:46:21+01:00', 'shop': {'id': 61, 'name': 'Steam'}, 'deal': {'price': {'amount': 0.99, 'amountInt': 99, 'currency': 'USD'}, 'regular': {'amount': 0.99, 'amountInt': 99, 'currency': 'USD'}, 'cut': 0}}, {'timestamp': '2017-12-21T19:46:23+01:00', 'shop': {'id': 61, 'name': 'Steam'}, 'deal': {'price': {'amount': 0.49, 'amountInt': 49, 'currency': 'USD'}, 'regular': {'amount': 0.99, 'amountInt': 99, 'currency': 'USD'}, 'cut': 51}}, {'timestamp': '2017-11-28T19:46:14+01:00', 'shop': {'id': 61, 'name': 'Steam'}, 'deal': {'price': {'amount': 0.99, 'amountInt': 99, 'currency': 'USD'}, 'regular': {'amount': 0.99, 'amountInt': 99, 'currency': 'USD'}, 'cut': 0}}, {'timestamp': '2017-11-22T19:46:09+01:00', 'shop': {'id': 61, 'name': 'Steam'}, 'deal': {'price': {'amount': 0.62, 'amountInt': 62, 'currency': 'USD'}, 'regular': {'amount': 0.99, 'amountInt': 99, 'currency': 'USD'}, 'cut': 37}}, {'timestamp': '2017-11-20T19:45:35+01:00', 'shop': {'id': 61, 'name': 'Steam'}, 'deal': {'price': {'amount': 0.99, 'amountInt': 99, 'currency': 'USD'}, 'regular': {'amount': 0.99, 'amountInt': 99, 'currency': 'USD'}, 'cut': 0}}, {'timestamp': '2017-11-13T19:45:35+01:00', 'shop': {'id': 61, 'name': 'Steam'}, 'deal': {'price': {'amount': 0.62, 'amountInt': 62, 'currency': 'USD'}, 'regular': {'amount': 0.99, 'amountInt': 99, 'currency': 'USD'}, 'cut': 37}}, {'timestamp': '2017-10-13T13:15:45+02:00', 'shop': {'id': 61, 'name': 'Steam'}, 'deal': {'price': {'amount': 0.99, 'amountInt': 99, 'currency': 'USD'}, 'regular': {'amount': 0.99, 'amountInt': 99, 'currency': 'USD'}, 'cut': 0}}] \n",
      "\n",
      "Name\n",
      "Train Bandit \n",
      "\n",
      "Release date\n",
      "Oct 12, 2017 \n",
      "\n",
      "Estimated owners\n",
      "0 - 20000 \n",
      "\n",
      "Peak CCU\n",
      "0.0 \n",
      "\n",
      "Required age\n",
      "0.0 \n",
      "\n",
      "Price\n",
      "0.99 \n",
      "\n",
      "DLC count\n",
      "0.0 \n",
      "\n",
      "About the game\n",
      "THE LAW!! Looks to be a showdown atop a train. This will be your last fight. Good luck, Train Bandit. WHAT IS THIS GAME? Train Bandit is a simple score attack game. The Law will attack you from both sides. Your weapon is your keyboard. You'll use those keys to kick the living shit out of the law. React quickly by attacking the correct direction. React...or you're dead. THE FEATURES Unlock new bandits Earn Achievements Become Steam's Most Wanted ? Battle elite officers Kick the law's ass \n",
      "\n",
      "Supported languages\n",
      "['English', 'French', 'Italian', 'German', 'Spanish - Spain', 'Japanese', 'Portuguese - Brazil', 'Russian', 'Simplified Chinese', 'Traditional Chinese'] \n",
      "\n",
      "Full audio languages\n",
      "[] \n",
      "\n",
      "Reviews\n",
      "nan \n",
      "\n",
      "Header image\n",
      "https://cdn.akamai.steamstatic.com/steam/apps/655370/header.jpg?t=1617500526 \n",
      "\n",
      "Website\n",
      "http://trainbandit.com \n",
      "\n",
      "Support url\n",
      "nan \n",
      "\n",
      "Support email\n",
      "support@rustymoyher.com \n",
      "\n",
      "Windows\n",
      "True \n",
      "\n",
      "Mac\n",
      "True \n",
      "\n",
      "Linux\n",
      "False \n",
      "\n",
      "Metacritic score\n",
      "0.0 \n",
      "\n",
      "Metacritic url\n",
      "nan \n",
      "\n",
      "User score\n",
      "0.0 \n",
      "\n",
      "Positive\n",
      "53.0 \n",
      "\n",
      "Negative\n",
      "5.0 \n",
      "\n",
      "Score rank\n",
      "nan \n",
      "\n",
      "Achievements\n",
      "12.0 \n",
      "\n",
      "Recommendations\n",
      "0.0 \n",
      "\n",
      "Notes\n",
      "nan \n",
      "\n",
      "Average playtime forever\n",
      "0.0 \n",
      "\n",
      "Average playtime two weeks\n",
      "0.0 \n",
      "\n",
      "Median playtime forever\n",
      "0.0 \n",
      "\n",
      "Median playtime two weeks\n",
      "0.0 \n",
      "\n",
      "Developers\n",
      "Rusty Moyher \n",
      "\n",
      "Publishers\n",
      "Wild Rooster \n",
      "\n",
      "Categories\n",
      "Single-player,Steam Achievements,Full controller support,Steam Leaderboards,Remote Play on Phone,Remote Play on Tablet,Remote Play on TV \n",
      "\n",
      "Genres\n",
      "Action,Indie \n",
      "\n",
      "Tags\n",
      "Indie,Action,Pixel Graphics,2D,Retro,Arcade,Score Attack,Minimalist,Comedy,Singleplayer,Fast-Paced,Casual,Funny,Parody,Difficult,Gore,Violent,Western,Controller,Blood \n",
      "\n",
      "Screenshots\n",
      "https://cdn.akamai.steamstatic.com/steam/apps/655370/ss_16785eac54b29db688870e832f6997c89cd7804b.1920x1080.jpg?t=1617500526,https://cdn.akamai.steamstatic.com/steam/apps/655370/ss_599ad201ec3bb869449aaab4d0b103e220645762.1920x1080.jpg?t=1617500526,https://cdn.akamai.steamstatic.com/steam/apps/655370/ss_a26cfed1bc3e9ca4225fdc9d5c10681cfeb4f106.1920x1080.jpg?t=1617500526,https://cdn.akamai.steamstatic.com/steam/apps/655370/ss_9b815c0ec4996783088d82d22105caa1c044acad.1920x1080.jpg?t=1617500526,https://cdn.akamai.steamstatic.com/steam/apps/655370/ss_b5aada1bd265ff4b34116794fb937ad62e2882bb.1920x1080.jpg?t=1617500526 \n",
      "\n",
      "Movies\n",
      "http://cdn.akamai.steamstatic.com/steam/apps/256691108/movie_max.mp4?t=1506089586 \n",
      "\n",
      "ReleaseDate\n",
      "2017-10-12 \n",
      "\n",
      "ParsedReleaseDate\n",
      "2017-10-12 \n",
      "\n",
      "year\n",
      "2017.0 \n",
      "\n"
     ]
    }
   ],
   "source": [
    "example_row = dict(complete_api_data.iloc[0, :])\n",
    "\n",
    "for key, value in example_row.items():\n",
    "    print(key)\n",
    "    print(value, '\\n')"
   ]
  },
  {
   "cell_type": "markdown",
   "metadata": {},
   "source": [
    "Here are the potentially useful columns for modeling. Note, we are selecting columns with info that we would have for a new game. Data like player count or reviews aren't useful for predicting newer games (unless we had that data for a game on initial release, but we don't). \n",
    "\n",
    "- mature\n",
    "- tradingCards\n",
    "- achievements\n",
    "- earlyAccess\n",
    "- tags or Tags (duplicate columns)\n",
    "- publishers\n",
    "- price_history\n",
    "- Release date or ReleaseDate (already in datetime friendly format)\n",
    "- About the game\n",
    "- Supported Languages\n",
    "- Windows\n",
    "- Mac\n",
    "- Linux\n",
    "- Categories\n",
    "- Genres\n",
    "\n",
    "We will want the game_id, appid, and title as well just in case."
   ]
  },
  {
   "cell_type": "code",
   "execution_count": 92,
   "metadata": {},
   "outputs": [
    {
     "data": {
      "text/html": [
       "<div>\n",
       "<style scoped>\n",
       "    .dataframe tbody tr th:only-of-type {\n",
       "        vertical-align: middle;\n",
       "    }\n",
       "\n",
       "    .dataframe tbody tr th {\n",
       "        vertical-align: top;\n",
       "    }\n",
       "\n",
       "    .dataframe thead th {\n",
       "        text-align: right;\n",
       "    }\n",
       "</style>\n",
       "<table border=\"1\" class=\"dataframe\">\n",
       "  <thead>\n",
       "    <tr style=\"text-align: right;\">\n",
       "      <th></th>\n",
       "      <th>game_ids</th>\n",
       "      <th>AppID</th>\n",
       "      <th>title</th>\n",
       "      <th>mature</th>\n",
       "      <th>earlyAccess</th>\n",
       "      <th>achievements</th>\n",
       "      <th>tradingCards</th>\n",
       "      <th>price_history</th>\n",
       "      <th>About the game</th>\n",
       "      <th>Supported languages</th>\n",
       "      <th>...</th>\n",
       "      <th>Support url</th>\n",
       "      <th>Support email</th>\n",
       "      <th>Windows</th>\n",
       "      <th>Mac</th>\n",
       "      <th>Linux</th>\n",
       "      <th>Publishers</th>\n",
       "      <th>Categories</th>\n",
       "      <th>Genres</th>\n",
       "      <th>Tags</th>\n",
       "      <th>ReleaseDate</th>\n",
       "    </tr>\n",
       "  </thead>\n",
       "  <tbody>\n",
       "    <tr>\n",
       "      <th>0</th>\n",
       "      <td>018d937f-0a5b-70dc-b37c-4a0a46d1b122</td>\n",
       "      <td>655370.0</td>\n",
       "      <td>Train Bandit</td>\n",
       "      <td>False</td>\n",
       "      <td>False</td>\n",
       "      <td>True</td>\n",
       "      <td>False</td>\n",
       "      <td>[{'timestamp': '2024-05-13T19:16:33+02:00', 's...</td>\n",
       "      <td>THE LAW!! Looks to be a showdown atop a train....</td>\n",
       "      <td>['English', 'French', 'Italian', 'German', 'Sp...</td>\n",
       "      <td>...</td>\n",
       "      <td>NaN</td>\n",
       "      <td>support@rustymoyher.com</td>\n",
       "      <td>True</td>\n",
       "      <td>True</td>\n",
       "      <td>False</td>\n",
       "      <td>Wild Rooster</td>\n",
       "      <td>Single-player,Steam Achievements,Full controll...</td>\n",
       "      <td>Action,Indie</td>\n",
       "      <td>Indie,Action,Pixel Graphics,2D,Retro,Arcade,Sc...</td>\n",
       "      <td>2017-10-12</td>\n",
       "    </tr>\n",
       "    <tr>\n",
       "      <th>1</th>\n",
       "      <td>018d937f-00f3-70e3-b3ff-eeb61ac9966c</td>\n",
       "      <td>485000.0</td>\n",
       "      <td>Cthulhu Realms</td>\n",
       "      <td>False</td>\n",
       "      <td>False</td>\n",
       "      <td>False</td>\n",
       "      <td>False</td>\n",
       "      <td>[{'timestamp': '2024-02-11T03:20:08+01:00', 's...</td>\n",
       "      <td>Star Realms has gone insane! Introducing Cthul...</td>\n",
       "      <td>['English']</td>\n",
       "      <td>...</td>\n",
       "      <td>https://www.wisewizardgames.com/contact-us/</td>\n",
       "      <td>support@wisewizardgames.com</td>\n",
       "      <td>True</td>\n",
       "      <td>True</td>\n",
       "      <td>False</td>\n",
       "      <td>Wise Wizard Games, LLC</td>\n",
       "      <td>Single-player,Multi-player,Shared/Split Screen...</td>\n",
       "      <td>Strategy</td>\n",
       "      <td>Card Game,Strategy,Deckbuilding,Lovecraftian,B...</td>\n",
       "      <td>2016-07-01</td>\n",
       "    </tr>\n",
       "    <tr>\n",
       "      <th>2</th>\n",
       "      <td>018d937f-158f-72b0-9909-e63af7a0fbbe</td>\n",
       "      <td>290870.0</td>\n",
       "      <td>Steam Squad</td>\n",
       "      <td>False</td>\n",
       "      <td>False</td>\n",
       "      <td>True</td>\n",
       "      <td>True</td>\n",
       "      <td>[{'timestamp': '2024-02-11T02:17:53+01:00', 's...</td>\n",
       "      <td>Steam Squad - tactical wargame, where gameplay...</td>\n",
       "      <td>['English', 'Russian', 'French', 'German']</td>\n",
       "      <td>...</td>\n",
       "      <td>http://steamsquad.net/</td>\n",
       "      <td>steamsquad@bretwalda.net</td>\n",
       "      <td>True</td>\n",
       "      <td>True</td>\n",
       "      <td>True</td>\n",
       "      <td>Bretwalda Games</td>\n",
       "      <td>Single-player,Multi-player,PvP,Shared/Split Sc...</td>\n",
       "      <td>Indie,Strategy</td>\n",
       "      <td>Strategy,Indie,Turn-Based,World War I,Steampun...</td>\n",
       "      <td>2016-07-28</td>\n",
       "    </tr>\n",
       "  </tbody>\n",
       "</table>\n",
       "<p>3 rows × 24 columns</p>\n",
       "</div>"
      ],
      "text/plain": [
       "                               game_ids     AppID           title  mature  \\\n",
       "0  018d937f-0a5b-70dc-b37c-4a0a46d1b122  655370.0    Train Bandit   False   \n",
       "1  018d937f-00f3-70e3-b3ff-eeb61ac9966c  485000.0  Cthulhu Realms   False   \n",
       "2  018d937f-158f-72b0-9909-e63af7a0fbbe  290870.0     Steam Squad   False   \n",
       "\n",
       "   earlyAccess  achievements  tradingCards  \\\n",
       "0        False          True         False   \n",
       "1        False         False         False   \n",
       "2        False          True          True   \n",
       "\n",
       "                                       price_history  \\\n",
       "0  [{'timestamp': '2024-05-13T19:16:33+02:00', 's...   \n",
       "1  [{'timestamp': '2024-02-11T03:20:08+01:00', 's...   \n",
       "2  [{'timestamp': '2024-02-11T02:17:53+01:00', 's...   \n",
       "\n",
       "                                      About the game  \\\n",
       "0  THE LAW!! Looks to be a showdown atop a train....   \n",
       "1  Star Realms has gone insane! Introducing Cthul...   \n",
       "2  Steam Squad - tactical wargame, where gameplay...   \n",
       "\n",
       "                                 Supported languages  ...  \\\n",
       "0  ['English', 'French', 'Italian', 'German', 'Sp...  ...   \n",
       "1                                        ['English']  ...   \n",
       "2         ['English', 'Russian', 'French', 'German']  ...   \n",
       "\n",
       "                                   Support url                Support email  \\\n",
       "0                                          NaN      support@rustymoyher.com   \n",
       "1  https://www.wisewizardgames.com/contact-us/  support@wisewizardgames.com   \n",
       "2                       http://steamsquad.net/     steamsquad@bretwalda.net   \n",
       "\n",
       "  Windows   Mac  Linux              Publishers  \\\n",
       "0    True  True  False            Wild Rooster   \n",
       "1    True  True  False  Wise Wizard Games, LLC   \n",
       "2    True  True   True         Bretwalda Games   \n",
       "\n",
       "                                          Categories          Genres  \\\n",
       "0  Single-player,Steam Achievements,Full controll...    Action,Indie   \n",
       "1  Single-player,Multi-player,Shared/Split Screen...        Strategy   \n",
       "2  Single-player,Multi-player,PvP,Shared/Split Sc...  Indie,Strategy   \n",
       "\n",
       "                                                Tags ReleaseDate  \n",
       "0  Indie,Action,Pixel Graphics,2D,Retro,Arcade,Sc...  2017-10-12  \n",
       "1  Card Game,Strategy,Deckbuilding,Lovecraftian,B...  2016-07-01  \n",
       "2  Strategy,Indie,Turn-Based,World War I,Steampun...  2016-07-28  \n",
       "\n",
       "[3 rows x 24 columns]"
      ]
     },
     "execution_count": 92,
     "metadata": {},
     "output_type": "execute_result"
    }
   ],
   "source": [
    "raw_train_test_data = complete_api_data[['game_ids', 'AppID', 'title', 'mature', 'earlyAccess',\n",
    "       'achievements', 'tradingCards', 'price_history', 'About the game',\n",
    "       'Supported languages', 'Full audio languages', 'Reviews',\n",
    "       'Header image', 'Website', 'Support url', 'Support email', 'Windows',\n",
    "       'Mac', 'Linux', 'Publishers', 'Categories', 'Genres', 'Tags',\n",
    "       'ReleaseDate']]\n",
    "\n",
    "raw_train_test_data.head(3)"
   ]
  },
  {
   "cell_type": "markdown",
   "metadata": {},
   "source": [
    "## EDA and Preprocessing"
   ]
  },
  {
   "cell_type": "markdown",
   "metadata": {},
   "source": [
    "### Target Variable\n",
    "\n",
    "The target variable will be the amount of time from the release date to the first price drop."
   ]
  },
  {
   "cell_type": "code",
   "execution_count": 98,
   "metadata": {},
   "outputs": [],
   "source": [
    "import ast\n",
    "\n",
    "example_ph = ast.literal_eval(raw_train_test_data['price_history'][0])"
   ]
  },
  {
   "cell_type": "code",
   "execution_count": 101,
   "metadata": {},
   "outputs": [
    {
     "data": {
      "text/plain": [
       "{'timestamp': '2024-05-13T19:16:33+02:00',\n",
       " 'shop': {'id': 61, 'name': 'Steam'},\n",
       " 'deal': {'price': {'amount': 0.49, 'amountInt': 49, 'currency': 'USD'},\n",
       "  'regular': {'amount': 0.99, 'amountInt': 99, 'currency': 'USD'},\n",
       "  'cut': 51}}"
      ]
     },
     "execution_count": 101,
     "metadata": {},
     "output_type": "execute_result"
    }
   ],
   "source": [
    "example_ph[0]"
   ]
  },
  {
   "cell_type": "code",
   "execution_count": 120,
   "metadata": {},
   "outputs": [
    {
     "data": {
      "text/plain": [
       "0.99"
      ]
     },
     "execution_count": 120,
     "metadata": {},
     "output_type": "execute_result"
    }
   ],
   "source": [
    "example_idx = 2\n",
    "regular_price = example_ph[example_idx]['deal']['regular']['amount']\n",
    "regular_price"
   ]
  },
  {
   "cell_type": "code",
   "execution_count": 121,
   "metadata": {},
   "outputs": [
    {
     "data": {
      "text/plain": [
       "0.49"
      ]
     },
     "execution_count": 121,
     "metadata": {},
     "output_type": "execute_result"
    }
   ],
   "source": [
    "discount_price = example_ph[example_idx]['deal']['price']['amount']\n",
    "discount_price"
   ]
  },
  {
   "cell_type": "code",
   "execution_count": 128,
   "metadata": {},
   "outputs": [
    {
     "name": "stdout",
     "output_type": "stream",
     "text": [
      "2017-11-13T19:45:35+01:00\n",
      "100\n"
     ]
    }
   ],
   "source": [
    "for i in range(len(example_ph)-1, -1, -1):\n",
    "    regular_price = example_ph[i]['deal']['regular']['amount']\n",
    "    discount_price = example_ph[i]['deal']['price']['amount']\n",
    "\n",
    "    if discount_price < regular_price:\n",
    "        print(example_ph[i]['timestamp'])\n",
    "        print(i)\n",
    "        break"
   ]
  },
  {
   "cell_type": "code",
   "execution_count": 131,
   "metadata": {},
   "outputs": [
    {
     "data": {
      "text/plain": [
       "'2017-10-13T13:15:45+02:00'"
      ]
     },
     "execution_count": 131,
     "metadata": {},
     "output_type": "execute_result"
    }
   ],
   "source": [
    "example_ph[-1]['timestamp']"
   ]
  },
  {
   "cell_type": "code",
   "execution_count": null,
   "metadata": {},
   "outputs": [],
   "source": []
  }
 ],
 "metadata": {
  "kernelspec": {
   "display_name": "base",
   "language": "python",
   "name": "python3"
  },
  "language_info": {
   "codemirror_mode": {
    "name": "ipython",
    "version": 3
   },
   "file_extension": ".py",
   "mimetype": "text/x-python",
   "name": "python",
   "nbconvert_exporter": "python",
   "pygments_lexer": "ipython3",
   "version": "3.10.14"
  }
 },
 "nbformat": 4,
 "nbformat_minor": 2
}
